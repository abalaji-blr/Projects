{
 "cells": [
  {
   "cell_type": "markdown",
   "metadata": {},
   "source": [
    "## Movie Sentiment Analysis\n",
    "\n",
    "  * [Objective](#objective)\n",
    "  * [About Data](#data)\n",
    "  * [Creating the Corpus](#corpus)\n",
    "  * [Build the model](#model)\n",
    "      + [Bag of Words](#bow)\n",
    "      + [TF-IDF model](#tfidf_model)\n",
    "  * [Evaluating the model](#metric)\n",
    "  * [Save the model](#save)\n"
   ]
  },
  {
   "cell_type": "markdown",
   "metadata": {},
   "source": [
    "<a id='objective'></a>\n",
    "\n",
    "## **Objective:** \n",
    "\n",
    "Find out the sentiment (good / bad) of a movie based on the review."
   ]
  },
  {
   "cell_type": "markdown",
   "metadata": {},
   "source": [
    "<a id='data'></a>\n",
    "\n",
    "## About Data\n",
    "\n",
    "The polarity dataset is available at [Cornell website.](http://www.cs.cornell.edu/people/pabo/movie-review-data/)\n",
    "This dataset has 2000 (1000 postive and 1000 negative) movie reviews.\n",
    "\n",
    "The reviews are availabel in the following format in respective sub directories:\n",
    "\n",
    "  * txt_sentoken/neg\n",
    "  \n",
    "  * txt_sentoken/pos\n",
    "  \n",
    "So, you can load the files using the sklearn.dataset utilities."
   ]
  },
  {
   "cell_type": "markdown",
   "metadata": {},
   "source": [
    "### Read Data"
   ]
  },
  {
   "cell_type": "code",
   "execution_count": 1,
   "metadata": {},
   "outputs": [],
   "source": [
    "import numpy as np\n",
    "from sklearn.datasets import load_files"
   ]
  },
  {
   "cell_type": "code",
   "execution_count": 2,
   "metadata": {},
   "outputs": [],
   "source": [
    "reviews = load_files(\"./txt_sentoken\")"
   ]
  },
  {
   "cell_type": "code",
   "execution_count": 3,
   "metadata": {},
   "outputs": [
    {
     "data": {
      "text/plain": [
       "sklearn.utils.Bunch"
      ]
     },
     "execution_count": 3,
     "metadata": {},
     "output_type": "execute_result"
    }
   ],
   "source": [
    "type(reviews)"
   ]
  },
  {
   "cell_type": "markdown",
   "metadata": {},
   "source": [
    "The **[sklear.utils.Bunch](http://scikit-learn.org/stable/modules/generated/sklearn.datasets.load_files.html#sklearn.datasets.load_files )** is a dictionary like object.\n",
    "So, you can get all the keys and values."
   ]
  },
  {
   "cell_type": "code",
   "execution_count": 4,
   "metadata": {},
   "outputs": [
    {
     "data": {
      "text/plain": [
       "['target_names', 'data', 'target', 'DESCR', 'filenames']"
      ]
     },
     "execution_count": 4,
     "metadata": {},
     "output_type": "execute_result"
    }
   ],
   "source": [
    "reviews.keys()"
   ]
  },
  {
   "cell_type": "code",
   "execution_count": 5,
   "metadata": {},
   "outputs": [
    {
     "data": {
      "text/plain": [
       "5"
      ]
     },
     "execution_count": 5,
     "metadata": {},
     "output_type": "execute_result"
    }
   ],
   "source": [
    "len(reviews)"
   ]
  },
  {
   "cell_type": "code",
   "execution_count": 6,
   "metadata": {},
   "outputs": [
    {
     "data": {
      "text/plain": [
       "['neg', 'pos']"
      ]
     },
     "execution_count": 6,
     "metadata": {},
     "output_type": "execute_result"
    }
   ],
   "source": [
    "reviews.target_names"
   ]
  },
  {
   "cell_type": "code",
   "execution_count": 7,
   "metadata": {},
   "outputs": [
    {
     "data": {
      "text/plain": [
       "array([0, 1, 1, ..., 1, 0, 0])"
      ]
     },
     "execution_count": 7,
     "metadata": {},
     "output_type": "execute_result"
    }
   ],
   "source": [
    "reviews.target"
   ]
  },
  {
   "cell_type": "code",
   "execution_count": 8,
   "metadata": {},
   "outputs": [
    {
     "data": {
      "text/plain": [
       "2000"
      ]
     },
     "execution_count": 8,
     "metadata": {},
     "output_type": "execute_result"
    }
   ],
   "source": [
    "len(reviews.target)"
   ]
  },
  {
   "cell_type": "code",
   "execution_count": 9,
   "metadata": {},
   "outputs": [
    {
     "data": {
      "text/plain": [
       "array(['./txt_sentoken/neg/cv405_21868.txt',\n",
       "       './txt_sentoken/pos/cv190_27052.txt',\n",
       "       './txt_sentoken/pos/cv132_5618.txt', ...,\n",
       "       './txt_sentoken/pos/cv653_19583.txt',\n",
       "       './txt_sentoken/neg/cv559_0057.txt',\n",
       "       './txt_sentoken/neg/cv684_12727.txt'], dtype='|S34')"
      ]
     },
     "execution_count": 9,
     "metadata": {},
     "output_type": "execute_result"
    }
   ],
   "source": [
    "reviews.filenames"
   ]
  },
  {
   "cell_type": "code",
   "execution_count": 10,
   "metadata": {},
   "outputs": [
    {
     "data": {
      "text/plain": [
       "2000"
      ]
     },
     "execution_count": 10,
     "metadata": {},
     "output_type": "execute_result"
    }
   ],
   "source": [
    "len(reviews.filenames)"
   ]
  },
  {
   "cell_type": "code",
   "execution_count": 11,
   "metadata": {},
   "outputs": [
    {
     "data": {
      "text/plain": [
       "\"good films are hard to find these days . \\ngreat films are beyond rare . \\nproof of life , russell crowe's one-two punch of a deft kidnap and rescue thriller , is one of those rare gems . \\na taut drama laced with strong and subtle acting , an intelligent script , and masterful directing , together it delivers something virtually unheard of in the film industry these days , genuine motivation in a story that rings true . \\nconsider the strange coincidence of russell crowe's character in proof of life making the moves on a distraught wife played by meg ryan's character in the film -- all while the real russell crowe was hitching up with married woman meg ryan in the outside world . \\ni haven't seen this much chemistry between actors since mcqueen and mcgraw teamed up in peckinpah's masterpiece , the getaway . \\nbut enough with the gossip , let's get to the review . \\nthe film revolves around the kidnapping of peter bowman ( david morse ) , an american engineer working in south america who is kidnapped during a mass ambush of civilians by anti-government soldiers . \\nupon discovering his identity , the rebel soldiers decide to ransom him for $6 million . \\nthe only problem is that the company peter bowman works for is being auctioned off , and no one will step forward with the money . \\nwith no choice available to her , bowman's wife alice ( ryan ) hires terry thorne ( crowe ) , a highly skilled negotiator and rescue operative , to arrange the return of her husband . \\nbut when things go wrong -- as they always do in these situations -- terry and his team ( which includes the most surprising casting choice of the year : david caruso ) take matters into their own hands . \\nthe film is notable in that it takes this very simple story line and creates a complex and intelligent character-driven vehicle filled with well-written dialogue , shades of motivation , and convincing acting by all the actors . \\nthe script is based on both a book ( the long march to freedom ) and a magazine article pertaining to kidnap/ransom situations , and the story has been sharply pieced together by tony gilroy , screenwriter of the devil's advocate and dolores claiborne . \\nthe biggest surprise for me was not the chemistry between crowe and ryan , but that between crowe and david caruso . \\ndug out from b-movie hell , caruso pulls off a gutsy performance as crowe's right hand gun while providing most of the film's humor . \\nryan cries a lot and smokes too many cigarettes , david morse ends up getting everyone at the guerilla camp to hate him , and crowe provides another memorable acting turn as the stoic , gunslinger character of terry thorne . \\nthe most memorable pieces of the film lie in its action scenes . \\nthe bulk of those scenes , which bookend the movie , work extremely well as establishment and closure devices for all of the story's characters . \\nthe scenes are skillfully crafted and executed with amazing accuracy and poise . \\ndirector taylor hackford mixes both his old-school style of filmmaking with the dizziness of a lars von trier film . \\nproof of life is a thinking man's action movie . \\nit is a film about the choices men and women make in the face of love and war , and the sacrifices one makes for those choices -- the sacrifices that help you sleep at night . \\n\""
      ]
     },
     "execution_count": 11,
     "metadata": {},
     "output_type": "execute_result"
    }
   ],
   "source": [
    "reviews.data[1]"
   ]
  },
  {
   "cell_type": "code",
   "execution_count": 12,
   "metadata": {},
   "outputs": [
    {
     "data": {
      "text/plain": [
       "2000"
      ]
     },
     "execution_count": 12,
     "metadata": {},
     "output_type": "execute_result"
    }
   ],
   "source": [
    "len(reviews.data)"
   ]
  },
  {
   "cell_type": "code",
   "execution_count": 13,
   "metadata": {},
   "outputs": [],
   "source": [
    "## Get the data & target values\n",
    "X, y = reviews.data, reviews.target"
   ]
  },
  {
   "cell_type": "markdown",
   "metadata": {},
   "source": [
    "<a id='corpus'></a>\n",
    "### Creating the corpus\n",
    "\n",
    "Basically, perform the following steps:\n",
    " * convert all the text to **lower case**\n",
    " * remove special characters (!@#$\\%\\' etc) characters if any\n",
    " * remove single characters\n",
    " * remove more spaces"
   ]
  },
  {
   "cell_type": "code",
   "execution_count": 14,
   "metadata": {},
   "outputs": [],
   "source": [
    "# use regular expression to clean \n",
    "import re"
   ]
  },
  {
   "cell_type": "code",
   "execution_count": 15,
   "metadata": {},
   "outputs": [],
   "source": [
    "# create the corpus\n",
    "corpus= []\n",
    "\n",
    "for cnt in range(len(X)):\n",
    "    # remove special characters\n",
    "    review = re.sub(r'\\W', ' ', X[cnt])\n",
    "    # to lower\n",
    "    review = review.lower()\n",
    "    # remove single characters\n",
    "    review = re.sub(r'\\s+[a-z]\\s+', ' ', review)\n",
    "    \n",
    "    # remove extra spaces\n",
    "    review = re.sub(r'\\s+', ' ', review)\n",
    "    \n",
    "    # add it to corpus\n",
    "    corpus.append(review)\n",
    "    \n"
   ]
  },
  {
   "cell_type": "code",
   "execution_count": 16,
   "metadata": {},
   "outputs": [
    {
     "data": {
      "text/plain": [
       "2000"
      ]
     },
     "execution_count": 16,
     "metadata": {},
     "output_type": "execute_result"
    }
   ],
   "source": [
    "len(corpus)"
   ]
  },
  {
   "cell_type": "code",
   "execution_count": 17,
   "metadata": {
    "scrolled": true
   },
   "outputs": [
    {
     "data": {
      "text/plain": [
       "'any remake of an alfred hitchcock film is at best an uncertain project as perfect murder illustrates frankly dial for murder is not one of the master director greatest efforts so there is ample room for improvement unfortunately instead of updating the script ironing out some of the faults and speeding up the pace little perfect murder has inexplicably managed to eliminate almost everything that was worthwhile about dial for murder leaving behind the nearly unwatchable wreckage of would be 90s thriller almost all suspense films are loaded with plot implausibilities the best thrillers keep viewers involved enough in what going on so that these flaws in logic don become apparent until long after the final credits have rolled unfortunately in perfect murder the faults are often so overt that we become aware of them as they re happening this is very bad sign not only do such occurrences shatter any suspension of disbelief but they have the astute viewer looking for the next such blunder of course in the case of perfect murder at least that gives an audience member something to do besides concentrating on the inane plot and the lifeless cardboard characters perfect murder isn a strict remake of dial for murder but it does borrow heavily from frederick knott play which was also the source material for hitchcock version as well as 1981 made for tv retelling emily hayes gwyneth paltrow is the wealthy wife of powerful wall street mover and shaker steven hayes michael douglas their marriage isn going well emily resents steven controlling instincts and as form of rebellion she is having an affair with penniless painter david shaw viggo mortensen when steven learns of the relationship he decides to confront david but his approach isn that of typical cuckolded husband instead of yelling or threatening steven offers david proposal that too good to resist for 500 000 in cash 100 000 before the rest after he is to break into steven new york apartment and kill emily of course after getting the first payment david never bothers to ask how he supposed to get the rest ultimately m not sure which of the three main characters we re supposed to be sympathetic to the cold hearted husband who wants his wife dead so he can get his hands on her fortune her mercenary lover who is willing to do the deed for half million or the woman who is happily carrying on an extramarital affair not only are these individuals all profoundly dislikable but they re not interesting it possible to make good movie with detestable characters see reservoir dogs but there has to be something compelling about them which in this case there isn steven emily and david are all lifted directly from the screenwriting 101 text book on stereotypes the actors in this film are obviously just on hand to get their paychecks michael douglas is playing the kind of heartless tycoon that he can do in his sleep he gordon gekko with an unfaithful wife gwyneth paltrow who was recently delightful and appealing in sliding doors is simply awful here she now has the dubious distinction of have starred in two of 1998 worst thrillers the other being hush at least viggo mortensen i jane has little fun with his part but then he usually does interesting things even in bad movies the thin supporting cast includes david suchet the star of poirot as police inspector and sarita choudhury kama sutra as emily best friend perfect murder is plodding production that generates almost no suspense from beginning to end there aren many twists and turns in the unexpectedly linear script which makes the ending inevitable almost from the start it surprising to see director andrew davis the man behind the fugitive involved in this mess but like his stars he too needs to earn living it just that remaking hitchcock and doing it so badly hardly seems to be an honorable way to go about getting the dough '"
      ]
     },
     "execution_count": 17,
     "metadata": {},
     "output_type": "execute_result"
    }
   ],
   "source": [
    "corpus[-1]"
   ]
  },
  {
   "cell_type": "markdown",
   "metadata": {},
   "source": [
    "<a id='model'></a>\n",
    "\n",
    "## Builld Model"
   ]
  },
  {
   "cell_type": "markdown",
   "metadata": {},
   "source": [
    "<a id='bow'></a>\n",
    "\n",
    "### Bag of Words\n",
    "\n",
    "The drawbacks of Bag of words model is that:\n",
    "  * Does not capture the semantic of the sentence.\n",
    "  * Equal weightage to all words."
   ]
  },
  {
   "cell_type": "markdown",
   "metadata": {},
   "source": [
    "<a id='tfidf_model'></a>\n",
    "### TF-IDF model"
   ]
  },
  {
   "cell_type": "code",
   "execution_count": 18,
   "metadata": {},
   "outputs": [],
   "source": [
    "from sklearn.feature_extraction.text import TfidfVectorizer\n",
    "\n",
    "from nltk.corpus import stopwords"
   ]
  },
  {
   "cell_type": "code",
   "execution_count": 19,
   "metadata": {},
   "outputs": [],
   "source": [
    "?TfidfVectorizer"
   ]
  },
  {
   "cell_type": "code",
   "execution_count": 20,
   "metadata": {},
   "outputs": [],
   "source": [
    "vectorizer = TfidfVectorizer(max_features=2000, stop_words=stopwords.words('english'))\n"
   ]
  },
  {
   "cell_type": "code",
   "execution_count": 21,
   "metadata": {},
   "outputs": [],
   "source": [
    "X = vectorizer.fit_transform(corpus)"
   ]
  },
  {
   "cell_type": "code",
   "execution_count": 22,
   "metadata": {},
   "outputs": [
    {
     "name": "stdout",
     "output_type": "stream",
     "text": [
      "(2000, 2000)\n"
     ]
    }
   ],
   "source": [
    "print(X.shape)"
   ]
  },
  {
   "cell_type": "code",
   "execution_count": 23,
   "metadata": {
    "scrolled": true
   },
   "outputs": [],
   "source": [
    "#print(vectorizer.get_feature_names())"
   ]
  },
  {
   "cell_type": "code",
   "execution_count": 24,
   "metadata": {},
   "outputs": [],
   "source": [
    "X = X.toarray()"
   ]
  },
  {
   "cell_type": "code",
   "execution_count": 25,
   "metadata": {},
   "outputs": [
    {
     "data": {
      "text/plain": [
       "array([0., 0., 0., ..., 0., 0., 0.])"
      ]
     },
     "execution_count": 25,
     "metadata": {},
     "output_type": "execute_result"
    }
   ],
   "source": [
    "X[0]"
   ]
  },
  {
   "cell_type": "markdown",
   "metadata": {},
   "source": [
    "### Train and Test data split"
   ]
  },
  {
   "cell_type": "code",
   "execution_count": 26,
   "metadata": {},
   "outputs": [],
   "source": [
    "from sklearn.model_selection import train_test_split"
   ]
  },
  {
   "cell_type": "code",
   "execution_count": 27,
   "metadata": {},
   "outputs": [],
   "source": [
    "X_train, X_test, y_train, y_test = train_test_split(X, y, test_size=0.20, random_state=12)"
   ]
  },
  {
   "cell_type": "markdown",
   "metadata": {},
   "source": [
    "### Training the Classifier"
   ]
  },
  {
   "cell_type": "code",
   "execution_count": 28,
   "metadata": {},
   "outputs": [],
   "source": [
    "from sklearn.linear_model import LogisticRegression"
   ]
  },
  {
   "cell_type": "code",
   "execution_count": 29,
   "metadata": {},
   "outputs": [],
   "source": [
    "classifier = LogisticRegression()"
   ]
  },
  {
   "cell_type": "code",
   "execution_count": 30,
   "metadata": {},
   "outputs": [
    {
     "data": {
      "text/plain": [
       "LogisticRegression(C=1.0, class_weight=None, dual=False, fit_intercept=True,\n",
       "          intercept_scaling=1, max_iter=100, multi_class='ovr', n_jobs=1,\n",
       "          penalty='l2', random_state=None, solver='liblinear', tol=0.0001,\n",
       "          verbose=0, warm_start=False)"
      ]
     },
     "execution_count": 30,
     "metadata": {},
     "output_type": "execute_result"
    }
   ],
   "source": [
    "classifier.fit(X_train, y_train)"
   ]
  },
  {
   "cell_type": "code",
   "execution_count": 31,
   "metadata": {},
   "outputs": [],
   "source": [
    "## predict\n",
    "pred = classifier.predict(X_test)"
   ]
  },
  {
   "cell_type": "markdown",
   "metadata": {},
   "source": [
    "<a id='metric'></a>\n",
    "### Model Evaluation"
   ]
  },
  {
   "cell_type": "code",
   "execution_count": 32,
   "metadata": {},
   "outputs": [],
   "source": [
    "from sklearn.metrics import confusion_matrix"
   ]
  },
  {
   "cell_type": "code",
   "execution_count": 33,
   "metadata": {},
   "outputs": [],
   "source": [
    "cm = confusion_matrix(y_test, pred)"
   ]
  },
  {
   "cell_type": "code",
   "execution_count": 34,
   "metadata": {},
   "outputs": [
    {
     "name": "stdout",
     "output_type": "stream",
     "text": [
      "[[171  35]\n",
      " [ 29 165]]\n"
     ]
    }
   ],
   "source": [
    "print cm"
   ]
  },
  {
   "cell_type": "code",
   "execution_count": 35,
   "metadata": {},
   "outputs": [
    {
     "name": "stdout",
     "output_type": "stream",
     "text": [
      "('Test Size:', 400)\n"
     ]
    }
   ],
   "source": [
    "print(\"Test Size:\", len(y_test))"
   ]
  },
  {
   "cell_type": "code",
   "execution_count": 36,
   "metadata": {},
   "outputs": [
    {
     "name": "stdout",
     "output_type": "stream",
     "text": [
      "Accuracy : 0.84\n"
     ]
    }
   ],
   "source": [
    "print(\"Accuracy : {}\".format((171+165) *1.0/len(y_test)))"
   ]
  },
  {
   "cell_type": "markdown",
   "metadata": {},
   "source": [
    "<a id='save'></a>\n",
    "### Save Classifier and Model"
   ]
  },
  {
   "cell_type": "code",
   "execution_count": 37,
   "metadata": {},
   "outputs": [],
   "source": [
    "import pickle"
   ]
  },
  {
   "cell_type": "code",
   "execution_count": 38,
   "metadata": {},
   "outputs": [],
   "source": [
    "# classifier\n",
    "\n",
    "with open('classifier.pickle', 'wb') as f:\n",
    "    pickle.dump(classifier, f)"
   ]
  },
  {
   "cell_type": "code",
   "execution_count": 39,
   "metadata": {},
   "outputs": [],
   "source": [
    "# save vectorizier model\n",
    "\n",
    "with open('vectorizer.pickle', 'wb') as f:\n",
    "    pickle.dump(vectorizer, f)\n",
    "          "
   ]
  },
  {
   "cell_type": "code",
   "execution_count": null,
   "metadata": {
    "collapsed": true
   },
   "outputs": [],
   "source": []
  }
 ],
 "metadata": {
  "kernelspec": {
   "display_name": "Python 2",
   "language": "python",
   "name": "python2"
  },
  "language_info": {
   "codemirror_mode": {
    "name": "ipython",
    "version": 2
   },
   "file_extension": ".py",
   "mimetype": "text/x-python",
   "name": "python",
   "nbconvert_exporter": "python",
   "pygments_lexer": "ipython2",
   "version": "2.7.15"
  }
 },
 "nbformat": 4,
 "nbformat_minor": 2
}
