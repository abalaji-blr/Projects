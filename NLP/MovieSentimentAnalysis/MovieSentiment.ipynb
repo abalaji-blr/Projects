{
 "cells": [
  {
   "cell_type": "markdown",
   "metadata": {},
   "source": [
    "## Movie Sentiment Analysis\n",
    "\n",
    "  * [Objective](#objective)\n",
    "  * [About Data](#data)\n",
    "  * [Creating the Corpus](#corpus)\n",
    "  * [Build the model](#model)\n",
    "      + [Bag of Words](#bow)\n",
    "      + [TF-IDF model](#tfidf_model)\n",
    "  * [Evaluating the model](#metric)\n",
    "  * [Save the model](#save)\n"
   ]
  },
  {
   "cell_type": "markdown",
   "metadata": {},
   "source": [
    "<a id='objective'></a>\n",
    "\n",
    "## **Objective:** \n",
    "\n",
    "Find out the sentiment (good / bad) of a movie based on the review."
   ]
  },
  {
   "cell_type": "markdown",
   "metadata": {},
   "source": [
    "<a id='data'></a>\n",
    "\n",
    "## About Data\n",
    "\n",
    "The polarity dataset is available at [Cornell website.](http://www.cs.cornell.edu/people/pabo/movie-review-data/)\n",
    "This dataset has 2000 (1000 postive and 1000 negative) movie reviews.\n",
    "\n",
    "The reviews are availabel in the following format in respective sub directories:\n",
    "\n",
    "  * txt_sentoken/neg\n",
    "  \n",
    "  * txt_sentoken/pos\n",
    "  \n",
    "So, you can load the files using the sklearn.dataset utilities."
   ]
  },
  {
   "cell_type": "markdown",
   "metadata": {},
   "source": [
    "### Read Data"
   ]
  },
  {
   "cell_type": "code",
   "execution_count": 1,
   "metadata": {
    "collapsed": true
   },
   "outputs": [],
   "source": [
    "import numpy as np\n",
    "from sklearn.datasets import load_files"
   ]
  },
  {
   "cell_type": "code",
   "execution_count": 2,
   "metadata": {
    "collapsed": true
   },
   "outputs": [],
   "source": [
    "reviews = load_files(\"./txt_sentoken\")"
   ]
  },
  {
   "cell_type": "code",
   "execution_count": 6,
   "metadata": {
    "collapsed": false
   },
   "outputs": [
    {
     "data": {
      "text/plain": [
       "sklearn.utils.Bunch"
      ]
     },
     "execution_count": 6,
     "metadata": {},
     "output_type": "execute_result"
    }
   ],
   "source": [
    "type(reviews)"
   ]
  },
  {
   "cell_type": "markdown",
   "metadata": {},
   "source": [
    "The **[sklear.utils.Bunch](http://scikit-learn.org/stable/modules/generated/sklearn.datasets.load_files.html#sklearn.datasets.load_files )** is a dictionary like object.\n",
    "So, you can get all the keys and values."
   ]
  },
  {
   "cell_type": "code",
   "execution_count": 7,
   "metadata": {
    "collapsed": false
   },
   "outputs": [
    {
     "data": {
      "text/plain": [
       "['target_names', 'data', 'target', 'DESCR', 'filenames']"
      ]
     },
     "execution_count": 7,
     "metadata": {},
     "output_type": "execute_result"
    }
   ],
   "source": [
    "reviews.keys()"
   ]
  },
  {
   "cell_type": "code",
   "execution_count": 10,
   "metadata": {
    "collapsed": false
   },
   "outputs": [
    {
     "data": {
      "text/plain": [
       "5"
      ]
     },
     "execution_count": 10,
     "metadata": {},
     "output_type": "execute_result"
    }
   ],
   "source": [
    "len(reviews)"
   ]
  },
  {
   "cell_type": "code",
   "execution_count": 12,
   "metadata": {
    "collapsed": false
   },
   "outputs": [
    {
     "data": {
      "text/plain": [
       "['neg', 'pos']"
      ]
     },
     "execution_count": 12,
     "metadata": {},
     "output_type": "execute_result"
    }
   ],
   "source": [
    "reviews.target_names"
   ]
  },
  {
   "cell_type": "code",
   "execution_count": 13,
   "metadata": {
    "collapsed": false
   },
   "outputs": [
    {
     "data": {
      "text/plain": [
       "array([0, 1, 1, ..., 1, 0, 0])"
      ]
     },
     "execution_count": 13,
     "metadata": {},
     "output_type": "execute_result"
    }
   ],
   "source": [
    "reviews.target"
   ]
  },
  {
   "cell_type": "code",
   "execution_count": 15,
   "metadata": {
    "collapsed": false
   },
   "outputs": [
    {
     "data": {
      "text/plain": [
       "2000"
      ]
     },
     "execution_count": 15,
     "metadata": {},
     "output_type": "execute_result"
    }
   ],
   "source": [
    "len(reviews.target)"
   ]
  },
  {
   "cell_type": "code",
   "execution_count": 14,
   "metadata": {
    "collapsed": false
   },
   "outputs": [
    {
     "data": {
      "text/plain": [
       "array(['./txt_sentoken/neg/cv405_21868.txt',\n",
       "       './txt_sentoken/pos/cv190_27052.txt',\n",
       "       './txt_sentoken/pos/cv132_5618.txt', ...,\n",
       "       './txt_sentoken/pos/cv653_19583.txt',\n",
       "       './txt_sentoken/neg/cv559_0057.txt',\n",
       "       './txt_sentoken/neg/cv684_12727.txt'], dtype='|S34')"
      ]
     },
     "execution_count": 14,
     "metadata": {},
     "output_type": "execute_result"
    }
   ],
   "source": [
    "reviews.filenames"
   ]
  },
  {
   "cell_type": "code",
   "execution_count": 16,
   "metadata": {
    "collapsed": false
   },
   "outputs": [
    {
     "data": {
      "text/plain": [
       "2000"
      ]
     },
     "execution_count": 16,
     "metadata": {},
     "output_type": "execute_result"
    }
   ],
   "source": [
    "len(reviews.filenames)"
   ]
  },
  {
   "cell_type": "code",
   "execution_count": 18,
   "metadata": {
    "collapsed": false
   },
   "outputs": [
    {
     "data": {
      "text/plain": [
       "\"good films are hard to find these days . \\ngreat films are beyond rare . \\nproof of life , russell crowe's one-two punch of a deft kidnap and rescue thriller , is one of those rare gems . \\na taut drama laced with strong and subtle acting , an intelligent script , and masterful directing , together it delivers something virtually unheard of in the film industry these days , genuine motivation in a story that rings true . \\nconsider the strange coincidence of russell crowe's character in proof of life making the moves on a distraught wife played by meg ryan's character in the film -- all while the real russell crowe was hitching up with married woman meg ryan in the outside world . \\ni haven't seen this much chemistry between actors since mcqueen and mcgraw teamed up in peckinpah's masterpiece , the getaway . \\nbut enough with the gossip , let's get to the review . \\nthe film revolves around the kidnapping of peter bowman ( david morse ) , an american engineer working in south america who is kidnapped during a mass ambush of civilians by anti-government soldiers . \\nupon discovering his identity , the rebel soldiers decide to ransom him for $6 million . \\nthe only problem is that the company peter bowman works for is being auctioned off , and no one will step forward with the money . \\nwith no choice available to her , bowman's wife alice ( ryan ) hires terry thorne ( crowe ) , a highly skilled negotiator and rescue operative , to arrange the return of her husband . \\nbut when things go wrong -- as they always do in these situations -- terry and his team ( which includes the most surprising casting choice of the year : david caruso ) take matters into their own hands . \\nthe film is notable in that it takes this very simple story line and creates a complex and intelligent character-driven vehicle filled with well-written dialogue , shades of motivation , and convincing acting by all the actors . \\nthe script is based on both a book ( the long march to freedom ) and a magazine article pertaining to kidnap/ransom situations , and the story has been sharply pieced together by tony gilroy , screenwriter of the devil's advocate and dolores claiborne . \\nthe biggest surprise for me was not the chemistry between crowe and ryan , but that between crowe and david caruso . \\ndug out from b-movie hell , caruso pulls off a gutsy performance as crowe's right hand gun while providing most of the film's humor . \\nryan cries a lot and smokes too many cigarettes , david morse ends up getting everyone at the guerilla camp to hate him , and crowe provides another memorable acting turn as the stoic , gunslinger character of terry thorne . \\nthe most memorable pieces of the film lie in its action scenes . \\nthe bulk of those scenes , which bookend the movie , work extremely well as establishment and closure devices for all of the story's characters . \\nthe scenes are skillfully crafted and executed with amazing accuracy and poise . \\ndirector taylor hackford mixes both his old-school style of filmmaking with the dizziness of a lars von trier film . \\nproof of life is a thinking man's action movie . \\nit is a film about the choices men and women make in the face of love and war , and the sacrifices one makes for those choices -- the sacrifices that help you sleep at night . \\n\""
      ]
     },
     "execution_count": 18,
     "metadata": {},
     "output_type": "execute_result"
    }
   ],
   "source": [
    "reviews.data[1]"
   ]
  },
  {
   "cell_type": "code",
   "execution_count": 19,
   "metadata": {
    "collapsed": false
   },
   "outputs": [
    {
     "data": {
      "text/plain": [
       "2000"
      ]
     },
     "execution_count": 19,
     "metadata": {},
     "output_type": "execute_result"
    }
   ],
   "source": [
    "len(reviews.data)"
   ]
  },
  {
   "cell_type": "code",
   "execution_count": 20,
   "metadata": {
    "collapsed": true
   },
   "outputs": [],
   "source": [
    "## Get the data & target values\n",
    "X, y = reviews.data, reviews.target"
   ]
  },
  {
   "cell_type": "markdown",
   "metadata": {},
   "source": [
    "<a id='corpus'></a>\n",
    "### Creating the corpus\n",
    "\n",
    "Basically, perform the following steps:\n",
    " * convert all the text to **lower case**\n",
    " * remove special characters (!@#$\\%\\' etc) characters if any\n",
    " * remove single characters\n",
    " * remove more spaces"
   ]
  },
  {
   "cell_type": "code",
   "execution_count": 21,
   "metadata": {
    "collapsed": true
   },
   "outputs": [],
   "source": [
    "# use regular expression to clean \n",
    "import re"
   ]
  },
  {
   "cell_type": "code",
   "execution_count": 22,
   "metadata": {
    "collapsed": true
   },
   "outputs": [],
   "source": [
    "# create the corpus\n",
    "corpus= []\n",
    "\n",
    "for cnt in range(len(X)):\n",
    "    # remove special characters\n",
    "    review = re.sub(r'\\W', ' ', X[cnt])\n",
    "    # to lower\n",
    "    review = review.lower()\n",
    "    # remove single characters\n",
    "    review = re.sub(r'\\s+[a-z]\\s+', ' ', review)\n",
    "    \n",
    "    # remove extra spaces\n",
    "    review = re.sub(r'\\s+', ' ', review)\n",
    "    \n",
    "    # add it to corpus\n",
    "    corpus.append(review)\n",
    "    \n"
   ]
  },
  {
   "cell_type": "code",
   "execution_count": 24,
   "metadata": {
    "collapsed": false
   },
   "outputs": [
    {
     "data": {
      "text/plain": [
       "2000"
      ]
     },
     "execution_count": 24,
     "metadata": {},
     "output_type": "execute_result"
    }
   ],
   "source": [
    "len(corpus)"
   ]
  },
  {
   "cell_type": "code",
   "execution_count": 25,
   "metadata": {
    "collapsed": false,
    "scrolled": true
   },
   "outputs": [
    {
     "data": {
      "text/plain": [
       "'any remake of an alfred hitchcock film is at best an uncertain project as perfect murder illustrates frankly dial for murder is not one of the master director greatest efforts so there is ample room for improvement unfortunately instead of updating the script ironing out some of the faults and speeding up the pace little perfect murder has inexplicably managed to eliminate almost everything that was worthwhile about dial for murder leaving behind the nearly unwatchable wreckage of would be 90s thriller almost all suspense films are loaded with plot implausibilities the best thrillers keep viewers involved enough in what going on so that these flaws in logic don become apparent until long after the final credits have rolled unfortunately in perfect murder the faults are often so overt that we become aware of them as they re happening this is very bad sign not only do such occurrences shatter any suspension of disbelief but they have the astute viewer looking for the next such blunder of course in the case of perfect murder at least that gives an audience member something to do besides concentrating on the inane plot and the lifeless cardboard characters perfect murder isn a strict remake of dial for murder but it does borrow heavily from frederick knott play which was also the source material for hitchcock version as well as 1981 made for tv retelling emily hayes gwyneth paltrow is the wealthy wife of powerful wall street mover and shaker steven hayes michael douglas their marriage isn going well emily resents steven controlling instincts and as form of rebellion she is having an affair with penniless painter david shaw viggo mortensen when steven learns of the relationship he decides to confront david but his approach isn that of typical cuckolded husband instead of yelling or threatening steven offers david proposal that too good to resist for 500 000 in cash 100 000 before the rest after he is to break into steven new york apartment and kill emily of course after getting the first payment david never bothers to ask how he supposed to get the rest ultimately m not sure which of the three main characters we re supposed to be sympathetic to the cold hearted husband who wants his wife dead so he can get his hands on her fortune her mercenary lover who is willing to do the deed for half million or the woman who is happily carrying on an extramarital affair not only are these individuals all profoundly dislikable but they re not interesting it possible to make good movie with detestable characters see reservoir dogs but there has to be something compelling about them which in this case there isn steven emily and david are all lifted directly from the screenwriting 101 text book on stereotypes the actors in this film are obviously just on hand to get their paychecks michael douglas is playing the kind of heartless tycoon that he can do in his sleep he gordon gekko with an unfaithful wife gwyneth paltrow who was recently delightful and appealing in sliding doors is simply awful here she now has the dubious distinction of have starred in two of 1998 worst thrillers the other being hush at least viggo mortensen i jane has little fun with his part but then he usually does interesting things even in bad movies the thin supporting cast includes david suchet the star of poirot as police inspector and sarita choudhury kama sutra as emily best friend perfect murder is plodding production that generates almost no suspense from beginning to end there aren many twists and turns in the unexpectedly linear script which makes the ending inevitable almost from the start it surprising to see director andrew davis the man behind the fugitive involved in this mess but like his stars he too needs to earn living it just that remaking hitchcock and doing it so badly hardly seems to be an honorable way to go about getting the dough '"
      ]
     },
     "execution_count": 25,
     "metadata": {},
     "output_type": "execute_result"
    }
   ],
   "source": [
    "corpus[-1]"
   ]
  },
  {
   "cell_type": "markdown",
   "metadata": {},
   "source": [
    "<a id='model'></a>\n",
    "\n",
    "## Builld Model"
   ]
  },
  {
   "cell_type": "markdown",
   "metadata": {},
   "source": [
    "<a id='bow'></a>\n",
    "\n",
    "### Bag of Words\n",
    "\n",
    "The drawbacks of Bag of words model is that:\n",
    "  * Does not capture the semantic of the sentence.\n",
    "  * Equal weightage to all words."
   ]
  },
  {
   "cell_type": "markdown",
   "metadata": {},
   "source": [
    "<a id='tfidf_model'></a>\n",
    "### TF-IDF model"
   ]
  },
  {
   "cell_type": "code",
   "execution_count": 29,
   "metadata": {
    "collapsed": false
   },
   "outputs": [],
   "source": [
    "from sklearn.feature_extraction.text import TfidfVectorizer\n",
    "\n",
    "from nltk.corpus import stopwords"
   ]
  },
  {
   "cell_type": "code",
   "execution_count": 28,
   "metadata": {
    "collapsed": true
   },
   "outputs": [],
   "source": [
    "?TfidfVectorizer"
   ]
  },
  {
   "cell_type": "code",
   "execution_count": 31,
   "metadata": {
    "collapsed": false
   },
   "outputs": [],
   "source": [
    "vectorizer = TfidfVectorizer(max_features=2000, stop_words=stopwords.words('english'))\n"
   ]
  },
  {
   "cell_type": "code",
   "execution_count": 32,
   "metadata": {
    "collapsed": true
   },
   "outputs": [],
   "source": [
    "X = vectorizer.fit_transform(corpus)"
   ]
  },
  {
   "cell_type": "code",
   "execution_count": 33,
   "metadata": {
    "collapsed": false
   },
   "outputs": [
    {
     "name": "stdout",
     "output_type": "stream",
     "text": [
      "(2000, 2000)\n"
     ]
    }
   ],
   "source": [
    "print(X.shape)"
   ]
  },
  {
   "cell_type": "code",
   "execution_count": 37,
   "metadata": {
    "collapsed": false,
    "scrolled": true
   },
   "outputs": [
    {
     "name": "stdout",
     "output_type": "stream",
     "text": [
      "[u'000', u'10', u'100', u'13', u'15', u'1995', u'1996', u'1997', u'1998', u'1999', u'20', u'30', u'90', u'ability', u'able', u'absolutely', u'academy', u'accent', u'accept', u'accident', u'across', u'act', u'acted', u'acting', u'action', u'actions', u'actor', u'actors', u'actress', u'acts', u'actual', u'actually', u'adam', u'adams', u'adaptation', u'add', u'added', u'addition', u'adds', u'admit', u'adult', u'adults', u'adventure', u'affair', u'affleck', u'age', u'agent', u'ago', u'ahead', u'air', u'al', u'alan', u'alex', u'alice', u'alien', u'aliens', u'alive', u'allen', u'allow', u'allows', u'almost', u'alone', u'along', u'already', u'also', u'although', u'always', u'amazing', u'america', u'american', u'among', u'amount', u'amusing', u'amy', u'anderson', u'andrew', u'angel', u'angels', u'angry', u'animal', u'animals', u'animated', u'animation', u'anna', u'anne', u'annie', u'annoying', u'another', u'answer', u'anthony', u'anti', u'anyone', u'anything', u'anyway', u'apart', u'apartment', u'apes', u'apparent', u'apparently', u'appeal', u'appealing', u'appear', u'appearance', u'appears', u'appreciate', u'approach', u'appropriate', u'armageddon', u'army', u'arnold', u'around', u'arrives', u'art', u'artist', u'arts', u'aside', u'ask', u'asked', u'asking', u'asks', u'aspect', u'aspects', u'ass', u'assistant', u'atmosphere', u'attack', u'attempt', u'attempts', u'attention', u'attitude', u'attractive', u'audience', u'audiences', u'austin', u'available', u'average', u'avoid', u'award', u'aware', u'away', u'awful', u'babe', u'baby', u'back', u'background', u'bacon', u'bad', u'badly', u'baldwin', u'ball', u'band', u'bank', u'bar', u'barely', u'barry', u'based', u'basic', u'basically', u'batman', u'battle', u'beach', u'beast', u'beat', u'beautiful', u'beauty', u'became', u'become', u'becomes', u'becoming', u'bed', u'began', u'begin', u'beginning', u'begins', u'behind', u'believable', u'believe', u'believes', u'ben', u'besides', u'best', u'better', u'beyond', u'big', u'bigger', u'biggest', u'bill', u'billy', u'bit', u'bizarre', u'black', u'blade', u'blair', u'blame', u'bland', u'blood', u'bloody', u'blue', u'board', u'boat', u'bob', u'bobby', u'body', u'bond', u'boogie', u'book', u'books', u'bored', u'boring', u'born', u'boss', u'bottom', u'bound', u'box', u'boy', u'boyfriend', u'boys', u'brain', u'break', u'breaking', u'breaks', u'brian', u'brief', u'bright', u'brilliant', u'bring', u'bringing', u'brings', u'british', u'broken', u'brooks', u'brother', u'brothers', u'brought', u'brown', u'bruce', u'buddy', u'budget', u'bug', u'build', u'building', u'built', u'bunch', u'burton', u'bus', u'business', u'buy', u'cage', u'call', u'called', u'calls', u'came', u'cameo', u'camera', u'cameron', u'camp', u'campbell', u'cannot', u'capable', u'captain', u'captured', u'car', u'care', u'career', u'cares', u'carpenter', u'carrey', u'carry', u'carter', u'cartoon', u'case', u'cash', u'cast', u'casting', u'catch', u'catherine', u'caught', u'cause', u'causes', u'cell', u'center', u'central', u'century', u'certain', u'certainly', u'chan', u'chance', u'change', u'changed', u'changes', u'character', u'characterization', u'characters', u'charles', u'charlie', u'charm', u'charming', u'chase', u'cheap', u'check', u'cheesy', u'chemistry', u'chief', u'child', u'children', u'chinese', u'choice', u'chosen', u'chris', u'christmas', u'christopher', u'church', u'cinema', u'cinematic', u'cinematographer', u'cinematography', u'city', u'claims', u'claire', u'class', u'classic', u'clean', u'clear', u'clearly', u'clever', u'clich', u'cliche', u'cliched', u'cliches', u'climax', u'clooney', u'close', u'club', u'co', u'cold', u'college', u'color', u'come', u'comedic', u'comedies', u'comedy', u'comes', u'comic', u'coming', u'common', u'community', u'company', u'compared', u'comparison', u'compelling', u'complete', u'completely', u'complex', u'computer', u'concept', u'concerned', u'conclusion', u'conflict', u'confused', u'confusing', u'connection', u'consider', u'considered', u'considering', u'constant', u'constantly', u'contact', u'contains', u'content', u'continue', u'continues', u'contrast', u'contrived', u'control', u'convincing', u'cool', u'cop', u'cops', u'core', u'costumes', u'could', u'count', u'country', u'couple', u'course', u'court', u'courtroom', u'cover', u'crap', u'crash', u'crazy', u'create', u'created', u'creates', u'creating', u'creative', u'creature', u'credit', u'credits', u'creepy', u'crew', u'crime', u'criminal', u'critic', u'critics', u'cross', u'crowd', u'cruise', u'crystal', u'cult', u'culture', u'current', u'cusack', u'cut', u'cute', u'dad', u'damme', u'damn', u'damon', u'dance', u'dangerous', u'daniel', u'danny', u'dark', u'date', u'daughter', u'david', u'day', u'days', u'de', u'dead', u'deal', u'dealing', u'deals', u'death', u'debut', u'decade', u'decent', u'decide', u'decided', u'decides', u'decision', u'deep', u'definitely', u'deliver', u'delivers', u'dennis', u'depth', u'derek', u'describe', u'deserves', u'design', u'desire', u'desperate', u'despite', u'destroy', u'detail', u'details', u'detective', u'determined', u'develop', u'developed', u'development', u'device', u'devil', u'dialogue', u'die', u'died', u'dies', u'difference', u'different', u'difficult', u'dimensional', u'direct', u'directed', u'directing', u'direction', u'directly', u'director', u'directors', u'disappointing', u'disappointment', u'disaster', u'discover', u'discovers', u'disney', u'disturbing', u'doctor', u'documentary', u'dog', u'dollars', u'done', u'door', u'double', u'doubt', u'douglas', u'dr', u'drama', u'dramatic', u'draw', u'drawn', u'dream', u'dreams', u'drive', u'driven', u'driver', u'driving', u'drug', u'drugs', u'dude', u'due', u'dull', u'dumb', u'dvd', u'dying', u'earlier', u'early', u'earth', u'easily', u'easy', u'eat', u'eccentric', u'ed', u'eddie', u'edge', u'editing', u'edward', u'effect', u'effective', u'effects', u'effort', u'efforts', u'eight', u'either', u'element', u'elements', u'elizabeth', u'else', u'emotion', u'emotional', u'emotionally', u'emotions', u'empty', u'encounter', u'end', u'ended', u'ending', u'ends', u'energy', u'engaging', u'english', u'enjoy', u'enjoyable', u'enjoyed', u'enough', u'enter', u'entertaining', u'entertainment', u'entire', u'entirely', u'epic', u'episode', u'equally', u'era', u'eric', u'escape', u'especially', u'etc', u'eve', u'even', u'event', u'events', u'eventually', u'ever', u'every', u'everybody', u'everyone', u'everything', u'evidence', u'evil', u'ex', u'exact', u'exactly', u'example', u'excellent', u'except', u'exception', u'exciting', u'excuse', u'exist', u'existence', u'expect', u'expectations', u'expected', u'expecting', u'experience', u'explain', u'explained', u'explanation', u'extra', u'extreme', u'extremely', u'eye', u'eyes', u'face', u'faced', u'faces', u'fact', u'fail', u'failed', u'fails', u'failure', u'fair', u'fairly', u'faith', u'fake', u'fall', u'falling', u'falls', u'fame', u'familiar', u'family', u'famous', u'fan', u'fans', u'fantastic', u'fantasy', u'far', u'fare', u'fascinating', u'fashion', u'fast', u'fat', u'fate', u'father', u'fault', u'favorite', u'fbi', u'fear', u'feature', u'features', u'featuring', u'feel', u'feeling', u'feelings', u'feels', u'feet', u'fellow', u'felt', u'female', u'fi', u'fiction', u'field', u'fifteen', u'fight', u'fighting', u'fights', u'figure', u'figures', u'files', u'fill', u'filled', u'film', u'filmed', u'filmmaker', u'filmmakers', u'filmmaking', u'films', u'final', u'finale', u'finally', u'find', u'finding', u'finds', u'fine', u'fire', u'first', u'fish', u'fit', u'five', u'flashbacks', u'flat', u'flaws', u'flick', u'flicks', u'floor', u'fly', u'flying', u'flynt', u'focus', u'folks', u'follow', u'followed', u'following', u'follows', u'food', u'foot', u'footage', u'football', u'force', u'forced', u'forces', u'ford', u'forever', u'forget', u'forgotten', u'form', u'former', u'formula', u'forward', u'found', u'four', u'fox', u'frame', u'frank', u'free', u'freedom', u'freeman', u'french', u'frequently', u'fresh', u'friend', u'friends', u'frightening', u'front', u'full', u'fully', u'fun', u'funniest', u'funny', u'future', u'gags', u'game', u'games', u'gang', u'gangster', u'gary', u'gave', u'gay', u'general', u'generally', u'generated', u'generation', u'genius', u'genre', u'genuine', u'genuinely', u'george', u'get', u'gets', u'getting', u'ghost', u'giant', u'gibson', u'girl', u'girlfriend', u'girls', u'give', u'given', u'gives', u'giving', u'go', u'goal', u'god', u'godzilla', u'goes', u'going', u'gold', u'gone', u'good', u'goofy', u'gore', u'got', u'gotten', u'government', u'grace', u'grand', u'grant', u'graphic', u'great', u'greatest', u'green', u'ground', u'group', u'grow', u'growing', u'grown', u'grows', u'guard', u'guess', u'guilty', u'gun', u'guns', u'guy', u'guys', u'hair', u'half', u'hall', u'hand', u'hands', u'hanks', u'happen', u'happened', u'happening', u'happens', u'happy', u'hard', u'hardly', u'harry', u'hate', u'haunting', u'head', u'headed', u'heads', u'hear', u'heard', u'heart', u'hearted', u'heaven', u'heavily', u'heavy', u'held', u'helen', u'hell', u'help', u'helps', u'henry', u'hero', u'heroes', u'hey', u'hidden', u'high', u'highly', u'hilarious', u'hill', u'hip', u'history', u'hit', u'hits', u'hold', u'holds', u'holes', u'hollow', u'hollywood', u'home', u'honest', u'hong', u'hope', u'hopes', u'hoping', u'hopkins', u'horrible', u'horror', u'horse', u'hospital', u'hot', u'hotel', u'hour', u'hours', u'house', u'however', u'huge', u'human', u'humanity', u'humans', u'humor', u'humorous', u'humour', u'hunt', u'hunter', u'hunting', u'hurt', u'husband', u'ice', u'idea', u'ideas', u'identity', u'ii', u'ill', u'image', u'images', u'imagination', u'imagine', u'immediately', u'impact', u'important', u'impossible', u'impression', u'impressive', u'include', u'included', u'includes', u'including', u'incredible', u'incredibly', u'indeed', u'independence', u'individual', u'industry', u'inevitable', u'information', u'innocent', u'inside', u'inspired', u'instance', u'instead', u'intelligence', u'intelligent', u'intended', u'intense', u'interest', u'interested', u'interesting', u'international', u'intriguing', u'introduced', u'involved', u'involves', u'involving', u'island', u'issues', u'jack', u'jackie', u'jackson', u'jail', u'james', u'jane', u'japanese', u'jason', u'jay', u'jean', u'jedi', u'jeff', u'jennifer', u'jerry', u'jim', u'jimmy', u'joan', u'job', u'joe', u'joel', u'john', u'johnny', u'join', u'joke', u'jokes', u'jon', u'jonathan', u'jones', u'journey', u'jr', u'judge', u'julia', u'julie', u'jump', u'justice', u'kate', u'keaton', u'keep', u'keeping', u'keeps', u'kelly', u'kept', u'kevin', u'key', u'kid', u'kids', u'kill', u'killed', u'killer', u'killing', u'kills', u'kind', u'king', u'kiss', u'knew', u'know', u'knowledge', u'known', u'knows', u'kong', u'la', u'lack', u'lacking', u'lacks', u'lady', u'lame', u'land', u'language', u'large', u'larry', u'las', u'last', u'late', u'later', u'latest', u'latter', u'laugh', u'laughable', u'laughing', u'laughs', u'law', u'lawrence', u'lawyer', u'lead', u'leader', u'leading', u'leads', u'learn', u'learned', u'learns', u'least', u'leave', u'leaves', u'leaving', u'led', u'lee', u'left', u'legend', u'length', u'less', u'let', u'lets', u'level', u'lies', u'life', u'light', u'likable', u'like', u'liked', u'likely', u'likes', u'limited', u'line', u'liners', u'lines', u'list', u'literally', u'little', u'live', u'lives', u'living', u'local', u'logic', u'london', u'long', u'longer', u'look', u'looked', u'looking', u'looks', u'lord', u'lose', u'loses', u'lost', u'lot', u'lots', u'loud', u'love', u'loved', u'lover', u'loves', u'loving', u'low', u'lucas', u'luck', u'lucky', u'lynch', u'machine', u'mad', u'made', u'magic', u'main', u'mainly', u'major', u'make', u'makes', u'making', u'male', u'man', u'manage', u'managed', u'manages', u'manner', u'many', u'mark', u'marriage', u'married', u'mars', u'martial', u'martin', u'mary', u'master', u'masterpiece', u'match', u'material', u'matrix', u'matt', u'matter', u'matters', u'matthew', u'max', u'may', u'maybe', u'mean', u'meaning', u'means', u'meant', u'meanwhile', u'media', u'mediocre', u'meet', u'meeting', u'meets', u'mel', u'member', u'members', u'memorable', u'memory', u'men', u'menace', u'mental', u'mention', u'mentioned', u'merely', u'mess', u'message', u'michael', u'middle', u'might', u'mike', u'military', u'miller', u'million', u'mind', u'minor', u'minute', u'minutes', u'miss', u'missed', u'missing', u'mission', u'mistake', u'mix', u'mob', u'model', u'modern', u'moment', u'moments', u'money', u'monster', u'months', u'mood', u'moore', u'moral', u'morning', u'mostly', u'mother', u'motion', u'mouth', u'move', u'moved', u'moves', u'movie', u'movies', u'moving', u'mr', u'mrs', u'ms', u'much', u'mulan', u'murder', u'murphy', u'music', u'musical', u'must', u'myers', u'mysterious', u'mystery', u'naked', u'name', u'named', u'names', u'narrative', u'nasty', u'natural', u'naturally', u'nature', u'near', u'nearly', u'necessary', u'need', u'needed', u'needs', u'neither', u'never', u'new', u'news', u'next', u'nice', u'nicely', u'nicholson', u'nick', u'night', u'nights', u'niro', u'nobody', u'noir', u'non', u'none', u'normal', u'note', u'nothing', u'notice', u'novel', u'nowhere', u'nuclear', u'nudity', u'number', u'numbers', u'numerous', u'obsessed', u'obvious', u'obviously', u'occasionally', u'ocean', u'odd', u'offensive', u'offer', u'offers', u'office', u'officer', u'often', u'oh', u'ok', u'okay', u'old', u'older', u'oliver', u'one', u'ones', u'onto', u'open', u'opening', u'opens', u'opinion', u'opportunity', u'opposite', u'order', u'original', u'originally', u'oscar', u'others', u'otherwise', u'outside', u'outstanding', u'overall', u'overly', u'owner', u'pace', u'paced', u'pacing', u'pain', u'pair', u'parents', u'paris', u'park', u'parody', u'part', u'particular', u'particularly', u'partner', u'parts', u'party', u'pass', u'past', u'patch', u'path', u'pathetic', u'patrick', u'paul', u'pay', u'people', u'perfect', u'perfectly', u'performance', u'performances', u'perhaps', u'period', u'person', u'personal', u'personality', u'peter', u'pg', u'phantom', u'phone', u'physical', u'pick', u'picture', u'pictures', u'piece', u'pieces', u'pilot', u'place', u'placed', u'places', u'plain', u'plan', u'plane', u'planet', u'plans', u'play', u'played', u'player', u'players', u'playing', u'plays', u'please', u'pleasure', u'plenty', u'plot', u'plus', u'point', u'pointless', u'points', u'police', u'political', u'poor', u'poorly', u'pop', u'popular', u'porn', u'portrayal', u'portrayed', u'position', u'positive', u'possible', u'possibly', u'post', u'potential', u'power', u'powerful', u'powers', u'predictable', u'premise', u'presence', u'present', u'presented', u'presents', u'president', u'press', u'pretty', u'previous', u'previously', u'price', u'prince', u'princess', u'prison', u'private', u'probably', u'problem', u'problems', u'process', u'produced', u'producer', u'producers', u'product', u'production', u'professional', u'professor', u'project', u'promise', u'protagonist', u'prove', u'proves', u'provide', u'provided', u'provides', u'public', u'pull', u'pulled', u'pulp', u'punch', u'pure', u'purpose', u'put', u'puts', u'putting', u'quality', u'queen', u'quest', u'question', u'questions', u'quick', u'quickly', u'quiet', u'quite', u'race', u'radio', u'rain', u'range', u'rare', u'rarely', u'rate', u'rated', u'rather', u'rating', u'ray', u'reach', u'read', u'reading', u'ready', u'real', u'realistic', u'reality', u'realize', u'realized', u'realizes', u'really', u'reason', u'reasons', u'recent', u'recently', u'recommend', u'record', u'red', u'reeves', u'regular', u'relationship', u'relationships', u'relatively', u'release', u'released', u'relief', u'religious', u'remain', u'remains', u'remake', u'remarkable', u'remember', u'reminiscent', u'rent', u'rescue', u'respect', u'responsible', u'rest', u'result', u'results', u'return', u'returns', u'reveal', u'revenge', u'review', u'reviews', u'rich', u'richard', u'ride', u'ridiculous', u'right', u'rip', u'ripley', u'rise', u'rising', u'rival', u'road', u'rob', u'robert', u'roberts', u'robin', u'rock', u'rocky', u'roger', u'role', u'roles', u'roll', u'romance', u'romantic', u'room', u'rose', u'routine', u'rule', u'rules', u'run', u'running', u'runs', u'rush', u'russell', u'russian', u'ryan', u'sad', u'sadly', u'safe', u'said', u'sam', u'sandler', u'sarah', u'satire', u'save', u'saved', u'saving', u'saw', u'say', u'saying', u'says', u'scale', u'scary', u'scene', u'scenes', u'school', u'schwarzenegger', u'sci', u'science', u'scientist', u'score', u'scorsese', u'scott', u'scream', u'screen', u'screenplay', u'screenwriter', u'screenwriters', u'script', u'sea', u'seagal', u'sean', u'search', u'season', u'seat', u'second', u'seconds', u'secret', u'security', u'see', u'seeing', u'seem', u'seemed', u'seemingly', u'seems', u'seen', u'sees', u'self', u'send', u'sense', u'sent', u'sequel', u'sequence', u'sequences', u'serial', u'series', u'serious', u'seriously', u'serve', u'serves', u'set', u'sets', u'setting', u'seven', u'several', u'sex', u'sexual', u'sexy', u'shakespeare', u'shallow', u'shame', u'share', u'sharp', u'sheer', u'ship', u'shock', u'shocking', u'shoot', u'shooting', u'short', u'shot', u'shots', u'show', u'showing', u'shown', u'shows', u'shrek', u'sick', u'side', u'sidney', u'sight', u'sign', u'silent', u'silly', u'similar', u'simon', u'simple', u'simply', u'since', u'singer', u'singing', u'single', u'sister', u'sit', u'sitting', u'situation', u'situations', u'six', u'skills', u'skin', u'sky', u'slapstick', u'slasher', u'slightly', u'slow', u'slowly', u'small', u'smart', u'smile', u'smith', u'snake', u'social', u'society', u'soldiers', u'solid', u'somehow', u'someone', u'something', u'sometimes', u'somewhat', u'somewhere', u'son', u'song', u'songs', u'soon', u'sorry', u'sort', u'soul', u'sound', u'sounds', u'soundtrack', u'south', u'space', u'spawn', u'speak', u'speaking', u'special', u'species', u'spectacular', u'speech', u'speed', u'spend', u'spends', u'spent', u'spice', u'spielberg', u'spirit', u'spot', u'stage', u'stallone', u'stand', u'standard', u'standing', u'stands', u'star', u'starring', u'stars', u'starship', u'start', u'started', u'starts', u'state', u'states', u'station', u'stay', u'steal', u'step', u'stephen', u'steve', u'steven', u'stick', u'still', u'stock', u'stone', u'stop', u'store', u'stories', u'story', u'storyline', u'straight', u'strange', u'street', u'streets', u'strength', u'strike', u'strong', u'struggle', u'stuart', u'stuck', u'student', u'students', u'studio', u'study', u'stuff', u'stunning', u'stupid', u'style', u'sub', u'subject', u'subplot', u'substance', u'subtle', u'succeeds', u'success', u'successful', u'suddenly', u'suit', u'summer', u'super', u'superb', u'superior', u'support', u'supporting', u'suppose', u'supposed', u'supposedly', u'sure', u'surface', u'surprise', u'surprised', u'surprises', u'surprising', u'surprisingly', u'survive', u'suspect', u'suspects', u'suspense', u'sweet', u'sympathetic', u'synopsis', u'system', u'take', u'taken', u'takes', u'taking', u'tale', u'talent', u'talented', u'talents', u'talk', u'talking', u'talks', u'tarantino', u'target', u'tarzan', u'task', u'taste', u'taylor', u'teacher', u'team', u'technical', u'technology', u'ted', u'teen', u'teenage', u'teenagers', u'television', u'tell', u'telling', u'tells', u'ten', u'tension', u'terms', u'terrible', u'terrific', u'test', u'thankfully', u'thanks', u'theater', u'theaters', u'theatre', u'theme', u'themes', u'therefore', u'thin', u'thing', u'things', u'think', u'thinking', u'thinks', u'third', u'thirty', u'thomas', u'thoroughly', u'though', u'thought', u'three', u'thriller', u'throughout', u'throw', u'thrown', u'thus', u'tim', u'time', u'times', u'tired', u'titanic', u'title', u'today', u'together', u'told', u'tom', u'tommy', u'tone', u'tony', u'took', u'top', u'total', u'totally', u'touch', u'touching', u'tough', u'toward', u'towards', u'town', u'toy', u'track', u'traditional', u'tragedy', u'trailer', u'train', u'travel', u'travolta', u'treat', u'trek', u'tried', u'tries', u'trip', u'troopers', u'trouble', u'true', u'truly', u'truman', u'trust', u'truth', u'try', u'trying', u'turn', u'turned', u'turning', u'turns', u'tv', u'twenty', u'twice', u'twist', u'twists', u'two', u'type', u'typical', u'ugly', u'ultimate', u'ultimately', u'understand', u'unexpected', u'unfortunately', u'unfunny', u'unique', u'united', u'unless', u'unlike', u'unnecessary', u'upon', u'ups', u'urban', u'us', u'use', u'used', u'uses', u'using', u'usual', u'usually', u'utterly', u'value', u'vampire', u'vampires', u'van', u'various', u'vegas', u'vehicle', u'verhoeven', u'version', u'veteran', u'victim', u'victims', u'video', u'view', u'viewer', u'viewers', u'viewing', u'villain', u'villains', u'vincent', u'violence', u'violent', u'virtually', u'virus', u'vision', u'visit', u'visual', u'visually', u'visuals', u'voice', u'wait', u'waiting', u'walk', u'walking', u'wall', u'walter', u'want', u'wanted', u'wants', u'war', u'warm', u'wars', u'washington', u'waste', u'wasted', u'watch', u'watched', u'watching', u'water', u'way', u'wayne', u'ways', u'weak', u'wedding', u'week', u'weeks', u'weird', u'welcome', u'well', u'went', u'west', u'whatever', u'whether', u'white', u'whole', u'whose', u'wide', u'wife', u'wild', u'william', u'williams', u'williamson', u'willing', u'willis', u'win', u'window', u'winner', u'winning', u'wise', u'wish', u'wit', u'witch', u'within', u'without', u'witness', u'witty', u'woman', u'women', u'wonder', u'wonderful', u'wonderfully', u'wondering', u'woo', u'wood', u'woods', u'woody', u'word', u'words', u'work', u'worked', u'worker', u'working', u'works', u'world', u'worse', u'worst', u'worth', u'worthy', u'would', u'write', u'writer', u'writers', u'writing', u'written', u'wrong', u'wrote', u'yeah', u'year', u'years', u'yes', u'yet', u'york', u'young', u'younger', u'zero']\n"
     ]
    }
   ],
   "source": [
    "print(vectorizer.get_feature_names())"
   ]
  },
  {
   "cell_type": "code",
   "execution_count": 38,
   "metadata": {
    "collapsed": true
   },
   "outputs": [],
   "source": [
    "X = X.toarray()"
   ]
  },
  {
   "cell_type": "code",
   "execution_count": 39,
   "metadata": {
    "collapsed": false
   },
   "outputs": [
    {
     "data": {
      "text/plain": [
       "array([[0.        , 0.        , 0.        , ..., 0.        , 0.        ,\n",
       "        0.        ],\n",
       "       [0.        , 0.        , 0.        , ..., 0.        , 0.        ,\n",
       "        0.        ],\n",
       "       [0.        , 0.        , 0.        , ..., 0.06770035, 0.        ,\n",
       "        0.        ],\n",
       "       ...,\n",
       "       [0.        , 0.        , 0.        , ..., 0.        , 0.        ,\n",
       "        0.        ],\n",
       "       [0.        , 0.        , 0.        , ..., 0.        , 0.        ,\n",
       "        0.        ],\n",
       "       [0.11761855, 0.        , 0.06191843, ..., 0.        , 0.        ,\n",
       "        0.        ]])"
      ]
     },
     "execution_count": 39,
     "metadata": {},
     "output_type": "execute_result"
    }
   ],
   "source": [
    "X"
   ]
  },
  {
   "cell_type": "markdown",
   "metadata": {},
   "source": [
    "### Train and Test data split"
   ]
  },
  {
   "cell_type": "code",
   "execution_count": 40,
   "metadata": {
    "collapsed": true
   },
   "outputs": [],
   "source": [
    "from sklearn.model_selection import train_test_split"
   ]
  },
  {
   "cell_type": "code",
   "execution_count": 41,
   "metadata": {
    "collapsed": true
   },
   "outputs": [],
   "source": [
    "X_train, X_test, y_train, y_test = train_test_split(X, y, test_size=0.20, random_state=12)"
   ]
  },
  {
   "cell_type": "markdown",
   "metadata": {},
   "source": [
    "### Training the Classifier"
   ]
  },
  {
   "cell_type": "code",
   "execution_count": 42,
   "metadata": {
    "collapsed": true
   },
   "outputs": [],
   "source": [
    "from sklearn.linear_model import LogisticRegression"
   ]
  },
  {
   "cell_type": "code",
   "execution_count": 43,
   "metadata": {
    "collapsed": true
   },
   "outputs": [],
   "source": [
    "classifier = LogisticRegression()"
   ]
  },
  {
   "cell_type": "code",
   "execution_count": 44,
   "metadata": {
    "collapsed": false
   },
   "outputs": [
    {
     "name": "stderr",
     "output_type": "stream",
     "text": [
      "/usr/local/lib/python2.7/site-packages/sklearn/linear_model/logistic.py:432: FutureWarning: Default solver will be changed to 'lbfgs' in 0.22. Specify a solver to silence this warning.\n",
      "  FutureWarning)\n"
     ]
    },
    {
     "data": {
      "text/plain": [
       "LogisticRegression(C=1.0, class_weight=None, dual=False, fit_intercept=True,\n",
       "          intercept_scaling=1, max_iter=100, multi_class='warn',\n",
       "          n_jobs=None, penalty='l2', random_state=None, solver='warn',\n",
       "          tol=0.0001, verbose=0, warm_start=False)"
      ]
     },
     "execution_count": 44,
     "metadata": {},
     "output_type": "execute_result"
    }
   ],
   "source": [
    "classifier.fit(X_train, y_train)"
   ]
  },
  {
   "cell_type": "code",
   "execution_count": 45,
   "metadata": {
    "collapsed": true
   },
   "outputs": [],
   "source": [
    "## predict\n",
    "pred = classifier.predict(X_test)"
   ]
  },
  {
   "cell_type": "markdown",
   "metadata": {},
   "source": [
    "<a id='metric'></a>\n",
    "### Model Evaluation"
   ]
  },
  {
   "cell_type": "code",
   "execution_count": 47,
   "metadata": {
    "collapsed": false
   },
   "outputs": [],
   "source": [
    "from sklearn.metrics import confusion_matrix"
   ]
  },
  {
   "cell_type": "code",
   "execution_count": 48,
   "metadata": {
    "collapsed": true
   },
   "outputs": [],
   "source": [
    "cm = confusion_matrix(y_test, pred)"
   ]
  },
  {
   "cell_type": "code",
   "execution_count": 49,
   "metadata": {
    "collapsed": false
   },
   "outputs": [
    {
     "name": "stdout",
     "output_type": "stream",
     "text": [
      "[[171  35]\n",
      " [ 29 165]]\n"
     ]
    }
   ],
   "source": [
    "print cm"
   ]
  },
  {
   "cell_type": "code",
   "execution_count": 50,
   "metadata": {
    "collapsed": false
   },
   "outputs": [
    {
     "name": "stdout",
     "output_type": "stream",
     "text": [
      "('Test Size:', 400)\n"
     ]
    }
   ],
   "source": [
    "print(\"Test Size:\", len(y_test))"
   ]
  },
  {
   "cell_type": "code",
   "execution_count": 59,
   "metadata": {
    "collapsed": false
   },
   "outputs": [
    {
     "name": "stdout",
     "output_type": "stream",
     "text": [
      "Accuracy : 0.84\n"
     ]
    }
   ],
   "source": [
    "print(\"Accuracy : {}\".format((171+165) *1.0/len(y_test)))"
   ]
  },
  {
   "cell_type": "markdown",
   "metadata": {},
   "source": [
    "<a id='save'></a>\n",
    "### Save Classifier and Model"
   ]
  },
  {
   "cell_type": "code",
   "execution_count": 60,
   "metadata": {
    "collapsed": true
   },
   "outputs": [],
   "source": [
    "import pickle"
   ]
  },
  {
   "cell_type": "code",
   "execution_count": 61,
   "metadata": {
    "collapsed": true
   },
   "outputs": [],
   "source": [
    "# classifier\n",
    "\n",
    "with open('classifier.pickle', 'wb') as f:\n",
    "    pickle.dump(classifier, f)"
   ]
  },
  {
   "cell_type": "code",
   "execution_count": 62,
   "metadata": {
    "collapsed": true
   },
   "outputs": [],
   "source": [
    "# save vectorizier model\n",
    "\n",
    "with open('vectorizer.pickle', 'wb') as f:\n",
    "    pickle.dump(vectorizer, f)\n",
    "          "
   ]
  },
  {
   "cell_type": "code",
   "execution_count": null,
   "metadata": {
    "collapsed": true
   },
   "outputs": [],
   "source": []
  }
 ],
 "metadata": {
  "kernelspec": {
   "display_name": "Python 2",
   "language": "python",
   "name": "python2"
  },
  "language_info": {
   "codemirror_mode": {
    "name": "ipython",
    "version": 2
   },
   "file_extension": ".py",
   "mimetype": "text/x-python",
   "name": "python",
   "nbconvert_exporter": "python",
   "pygments_lexer": "ipython2",
   "version": "2.7.14"
  }
 },
 "nbformat": 4,
 "nbformat_minor": 2
}
