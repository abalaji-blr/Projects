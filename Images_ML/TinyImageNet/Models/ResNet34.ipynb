{
 "cells": [
  {
   "cell_type": "code",
   "execution_count": 1,
   "metadata": {},
   "outputs": [
    {
     "name": "stderr",
     "output_type": "stream",
     "text": [
      "Using TensorFlow backend.\n"
     ]
    }
   ],
   "source": [
    "import keras\n",
    "import os\n",
    "import numpy as np\n",
    "\n",
    "#from sklearn.preprocessing import LabelEncoder\n",
    "#from keras.utils import to_categorical\n",
    "\n",
    "from sklearn.preprocessing import LabelBinarizer\n",
    "\n",
    "from keras.preprocessing.image import ImageDataGenerator\n",
    "\n",
    "from MyUtils.Dataset import DatasetLoader\n",
    "from MyUtils.ResnetBuilder import ResnetBuilder\n",
    "\n",
    "from keras.optimizers import Adam"
   ]
  },
  {
   "cell_type": "code",
   "execution_count": 2,
   "metadata": {},
   "outputs": [],
   "source": [
    "ROOT_DIR='/Users/abalaji/mydata/DataScience/TinyImageNet'\n",
    "IMAGE_ROOT_DIR=os.path.join(ROOT_DIR, 'tiny-imagenet-200')\n",
    "\n",
    "# utilities.\n",
    "UTILS_ROOT_DIR='/Users/abalaji/Documents/GitProjects/Projects/Images_ML/TinyImageNet'\n",
    "MY_UTILS_DIR= os.path.join(UTILS_ROOT_DIR,'MyUtils')\n",
    "SUPPORT_FILES_DIR=os.path.join(MY_UTILS_DIR, 'SupportFiles')\n",
    "\n",
    "#IMAGE_SIZE=64\n",
    "#NUM_CHANNELS=3\n",
    "\n",
    "## for training\n",
    "NUM_CLASSES_TO_TRAIN_AND_VAL=4\n",
    "\n",
    "# Hyperparameters\n",
    "batch_size = 50\n",
    "epochs = 50"
   ]
  },
  {
   "cell_type": "code",
   "execution_count": 3,
   "metadata": {},
   "outputs": [],
   "source": [
    "## set up the data loader\n",
    "dataLoader = DatasetLoader(IMAGE_ROOT_DIR)\n",
    "dataLoader.set_support_files_dir(SUPPORT_FILES_DIR)\n",
    "\n",
    "## get all class ids and their names.\n",
    "(class_id_arr, class_names_arr) = dataLoader.get_class_info()\n",
    "\n",
    "## load training images\n",
    "(training_images, training_label_ids) = dataLoader.load_training_images_for_a_list_classes(\n",
    "                                                class_id_arr[0:NUM_CLASSES_TO_TRAIN_AND_VAL], \n",
    "                                                resize_flag=False)\n",
    "\n",
    "(val_images, val_label_ids) = dataLoader.load_validation_images_for_a_list_classes(\n",
    "                                                class_id_arr[0:NUM_CLASSES_TO_TRAIN_AND_VAL], \n",
    "                                                resize_flag=False)\n",
    "\n",
    "# shuffle the training data\n",
    "np.random.seed(123)\n",
    "shuffle_index = np.random.permutation(len(training_label_ids))\n",
    "training_images = training_images[shuffle_index]\n",
    "training_label_ids = training_label_ids[shuffle_index]"
   ]
  },
  {
   "cell_type": "code",
   "execution_count": 4,
   "metadata": {},
   "outputs": [],
   "source": [
    "img_height, img_width, num_channel = training_images.shape[1],training_images.shape[2],training_images.shape[3]\n"
   ]
  },
  {
   "cell_type": "code",
   "execution_count": 7,
   "metadata": {},
   "outputs": [],
   "source": [
    "input_shape = (num_channel,img_height,img_width)\n",
    "model = ResnetBuilder.build_resnet_34(input_shape, 200)"
   ]
  },
  {
   "cell_type": "code",
   "execution_count": 8,
   "metadata": {},
   "outputs": [],
   "source": [
    "from keras.utils import plot_model"
   ]
  },
  {
   "cell_type": "code",
   "execution_count": 9,
   "metadata": {},
   "outputs": [],
   "source": [
    "plot_model(model, to_file='res_net_34.png', show_shapes=True)"
   ]
  },
  {
   "cell_type": "code",
   "execution_count": null,
   "metadata": {},
   "outputs": [],
   "source": []
  }
 ],
 "metadata": {
  "kernelspec": {
   "display_name": "Python 3",
   "language": "python",
   "name": "python3"
  },
  "language_info": {
   "codemirror_mode": {
    "name": "ipython",
    "version": 3
   },
   "file_extension": ".py",
   "mimetype": "text/x-python",
   "name": "python",
   "nbconvert_exporter": "python",
   "pygments_lexer": "ipython3",
   "version": "3.6.4"
  }
 },
 "nbformat": 4,
 "nbformat_minor": 2
}
