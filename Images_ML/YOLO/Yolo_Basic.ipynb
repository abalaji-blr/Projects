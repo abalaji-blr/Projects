{
  "nbformat": 4,
  "nbformat_minor": 0,
  "metadata": {
    "colab": {
      "name": "3B_Yolo_Basic.ipynb",
      "version": "0.3.2",
      "provenance": []
    },
    "kernelspec": {
      "name": "python3",
      "display_name": "Python 3"
    },
    "accelerator": "GPU"
  },
  "cells": [
    {
      "metadata": {
        "id": "8edSiHPi2N5l",
        "colab_type": "code",
        "colab": {}
      },
      "cell_type": "code",
      "source": [
        "# https://keras.io/\n",
        "!pip install -q keras\n",
        "import keras\n",
        "\n",
        "import keras\n",
        "from keras.datasets import cifar10\n",
        "from keras.models import Model, Sequential\n",
        "from keras.layers import Dense, Dropout, Flatten, Input, AveragePooling2D, merge, Activation\n",
        "from keras.layers import Conv2D, MaxPooling2D, BatchNormalization\n",
        "from keras.layers import Concatenate\n",
        "from keras.optimizers import Adam\n",
        "from keras.layers.advanced_activations import LeakyReLU\n",
        "from keras.layers import Reshape, Activation, Conv2D, Input, MaxPooling2D, BatchNormalization, Flatten, Dense, Lambda\n",
        "from keras.layers.merge import concatenate\n",
        "\n",
        "# this part will prevent tensorflow to allocate all the avaliable GPU Memory\n",
        "# backend\n",
        "import tensorflow as tf\n",
        "from keras import backend as k\n",
        "\n",
        "# Don't pre-allocate memory; allocate as-needed\n",
        "config = tf.ConfigProto()\n",
        "config.gpu_options.allow_growth = True\n",
        "\n",
        "# Create a session with the above options specified.\n",
        "k.tensorflow_backend.set_session(tf.Session(config=config))\n",
        "\n",
        "# Hyperparameters\n",
        "batch_size = 128\n",
        "num_classes = 10\n",
        "#epochs = 300\n",
        "epochs = 50\n",
        "l = 10\n",
        "num_filter = 20"
      ],
      "execution_count": 0,
      "outputs": []
    },
    {
      "metadata": {
        "id": "-hkvQwOH2cCO",
        "colab_type": "code",
        "outputId": "5a466c02-6fe8-4219-8d2d-f4bdd2be2f3d",
        "colab": {
          "base_uri": "https://localhost:8080/",
          "height": 51
        }
      },
      "cell_type": "code",
      "source": [
        "# Load CIFAR10 Data\n",
        "(x_train, y_train), (x_test, y_test) = cifar10.load_data()\n",
        "img_height, img_width, channel = x_train.shape[1],x_train.shape[2],x_train.shape[3]\n",
        "\n",
        "# convert to one hot encoing \n",
        "y_train = keras.utils.to_categorical(y_train, num_classes)\n",
        "y_test = keras.utils.to_categorical(y_test, num_classes)"
      ],
      "execution_count": 0,
      "outputs": [
        {
          "output_type": "stream",
          "text": [
            "Downloading data from https://www.cs.toronto.edu/~kriz/cifar-10-python.tar.gz\n",
            "170500096/170498071 [==============================] - 733s 4us/step\n"
          ],
          "name": "stdout"
        }
      ]
    },
    {
      "metadata": {
        "id": "ztoDypc63gEs",
        "colab_type": "code",
        "colab": {}
      },
      "cell_type": "code",
      "source": [
        "def space_to_depth_x2(x):\n",
        "    return tf.space_to_depth(x, block_size=2)"
      ],
      "execution_count": 0,
      "outputs": []
    },
    {
      "metadata": {
        "id": "-MXS00eYpJXr",
        "colab_type": "code",
        "outputId": "a613b91a-0bb6-4564-d196-4fe0f457debe",
        "colab": {
          "base_uri": "https://localhost:8080/",
          "height": 34
        }
      },
      "cell_type": "code",
      "source": [
        "x_train[0].shape"
      ],
      "execution_count": 0,
      "outputs": [
        {
          "output_type": "execute_result",
          "data": {
            "text/plain": [
              "(32, 32, 3)"
            ]
          },
          "metadata": {
            "tags": []
          },
          "execution_count": 4
        }
      ]
    },
    {
      "metadata": {
        "id": "SNnGm8Tv2fR1",
        "colab_type": "code",
        "colab": {}
      },
      "cell_type": "code",
      "source": [
        "input = Input(shape=(img_height, img_width, channel,))\n",
        "\n",
        "# Layer 1\n",
        "layer1 = Conv2D(32, (3,3), strides=(1,1), padding='same', name='conv_1', use_bias=False)(input)\n",
        "layer1 = BatchNormalization(name='norm_1')(layer1)\n",
        "layer1 = LeakyReLU(alpha=0.1)(layer1)\n",
        "layer1 = MaxPooling2D(pool_size=(2, 2))(layer1)\n",
        "\n",
        "# Layer 2\n",
        "layer2 = Conv2D(64, (3,3), strides=(1,1), padding='same', name='conv_2', use_bias=False)(layer1)\n",
        "layer2 = BatchNormalization(name='norm_2')(layer2)\n",
        "layer2 = LeakyReLU(alpha=0.1)(layer2)\n",
        "layer2 = MaxPooling2D(pool_size=(2, 2))(layer2)\n",
        "\n",
        "# Layer 3\n",
        "layer3 = Conv2D(128, (3,3), strides=(1,1), padding='same', name='conv_3', use_bias=False)(layer2)\n",
        "layer3 = BatchNormalization(name='norm_3')(layer3)\n",
        "layer3 = LeakyReLU(alpha=0.1)(layer3)\n",
        "\n",
        "# Layer 4\n",
        "layer4 = Conv2D(64, (1,1), strides=(1,1), padding='same', name='conv_4', use_bias=False)(layer3)\n",
        "layer4 = BatchNormalization(name='norm_4')(layer4)\n",
        "layer4 = LeakyReLU(alpha=0.1)(layer4)\n",
        "\n",
        "# Layer 5\n",
        "layer5 = Conv2D(128, (3,3), strides=(1,1), padding='same', name='conv_5', use_bias=False)(layer4)\n",
        "layer5 = BatchNormalization(name='norm_5')(layer5)\n",
        "layer5 = LeakyReLU(alpha=0.1)(layer5)\n",
        "layer5 = MaxPooling2D(pool_size=(2, 2))(layer5)\n",
        "\n",
        "# Layer 6\n",
        "layer6 = Conv2D(256, (3,3), strides=(1,1), padding='same', name='conv_6', use_bias=False)(layer5)\n",
        "layer6 = BatchNormalization(name='norm_6')(layer6)\n",
        "layer6 = LeakyReLU(alpha=0.1)(layer6)\n",
        "\n",
        "# Layer 7\n",
        "layer7 = Conv2D(128, (1,1), strides=(1,1), padding='same', name='conv_7', use_bias=False)(layer6)\n",
        "layer7 = BatchNormalization(name='norm_7')(layer7)\n",
        "layer7 = LeakyReLU(alpha=0.1)(layer7)\n",
        "\n",
        "# Layer 8\n",
        "layer8 = Conv2D(256, (3,3), strides=(1,1), padding='same', name='conv_8', use_bias=False)(layer7)\n",
        "layer8 = BatchNormalization(name='norm_8')(layer8)\n",
        "layer8 = LeakyReLU(alpha=0.1)(layer8)\n",
        "layer8 = MaxPooling2D(pool_size=(2, 2))(layer8)\n",
        "\n",
        "# Layer 9\n",
        "layer9 = Conv2D(512, (3,3), strides=(1,1), padding='same', name='conv_9', use_bias=False)(layer8)\n",
        "layer9 = BatchNormalization(name='norm_9')(layer9)\n",
        "layer9 = LeakyReLU(alpha=0.1)(layer9)\n",
        "\n",
        "# Layer 10\n",
        "layer10 = Conv2D(256, (1,1), strides=(1,1), padding='same', name='conv_10', use_bias=False)(layer9)\n",
        "layer10 = BatchNormalization(name='norm_10')(layer10)\n",
        "layer10 = LeakyReLU(alpha=0.1)(layer10)\n",
        "\n",
        "# Layer 11\n",
        "layer11 = Conv2D(512, (3,3), strides=(1,1), padding='same', name='conv_11', use_bias=False)(layer10)\n",
        "layer11 = BatchNormalization(name='norm_11')(layer11)\n",
        "layer11 = LeakyReLU(alpha=0.1)(layer11)\n",
        "\n",
        "# Layer 12\n",
        "layer12 = Conv2D(256, (1,1), strides=(1,1), padding='same', name='conv_12', use_bias=False)(layer11)\n",
        "layer12 = BatchNormalization(name='norm_12')(layer12)\n",
        "layer12 = LeakyReLU(alpha=0.1)(layer12)\n",
        "\n",
        "# Layer 13\n",
        "layer13 = Conv2D(512, (3,3), strides=(1,1), padding='same', name='conv_13', use_bias=False)(layer12)\n",
        "layer13 = BatchNormalization(name='norm_13')(layer13)\n",
        "layer13_act = LeakyReLU(alpha=0.1)(layer13)\n",
        "\n",
        "#skip_connection = layer13_act\n",
        "skip_connection  = layer12\n",
        "\n",
        "layer13 = MaxPooling2D(pool_size=(2, 2))(layer13_act)\n",
        "\n",
        "# Layer 14\n",
        "layer14 = Conv2D(1024, (3,3), strides=(1,1), padding='same', name='conv_14', use_bias=False)(layer13)\n",
        "layer14 = BatchNormalization(name='norm_14')(layer14)\n",
        "layer14 = LeakyReLU(alpha=0.1)(layer14)\n",
        "\n",
        "# Layer 15\n",
        "layer15 = Conv2D(512, (1,1), strides=(1,1), padding='same', name='conv_15', use_bias=False)(layer14)\n",
        "layer15 = BatchNormalization(name='norm_15')(layer15)\n",
        "layer15 = LeakyReLU(alpha=0.1)(layer15)\n",
        "\n",
        "# Layer 16\n",
        "layer16 = Conv2D(1024, (3,3), strides=(1,1), padding='same', name='conv_16', use_bias=False)(layer15)\n",
        "layer16 = BatchNormalization(name='norm_16')(layer16)\n",
        "layer16 = LeakyReLU(alpha=0.1)(layer16)\n",
        "\n",
        "# Layer 17\n",
        "layer17 = Conv2D(512, (1,1), strides=(1,1), padding='same', name='conv_17', use_bias=False)(layer16)\n",
        "layer17 = BatchNormalization(name='norm_17')(layer17)\n",
        "layer17 = LeakyReLU(alpha=0.1)(layer17)\n",
        "\n",
        "# Layer 18\n",
        "layer18 = Conv2D(1024, (3,3), strides=(1,1), padding='same', name='conv_18', use_bias=False)(layer17)\n",
        "layer18 = BatchNormalization(name='norm_18')(layer18)\n",
        "layer18 = LeakyReLU(alpha=0.1)(layer18)\n",
        "\n",
        "# Layer 19\n",
        "layer19 = Conv2D(1024, (3,3), strides=(1,1), padding='same', name='conv_19', use_bias=False)(layer18)\n",
        "layer19 = BatchNormalization(name='norm_19')(layer19)\n",
        "layer19 = LeakyReLU(alpha=0.1)(layer19)\n",
        "\n",
        "# Layer 20\n",
        "layer20 = Conv2D(1024, (3,3), strides=(1,1), padding='same', name='conv_20', use_bias=False)(layer19)\n",
        "layer20 = BatchNormalization(name='norm_20')(layer20)\n",
        "layer20 = LeakyReLU(alpha=0.1)(layer20)\n",
        "\n",
        "# Layer 21\n",
        "skip_connection = Conv2D(64, (1,1), strides=(1,1), padding='same', name='conv_21', use_bias=False)(skip_connection)\n",
        "skip_connection = BatchNormalization(name='norm_21')(skip_connection)\n",
        "skip_connection = LeakyReLU(alpha=0.1)(skip_connection)\n",
        "skip_connection = Lambda(space_to_depth_x2)(skip_connection)\n",
        "\n",
        "layer21 = concatenate([skip_connection, layer20])\n",
        "\n",
        "# Layer 22\n",
        "layer22 = Conv2D(1024, (3,3), strides=(1,1), padding='same', name='conv_22', use_bias=False)(layer21)\n",
        "layer22 = BatchNormalization(name='norm_22')(layer22)\n",
        "layer22 = LeakyReLU(alpha=0.1)(layer22)\n",
        "\n",
        "# Layer 23\n",
        "layer23 = Flatten()(layer22)\n",
        "\n",
        "output = Dense(num_classes, activation='softmax')(layer23)\n",
        "\n"
      ],
      "execution_count": 0,
      "outputs": []
    },
    {
      "metadata": {
        "id": "Jeh0VAxy26NV",
        "colab_type": "code",
        "outputId": "db985767-fd8b-432a-c4e5-775891affa2a",
        "colab": {
          "base_uri": "https://localhost:8080/",
          "height": 2737
        }
      },
      "cell_type": "code",
      "source": [
        "model = Model(inputs=[input], outputs=[output])\n",
        "model.summary()"
      ],
      "execution_count": 0,
      "outputs": [
        {
          "output_type": "stream",
          "text": [
            "__________________________________________________________________________________________________\n",
            "Layer (type)                    Output Shape         Param #     Connected to                     \n",
            "==================================================================================================\n",
            "input_2 (InputLayer)            (None, 32, 32, 3)    0                                            \n",
            "__________________________________________________________________________________________________\n",
            "conv_1 (Conv2D)                 (None, 32, 32, 32)   864         input_2[0][0]                    \n",
            "__________________________________________________________________________________________________\n",
            "norm_1 (BatchNormalization)     (None, 32, 32, 32)   128         conv_1[0][0]                     \n",
            "__________________________________________________________________________________________________\n",
            "leaky_re_lu_23 (LeakyReLU)      (None, 32, 32, 32)   0           norm_1[0][0]                     \n",
            "__________________________________________________________________________________________________\n",
            "max_pooling2d_6 (MaxPooling2D)  (None, 16, 16, 32)   0           leaky_re_lu_23[0][0]             \n",
            "__________________________________________________________________________________________________\n",
            "conv_2 (Conv2D)                 (None, 16, 16, 64)   18432       max_pooling2d_6[0][0]            \n",
            "__________________________________________________________________________________________________\n",
            "norm_2 (BatchNormalization)     (None, 16, 16, 64)   256         conv_2[0][0]                     \n",
            "__________________________________________________________________________________________________\n",
            "leaky_re_lu_24 (LeakyReLU)      (None, 16, 16, 64)   0           norm_2[0][0]                     \n",
            "__________________________________________________________________________________________________\n",
            "max_pooling2d_7 (MaxPooling2D)  (None, 8, 8, 64)     0           leaky_re_lu_24[0][0]             \n",
            "__________________________________________________________________________________________________\n",
            "conv_3 (Conv2D)                 (None, 8, 8, 128)    73728       max_pooling2d_7[0][0]            \n",
            "__________________________________________________________________________________________________\n",
            "norm_3 (BatchNormalization)     (None, 8, 8, 128)    512         conv_3[0][0]                     \n",
            "__________________________________________________________________________________________________\n",
            "leaky_re_lu_25 (LeakyReLU)      (None, 8, 8, 128)    0           norm_3[0][0]                     \n",
            "__________________________________________________________________________________________________\n",
            "conv_4 (Conv2D)                 (None, 8, 8, 64)     8192        leaky_re_lu_25[0][0]             \n",
            "__________________________________________________________________________________________________\n",
            "norm_4 (BatchNormalization)     (None, 8, 8, 64)     256         conv_4[0][0]                     \n",
            "__________________________________________________________________________________________________\n",
            "leaky_re_lu_26 (LeakyReLU)      (None, 8, 8, 64)     0           norm_4[0][0]                     \n",
            "__________________________________________________________________________________________________\n",
            "conv_5 (Conv2D)                 (None, 8, 8, 128)    73728       leaky_re_lu_26[0][0]             \n",
            "__________________________________________________________________________________________________\n",
            "norm_5 (BatchNormalization)     (None, 8, 8, 128)    512         conv_5[0][0]                     \n",
            "__________________________________________________________________________________________________\n",
            "leaky_re_lu_27 (LeakyReLU)      (None, 8, 8, 128)    0           norm_5[0][0]                     \n",
            "__________________________________________________________________________________________________\n",
            "max_pooling2d_8 (MaxPooling2D)  (None, 4, 4, 128)    0           leaky_re_lu_27[0][0]             \n",
            "__________________________________________________________________________________________________\n",
            "conv_6 (Conv2D)                 (None, 4, 4, 256)    294912      max_pooling2d_8[0][0]            \n",
            "__________________________________________________________________________________________________\n",
            "norm_6 (BatchNormalization)     (None, 4, 4, 256)    1024        conv_6[0][0]                     \n",
            "__________________________________________________________________________________________________\n",
            "leaky_re_lu_28 (LeakyReLU)      (None, 4, 4, 256)    0           norm_6[0][0]                     \n",
            "__________________________________________________________________________________________________\n",
            "conv_7 (Conv2D)                 (None, 4, 4, 128)    32768       leaky_re_lu_28[0][0]             \n",
            "__________________________________________________________________________________________________\n",
            "norm_7 (BatchNormalization)     (None, 4, 4, 128)    512         conv_7[0][0]                     \n",
            "__________________________________________________________________________________________________\n",
            "leaky_re_lu_29 (LeakyReLU)      (None, 4, 4, 128)    0           norm_7[0][0]                     \n",
            "__________________________________________________________________________________________________\n",
            "conv_8 (Conv2D)                 (None, 4, 4, 256)    294912      leaky_re_lu_29[0][0]             \n",
            "__________________________________________________________________________________________________\n",
            "norm_8 (BatchNormalization)     (None, 4, 4, 256)    1024        conv_8[0][0]                     \n",
            "__________________________________________________________________________________________________\n",
            "leaky_re_lu_30 (LeakyReLU)      (None, 4, 4, 256)    0           norm_8[0][0]                     \n",
            "__________________________________________________________________________________________________\n",
            "max_pooling2d_9 (MaxPooling2D)  (None, 2, 2, 256)    0           leaky_re_lu_30[0][0]             \n",
            "__________________________________________________________________________________________________\n",
            "conv_9 (Conv2D)                 (None, 2, 2, 512)    1179648     max_pooling2d_9[0][0]            \n",
            "__________________________________________________________________________________________________\n",
            "norm_9 (BatchNormalization)     (None, 2, 2, 512)    2048        conv_9[0][0]                     \n",
            "__________________________________________________________________________________________________\n",
            "leaky_re_lu_31 (LeakyReLU)      (None, 2, 2, 512)    0           norm_9[0][0]                     \n",
            "__________________________________________________________________________________________________\n",
            "conv_10 (Conv2D)                (None, 2, 2, 256)    131072      leaky_re_lu_31[0][0]             \n",
            "__________________________________________________________________________________________________\n",
            "norm_10 (BatchNormalization)    (None, 2, 2, 256)    1024        conv_10[0][0]                    \n",
            "__________________________________________________________________________________________________\n",
            "leaky_re_lu_32 (LeakyReLU)      (None, 2, 2, 256)    0           norm_10[0][0]                    \n",
            "__________________________________________________________________________________________________\n",
            "conv_11 (Conv2D)                (None, 2, 2, 512)    1179648     leaky_re_lu_32[0][0]             \n",
            "__________________________________________________________________________________________________\n",
            "norm_11 (BatchNormalization)    (None, 2, 2, 512)    2048        conv_11[0][0]                    \n",
            "__________________________________________________________________________________________________\n",
            "leaky_re_lu_33 (LeakyReLU)      (None, 2, 2, 512)    0           norm_11[0][0]                    \n",
            "__________________________________________________________________________________________________\n",
            "conv_12 (Conv2D)                (None, 2, 2, 256)    131072      leaky_re_lu_33[0][0]             \n",
            "__________________________________________________________________________________________________\n",
            "norm_12 (BatchNormalization)    (None, 2, 2, 256)    1024        conv_12[0][0]                    \n",
            "__________________________________________________________________________________________________\n",
            "leaky_re_lu_34 (LeakyReLU)      (None, 2, 2, 256)    0           norm_12[0][0]                    \n",
            "__________________________________________________________________________________________________\n",
            "conv_13 (Conv2D)                (None, 2, 2, 512)    1179648     leaky_re_lu_34[0][0]             \n",
            "__________________________________________________________________________________________________\n",
            "norm_13 (BatchNormalization)    (None, 2, 2, 512)    2048        conv_13[0][0]                    \n",
            "__________________________________________________________________________________________________\n",
            "leaky_re_lu_35 (LeakyReLU)      (None, 2, 2, 512)    0           norm_13[0][0]                    \n",
            "__________________________________________________________________________________________________\n",
            "max_pooling2d_10 (MaxPooling2D) (None, 1, 1, 512)    0           leaky_re_lu_35[0][0]             \n",
            "__________________________________________________________________________________________________\n",
            "conv_14 (Conv2D)                (None, 1, 1, 1024)   4718592     max_pooling2d_10[0][0]           \n",
            "__________________________________________________________________________________________________\n",
            "norm_14 (BatchNormalization)    (None, 1, 1, 1024)   4096        conv_14[0][0]                    \n",
            "__________________________________________________________________________________________________\n",
            "leaky_re_lu_36 (LeakyReLU)      (None, 1, 1, 1024)   0           norm_14[0][0]                    \n",
            "__________________________________________________________________________________________________\n",
            "conv_15 (Conv2D)                (None, 1, 1, 512)    524288      leaky_re_lu_36[0][0]             \n",
            "__________________________________________________________________________________________________\n",
            "norm_15 (BatchNormalization)    (None, 1, 1, 512)    2048        conv_15[0][0]                    \n",
            "__________________________________________________________________________________________________\n",
            "leaky_re_lu_37 (LeakyReLU)      (None, 1, 1, 512)    0           norm_15[0][0]                    \n",
            "__________________________________________________________________________________________________\n",
            "conv_16 (Conv2D)                (None, 1, 1, 1024)   4718592     leaky_re_lu_37[0][0]             \n",
            "__________________________________________________________________________________________________\n",
            "norm_16 (BatchNormalization)    (None, 1, 1, 1024)   4096        conv_16[0][0]                    \n",
            "__________________________________________________________________________________________________\n",
            "leaky_re_lu_38 (LeakyReLU)      (None, 1, 1, 1024)   0           norm_16[0][0]                    \n",
            "__________________________________________________________________________________________________\n",
            "conv_17 (Conv2D)                (None, 1, 1, 512)    524288      leaky_re_lu_38[0][0]             \n",
            "__________________________________________________________________________________________________\n",
            "norm_17 (BatchNormalization)    (None, 1, 1, 512)    2048        conv_17[0][0]                    \n",
            "__________________________________________________________________________________________________\n",
            "leaky_re_lu_39 (LeakyReLU)      (None, 1, 1, 512)    0           norm_17[0][0]                    \n",
            "__________________________________________________________________________________________________\n",
            "conv_18 (Conv2D)                (None, 1, 1, 1024)   4718592     leaky_re_lu_39[0][0]             \n",
            "__________________________________________________________________________________________________\n",
            "norm_18 (BatchNormalization)    (None, 1, 1, 1024)   4096        conv_18[0][0]                    \n",
            "__________________________________________________________________________________________________\n",
            "leaky_re_lu_40 (LeakyReLU)      (None, 1, 1, 1024)   0           norm_18[0][0]                    \n",
            "__________________________________________________________________________________________________\n",
            "conv_19 (Conv2D)                (None, 1, 1, 1024)   9437184     leaky_re_lu_40[0][0]             \n",
            "__________________________________________________________________________________________________\n",
            "norm_19 (BatchNormalization)    (None, 1, 1, 1024)   4096        conv_19[0][0]                    \n",
            "__________________________________________________________________________________________________\n",
            "conv_21 (Conv2D)                (None, 2, 2, 64)     16384       leaky_re_lu_34[0][0]             \n",
            "__________________________________________________________________________________________________\n",
            "leaky_re_lu_41 (LeakyReLU)      (None, 1, 1, 1024)   0           norm_19[0][0]                    \n",
            "__________________________________________________________________________________________________\n",
            "norm_21 (BatchNormalization)    (None, 2, 2, 64)     256         conv_21[0][0]                    \n",
            "__________________________________________________________________________________________________\n",
            "conv_20 (Conv2D)                (None, 1, 1, 1024)   9437184     leaky_re_lu_41[0][0]             \n",
            "__________________________________________________________________________________________________\n",
            "leaky_re_lu_43 (LeakyReLU)      (None, 2, 2, 64)     0           norm_21[0][0]                    \n",
            "__________________________________________________________________________________________________\n",
            "norm_20 (BatchNormalization)    (None, 1, 1, 1024)   4096        conv_20[0][0]                    \n",
            "__________________________________________________________________________________________________\n",
            "lambda_2 (Lambda)               (None, 1, 1, 256)    0           leaky_re_lu_43[0][0]             \n",
            "__________________________________________________________________________________________________\n",
            "leaky_re_lu_42 (LeakyReLU)      (None, 1, 1, 1024)   0           norm_20[0][0]                    \n",
            "__________________________________________________________________________________________________\n",
            "concatenate_2 (Concatenate)     (None, 1, 1, 1280)   0           lambda_2[0][0]                   \n",
            "                                                                 leaky_re_lu_42[0][0]             \n",
            "__________________________________________________________________________________________________\n",
            "conv_22 (Conv2D)                (None, 1, 1, 1024)   11796480    concatenate_2[0][0]              \n",
            "__________________________________________________________________________________________________\n",
            "norm_22 (BatchNormalization)    (None, 1, 1, 1024)   4096        conv_22[0][0]                    \n",
            "__________________________________________________________________________________________________\n",
            "leaky_re_lu_44 (LeakyReLU)      (None, 1, 1, 1024)   0           norm_22[0][0]                    \n",
            "__________________________________________________________________________________________________\n",
            "flatten_2 (Flatten)             (None, 1024)         0           leaky_re_lu_44[0][0]             \n",
            "__________________________________________________________________________________________________\n",
            "dense_2 (Dense)                 (None, 10)           10250       flatten_2[0][0]                  \n",
            "==================================================================================================\n",
            "Total params: 50,541,802\n",
            "Trainable params: 50,521,130\n",
            "Non-trainable params: 20,672\n",
            "__________________________________________________________________________________________________\n"
          ],
          "name": "stdout"
        }
      ]
    },
    {
      "metadata": {
        "id": "apCwOjvZ4Kts",
        "colab_type": "code",
        "colab": {}
      },
      "cell_type": "code",
      "source": [
        "# determine Loss function and Optimizer\n",
        "model.compile(loss='categorical_crossentropy',\n",
        "              optimizer=Adam(),\n",
        "              metrics=['accuracy'])"
      ],
      "execution_count": 0,
      "outputs": []
    },
    {
      "metadata": {
        "id": "tLaFy2AO4TLl",
        "colab_type": "code",
        "outputId": "2d452fee-4e86-4dde-9d74-4474c58f3e05",
        "colab": {
          "base_uri": "https://localhost:8080/",
          "height": 1751
        }
      },
      "cell_type": "code",
      "source": [
        "model.fit(x_train, y_train,\n",
        "                    batch_size=batch_size,\n",
        "                    epochs=epochs,\n",
        "                    verbose=1,\n",
        "                    validation_data=(x_test, y_test))"
      ],
      "execution_count": 0,
      "outputs": [
        {
          "output_type": "stream",
          "text": [
            "Train on 50000 samples, validate on 10000 samples\n",
            "Epoch 1/50\n",
            "50000/50000 [==============================] - 101s 2ms/step - loss: 1.4587 - acc: 0.4733 - val_loss: 1.9749 - val_acc: 0.3938\n",
            "Epoch 2/50\n",
            "50000/50000 [==============================] - 92s 2ms/step - loss: 0.9871 - acc: 0.6515 - val_loss: 1.0789 - val_acc: 0.6441\n",
            "Epoch 3/50\n",
            "50000/50000 [==============================] - 92s 2ms/step - loss: 0.7754 - acc: 0.7288 - val_loss: 1.0301 - val_acc: 0.6529\n",
            "Epoch 4/50\n",
            "50000/50000 [==============================] - 92s 2ms/step - loss: 0.6771 - acc: 0.7650 - val_loss: 1.3877 - val_acc: 0.5819\n",
            "Epoch 5/50\n",
            "50000/50000 [==============================] - 92s 2ms/step - loss: 0.5639 - acc: 0.8063 - val_loss: 1.1296 - val_acc: 0.6589\n",
            "Epoch 6/50\n",
            "50000/50000 [==============================] - 92s 2ms/step - loss: 0.4820 - acc: 0.8326 - val_loss: 0.8208 - val_acc: 0.7371\n",
            "Epoch 7/50\n",
            "50000/50000 [==============================] - 92s 2ms/step - loss: 0.4124 - acc: 0.8573 - val_loss: 0.9603 - val_acc: 0.7046\n",
            "Epoch 8/50\n",
            "50000/50000 [==============================] - 92s 2ms/step - loss: 0.3614 - acc: 0.8749 - val_loss: 0.7954 - val_acc: 0.7607\n",
            "Epoch 9/50\n",
            "50000/50000 [==============================] - 92s 2ms/step - loss: 0.3051 - acc: 0.8954 - val_loss: 0.9424 - val_acc: 0.7335\n",
            "Epoch 10/50\n",
            "50000/50000 [==============================] - 92s 2ms/step - loss: 0.2637 - acc: 0.9102 - val_loss: 1.1222 - val_acc: 0.6979\n",
            "Epoch 11/50\n",
            "50000/50000 [==============================] - 92s 2ms/step - loss: 0.2297 - acc: 0.9202 - val_loss: 1.3448 - val_acc: 0.6454\n",
            "Epoch 12/50\n",
            "50000/50000 [==============================] - 92s 2ms/step - loss: 0.1930 - acc: 0.9334 - val_loss: 1.2075 - val_acc: 0.7035\n",
            "Epoch 13/50\n",
            "50000/50000 [==============================] - 92s 2ms/step - loss: 0.1610 - acc: 0.9440 - val_loss: 1.4653 - val_acc: 0.6883\n",
            "Epoch 14/50\n",
            "50000/50000 [==============================] - 92s 2ms/step - loss: 0.1454 - acc: 0.9483 - val_loss: 0.9768 - val_acc: 0.7628\n",
            "Epoch 15/50\n",
            "50000/50000 [==============================] - 92s 2ms/step - loss: 0.1296 - acc: 0.9555 - val_loss: 0.9919 - val_acc: 0.7634\n",
            "Epoch 16/50\n",
            "50000/50000 [==============================] - 92s 2ms/step - loss: 0.1152 - acc: 0.9603 - val_loss: 1.1123 - val_acc: 0.7487\n",
            "Epoch 17/50\n",
            "50000/50000 [==============================] - 92s 2ms/step - loss: 0.1029 - acc: 0.9644 - val_loss: 1.0106 - val_acc: 0.7712\n",
            "Epoch 18/50\n",
            "50000/50000 [==============================] - 92s 2ms/step - loss: 0.0988 - acc: 0.9658 - val_loss: 1.0124 - val_acc: 0.7560\n",
            "Epoch 19/50\n",
            "50000/50000 [==============================] - 92s 2ms/step - loss: 0.1019 - acc: 0.9654 - val_loss: 1.0548 - val_acc: 0.7653\n",
            "Epoch 20/50\n",
            "50000/50000 [==============================] - 92s 2ms/step - loss: 0.0893 - acc: 0.9700 - val_loss: 1.1676 - val_acc: 0.7529\n",
            "Epoch 21/50\n",
            "50000/50000 [==============================] - 92s 2ms/step - loss: 0.0738 - acc: 0.9748 - val_loss: 1.0061 - val_acc: 0.7776\n",
            "Epoch 22/50\n",
            "50000/50000 [==============================] - 92s 2ms/step - loss: 0.0792 - acc: 0.9721 - val_loss: 1.1044 - val_acc: 0.7639\n",
            "Epoch 23/50\n",
            "50000/50000 [==============================] - 92s 2ms/step - loss: 0.0912 - acc: 0.9689 - val_loss: 1.0166 - val_acc: 0.7770\n",
            "Epoch 24/50\n",
            "50000/50000 [==============================] - 92s 2ms/step - loss: 0.0682 - acc: 0.9768 - val_loss: 1.3562 - val_acc: 0.7249\n",
            "Epoch 25/50\n",
            "50000/50000 [==============================] - 92s 2ms/step - loss: 0.0583 - acc: 0.9803 - val_loss: 1.1969 - val_acc: 0.7625\n",
            "Epoch 26/50\n",
            "50000/50000 [==============================] - 92s 2ms/step - loss: 0.0584 - acc: 0.9801 - val_loss: 1.1182 - val_acc: 0.7780\n",
            "Epoch 27/50\n",
            "50000/50000 [==============================] - 92s 2ms/step - loss: 0.0553 - acc: 0.9815 - val_loss: 1.1162 - val_acc: 0.7731\n",
            "Epoch 28/50\n",
            "50000/50000 [==============================] - 92s 2ms/step - loss: 0.0581 - acc: 0.9796 - val_loss: 1.2022 - val_acc: 0.7623\n",
            "Epoch 29/50\n",
            "50000/50000 [==============================] - 92s 2ms/step - loss: 0.0527 - acc: 0.9827 - val_loss: 1.2514 - val_acc: 0.7471\n",
            "Epoch 30/50\n",
            "50000/50000 [==============================] - 92s 2ms/step - loss: 0.0491 - acc: 0.9832 - val_loss: 1.1025 - val_acc: 0.7818\n",
            "Epoch 31/50\n",
            "50000/50000 [==============================] - 92s 2ms/step - loss: 0.0536 - acc: 0.9818 - val_loss: 1.1434 - val_acc: 0.7625\n",
            "Epoch 32/50\n",
            "50000/50000 [==============================] - 92s 2ms/step - loss: 0.0518 - acc: 0.9824 - val_loss: 1.0659 - val_acc: 0.7789\n",
            "Epoch 33/50\n",
            "50000/50000 [==============================] - 92s 2ms/step - loss: 0.0466 - acc: 0.9846 - val_loss: 1.0434 - val_acc: 0.7880\n",
            "Epoch 34/50\n",
            "50000/50000 [==============================] - 92s 2ms/step - loss: 0.0483 - acc: 0.9829 - val_loss: 0.9846 - val_acc: 0.7990\n",
            "Epoch 35/50\n",
            "50000/50000 [==============================] - 92s 2ms/step - loss: 0.0430 - acc: 0.9852 - val_loss: 1.0875 - val_acc: 0.7893\n",
            "Epoch 36/50\n",
            "50000/50000 [==============================] - 92s 2ms/step - loss: 0.0424 - acc: 0.9854 - val_loss: 1.0875 - val_acc: 0.7796\n",
            "Epoch 37/50\n",
            "50000/50000 [==============================] - 92s 2ms/step - loss: 0.0401 - acc: 0.9867 - val_loss: 1.0628 - val_acc: 0.7919\n",
            "Epoch 38/50\n",
            "50000/50000 [==============================] - 92s 2ms/step - loss: 0.0393 - acc: 0.9867 - val_loss: 1.1112 - val_acc: 0.7778\n",
            "Epoch 39/50\n",
            "50000/50000 [==============================] - 92s 2ms/step - loss: 0.0378 - acc: 0.9875 - val_loss: 1.1297 - val_acc: 0.7759\n",
            "Epoch 40/50\n",
            "50000/50000 [==============================] - 92s 2ms/step - loss: 0.0359 - acc: 0.9871 - val_loss: 1.1477 - val_acc: 0.7881\n",
            "Epoch 41/50\n",
            "50000/50000 [==============================] - 92s 2ms/step - loss: 0.0379 - acc: 0.9871 - val_loss: 1.0561 - val_acc: 0.7873\n",
            "Epoch 42/50\n",
            "50000/50000 [==============================] - 92s 2ms/step - loss: 0.0632 - acc: 0.9797 - val_loss: 2.1466 - val_acc: 0.6961\n",
            "Epoch 43/50\n",
            "50000/50000 [==============================] - 92s 2ms/step - loss: 0.0452 - acc: 0.9852 - val_loss: 1.0183 - val_acc: 0.7924\n",
            "Epoch 44/50\n",
            "50000/50000 [==============================] - 92s 2ms/step - loss: 0.0251 - acc: 0.9915 - val_loss: 1.1553 - val_acc: 0.7929\n",
            "Epoch 45/50\n",
            "50000/50000 [==============================] - 92s 2ms/step - loss: 0.0285 - acc: 0.9906 - val_loss: 1.1086 - val_acc: 0.7951\n",
            "Epoch 46/50\n",
            "50000/50000 [==============================] - 92s 2ms/step - loss: 0.0301 - acc: 0.9904 - val_loss: 1.1603 - val_acc: 0.7803\n",
            "Epoch 47/50\n",
            "50000/50000 [==============================] - 92s 2ms/step - loss: 0.0316 - acc: 0.9893 - val_loss: 1.2435 - val_acc: 0.7804\n",
            "Epoch 48/50\n",
            "50000/50000 [==============================] - 92s 2ms/step - loss: 0.0292 - acc: 0.9895 - val_loss: 1.1484 - val_acc: 0.7881\n",
            "Epoch 49/50\n",
            "50000/50000 [==============================] - 92s 2ms/step - loss: 0.0314 - acc: 0.9896 - val_loss: 1.1300 - val_acc: 0.7842\n",
            "Epoch 50/50\n",
            "50000/50000 [==============================] - 92s 2ms/step - loss: 0.0272 - acc: 0.9910 - val_loss: 1.3085 - val_acc: 0.7683\n"
          ],
          "name": "stdout"
        },
        {
          "output_type": "execute_result",
          "data": {
            "text/plain": [
              "<keras.callbacks.History at 0x7f4366d7b908>"
            ]
          },
          "metadata": {
            "tags": []
          },
          "execution_count": 13
        }
      ]
    },
    {
      "metadata": {
        "id": "pTfZIGrf4Uyd",
        "colab_type": "code",
        "outputId": "c03ce531-8764-4d0d-c64c-8d41b6af49e2",
        "colab": {
          "base_uri": "https://localhost:8080/",
          "height": 85
        }
      },
      "cell_type": "code",
      "source": [
        "# Test the model\n",
        "score = model.evaluate(x_test, y_test, verbose=1)\n",
        "print('Test loss:', score[0])\n",
        "print('Test accuracy:', score[1])\n",
        "# Save the trained weights in to .h5 format\n",
        "model.save_weights(\"Yolo_Basic_model2.h5\")\n",
        "print(\"Saved the model to disk\")"
      ],
      "execution_count": 0,
      "outputs": [
        {
          "output_type": "stream",
          "text": [
            "10000/10000 [==============================] - 9s 923us/step\n",
            "Test loss: 1.3084865423202514\n",
            "Test accuracy: 0.7683\n",
            "Saved the model to disk\n"
          ],
          "name": "stdout"
        }
      ]
    },
    {
      "metadata": {
        "id": "qCf_tiWZ2iBI",
        "colab_type": "code",
        "outputId": "fd4e399e-1999-4589-e71f-2682fa984207",
        "colab": {
          "base_uri": "https://localhost:8080/",
          "height": 34
        }
      },
      "cell_type": "code",
      "source": [
        "!pwd\n"
      ],
      "execution_count": 0,
      "outputs": [
        {
          "output_type": "stream",
          "text": [
            "/content\n"
          ],
          "name": "stdout"
        }
      ]
    },
    {
      "metadata": {
        "id": "Jiyb9TlVGsZs",
        "colab_type": "code",
        "outputId": "4d138e33-6606-4c5f-af89-beb3b382aee1",
        "colab": {
          "base_uri": "https://localhost:8080/",
          "height": 459
        }
      },
      "cell_type": "code",
      "source": [
        "model.save_weights(\"Yolo_Basic_model2.h5\")\n",
        "print(\"Saved the model to disk\")\n",
        "from google.colab import files\n",
        "\n",
        "files.download('/content/Yolo_Basic_model2.h5')"
      ],
      "execution_count": 0,
      "outputs": [
        {
          "output_type": "stream",
          "text": [
            "Saved the model to disk\n"
          ],
          "name": "stdout"
        },
        {
          "output_type": "stream",
          "text": [
            "----------------------------------------\n",
            "Exception happened during processing of request from ('::ffff:127.0.0.1', 33114, 0, 0)\n",
            "Traceback (most recent call last):\n",
            "  File \"/usr/lib/python3.6/socketserver.py\", line 317, in _handle_request_noblock\n",
            "    self.process_request(request, client_address)\n",
            "  File \"/usr/lib/python3.6/socketserver.py\", line 348, in process_request\n",
            "    self.finish_request(request, client_address)\n",
            "  File \"/usr/lib/python3.6/socketserver.py\", line 361, in finish_request\n",
            "    self.RequestHandlerClass(request, client_address, self)\n",
            "  File \"/usr/lib/python3.6/socketserver.py\", line 721, in __init__\n",
            "    self.handle()\n",
            "  File \"/usr/lib/python3.6/http/server.py\", line 418, in handle\n",
            "    self.handle_one_request()\n",
            "  File \"/usr/lib/python3.6/http/server.py\", line 406, in handle_one_request\n",
            "    method()\n",
            "  File \"/usr/lib/python3.6/http/server.py\", line 639, in do_GET\n",
            "    self.copyfile(f, self.wfile)\n",
            "  File \"/usr/lib/python3.6/http/server.py\", line 800, in copyfile\n",
            "    shutil.copyfileobj(source, outputfile)\n",
            "  File \"/usr/lib/python3.6/shutil.py\", line 82, in copyfileobj\n",
            "    fdst.write(buf)\n",
            "  File \"/usr/lib/python3.6/socketserver.py\", line 800, in write\n",
            "    self._sock.sendall(b)\n",
            "ConnectionResetError: [Errno 104] Connection reset by peer\n",
            "----------------------------------------\n"
          ],
          "name": "stderr"
        }
      ]
    },
    {
      "metadata": {
        "id": "g9A3pesKbUJ8",
        "colab_type": "code",
        "colab": {}
      },
      "cell_type": "code",
      "source": [
        ""
      ],
      "execution_count": 0,
      "outputs": []
    }
  ]
}