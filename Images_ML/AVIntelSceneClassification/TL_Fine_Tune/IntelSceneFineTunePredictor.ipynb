{
 "cells": [
  {
   "cell_type": "markdown",
   "metadata": {},
   "source": [
    "# Intel Scene Predictor using Fine Tuned Network"
   ]
  },
  {
   "cell_type": "markdown",
   "metadata": {},
   "source": [
    "## Load the model"
   ]
  },
  {
   "cell_type": "code",
   "execution_count": 1,
   "metadata": {},
   "outputs": [
    {
     "name": "stderr",
     "output_type": "stream",
     "text": [
      "Using Theano backend.\n"
     ]
    },
    {
     "name": "stdout",
     "output_type": "stream",
     "text": [
      "<keras.engine.training.Model object at 0x11437a6a0>\n"
     ]
    }
   ],
   "source": [
    "from keras.models import load_model\n",
    "\n",
    "## Load the trained new head model\n",
    "head_model_file = './model/train_full.hdf5'\n",
    "model = load_model(head_model_file)\n",
    "\n",
    "print(model)"
   ]
  },
  {
   "cell_type": "markdown",
   "metadata": {},
   "source": [
    "## Load Test dataset files"
   ]
  },
  {
   "cell_type": "code",
   "execution_count": 2,
   "metadata": {},
   "outputs": [],
   "source": [
    "from my_utils.datasets import DataSetLoader\n",
    "import pandas as pd"
   ]
  },
  {
   "cell_type": "code",
   "execution_count": 3,
   "metadata": {},
   "outputs": [],
   "source": [
    "DataLoader = DataSetLoader()\n",
    "test_files = DataLoader.get_testset_file_names()"
   ]
  },
  {
   "cell_type": "code",
   "execution_count": 4,
   "metadata": {},
   "outputs": [
    {
     "data": {
      "text/plain": [
       "7301"
      ]
     },
     "execution_count": 4,
     "metadata": {},
     "output_type": "execute_result"
    }
   ],
   "source": [
    "len(test_files)"
   ]
  },
  {
   "cell_type": "code",
   "execution_count": 5,
   "metadata": {},
   "outputs": [],
   "source": [
    "testX = DataLoader.load_images(test_files)"
   ]
  },
  {
   "cell_type": "code",
   "execution_count": 7,
   "metadata": {},
   "outputs": [
    {
     "data": {
      "text/plain": [
       "array([[[[ 41,  41,  41],\n",
       "         [ 53,  53,  53],\n",
       "         [ 65,  65,  65],\n",
       "         ...,\n",
       "         [ 48,  48,  48],\n",
       "         [ 28,  28,  28],\n",
       "         [  7,   7,   7]],\n",
       "\n",
       "        [[ 46,  46,  46],\n",
       "         [ 54,  54,  54],\n",
       "         [ 62,  62,  62],\n",
       "         ...,\n",
       "         [ 38,  38,  38],\n",
       "         [ 22,  22,  22],\n",
       "         [  5,   5,   5]],\n",
       "\n",
       "        [[ 53,  53,  53],\n",
       "         [ 56,  56,  56],\n",
       "         [ 60,  60,  60],\n",
       "         ...,\n",
       "         [ 28,  28,  28],\n",
       "         [ 16,  16,  16],\n",
       "         [  3,   3,   3]],\n",
       "\n",
       "        ...,\n",
       "\n",
       "        [[ 36,  36,  36],\n",
       "         [ 39,  39,  39],\n",
       "         [ 42,  42,  42],\n",
       "         ...,\n",
       "         [ 25,  25,  25],\n",
       "         [ 23,  23,  23],\n",
       "         [ 21,  21,  21]],\n",
       "\n",
       "        [[ 43,  43,  43],\n",
       "         [ 40,  40,  40],\n",
       "         [ 37,  37,  37],\n",
       "         ...,\n",
       "         [ 29,  29,  29],\n",
       "         [ 28,  28,  28],\n",
       "         [ 27,  27,  27]],\n",
       "\n",
       "        [[ 50,  50,  50],\n",
       "         [ 40,  40,  40],\n",
       "         [ 31,  31,  31],\n",
       "         ...,\n",
       "         [ 33,  33,  33],\n",
       "         [ 33,  33,  33],\n",
       "         [ 34,  34,  34]]],\n",
       "\n",
       "\n",
       "       [[[171, 136, 140],\n",
       "         [171, 136, 140],\n",
       "         [171, 136, 140],\n",
       "         ...,\n",
       "         [182, 147, 133],\n",
       "         [183, 148, 134],\n",
       "         [184, 149, 136]],\n",
       "\n",
       "        [[171, 137, 139],\n",
       "         [171, 137, 139],\n",
       "         [171, 137, 139],\n",
       "         ...,\n",
       "         [181, 146, 134],\n",
       "         [182, 147, 136],\n",
       "         [184, 149, 137]],\n",
       "\n",
       "        [[172, 138, 139],\n",
       "         [172, 138, 139],\n",
       "         [172, 138, 139],\n",
       "         ...,\n",
       "         [181, 146, 136],\n",
       "         [182, 147, 137],\n",
       "         [184, 149, 139]],\n",
       "\n",
       "        ...,\n",
       "\n",
       "        [[ 20,  24,  29],\n",
       "         [ 21,  25,  30],\n",
       "         [ 22,  26,  31],\n",
       "         ...,\n",
       "         [ 39,  34,  31],\n",
       "         [ 39,  34,  31],\n",
       "         [ 39,  34,  31]],\n",
       "\n",
       "        [[ 20,  24,  29],\n",
       "         [ 21,  25,  30],\n",
       "         [ 21,  25,  30],\n",
       "         ...,\n",
       "         [ 45,  39,  35],\n",
       "         [ 46,  40,  36],\n",
       "         [ 46,  41,  37]],\n",
       "\n",
       "        [[ 20,  24,  29],\n",
       "         [ 21,  25,  30],\n",
       "         [ 21,  25,  30],\n",
       "         ...,\n",
       "         [ 51,  45,  40],\n",
       "         [ 52,  46,  41],\n",
       "         [ 54,  48,  43]]],\n",
       "\n",
       "\n",
       "       [[[203, 178, 138],\n",
       "         [202, 177, 137],\n",
       "         [201, 176, 136],\n",
       "         ...,\n",
       "         [179, 175, 224],\n",
       "         [179, 175, 223],\n",
       "         [178, 175, 221]],\n",
       "\n",
       "        [[201, 175, 137],\n",
       "         [201, 175, 137],\n",
       "         [200, 175, 136],\n",
       "         ...,\n",
       "         [175, 179, 228],\n",
       "         [174, 178, 227],\n",
       "         [174, 178, 226]],\n",
       "\n",
       "        [[199, 173, 136],\n",
       "         [199, 173, 136],\n",
       "         [200, 174, 137],\n",
       "         ...,\n",
       "         [171, 182, 232],\n",
       "         [170, 181, 231],\n",
       "         [170, 181, 231]],\n",
       "\n",
       "        ...,\n",
       "\n",
       "        [[ 23,  23,  29],\n",
       "         [ 19,  19,  25],\n",
       "         [ 16,  16,  22],\n",
       "         ...,\n",
       "         [  1,  19,  24],\n",
       "         [  4,  28,  33],\n",
       "         [  7,  37,  44]],\n",
       "\n",
       "        [[ 21,  19,  33],\n",
       "         [ 20,  20,  32],\n",
       "         [ 19,  20,  32],\n",
       "         ...,\n",
       "         [ 25,  33,  33],\n",
       "         [ 23,  34,  33],\n",
       "         [ 21,  34,  33]],\n",
       "\n",
       "        [[ 19,  16,  38],\n",
       "         [ 21,  20,  40],\n",
       "         [ 22,  24,  42],\n",
       "         ...,\n",
       "         [ 52,  49,  44],\n",
       "         [ 44,  41,  34],\n",
       "         [ 35,  33,  23]]],\n",
       "\n",
       "\n",
       "       [[[ 11,  11,  11],\n",
       "         [ 11,  11,  11],\n",
       "         [ 11,  11,  11],\n",
       "         ...,\n",
       "         [ 14,  14,  14],\n",
       "         [ 15,  15,  15],\n",
       "         [ 16,  16,  16]],\n",
       "\n",
       "        [[ 10,  10,  10],\n",
       "         [ 11,  11,  11],\n",
       "         [ 11,  11,  11],\n",
       "         ...,\n",
       "         [ 18,  18,  18],\n",
       "         [ 19,  19,  19],\n",
       "         [ 20,  20,  20]],\n",
       "\n",
       "        [[ 10,  10,  10],\n",
       "         [ 10,  10,  10],\n",
       "         [ 11,  11,  11],\n",
       "         ...,\n",
       "         [ 23,  23,  23],\n",
       "         [ 24,  24,  24],\n",
       "         [ 25,  25,  25]],\n",
       "\n",
       "        ...,\n",
       "\n",
       "        [[ 57,  57,  57],\n",
       "         [ 43,  43,  43],\n",
       "         [ 31,  31,  31],\n",
       "         ...,\n",
       "         [ 95,  95,  95],\n",
       "         [ 97,  97,  97],\n",
       "         [ 99,  99,  99]],\n",
       "\n",
       "        [[ 41,  41,  41],\n",
       "         [ 35,  35,  35],\n",
       "         [ 31,  31,  31],\n",
       "         ...,\n",
       "         [ 99,  99,  99],\n",
       "         [102, 102, 102],\n",
       "         [104, 104, 104]],\n",
       "\n",
       "        [[ 24,  24,  24],\n",
       "         [ 28,  28,  28],\n",
       "         [ 32,  32,  32],\n",
       "         ...,\n",
       "         [103, 103, 103],\n",
       "         [106, 106, 106],\n",
       "         [109, 109, 109]]],\n",
       "\n",
       "\n",
       "       [[[179, 200, 215],\n",
       "         [182, 202, 217],\n",
       "         [184, 203, 218],\n",
       "         ...,\n",
       "         [157, 183, 200],\n",
       "         [157, 182, 200],\n",
       "         [157, 181, 199]],\n",
       "\n",
       "        [[180, 201, 216],\n",
       "         [180, 201, 216],\n",
       "         [180, 200, 215],\n",
       "         ...,\n",
       "         [155, 181, 198],\n",
       "         [156, 182, 199],\n",
       "         [157, 182, 199]],\n",
       "\n",
       "        [[181, 202, 217],\n",
       "         [179, 200, 215],\n",
       "         [177, 198, 213],\n",
       "         ...,\n",
       "         [154, 180, 197],\n",
       "         [155, 181, 198],\n",
       "         [157, 183, 200]],\n",
       "\n",
       "        ...,\n",
       "\n",
       "        [[161, 175, 203],\n",
       "         [138, 165, 190],\n",
       "         [116, 155, 177],\n",
       "         ...,\n",
       "         [153, 181, 198],\n",
       "         [149, 177, 194],\n",
       "         [146, 174, 191]],\n",
       "\n",
       "        [[146, 168, 194],\n",
       "         [125, 157, 180],\n",
       "         [103, 145, 167],\n",
       "         ...,\n",
       "         [154, 182, 199],\n",
       "         [151, 179, 196],\n",
       "         [147, 175, 192]],\n",
       "\n",
       "        [[131, 161, 186],\n",
       "         [111, 148, 171],\n",
       "         [ 91, 136, 157],\n",
       "         ...,\n",
       "         [156, 184, 201],\n",
       "         [153, 181, 198],\n",
       "         [149, 177, 194]]]], dtype=uint8)"
      ]
     },
     "execution_count": 7,
     "metadata": {},
     "output_type": "execute_result"
    }
   ],
   "source": [
    "testX[0:5]"
   ]
  },
  {
   "cell_type": "markdown",
   "metadata": {},
   "source": [
    "## Predict"
   ]
  },
  {
   "cell_type": "code",
   "execution_count": 6,
   "metadata": {},
   "outputs": [],
   "source": [
    "preds = model.predict(testX)"
   ]
  },
  {
   "cell_type": "code",
   "execution_count": 8,
   "metadata": {},
   "outputs": [
    {
     "data": {
      "text/plain": [
       "7301"
      ]
     },
     "execution_count": 8,
     "metadata": {},
     "output_type": "execute_result"
    }
   ],
   "source": [
    "len(preds)"
   ]
  },
  {
   "cell_type": "code",
   "execution_count": 25,
   "metadata": {},
   "outputs": [
    {
     "data": {
      "text/plain": [
       "array([[4.7217435e-07, 8.5800515e-08, 6.7817210e-09, 3.4727210e-09,\n",
       "        3.8630965e-10, 9.9999940e-01],\n",
       "       [9.9889684e-01, 1.1829542e-08, 3.9972042e-07, 1.9360986e-07,\n",
       "        3.5535686e-06, 1.0990197e-03]], dtype=float32)"
      ]
     },
     "execution_count": 25,
     "metadata": {},
     "output_type": "execute_result"
    }
   ],
   "source": [
    "preds[0:2]"
   ]
  },
  {
   "cell_type": "markdown",
   "metadata": {},
   "source": [
    "## Generate the Submission files"
   ]
  },
  {
   "cell_type": "code",
   "execution_count": 9,
   "metadata": {},
   "outputs": [],
   "source": [
    "import os"
   ]
  },
  {
   "cell_type": "code",
   "execution_count": 31,
   "metadata": {},
   "outputs": [
    {
     "data": {
      "text/plain": [
       "17"
      ]
     },
     "execution_count": 31,
     "metadata": {},
     "output_type": "execute_result"
    }
   ],
   "source": [
    "file = open(\"./submission.csv\", \"w\")\n",
    "\n",
    "file.write(\"image_name,label\\n\")\n"
   ]
  },
  {
   "cell_type": "code",
   "execution_count": 16,
   "metadata": {},
   "outputs": [
    {
     "data": {
      "text/plain": [
       "'dataset/train-scene classification/train/3.jpg'"
      ]
     },
     "execution_count": 16,
     "metadata": {},
     "output_type": "execute_result"
    }
   ],
   "source": [
    "test_files[0]"
   ]
  },
  {
   "cell_type": "code",
   "execution_count": 21,
   "metadata": {},
   "outputs": [
    {
     "data": {
      "text/plain": [
       "'3.jpg'"
      ]
     },
     "execution_count": 21,
     "metadata": {},
     "output_type": "execute_result"
    }
   ],
   "source": [
    "os.path.split(test_files[0])[-1]"
   ]
  },
  {
   "cell_type": "code",
   "execution_count": 30,
   "metadata": {},
   "outputs": [
    {
     "data": {
      "text/plain": [
       "5"
      ]
     },
     "execution_count": 30,
     "metadata": {},
     "output_type": "execute_result"
    }
   ],
   "source": [
    "np.argmax(preds[0], axis=0)"
   ]
  },
  {
   "cell_type": "code",
   "execution_count": 27,
   "metadata": {},
   "outputs": [],
   "source": [
    "import numpy as np"
   ]
  },
  {
   "cell_type": "code",
   "execution_count": 32,
   "metadata": {},
   "outputs": [],
   "source": [
    "for idx in range(0, len(test_files)):\n",
    "    img_name = os.path.split(test_files[idx])[-1]\n",
    "    file.write('%s,' % img_name)\n",
    "    file.write('%d\\n' % np.argmax(preds[idx], axis=0))"
   ]
  },
  {
   "cell_type": "code",
   "execution_count": 33,
   "metadata": {},
   "outputs": [],
   "source": [
    "file.close()"
   ]
  },
  {
   "cell_type": "code",
   "execution_count": null,
   "metadata": {},
   "outputs": [],
   "source": []
  }
 ],
 "metadata": {
  "kernelspec": {
   "display_name": "Python 3",
   "language": "python",
   "name": "python3"
  },
  "language_info": {
   "codemirror_mode": {
    "name": "ipython",
    "version": 3
   },
   "file_extension": ".py",
   "mimetype": "text/x-python",
   "name": "python",
   "nbconvert_exporter": "python",
   "pygments_lexer": "ipython3",
   "version": "3.6.4"
  }
 },
 "nbformat": 4,
 "nbformat_minor": 2
}
