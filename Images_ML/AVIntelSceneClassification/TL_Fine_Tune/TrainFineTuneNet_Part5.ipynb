{
 "cells": [
  {
   "cell_type": "markdown",
   "metadata": {},
   "source": [
    "# Intel Scene Classification - Fine Tune Training Part5 (Final)"
   ]
  },
  {
   "cell_type": "markdown",
   "metadata": {},
   "source": [
    "## Load the Part4 Training Model"
   ]
  },
  {
   "cell_type": "code",
   "execution_count": 1,
   "metadata": {},
   "outputs": [
    {
     "name": "stderr",
     "output_type": "stream",
     "text": [
      "Using Theano backend.\n"
     ]
    },
    {
     "name": "stdout",
     "output_type": "stream",
     "text": [
      "<keras.engine.training.Model object at 0x1086906a0>\n"
     ]
    }
   ],
   "source": [
    "from keras.models import load_model\n",
    "\n",
    "## Load the trained new head model\n",
    "head_model_file = './model/train_13000.hdf5'\n",
    "model = load_model(head_model_file)\n",
    "\n",
    "print(model)"
   ]
  },
  {
   "cell_type": "markdown",
   "metadata": {},
   "source": [
    "## Get Training Files"
   ]
  },
  {
   "cell_type": "code",
   "execution_count": 2,
   "metadata": {},
   "outputs": [],
   "source": [
    "############################\n",
    "## Get the training image file names\n",
    "####################\n",
    "from my_utils.datasets import DataSetLoader\n",
    "import pandas as pd\n",
    "\n",
    "\n",
    "DataLoader = DataSetLoader()\n",
    "training_files = DataLoader.get_training_file_names()\n",
    "training_labels = DataLoader.get_training_labels()"
   ]
  },
  {
   "cell_type": "markdown",
   "metadata": {},
   "source": [
    "## Transform the Labels"
   ]
  },
  {
   "cell_type": "code",
   "execution_count": 3,
   "metadata": {},
   "outputs": [],
   "source": [
    "from sklearn.preprocessing import LabelBinarizer"
   ]
  },
  {
   "cell_type": "code",
   "execution_count": 4,
   "metadata": {},
   "outputs": [],
   "source": [
    "label_binary = LabelBinarizer().fit_transform(training_labels)"
   ]
  },
  {
   "cell_type": "code",
   "execution_count": 5,
   "metadata": {},
   "outputs": [
    {
     "data": {
      "text/plain": [
       "array([[1, 0, 0, 0, 0, 0],\n",
       "       [0, 0, 0, 0, 1, 0],\n",
       "       [0, 0, 0, 0, 0, 1],\n",
       "       [1, 0, 0, 0, 0, 0],\n",
       "       [0, 0, 0, 0, 1, 0]])"
      ]
     },
     "execution_count": 5,
     "metadata": {},
     "output_type": "execute_result"
    }
   ],
   "source": [
    "label_binary[0:5]"
   ]
  },
  {
   "cell_type": "markdown",
   "metadata": {},
   "source": [
    "## Split the Train and Validataion Data"
   ]
  },
  {
   "cell_type": "code",
   "execution_count": 6,
   "metadata": {},
   "outputs": [],
   "source": [
    "# load 4000 more images.\n",
    "trainX = DataLoader.load_images(training_files[13000:17034])"
   ]
  },
  {
   "cell_type": "code",
   "execution_count": 7,
   "metadata": {},
   "outputs": [],
   "source": [
    "trainY = label_binary[13000:17034]"
   ]
  },
  {
   "cell_type": "code",
   "execution_count": 8,
   "metadata": {},
   "outputs": [
    {
     "data": {
      "text/plain": [
       "True"
      ]
     },
     "execution_count": 8,
     "metadata": {},
     "output_type": "execute_result"
    }
   ],
   "source": [
    "len(trainX) == len(trainY)"
   ]
  },
  {
   "cell_type": "code",
   "execution_count": 9,
   "metadata": {},
   "outputs": [],
   "source": [
    "valX = DataLoader.load_images(training_files[200:300])"
   ]
  },
  {
   "cell_type": "code",
   "execution_count": 10,
   "metadata": {},
   "outputs": [],
   "source": [
    "valY = label_binary[200:300]"
   ]
  },
  {
   "cell_type": "markdown",
   "metadata": {},
   "source": [
    "## Train part2 of the model"
   ]
  },
  {
   "cell_type": "code",
   "execution_count": 11,
   "metadata": {},
   "outputs": [
    {
     "name": "stdout",
     "output_type": "stream",
     "text": [
      "Train on 4034 samples, validate on 100 samples\n",
      "Epoch 1/5\n",
      "4034/4034 [==============================] - 4058s 1s/step - loss: 0.1811 - acc: 0.9333 - val_loss: 0.1117 - val_acc: 0.9500\n",
      "Epoch 2/5\n",
      "4034/4034 [==============================] - 4046s 1s/step - loss: 0.1508 - acc: 0.9447 - val_loss: 0.1092 - val_acc: 0.9600\n",
      "Epoch 3/5\n",
      "4034/4034 [==============================] - 4089s 1s/step - loss: 0.1154 - acc: 0.9611 - val_loss: 0.1136 - val_acc: 0.9400\n",
      "Epoch 4/5\n",
      "4034/4034 [==============================] - 4045s 1s/step - loss: 0.1086 - acc: 0.9643 - val_loss: 0.1230 - val_acc: 0.9500\n",
      "Epoch 5/5\n",
      "4034/4034 [==============================] - 4050s 1s/step - loss: 0.0859 - acc: 0.9755 - val_loss: 0.1130 - val_acc: 0.9600\n"
     ]
    }
   ],
   "source": [
    "H = model.fit(trainX, trainY, batch_size=25, validation_data=(valX, valY), \n",
    "          epochs=5,  verbose=1)"
   ]
  },
  {
   "cell_type": "code",
   "execution_count": 12,
   "metadata": {},
   "outputs": [],
   "source": [
    "model.save('./model/train_full.hdf5')"
   ]
  },
  {
   "cell_type": "markdown",
   "metadata": {},
   "source": [
    "## Evaluate the Model"
   ]
  },
  {
   "cell_type": "code",
   "execution_count": 13,
   "metadata": {},
   "outputs": [],
   "source": [
    "from sklearn.metrics import classification_report"
   ]
  },
  {
   "cell_type": "code",
   "execution_count": 14,
   "metadata": {},
   "outputs": [
    {
     "name": "stdout",
     "output_type": "stream",
     "text": [
      "              precision    recall  f1-score   support\n",
      "\n",
      "           0       0.93      1.00      0.96        13\n",
      "           1       1.00      1.00      1.00        12\n",
      "           2       0.85      1.00      0.92        17\n",
      "           3       1.00      0.80      0.89        20\n",
      "           4       1.00      1.00      1.00        22\n",
      "           5       1.00      1.00      1.00        16\n",
      "\n",
      "   micro avg       0.96      0.96      0.96       100\n",
      "   macro avg       0.96      0.97      0.96       100\n",
      "weighted avg       0.97      0.96      0.96       100\n",
      "\n"
     ]
    }
   ],
   "source": [
    "preds = model.predict(valX)\n",
    "print(classification_report(valY.argmax(axis=1), preds.argmax(axis=1)))"
   ]
  },
  {
   "cell_type": "code",
   "execution_count": 15,
   "metadata": {},
   "outputs": [],
   "source": [
    "from sklearn.metrics import confusion_matrix"
   ]
  },
  {
   "cell_type": "code",
   "execution_count": 16,
   "metadata": {},
   "outputs": [
    {
     "name": "stdout",
     "output_type": "stream",
     "text": [
      "[[13  0  0  0  0  0]\n",
      " [ 0 12  0  0  0  0]\n",
      " [ 0  0 17  0  0  0]\n",
      " [ 1  0  3 16  0  0]\n",
      " [ 0  0  0  0 22  0]\n",
      " [ 0  0  0  0  0 16]]\n"
     ]
    }
   ],
   "source": [
    "print(confusion_matrix(valY.argmax(axis=1), preds.argmax(axis=1)))"
   ]
  },
  {
   "cell_type": "code",
   "execution_count": null,
   "metadata": {},
   "outputs": [],
   "source": []
  }
 ],
 "metadata": {
  "kernelspec": {
   "display_name": "Python 3",
   "language": "python",
   "name": "python3"
  },
  "language_info": {
   "codemirror_mode": {
    "name": "ipython",
    "version": 3
   },
   "file_extension": ".py",
   "mimetype": "text/x-python",
   "name": "python",
   "nbconvert_exporter": "python",
   "pygments_lexer": "ipython3",
   "version": "3.6.4"
  }
 },
 "nbformat": 4,
 "nbformat_minor": 2
}
