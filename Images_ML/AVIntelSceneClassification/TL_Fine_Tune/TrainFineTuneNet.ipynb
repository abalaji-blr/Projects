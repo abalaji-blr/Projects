{
 "cells": [
  {
   "cell_type": "markdown",
   "metadata": {},
   "source": [
    "# Intel Scene Classification - Train Fine Tune network"
   ]
  },
  {
   "cell_type": "code",
   "execution_count": 1,
   "metadata": {},
   "outputs": [
    {
     "name": "stderr",
     "output_type": "stream",
     "text": [
      "Using Theano backend.\n"
     ]
    },
    {
     "name": "stdout",
     "output_type": "stream",
     "text": [
      "<keras.engine.training.Model object at 0x10b36f6a0>\n"
     ]
    }
   ],
   "source": [
    "# Train the fine tuned network \n",
    "### Use 1000 training data and run for 50 epoch\n",
    "### and store the model\n",
    "\n",
    "from keras.models import load_model\n",
    "\n",
    "## Load the trained new head model\n",
    "head_model_file = './model/TrainHeadFull.hdf5'\n",
    "model = load_model(head_model_file)\n",
    "\n",
    "print(model)"
   ]
  },
  {
   "cell_type": "markdown",
   "metadata": {},
   "source": [
    "## UnFreeze some of the Conv layers for training"
   ]
  },
  {
   "cell_type": "code",
   "execution_count": 2,
   "metadata": {},
   "outputs": [
    {
     "data": {
      "text/plain": [
       "False"
      ]
     },
     "execution_count": 2,
     "metadata": {},
     "output_type": "execute_result"
    }
   ],
   "source": [
    "model.layers[75].trainable"
   ]
  },
  {
   "cell_type": "code",
   "execution_count": 3,
   "metadata": {},
   "outputs": [
    {
     "data": {
      "text/plain": [
       "177"
      ]
     },
     "execution_count": 3,
     "metadata": {},
     "output_type": "execute_result"
    }
   ],
   "source": [
    "len(model.layers)"
   ]
  },
  {
   "cell_type": "code",
   "execution_count": 4,
   "metadata": {},
   "outputs": [],
   "source": [
    "for layer in model.layers[75:]:\n",
    "    layer.trainable = True"
   ]
  },
  {
   "cell_type": "code",
   "execution_count": 5,
   "metadata": {},
   "outputs": [
    {
     "data": {
      "text/plain": [
       "True"
      ]
     },
     "execution_count": 5,
     "metadata": {},
     "output_type": "execute_result"
    }
   ],
   "source": [
    "model.layers[75].trainable"
   ]
  },
  {
   "cell_type": "markdown",
   "metadata": {},
   "source": [
    "## Recompile the model"
   ]
  },
  {
   "cell_type": "code",
   "execution_count": 6,
   "metadata": {},
   "outputs": [],
   "source": [
    "from keras.optimizers import SGD"
   ]
  },
  {
   "cell_type": "code",
   "execution_count": 7,
   "metadata": {},
   "outputs": [],
   "source": [
    "opt = SGD(lr=0.001)"
   ]
  },
  {
   "cell_type": "code",
   "execution_count": 8,
   "metadata": {},
   "outputs": [],
   "source": [
    "H = model.compile(loss=\"categorical_crossentropy\", optimizer=opt,\n",
    "                    metrics=[\"accuracy\"])"
   ]
  },
  {
   "cell_type": "code",
   "execution_count": 9,
   "metadata": {},
   "outputs": [
    {
     "data": {
      "text/plain": [
       "<keras.engine.training.Model at 0x10b36f6a0>"
      ]
     },
     "execution_count": 9,
     "metadata": {},
     "output_type": "execute_result"
    }
   ],
   "source": [
    "model"
   ]
  },
  {
   "cell_type": "code",
   "execution_count": 10,
   "metadata": {},
   "outputs": [],
   "source": [
    "#model.summary()"
   ]
  },
  {
   "cell_type": "markdown",
   "metadata": {},
   "source": [
    "## Get Training Files"
   ]
  },
  {
   "cell_type": "code",
   "execution_count": 11,
   "metadata": {},
   "outputs": [],
   "source": [
    "############################\n",
    "## Get the training image file names\n",
    "####################\n",
    "from my_utils.datasets import DataSetLoader\n",
    "import pandas as pd\n",
    "\n",
    "\n",
    "DataLoader = DataSetLoader()\n",
    "training_files = DataLoader.get_training_file_names()\n",
    "training_labels = DataLoader.get_training_labels()"
   ]
  },
  {
   "cell_type": "code",
   "execution_count": 12,
   "metadata": {},
   "outputs": [
    {
     "name": "stdout",
     "output_type": "stream",
     "text": [
      "17034\n"
     ]
    }
   ],
   "source": [
    "print(len(training_files))"
   ]
  },
  {
   "cell_type": "code",
   "execution_count": 13,
   "metadata": {},
   "outputs": [
    {
     "name": "stdout",
     "output_type": "stream",
     "text": [
      "17034\n"
     ]
    }
   ],
   "source": [
    "print(len(training_labels))"
   ]
  },
  {
   "cell_type": "code",
   "execution_count": 14,
   "metadata": {},
   "outputs": [
    {
     "data": {
      "text/plain": [
       "['dataset/train-scene classification/train/0.jpg',\n",
       " 'dataset/train-scene classification/train/1.jpg',\n",
       " 'dataset/train-scene classification/train/2.jpg',\n",
       " 'dataset/train-scene classification/train/4.jpg',\n",
       " 'dataset/train-scene classification/train/7.jpg']"
      ]
     },
     "execution_count": 14,
     "metadata": {},
     "output_type": "execute_result"
    }
   ],
   "source": [
    "training_files[0:5]"
   ]
  },
  {
   "cell_type": "code",
   "execution_count": 15,
   "metadata": {},
   "outputs": [
    {
     "data": {
      "text/plain": [
       "[0, 4, 5, 0, 4]"
      ]
     },
     "execution_count": 15,
     "metadata": {},
     "output_type": "execute_result"
    }
   ],
   "source": [
    "training_labels[0:5]"
   ]
  },
  {
   "cell_type": "markdown",
   "metadata": {},
   "source": [
    "## Transform the Labels"
   ]
  },
  {
   "cell_type": "code",
   "execution_count": 16,
   "metadata": {},
   "outputs": [],
   "source": [
    "from sklearn.preprocessing import LabelBinarizer"
   ]
  },
  {
   "cell_type": "code",
   "execution_count": 17,
   "metadata": {},
   "outputs": [],
   "source": [
    "label_binary = LabelBinarizer().fit_transform(training_labels)"
   ]
  },
  {
   "cell_type": "markdown",
   "metadata": {},
   "source": [
    "## Split Train and Test Data"
   ]
  },
  {
   "cell_type": "code",
   "execution_count": 18,
   "metadata": {},
   "outputs": [],
   "source": [
    "trainX = DataLoader.load_images(training_files[0:1000])"
   ]
  },
  {
   "cell_type": "code",
   "execution_count": 19,
   "metadata": {},
   "outputs": [],
   "source": [
    "trainY = label_binary[0:1000]"
   ]
  },
  {
   "cell_type": "code",
   "execution_count": 20,
   "metadata": {},
   "outputs": [],
   "source": [
    "valX = DataLoader.load_images(training_files[16900:17000])"
   ]
  },
  {
   "cell_type": "code",
   "execution_count": 21,
   "metadata": {},
   "outputs": [],
   "source": [
    "valY = label_binary[16900:17000]"
   ]
  },
  {
   "cell_type": "markdown",
   "metadata": {},
   "source": [
    "## Train the new model"
   ]
  },
  {
   "cell_type": "code",
   "execution_count": 22,
   "metadata": {},
   "outputs": [
    {
     "name": "stdout",
     "output_type": "stream",
     "text": [
      "Train on 1000 samples, validate on 100 samples\n",
      "Epoch 1/50\n",
      "1000/1000 [==============================] - 1016s 1s/step - loss: 0.2458 - acc: 0.9150 - val_loss: 0.4119 - val_acc: 0.8600\n",
      "Epoch 2/50\n",
      "1000/1000 [==============================] - 1016s 1s/step - loss: 0.1535 - acc: 0.9480 - val_loss: 0.3185 - val_acc: 0.9100\n",
      "Epoch 3/50\n",
      "1000/1000 [==============================] - 1013s 1s/step - loss: 0.1204 - acc: 0.9600 - val_loss: 0.2974 - val_acc: 0.9300\n",
      "Epoch 4/50\n",
      "1000/1000 [==============================] - 1013s 1s/step - loss: 0.1155 - acc: 0.9610 - val_loss: 0.2988 - val_acc: 0.9300\n",
      "Epoch 5/50\n",
      "1000/1000 [==============================] - 1013s 1s/step - loss: 0.1094 - acc: 0.9650 - val_loss: 0.2978 - val_acc: 0.9300\n",
      "Epoch 6/50\n",
      "1000/1000 [==============================] - 1013s 1s/step - loss: 0.0896 - acc: 0.9790 - val_loss: 0.2991 - val_acc: 0.9200\n",
      "Epoch 7/50\n",
      "1000/1000 [==============================] - 1013s 1s/step - loss: 0.0783 - acc: 0.9820 - val_loss: 0.3018 - val_acc: 0.9200\n",
      "Epoch 8/50\n",
      "1000/1000 [==============================] - 1014s 1s/step - loss: 0.0761 - acc: 0.9840 - val_loss: 0.3023 - val_acc: 0.9100\n",
      "Epoch 9/50\n",
      "1000/1000 [==============================] - 1013s 1s/step - loss: 0.0672 - acc: 0.9850 - val_loss: 0.3007 - val_acc: 0.9000\n",
      "Epoch 10/50\n",
      "1000/1000 [==============================] - 1012s 1s/step - loss: 0.0641 - acc: 0.9900 - val_loss: 0.2981 - val_acc: 0.9000\n",
      "Epoch 11/50\n",
      "1000/1000 [==============================] - 1011s 1s/step - loss: 0.0619 - acc: 0.9870 - val_loss: 0.2985 - val_acc: 0.8800\n",
      "Epoch 12/50\n",
      "1000/1000 [==============================] - 1010s 1s/step - loss: 0.0522 - acc: 0.9890 - val_loss: 0.2973 - val_acc: 0.8900\n",
      "Epoch 13/50\n",
      "1000/1000 [==============================] - 1011s 1s/step - loss: 0.0464 - acc: 0.9950 - val_loss: 0.2978 - val_acc: 0.8900\n",
      "Epoch 14/50\n",
      "1000/1000 [==============================] - 1012s 1s/step - loss: 0.0439 - acc: 0.9950 - val_loss: 0.2971 - val_acc: 0.8900\n",
      "Epoch 15/50\n",
      "1000/1000 [==============================] - 1011s 1s/step - loss: 0.0461 - acc: 0.9960 - val_loss: 0.2988 - val_acc: 0.8900\n",
      "Epoch 16/50\n",
      "1000/1000 [==============================] - 1014s 1s/step - loss: 0.0382 - acc: 0.9950 - val_loss: 0.3006 - val_acc: 0.8800\n",
      "Epoch 17/50\n",
      "1000/1000 [==============================] - 1011s 1s/step - loss: 0.0342 - acc: 0.9990 - val_loss: 0.3003 - val_acc: 0.8800\n",
      "Epoch 18/50\n",
      "1000/1000 [==============================] - 1011s 1s/step - loss: 0.0339 - acc: 0.9980 - val_loss: 0.3023 - val_acc: 0.8800\n",
      "Epoch 19/50\n",
      "1000/1000 [==============================] - 1012s 1s/step - loss: 0.0324 - acc: 0.9990 - val_loss: 0.3033 - val_acc: 0.8800\n",
      "Epoch 20/50\n",
      "1000/1000 [==============================] - 1011s 1s/step - loss: 0.0329 - acc: 0.9950 - val_loss: 0.3017 - val_acc: 0.8800\n",
      "Epoch 21/50\n",
      "1000/1000 [==============================] - 1011s 1s/step - loss: 0.0263 - acc: 0.9980 - val_loss: 0.3015 - val_acc: 0.8800\n",
      "Epoch 22/50\n",
      "1000/1000 [==============================] - 1012s 1s/step - loss: 0.0303 - acc: 0.9990 - val_loss: 0.3034 - val_acc: 0.8800\n",
      "Epoch 23/50\n",
      "1000/1000 [==============================] - 1011s 1s/step - loss: 0.0274 - acc: 0.9990 - val_loss: 0.3038 - val_acc: 0.8800\n",
      "Epoch 24/50\n",
      "1000/1000 [==============================] - 1011s 1s/step - loss: 0.0268 - acc: 0.9980 - val_loss: 0.3038 - val_acc: 0.8800\n",
      "Epoch 25/50\n",
      "1000/1000 [==============================] - 1011s 1s/step - loss: 0.0235 - acc: 1.0000 - val_loss: 0.3040 - val_acc: 0.8800\n",
      "Epoch 26/50\n",
      "1000/1000 [==============================] - 1013s 1s/step - loss: 0.0267 - acc: 0.9980 - val_loss: 0.3039 - val_acc: 0.8800\n",
      "Epoch 27/50\n",
      "1000/1000 [==============================] - 1012s 1s/step - loss: 0.0245 - acc: 0.9990 - val_loss: 0.3039 - val_acc: 0.8900\n",
      "Epoch 28/50\n",
      "1000/1000 [==============================] - 1011s 1s/step - loss: 0.0209 - acc: 0.9990 - val_loss: 0.3047 - val_acc: 0.8900\n",
      "Epoch 29/50\n",
      "1000/1000 [==============================] - 1012s 1s/step - loss: 0.0191 - acc: 1.0000 - val_loss: 0.3038 - val_acc: 0.8900\n",
      "Epoch 30/50\n",
      "1000/1000 [==============================] - 1014s 1s/step - loss: 0.0221 - acc: 0.9990 - val_loss: 0.3054 - val_acc: 0.8900\n",
      "Epoch 31/50\n",
      "1000/1000 [==============================] - 1012s 1s/step - loss: 0.0235 - acc: 0.9980 - val_loss: 0.3063 - val_acc: 0.8900\n",
      "Epoch 32/50\n",
      "1000/1000 [==============================] - 1023s 1s/step - loss: 0.0191 - acc: 0.9980 - val_loss: 0.3069 - val_acc: 0.8900\n",
      "Epoch 33/50\n",
      "1000/1000 [==============================] - 1012s 1s/step - loss: 0.0190 - acc: 0.9990 - val_loss: 0.3063 - val_acc: 0.8900\n",
      "Epoch 34/50\n",
      "1000/1000 [==============================] - 1010s 1s/step - loss: 0.0192 - acc: 1.0000 - val_loss: 0.3059 - val_acc: 0.8900\n",
      "Epoch 35/50\n",
      "1000/1000 [==============================] - 1011s 1s/step - loss: 0.0181 - acc: 0.9990 - val_loss: 0.3066 - val_acc: 0.8900\n",
      "Epoch 36/50\n",
      "1000/1000 [==============================] - 1017s 1s/step - loss: 0.0152 - acc: 1.0000 - val_loss: 0.3064 - val_acc: 0.8800\n",
      "Epoch 37/50\n",
      "1000/1000 [==============================] - 1012s 1s/step - loss: 0.0210 - acc: 0.9990 - val_loss: 0.3072 - val_acc: 0.8900\n",
      "Epoch 38/50\n",
      "1000/1000 [==============================] - 1013s 1s/step - loss: 0.0168 - acc: 0.9990 - val_loss: 0.3076 - val_acc: 0.8900\n",
      "Epoch 39/50\n",
      "1000/1000 [==============================] - 1013s 1s/step - loss: 0.0160 - acc: 1.0000 - val_loss: 0.3080 - val_acc: 0.8800\n",
      "Epoch 40/50\n",
      "1000/1000 [==============================] - 1012s 1s/step - loss: 0.0163 - acc: 0.9990 - val_loss: 0.3067 - val_acc: 0.8800\n",
      "Epoch 41/50\n",
      "1000/1000 [==============================] - 1037s 1s/step - loss: 0.0188 - acc: 0.9980 - val_loss: 0.3066 - val_acc: 0.8900\n",
      "Epoch 42/50\n",
      "1000/1000 [==============================] - 1014s 1s/step - loss: 0.0107 - acc: 1.0000 - val_loss: 0.3073 - val_acc: 0.8800\n",
      "Epoch 43/50\n",
      "1000/1000 [==============================] - 1007s 1s/step - loss: 0.0152 - acc: 1.0000 - val_loss: 0.3082 - val_acc: 0.8800\n",
      "Epoch 44/50\n",
      "1000/1000 [==============================] - 1008s 1s/step - loss: 0.0146 - acc: 1.0000 - val_loss: 0.3081 - val_acc: 0.8800\n",
      "Epoch 45/50\n",
      "1000/1000 [==============================] - 1013s 1s/step - loss: 0.0196 - acc: 0.9990 - val_loss: 0.3085 - val_acc: 0.8900\n",
      "Epoch 46/50\n",
      "1000/1000 [==============================] - 1008s 1s/step - loss: 0.0136 - acc: 1.0000 - val_loss: 0.3078 - val_acc: 0.8900\n",
      "Epoch 47/50\n",
      "1000/1000 [==============================] - 1008s 1s/step - loss: 0.0101 - acc: 1.0000 - val_loss: 0.3082 - val_acc: 0.8900\n",
      "Epoch 48/50\n",
      "1000/1000 [==============================] - 1007s 1s/step - loss: 0.0119 - acc: 1.0000 - val_loss: 0.3075 - val_acc: 0.8900\n",
      "Epoch 49/50\n",
      "1000/1000 [==============================] - 1007s 1s/step - loss: 0.0132 - acc: 1.0000 - val_loss: 0.3079 - val_acc: 0.8800\n",
      "Epoch 50/50\n",
      "1000/1000 [==============================] - 1007s 1s/step - loss: 0.0128 - acc: 1.0000 - val_loss: 0.3079 - val_acc: 0.8800\n"
     ]
    },
    {
     "data": {
      "text/plain": [
       "<keras.callbacks.History at 0x1143e30f0>"
      ]
     },
     "execution_count": 22,
     "metadata": {},
     "output_type": "execute_result"
    }
   ],
   "source": [
    "model.fit(trainX, trainY, batch_size=25, validation_data=(valX, valY), \n",
    "          epochs=50,  verbose=1)"
   ]
  },
  {
   "cell_type": "code",
   "execution_count": 23,
   "metadata": {},
   "outputs": [],
   "source": [
    "model.save('./model/train_1000.hdf5')"
   ]
  },
  {
   "cell_type": "markdown",
   "metadata": {},
   "source": [
    "## Evaluate Model"
   ]
  },
  {
   "cell_type": "code",
   "execution_count": 24,
   "metadata": {},
   "outputs": [],
   "source": [
    "from sklearn.metrics import classification_report"
   ]
  },
  {
   "cell_type": "code",
   "execution_count": 25,
   "metadata": {},
   "outputs": [
    {
     "name": "stdout",
     "output_type": "stream",
     "text": [
      "              precision    recall  f1-score   support\n",
      "\n",
      "           0       0.88      1.00      0.93        14\n",
      "           1       0.88      0.93      0.90        15\n",
      "           2       0.80      0.73      0.76        22\n",
      "           3       0.92      0.80      0.86        15\n",
      "           4       0.86      1.00      0.93        19\n",
      "           5       1.00      0.87      0.93        15\n",
      "\n",
      "   micro avg       0.88      0.88      0.88       100\n",
      "   macro avg       0.89      0.89      0.89       100\n",
      "weighted avg       0.88      0.88      0.88       100\n",
      "\n"
     ]
    }
   ],
   "source": [
    "preds = model.predict(valX)\n",
    "print(classification_report(valY.argmax(axis=1), preds.argmax(axis=1)))"
   ]
  },
  {
   "cell_type": "markdown",
   "metadata": {},
   "source": []
  },
  {
   "cell_type": "code",
   "execution_count": 26,
   "metadata": {},
   "outputs": [],
   "source": []
  },
  {
   "cell_type": "code",
   "execution_count": null,
   "metadata": {},
   "outputs": [],
   "source": []
  }
 ],
 "metadata": {
  "kernelspec": {
   "display_name": "Python 3",
   "language": "python",
   "name": "python3"
  },
  "language_info": {
   "codemirror_mode": {
    "name": "ipython",
    "version": 3
   },
   "file_extension": ".py",
   "mimetype": "text/x-python",
   "name": "python",
   "nbconvert_exporter": "python",
   "pygments_lexer": "ipython3",
   "version": "3.6.4"
  }
 },
 "nbformat": 4,
 "nbformat_minor": 2
}
