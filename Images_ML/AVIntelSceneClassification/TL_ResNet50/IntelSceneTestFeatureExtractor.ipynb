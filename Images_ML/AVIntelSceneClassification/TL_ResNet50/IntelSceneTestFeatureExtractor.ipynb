{
 "cells": [
  {
   "cell_type": "markdown",
   "metadata": {},
   "source": [
    "# Intel Scene Feature Extraction for Test Dataset"
   ]
  },
  {
   "cell_type": "markdown",
   "metadata": {},
   "source": [
    "**Objective:** Extract the features for the Intel Scene Test Dataset."
   ]
  },
  {
   "cell_type": "markdown",
   "metadata": {},
   "source": [
    "## Load ResNet50"
   ]
  },
  {
   "cell_type": "code",
   "execution_count": 1,
   "metadata": {},
   "outputs": [
    {
     "name": "stderr",
     "output_type": "stream",
     "text": [
      "Using Theano backend.\n"
     ]
    }
   ],
   "source": [
    "from keras.applications import ResNet50"
   ]
  },
  {
   "cell_type": "code",
   "execution_count": 2,
   "metadata": {},
   "outputs": [],
   "source": [
    "model = ResNet50(weights='imagenet', include_top=False, pooling='avg')"
   ]
  },
  {
   "cell_type": "markdown",
   "metadata": {},
   "source": [
    "## Get Test files"
   ]
  },
  {
   "cell_type": "code",
   "execution_count": 3,
   "metadata": {},
   "outputs": [],
   "source": [
    "from my_utils.datasets import DataSetLoader\n",
    "import pandas as pd"
   ]
  },
  {
   "cell_type": "code",
   "execution_count": 4,
   "metadata": {},
   "outputs": [],
   "source": [
    "IMAGE_DIR = 'dataset/train-scene classification'\n",
    "TRAIN_IMAGE_LOC = IMAGE_DIR+'/train'"
   ]
  },
  {
   "cell_type": "code",
   "execution_count": 5,
   "metadata": {},
   "outputs": [],
   "source": [
    "test_csv_df = pd.read_csv(IMAGE_DIR+'/test.csv')"
   ]
  },
  {
   "cell_type": "code",
   "execution_count": 6,
   "metadata": {},
   "outputs": [
    {
     "data": {
      "text/plain": [
       "(7301, 1)"
      ]
     },
     "execution_count": 6,
     "metadata": {},
     "output_type": "execute_result"
    }
   ],
   "source": [
    "test_csv_df.shape"
   ]
  },
  {
   "cell_type": "code",
   "execution_count": 7,
   "metadata": {},
   "outputs": [
    {
     "data": {
      "text/html": [
       "<div>\n",
       "<style scoped>\n",
       "    .dataframe tbody tr th:only-of-type {\n",
       "        vertical-align: middle;\n",
       "    }\n",
       "\n",
       "    .dataframe tbody tr th {\n",
       "        vertical-align: top;\n",
       "    }\n",
       "\n",
       "    .dataframe thead th {\n",
       "        text-align: right;\n",
       "    }\n",
       "</style>\n",
       "<table border=\"1\" class=\"dataframe\">\n",
       "  <thead>\n",
       "    <tr style=\"text-align: right;\">\n",
       "      <th></th>\n",
       "      <th>image_name</th>\n",
       "    </tr>\n",
       "  </thead>\n",
       "  <tbody>\n",
       "    <tr>\n",
       "      <th>0</th>\n",
       "      <td>3.jpg</td>\n",
       "    </tr>\n",
       "    <tr>\n",
       "      <th>1</th>\n",
       "      <td>5.jpg</td>\n",
       "    </tr>\n",
       "    <tr>\n",
       "      <th>2</th>\n",
       "      <td>6.jpg</td>\n",
       "    </tr>\n",
       "    <tr>\n",
       "      <th>3</th>\n",
       "      <td>11.jpg</td>\n",
       "    </tr>\n",
       "    <tr>\n",
       "      <th>4</th>\n",
       "      <td>14.jpg</td>\n",
       "    </tr>\n",
       "  </tbody>\n",
       "</table>\n",
       "</div>"
      ],
      "text/plain": [
       "  image_name\n",
       "0      3.jpg\n",
       "1      5.jpg\n",
       "2      6.jpg\n",
       "3     11.jpg\n",
       "4     14.jpg"
      ]
     },
     "execution_count": 7,
     "metadata": {},
     "output_type": "execute_result"
    }
   ],
   "source": [
    "test_csv_df.head()"
   ]
  },
  {
   "cell_type": "code",
   "execution_count": 8,
   "metadata": {},
   "outputs": [],
   "source": [
    "DataLoader = DataSetLoader()"
   ]
  },
  {
   "cell_type": "code",
   "execution_count": 9,
   "metadata": {},
   "outputs": [],
   "source": [
    "test_files = DataLoader.get_filename_list(TRAIN_IMAGE_LOC, list(test_csv_df['image_name']))"
   ]
  },
  {
   "cell_type": "code",
   "execution_count": 10,
   "metadata": {},
   "outputs": [
    {
     "data": {
      "text/plain": [
       "['dataset/train-scene classification/train/3.jpg',\n",
       " 'dataset/train-scene classification/train/5.jpg',\n",
       " 'dataset/train-scene classification/train/6.jpg',\n",
       " 'dataset/train-scene classification/train/11.jpg',\n",
       " 'dataset/train-scene classification/train/14.jpg']"
      ]
     },
     "execution_count": 10,
     "metadata": {},
     "output_type": "execute_result"
    }
   ],
   "source": [
    "test_files[0:5]"
   ]
  },
  {
   "cell_type": "code",
   "execution_count": 11,
   "metadata": {},
   "outputs": [
    {
     "data": {
      "text/plain": [
       "7301"
      ]
     },
     "execution_count": 11,
     "metadata": {},
     "output_type": "execute_result"
    }
   ],
   "source": [
    "len(test_files)"
   ]
  },
  {
   "cell_type": "markdown",
   "metadata": {},
   "source": [
    "## Get the Test File Name IDs"
   ]
  },
  {
   "cell_type": "code",
   "execution_count": 20,
   "metadata": {},
   "outputs": [],
   "source": [
    "test_ids = list(test_csv_df['image_name'])"
   ]
  },
  {
   "cell_type": "code",
   "execution_count": 21,
   "metadata": {},
   "outputs": [
    {
     "data": {
      "text/plain": [
       "['3.jpg', '5.jpg', '6.jpg', '11.jpg']"
      ]
     },
     "execution_count": 21,
     "metadata": {},
     "output_type": "execute_result"
    }
   ],
   "source": [
    "test_ids[0:4]"
   ]
  },
  {
   "cell_type": "code",
   "execution_count": 15,
   "metadata": {},
   "outputs": [
    {
     "data": {
      "text/plain": [
       "'24333.jpg'"
      ]
     },
     "execution_count": 15,
     "metadata": {},
     "output_type": "execute_result"
    }
   ],
   "source": [
    "test_ids[7300]"
   ]
  },
  {
   "cell_type": "code",
   "execution_count": 22,
   "metadata": {},
   "outputs": [],
   "source": [
    "# remove .jpg extension.\n",
    "test_ids = [w.replace('.jpg', '') for w in test_ids]"
   ]
  },
  {
   "cell_type": "code",
   "execution_count": 24,
   "metadata": {},
   "outputs": [
    {
     "data": {
      "text/plain": [
       "['3', '5', '6', '11']"
      ]
     },
     "execution_count": 24,
     "metadata": {},
     "output_type": "execute_result"
    }
   ],
   "source": [
    "test_ids[0:4]"
   ]
  },
  {
   "cell_type": "code",
   "execution_count": 25,
   "metadata": {},
   "outputs": [],
   "source": [
    "# convert the string to int\n",
    "test_ids = [int(w) for w in test_ids]"
   ]
  },
  {
   "cell_type": "code",
   "execution_count": 26,
   "metadata": {},
   "outputs": [
    {
     "data": {
      "text/plain": [
       "[3, 5, 6, 11]"
      ]
     },
     "execution_count": 26,
     "metadata": {},
     "output_type": "execute_result"
    }
   ],
   "source": [
    "test_ids[0:4]"
   ]
  },
  {
   "cell_type": "markdown",
   "metadata": {},
   "source": [
    "## Configurations"
   ]
  },
  {
   "cell_type": "code",
   "execution_count": 27,
   "metadata": {},
   "outputs": [],
   "source": [
    "NUM_FILES = 20\n",
    "#NUM_FILES = len(test_files) - 1\n",
    "\n",
    "BATCH_SIZE = 10"
   ]
  },
  {
   "cell_type": "markdown",
   "metadata": {},
   "source": [
    "## Create HDF5 Database"
   ]
  },
  {
   "cell_type": "code",
   "execution_count": 28,
   "metadata": {},
   "outputs": [],
   "source": [
    "from my_utils.io import HDF5DataSetWriter"
   ]
  },
  {
   "cell_type": "code",
   "execution_count": 30,
   "metadata": {},
   "outputs": [],
   "source": [
    "#resnet50 -> predict returns vector of size 2048=\n",
    "db = HDF5DataSetWriter( (NUM_FILES, 2048), \"./output/IntelSceneTestExtractedFeatures.hdf5\", \n",
    "                               dataKey=\"test_features\", \n",
    "                               valueKey='ID')\n"
   ]
  },
  {
   "cell_type": "code",
   "execution_count": 31,
   "metadata": {},
   "outputs": [],
   "source": [
    "import cv2\n",
    "import numpy as np\n",
    "from keras.applications.resnet50 import preprocess_input\n",
    "from keras.preprocessing.image import img_to_array, load_img"
   ]
  },
  {
   "cell_type": "code",
   "execution_count": 34,
   "metadata": {},
   "outputs": [],
   "source": [
    "## set up the progress bar\n",
    "import progressbar"
   ]
  },
  {
   "cell_type": "code",
   "execution_count": 35,
   "metadata": {},
   "outputs": [
    {
     "name": "stderr",
     "output_type": "stream",
     "text": [
      "Extracting Test Features:   0% |                               | ETA:  --:--:--\r"
     ]
    }
   ],
   "source": [
    "# initialize the progress bar\n",
    "widgets = [\"Extracting Test Features: \", progressbar.Percentage(), \" \", \n",
    "           progressbar.Bar(), \" \", progressbar.ETA()]\n",
    "\n",
    "pbar = progressbar.ProgressBar(maxval=NUM_FILES,\n",
    "                                widgets=widgets).start()"
   ]
  },
  {
   "cell_type": "code",
   "execution_count": 36,
   "metadata": {},
   "outputs": [
    {
     "name": "stderr",
     "output_type": "stream",
     "text": [
      "Extracting Test Features: 100% |################################| Time: 0:00:51\n"
     ]
    }
   ],
   "source": [
    "# go over all images\n",
    "for i in np.arange(0, NUM_FILES, BATCH_SIZE):\n",
    "    \n",
    "    # process them in terms of batches\n",
    "    batchImages = []\n",
    "    \n",
    "    batchFileList = test_files[i: i+BATCH_SIZE]\n",
    "    batchLabelList = test_ids[i: i+BATCH_SIZE]\n",
    "    #print('outer for loop : {} '.format(i))\n",
    "    \n",
    "    for fileName in batchFileList:\n",
    "        # load the file\n",
    "        img = cv2.imread(fileName)\n",
    "        img = cv2.resize(img, (224,224), interpolation=cv2.INTER_AREA)\n",
    "        \n",
    "        # convert to array\n",
    "        img = img_to_array(img)\n",
    "        \n",
    "        #before preprocess, expand the dim.\n",
    "        img = np.expand_dims(img, axis=0)\n",
    "        img = preprocess_input(img)  # for resnet50\n",
    "        \n",
    "        batchImages.append(img)\n",
    "    \n",
    "    #process the batch images\n",
    "    batchImages = np.vstack(batchImages)\n",
    "    \n",
    "    # extract the features for the batch\n",
    "    extracted_features = model.predict(batchImages, batch_size=BATCH_SIZE)\n",
    "    \n",
    "    ## separate out the features for each image.\n",
    "    ## resnet50 spits out vector of 2048 for each image\n",
    "    extracted_features = extracted_features.reshape((extracted_features.shape[0], 2048) )\n",
    "    \n",
    "    # add to db\n",
    "    db.add(extracted_features, batchLabelList)\n",
    "    pbar.update(i)\n",
    "    \n",
    "\n",
    "db.close()\n",
    "pbar.finish()"
   ]
  },
  {
   "cell_type": "code",
   "execution_count": null,
   "metadata": {},
   "outputs": [],
   "source": []
  }
 ],
 "metadata": {
  "kernelspec": {
   "display_name": "Python 3",
   "language": "python",
   "name": "python3"
  },
  "language_info": {
   "codemirror_mode": {
    "name": "ipython",
    "version": 3
   },
   "file_extension": ".py",
   "mimetype": "text/x-python",
   "name": "python",
   "nbconvert_exporter": "python",
   "pygments_lexer": "ipython3",
   "version": "3.6.4"
  }
 },
 "nbformat": 4,
 "nbformat_minor": 2
}
