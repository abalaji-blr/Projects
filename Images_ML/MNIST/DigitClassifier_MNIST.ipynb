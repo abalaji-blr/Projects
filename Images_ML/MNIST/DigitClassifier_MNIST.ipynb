{
 "cells": [
  {
   "cell_type": "markdown",
   "metadata": {},
   "source": [
    "## MNIST_DigitClassifier"
   ]
  },
  {
   "cell_type": "markdown",
   "metadata": {},
   "source": [
    "**Objective**:\n",
    "  * Use Scikit learn's MNIST dataset and classify the digits using Neural Network."
   ]
  },
  {
   "cell_type": "markdown",
   "metadata": {},
   "source": [
    "### Load the dataset"
   ]
  },
  {
   "cell_type": "code",
   "execution_count": 1,
   "metadata": {},
   "outputs": [],
   "source": [
    "from sklearn import datasets"
   ]
  },
  {
   "cell_type": "code",
   "execution_count": 16,
   "metadata": {},
   "outputs": [],
   "source": [
    "import numpy as np"
   ]
  },
  {
   "cell_type": "code",
   "execution_count": 17,
   "metadata": {},
   "outputs": [
    {
     "name": "stdout",
     "output_type": "stream",
     "text": [
      "1.14.2\n"
     ]
    }
   ],
   "source": [
    "print(np.__version__)"
   ]
  },
  {
   "cell_type": "code",
   "execution_count": 4,
   "metadata": {},
   "outputs": [],
   "source": [
    "?datasets.mldata"
   ]
  },
  {
   "cell_type": "markdown",
   "metadata": {},
   "source": [
    "### Get the MNIST data from mldata.org"
   ]
  },
  {
   "cell_type": "code",
   "execution_count": 8,
   "metadata": {},
   "outputs": [
    {
     "name": "stderr",
     "output_type": "stream",
     "text": [
      "/usr/local/lib/python3.6/site-packages/sklearn/utils/deprecation.py:77: DeprecationWarning: Function fetch_mldata is deprecated; fetch_mldata was deprecated in version 0.20 and will be removed in version 0.22\n",
      "  warnings.warn(msg, category=DeprecationWarning)\n",
      "/usr/local/lib/python3.6/site-packages/sklearn/utils/deprecation.py:77: DeprecationWarning: Function mldata_filename is deprecated; mldata_filename was deprecated in version 0.20 and will be removed in version 0.22\n",
      "  warnings.warn(msg, category=DeprecationWarning)\n"
     ]
    }
   ],
   "source": [
    "mnist = datasets.fetch_mldata('MNIST Original')"
   ]
  },
  {
   "cell_type": "code",
   "execution_count": 10,
   "metadata": {},
   "outputs": [
    {
     "data": {
      "text/plain": [
       "sklearn.utils.Bunch"
      ]
     },
     "execution_count": 10,
     "metadata": {},
     "output_type": "execute_result"
    }
   ],
   "source": [
    "type(mnist)"
   ]
  },
  {
   "cell_type": "code",
   "execution_count": 11,
   "metadata": {},
   "outputs": [
    {
     "data": {
      "text/plain": [
       "['label', 'data']"
      ]
     },
     "execution_count": 11,
     "metadata": {},
     "output_type": "execute_result"
    }
   ],
   "source": [
    "mnist.COL_NAMES"
   ]
  },
  {
   "cell_type": "code",
   "execution_count": 12,
   "metadata": {},
   "outputs": [
    {
     "data": {
      "text/plain": [
       "'mldata.org dataset: mnist-original'"
      ]
     },
     "execution_count": 12,
     "metadata": {},
     "output_type": "execute_result"
    }
   ],
   "source": [
    "mnist.DESCR"
   ]
  },
  {
   "cell_type": "markdown",
   "metadata": {},
   "source": [
    "#### About MNIST data\n",
    " * 70K samples\n",
    " * Each sample of size 784 (intensity vaues from 0 thru 255).\n",
    " * Targets: 0 thru 9"
   ]
  },
  {
   "cell_type": "code",
   "execution_count": 13,
   "metadata": {},
   "outputs": [
    {
     "data": {
      "text/plain": [
       "(70000, 784)"
      ]
     },
     "execution_count": 13,
     "metadata": {},
     "output_type": "execute_result"
    }
   ],
   "source": [
    "mnist.data.shape"
   ]
  },
  {
   "cell_type": "code",
   "execution_count": 14,
   "metadata": {},
   "outputs": [
    {
     "data": {
      "text/plain": [
       "(70000,)"
      ]
     },
     "execution_count": 14,
     "metadata": {},
     "output_type": "execute_result"
    }
   ],
   "source": [
    "mnist.target.shape"
   ]
  },
  {
   "cell_type": "code",
   "execution_count": 19,
   "metadata": {},
   "outputs": [
    {
     "data": {
      "text/plain": [
       "array([0., 1., 2., 3., 4., 5., 6., 7., 8., 9.])"
      ]
     },
     "execution_count": 19,
     "metadata": {},
     "output_type": "execute_result"
    }
   ],
   "source": [
    "np.unique(mnist.target)"
   ]
  },
  {
   "cell_type": "code",
   "execution_count": 21,
   "metadata": {},
   "outputs": [
    {
     "data": {
      "text/plain": [
       "numpy.ndarray"
      ]
     },
     "execution_count": 21,
     "metadata": {},
     "output_type": "execute_result"
    }
   ],
   "source": [
    "type(mnist.data[0])"
   ]
  },
  {
   "cell_type": "code",
   "execution_count": 26,
   "metadata": {},
   "outputs": [],
   "source": [
    "#mnist.data[0]"
   ]
  },
  {
   "cell_type": "code",
   "execution_count": 23,
   "metadata": {},
   "outputs": [],
   "source": [
    "## normalize the input data, ie make it in the range [0, 1.0]\n",
    "\n",
    "data = mnist.data.astype(float) / 255.0"
   ]
  },
  {
   "cell_type": "code",
   "execution_count": 24,
   "metadata": {},
   "outputs": [
    {
     "data": {
      "text/plain": [
       "numpy.ndarray"
      ]
     },
     "execution_count": 24,
     "metadata": {},
     "output_type": "execute_result"
    }
   ],
   "source": [
    "type(data)"
   ]
  },
  {
   "cell_type": "code",
   "execution_count": 27,
   "metadata": {},
   "outputs": [],
   "source": [
    "#data[0]"
   ]
  },
  {
   "cell_type": "markdown",
   "metadata": {},
   "source": [
    "## Split the data"
   ]
  },
  {
   "cell_type": "code",
   "execution_count": 28,
   "metadata": {},
   "outputs": [],
   "source": [
    "from sklearn.model_selection import train_test_split"
   ]
  },
  {
   "cell_type": "code",
   "execution_count": 29,
   "metadata": {},
   "outputs": [],
   "source": [
    "(trainX, testX, trainY, testY) = train_test_split(data, mnist.target, test_size=0.25, random_state=123)"
   ]
  },
  {
   "cell_type": "markdown",
   "metadata": {},
   "source": [
    "#### Encode (one-hot) the target values"
   ]
  },
  {
   "cell_type": "code",
   "execution_count": 30,
   "metadata": {},
   "outputs": [],
   "source": [
    "from sklearn.preprocessing import LabelBinarizer"
   ]
  },
  {
   "cell_type": "code",
   "execution_count": 31,
   "metadata": {},
   "outputs": [],
   "source": [
    "lb = LabelBinarizer()"
   ]
  },
  {
   "cell_type": "code",
   "execution_count": 32,
   "metadata": {},
   "outputs": [],
   "source": [
    "trainY = lb.fit_transform(trainY)"
   ]
  },
  {
   "cell_type": "code",
   "execution_count": 33,
   "metadata": {},
   "outputs": [],
   "source": [
    "testY = lb.transform(testY)"
   ]
  },
  {
   "cell_type": "code",
   "execution_count": 35,
   "metadata": {},
   "outputs": [
    {
     "data": {
      "text/plain": [
       "array([0, 0, 0, 0, 0, 1, 0, 0, 0, 0])"
      ]
     },
     "execution_count": 35,
     "metadata": {},
     "output_type": "execute_result"
    }
   ],
   "source": [
    "## 5 is encoded as 0000010000\n",
    "trainY[0]"
   ]
  },
  {
   "cell_type": "markdown",
   "metadata": {},
   "source": [
    "## Build Neural Net model using Keras"
   ]
  },
  {
   "cell_type": "code",
   "execution_count": 40,
   "metadata": {},
   "outputs": [
    {
     "name": "stderr",
     "output_type": "stream",
     "text": [
      "Using Theano backend.\n"
     ]
    }
   ],
   "source": [
    "from keras.models import Sequential"
   ]
  },
  {
   "cell_type": "code",
   "execution_count": 42,
   "metadata": {},
   "outputs": [],
   "source": [
    "from keras.layers.core import Dense"
   ]
  },
  {
   "cell_type": "markdown",
   "metadata": {},
   "source": [
    "#### Define 784(input data)-256-128-10 (output) archiecture"
   ]
  },
  {
   "cell_type": "code",
   "execution_count": 41,
   "metadata": {},
   "outputs": [],
   "source": [
    "model = Sequential()"
   ]
  },
  {
   "cell_type": "code",
   "execution_count": 43,
   "metadata": {},
   "outputs": [],
   "source": [
    "?Dense"
   ]
  },
  {
   "cell_type": "code",
   "execution_count": 46,
   "metadata": {},
   "outputs": [],
   "source": [
    "model.add(Dense(256, input_shape=(784,), activation='sigmoid' )) # first layer, specify the input shape"
   ]
  },
  {
   "cell_type": "code",
   "execution_count": 47,
   "metadata": {},
   "outputs": [],
   "source": [
    "model.add(Dense(128, activation='sigmoid'))"
   ]
  },
  {
   "cell_type": "code",
   "execution_count": 48,
   "metadata": {},
   "outputs": [],
   "source": [
    "# output layer - need probabilities, so use softmax for activation\n",
    "model.add(Dense(10, activation='softmax'))"
   ]
  },
  {
   "cell_type": "markdown",
   "metadata": {},
   "source": [
    "## Training the Network"
   ]
  },
  {
   "cell_type": "code",
   "execution_count": 49,
   "metadata": {},
   "outputs": [],
   "source": [
    "from keras.optimizers import SGD"
   ]
  },
  {
   "cell_type": "code",
   "execution_count": 50,
   "metadata": {},
   "outputs": [],
   "source": [
    "?SGD"
   ]
  },
  {
   "cell_type": "code",
   "execution_count": 51,
   "metadata": {},
   "outputs": [],
   "source": [
    "sgd = SGD(0.01)"
   ]
  },
  {
   "cell_type": "code",
   "execution_count": 55,
   "metadata": {},
   "outputs": [],
   "source": [
    "model.compile(loss='categorical_crossentropy', optimizer=sgd, metrics=['accuracy'] )"
   ]
  },
  {
   "cell_type": "code",
   "execution_count": 56,
   "metadata": {},
   "outputs": [],
   "source": [
    "?model.fit"
   ]
  },
  {
   "cell_type": "code",
   "execution_count": 57,
   "metadata": {},
   "outputs": [
    {
     "name": "stdout",
     "output_type": "stream",
     "text": [
      "Train on 52500 samples, validate on 17500 samples\n",
      "Epoch 1/100\n",
      "52500/52500 [==============================] - 1s 28us/step - loss: 2.2962 - acc: 0.1747 - val_loss: 2.2530 - val_acc: 0.3673\n",
      "Epoch 2/100\n",
      "52500/52500 [==============================] - 1s 28us/step - loss: 2.2254 - acc: 0.3562 - val_loss: 2.1950 - val_acc: 0.4875\n",
      "Epoch 3/100\n",
      "52500/52500 [==============================] - 1s 28us/step - loss: 2.1600 - acc: 0.5060 - val_loss: 2.1194 - val_acc: 0.5657\n",
      "Epoch 4/100\n",
      "52500/52500 [==============================] - 1s 28us/step - loss: 2.0709 - acc: 0.5791 - val_loss: 2.0156 - val_acc: 0.6191\n",
      "Epoch 5/100\n",
      "52500/52500 [==============================] - 2s 29us/step - loss: 1.9463 - acc: 0.6321 - val_loss: 1.8685 - val_acc: 0.6562\n",
      "Epoch 6/100\n",
      "52500/52500 [==============================] - 2s 29us/step - loss: 1.7785 - acc: 0.6611 - val_loss: 1.6800 - val_acc: 0.6820\n",
      "Epoch 7/100\n",
      "52500/52500 [==============================] - 1s 28us/step - loss: 1.5803 - acc: 0.6905 - val_loss: 1.4764 - val_acc: 0.7186\n",
      "Epoch 8/100\n",
      "52500/52500 [==============================] - 1s 28us/step - loss: 1.3820 - acc: 0.7198 - val_loss: 1.2880 - val_acc: 0.7397\n",
      "Epoch 9/100\n",
      "52500/52500 [==============================] - 1s 28us/step - loss: 1.2101 - acc: 0.7444 - val_loss: 1.1333 - val_acc: 0.7577\n",
      "Epoch 10/100\n",
      "52500/52500 [==============================] - 1s 28us/step - loss: 1.0728 - acc: 0.7655 - val_loss: 1.0120 - val_acc: 0.7813\n",
      "Epoch 11/100\n",
      "52500/52500 [==============================] - 1s 28us/step - loss: 0.9655 - acc: 0.7824 - val_loss: 0.9172 - val_acc: 0.7918\n",
      "Epoch 12/100\n",
      "52500/52500 [==============================] - 1s 28us/step - loss: 0.8809 - acc: 0.7965 - val_loss: 0.8405 - val_acc: 0.8090\n",
      "Epoch 13/100\n",
      "52500/52500 [==============================] - 1s 28us/step - loss: 0.8125 - acc: 0.8088 - val_loss: 0.7793 - val_acc: 0.8155\n",
      "Epoch 14/100\n",
      "52500/52500 [==============================] - 2s 29us/step - loss: 0.7565 - acc: 0.8184 - val_loss: 0.7281 - val_acc: 0.8258\n",
      "Epoch 15/100\n",
      "52500/52500 [==============================] - 1s 27us/step - loss: 0.7097 - acc: 0.8268 - val_loss: 0.6856 - val_acc: 0.8335\n",
      "Epoch 16/100\n",
      "52500/52500 [==============================] - 1s 27us/step - loss: 0.6701 - acc: 0.8338 - val_loss: 0.6492 - val_acc: 0.8373\n",
      "Epoch 17/100\n",
      "52500/52500 [==============================] - 1s 27us/step - loss: 0.6366 - acc: 0.8405 - val_loss: 0.6183 - val_acc: 0.8432\n",
      "Epoch 18/100\n",
      "52500/52500 [==============================] - 1s 27us/step - loss: 0.6073 - acc: 0.8465 - val_loss: 0.5918 - val_acc: 0.8495\n",
      "Epoch 19/100\n",
      "52500/52500 [==============================] - 1s 27us/step - loss: 0.5823 - acc: 0.8519 - val_loss: 0.5687 - val_acc: 0.8527\n",
      "Epoch 20/100\n",
      "52500/52500 [==============================] - 1s 28us/step - loss: 0.5602 - acc: 0.8564 - val_loss: 0.5483 - val_acc: 0.8579\n",
      "Epoch 21/100\n",
      "52500/52500 [==============================] - 1s 27us/step - loss: 0.5407 - acc: 0.8605 - val_loss: 0.5305 - val_acc: 0.8617\n",
      "Epoch 22/100\n",
      "52500/52500 [==============================] - 1s 27us/step - loss: 0.5235 - acc: 0.8634 - val_loss: 0.5141 - val_acc: 0.8654\n",
      "Epoch 23/100\n",
      "52500/52500 [==============================] - 1s 27us/step - loss: 0.5081 - acc: 0.8659 - val_loss: 0.4997 - val_acc: 0.8687\n",
      "Epoch 24/100\n",
      "52500/52500 [==============================] - 2s 29us/step - loss: 0.4942 - acc: 0.8687 - val_loss: 0.4874 - val_acc: 0.8717\n",
      "Epoch 25/100\n",
      "52500/52500 [==============================] - 2s 30us/step - loss: 0.4817 - acc: 0.8712 - val_loss: 0.4751 - val_acc: 0.8761\n",
      "Epoch 26/100\n",
      "52500/52500 [==============================] - 1s 27us/step - loss: 0.4704 - acc: 0.8743 - val_loss: 0.4642 - val_acc: 0.8774\n",
      "Epoch 27/100\n",
      "52500/52500 [==============================] - 1s 27us/step - loss: 0.4601 - acc: 0.8765 - val_loss: 0.4545 - val_acc: 0.8801\n",
      "Epoch 28/100\n",
      "52500/52500 [==============================] - 1s 27us/step - loss: 0.4507 - acc: 0.8786 - val_loss: 0.4457 - val_acc: 0.8816\n",
      "Epoch 29/100\n",
      "52500/52500 [==============================] - 2s 30us/step - loss: 0.4420 - acc: 0.8802 - val_loss: 0.4380 - val_acc: 0.8835\n",
      "Epoch 30/100\n",
      "52500/52500 [==============================] - 1s 28us/step - loss: 0.4340 - acc: 0.8815 - val_loss: 0.4300 - val_acc: 0.8853\n",
      "Epoch 31/100\n",
      "52500/52500 [==============================] - 2s 30us/step - loss: 0.4266 - acc: 0.8837 - val_loss: 0.4233 - val_acc: 0.8863\n",
      "Epoch 32/100\n",
      "52500/52500 [==============================] - 1s 28us/step - loss: 0.4197 - acc: 0.8850 - val_loss: 0.4163 - val_acc: 0.8886\n",
      "Epoch 33/100\n",
      "52500/52500 [==============================] - 1s 28us/step - loss: 0.4133 - acc: 0.8869 - val_loss: 0.4107 - val_acc: 0.8897\n",
      "Epoch 34/100\n",
      "52500/52500 [==============================] - 2s 30us/step - loss: 0.4075 - acc: 0.8872 - val_loss: 0.4052 - val_acc: 0.8902\n",
      "Epoch 35/100\n",
      "52500/52500 [==============================] - 2s 30us/step - loss: 0.4019 - acc: 0.8898 - val_loss: 0.3999 - val_acc: 0.8911\n",
      "Epoch 36/100\n",
      "52500/52500 [==============================] - 2s 29us/step - loss: 0.3968 - acc: 0.8903 - val_loss: 0.3947 - val_acc: 0.8923\n",
      "Epoch 37/100\n",
      "52500/52500 [==============================] - 1s 28us/step - loss: 0.3918 - acc: 0.8913 - val_loss: 0.3902 - val_acc: 0.8933\n",
      "Epoch 38/100\n",
      "52500/52500 [==============================] - 2s 29us/step - loss: 0.3871 - acc: 0.8925 - val_loss: 0.3862 - val_acc: 0.8933\n",
      "Epoch 39/100\n",
      "52500/52500 [==============================] - 1s 27us/step - loss: 0.3829 - acc: 0.8936 - val_loss: 0.3815 - val_acc: 0.8939\n",
      "Epoch 40/100\n",
      "52500/52500 [==============================] - 1s 26us/step - loss: 0.3788 - acc: 0.8947 - val_loss: 0.3777 - val_acc: 0.8941\n",
      "Epoch 41/100\n",
      "52500/52500 [==============================] - 1s 27us/step - loss: 0.3749 - acc: 0.8950 - val_loss: 0.3745 - val_acc: 0.8950\n",
      "Epoch 42/100\n",
      "52500/52500 [==============================] - 1s 27us/step - loss: 0.3712 - acc: 0.8958 - val_loss: 0.3708 - val_acc: 0.8970\n",
      "Epoch 43/100\n",
      "52500/52500 [==============================] - 1s 27us/step - loss: 0.3677 - acc: 0.8967 - val_loss: 0.3674 - val_acc: 0.8967\n",
      "Epoch 44/100\n",
      "52500/52500 [==============================] - 1s 27us/step - loss: 0.3644 - acc: 0.8974 - val_loss: 0.3642 - val_acc: 0.8970\n",
      "Epoch 45/100\n",
      "52500/52500 [==============================] - 1s 27us/step - loss: 0.3613 - acc: 0.8984 - val_loss: 0.3613 - val_acc: 0.8987\n",
      "Epoch 46/100\n",
      "52500/52500 [==============================] - 1s 27us/step - loss: 0.3581 - acc: 0.8991 - val_loss: 0.3583 - val_acc: 0.8985\n",
      "Epoch 47/100\n",
      "52500/52500 [==============================] - 1s 27us/step - loss: 0.3552 - acc: 0.8994 - val_loss: 0.3555 - val_acc: 0.9004\n",
      "Epoch 48/100\n",
      "52500/52500 [==============================] - 1s 27us/step - loss: 0.3524 - acc: 0.9002 - val_loss: 0.3531 - val_acc: 0.9007\n",
      "Epoch 49/100\n",
      "52500/52500 [==============================] - 1s 27us/step - loss: 0.3498 - acc: 0.9004 - val_loss: 0.3503 - val_acc: 0.9013\n",
      "Epoch 50/100\n",
      "52500/52500 [==============================] - 1s 27us/step - loss: 0.3471 - acc: 0.9013 - val_loss: 0.3488 - val_acc: 0.9024\n",
      "Epoch 51/100\n",
      "52500/52500 [==============================] - 1s 26us/step - loss: 0.3448 - acc: 0.9020 - val_loss: 0.3457 - val_acc: 0.9025\n",
      "Epoch 52/100\n",
      "52500/52500 [==============================] - 1s 26us/step - loss: 0.3423 - acc: 0.9027 - val_loss: 0.3437 - val_acc: 0.9030\n",
      "Epoch 53/100\n",
      "52500/52500 [==============================] - 1s 27us/step - loss: 0.3401 - acc: 0.9038 - val_loss: 0.3416 - val_acc: 0.9034\n",
      "Epoch 54/100\n",
      "52500/52500 [==============================] - 1s 26us/step - loss: 0.3378 - acc: 0.9040 - val_loss: 0.3394 - val_acc: 0.9043\n",
      "Epoch 55/100\n",
      "52500/52500 [==============================] - 1s 27us/step - loss: 0.3356 - acc: 0.9046 - val_loss: 0.3373 - val_acc: 0.9045\n",
      "Epoch 56/100\n",
      "52500/52500 [==============================] - 1s 27us/step - loss: 0.3335 - acc: 0.9046 - val_loss: 0.3356 - val_acc: 0.9043\n",
      "Epoch 57/100\n",
      "52500/52500 [==============================] - 1s 26us/step - loss: 0.3314 - acc: 0.9055 - val_loss: 0.3335 - val_acc: 0.9051\n",
      "Epoch 58/100\n",
      "52500/52500 [==============================] - 1s 27us/step - loss: 0.3295 - acc: 0.9063 - val_loss: 0.3318 - val_acc: 0.9062\n",
      "Epoch 59/100\n"
     ]
    },
    {
     "name": "stdout",
     "output_type": "stream",
     "text": [
      "52500/52500 [==============================] - 1s 27us/step - loss: 0.3276 - acc: 0.9064 - val_loss: 0.3300 - val_acc: 0.9069\n",
      "Epoch 60/100\n",
      "52500/52500 [==============================] - 1s 27us/step - loss: 0.3257 - acc: 0.9068 - val_loss: 0.3282 - val_acc: 0.9070\n",
      "Epoch 61/100\n",
      "52500/52500 [==============================] - 1s 26us/step - loss: 0.3240 - acc: 0.9071 - val_loss: 0.3269 - val_acc: 0.9067\n",
      "Epoch 62/100\n",
      "52500/52500 [==============================] - 1s 27us/step - loss: 0.3222 - acc: 0.9075 - val_loss: 0.3251 - val_acc: 0.9079\n",
      "Epoch 63/100\n",
      "52500/52500 [==============================] - 1s 27us/step - loss: 0.3205 - acc: 0.9083 - val_loss: 0.3233 - val_acc: 0.9081\n",
      "Epoch 64/100\n",
      "52500/52500 [==============================] - 1s 27us/step - loss: 0.3188 - acc: 0.9088 - val_loss: 0.3217 - val_acc: 0.9091\n",
      "Epoch 65/100\n",
      "52500/52500 [==============================] - 1s 27us/step - loss: 0.3171 - acc: 0.9089 - val_loss: 0.3208 - val_acc: 0.9093\n",
      "Epoch 66/100\n",
      "52500/52500 [==============================] - 1s 27us/step - loss: 0.3156 - acc: 0.9093 - val_loss: 0.3189 - val_acc: 0.9094\n",
      "Epoch 67/100\n",
      "52500/52500 [==============================] - 2s 30us/step - loss: 0.3141 - acc: 0.9094 - val_loss: 0.3174 - val_acc: 0.9107\n",
      "Epoch 68/100\n",
      "52500/52500 [==============================] - 1s 28us/step - loss: 0.3126 - acc: 0.9098 - val_loss: 0.3160 - val_acc: 0.9111\n",
      "Epoch 69/100\n",
      "52500/52500 [==============================] - 1s 28us/step - loss: 0.3111 - acc: 0.9103 - val_loss: 0.3149 - val_acc: 0.9118\n",
      "Epoch 70/100\n",
      "52500/52500 [==============================] - 1s 28us/step - loss: 0.3096 - acc: 0.9110 - val_loss: 0.3134 - val_acc: 0.9116\n",
      "Epoch 71/100\n",
      "52500/52500 [==============================] - 1s 28us/step - loss: 0.3082 - acc: 0.9111 - val_loss: 0.3122 - val_acc: 0.9121\n",
      "Epoch 72/100\n",
      "52500/52500 [==============================] - 1s 28us/step - loss: 0.3067 - acc: 0.9117 - val_loss: 0.3107 - val_acc: 0.9127\n",
      "Epoch 73/100\n",
      "52500/52500 [==============================] - 2s 29us/step - loss: 0.3054 - acc: 0.9114 - val_loss: 0.3099 - val_acc: 0.9134\n",
      "Epoch 74/100\n",
      "52500/52500 [==============================] - 1s 26us/step - loss: 0.3041 - acc: 0.9123 - val_loss: 0.3086 - val_acc: 0.9137\n",
      "Epoch 75/100\n",
      "52500/52500 [==============================] - 1s 26us/step - loss: 0.3028 - acc: 0.9121 - val_loss: 0.3073 - val_acc: 0.9139\n",
      "Epoch 76/100\n",
      "52500/52500 [==============================] - 1s 26us/step - loss: 0.3015 - acc: 0.9129 - val_loss: 0.3066 - val_acc: 0.9134\n",
      "Epoch 77/100\n",
      "52500/52500 [==============================] - 2s 30us/step - loss: 0.3003 - acc: 0.9132 - val_loss: 0.3051 - val_acc: 0.9135\n",
      "Epoch 78/100\n",
      "52500/52500 [==============================] - 1s 28us/step - loss: 0.2989 - acc: 0.9136 - val_loss: 0.3046 - val_acc: 0.9145\n",
      "Epoch 79/100\n",
      "52500/52500 [==============================] - 1s 28us/step - loss: 0.2977 - acc: 0.9138 - val_loss: 0.3034 - val_acc: 0.9141\n",
      "Epoch 80/100\n",
      "52500/52500 [==============================] - 2s 29us/step - loss: 0.2966 - acc: 0.9140 - val_loss: 0.3019 - val_acc: 0.9149\n",
      "Epoch 81/100\n",
      "52500/52500 [==============================] - 2s 31us/step - loss: 0.2954 - acc: 0.9146 - val_loss: 0.3011 - val_acc: 0.9151\n",
      "Epoch 82/100\n",
      "52500/52500 [==============================] - 2s 29us/step - loss: 0.2943 - acc: 0.9144 - val_loss: 0.2997 - val_acc: 0.9152\n",
      "Epoch 83/100\n",
      "52500/52500 [==============================] - 1s 28us/step - loss: 0.2931 - acc: 0.9151 - val_loss: 0.2987 - val_acc: 0.9158\n",
      "Epoch 84/100\n",
      "52500/52500 [==============================] - 1s 28us/step - loss: 0.2920 - acc: 0.9149 - val_loss: 0.2981 - val_acc: 0.9154\n",
      "Epoch 85/100\n",
      "52500/52500 [==============================] - 1s 28us/step - loss: 0.2909 - acc: 0.9155 - val_loss: 0.2967 - val_acc: 0.9163\n",
      "Epoch 86/100\n",
      "52500/52500 [==============================] - 1s 28us/step - loss: 0.2899 - acc: 0.9158 - val_loss: 0.2963 - val_acc: 0.9161\n",
      "Epoch 87/100\n",
      "52500/52500 [==============================] - 1s 29us/step - loss: 0.2887 - acc: 0.9162 - val_loss: 0.2952 - val_acc: 0.9162\n",
      "Epoch 88/100\n",
      "52500/52500 [==============================] - 2s 29us/step - loss: 0.2877 - acc: 0.9166 - val_loss: 0.2943 - val_acc: 0.9169\n",
      "Epoch 89/100\n",
      "52500/52500 [==============================] - 1s 28us/step - loss: 0.2866 - acc: 0.9170 - val_loss: 0.2933 - val_acc: 0.9166\n",
      "Epoch 90/100\n",
      "52500/52500 [==============================] - 1s 28us/step - loss: 0.2856 - acc: 0.9172 - val_loss: 0.2924 - val_acc: 0.9176\n",
      "Epoch 91/100\n",
      "52500/52500 [==============================] - 1s 28us/step - loss: 0.2846 - acc: 0.9174 - val_loss: 0.2916 - val_acc: 0.9173\n",
      "Epoch 92/100\n",
      "52500/52500 [==============================] - 1s 28us/step - loss: 0.2836 - acc: 0.9174 - val_loss: 0.2906 - val_acc: 0.9180\n",
      "Epoch 93/100\n",
      "52500/52500 [==============================] - 1s 28us/step - loss: 0.2826 - acc: 0.9181 - val_loss: 0.2897 - val_acc: 0.9168\n",
      "Epoch 94/100\n",
      "52500/52500 [==============================] - 1s 28us/step - loss: 0.2817 - acc: 0.9187 - val_loss: 0.2893 - val_acc: 0.9179\n",
      "Epoch 95/100\n",
      "52500/52500 [==============================] - 1s 28us/step - loss: 0.2808 - acc: 0.9184 - val_loss: 0.2881 - val_acc: 0.9184\n",
      "Epoch 96/100\n",
      "52500/52500 [==============================] - 1s 28us/step - loss: 0.2798 - acc: 0.9191 - val_loss: 0.2871 - val_acc: 0.9189\n",
      "Epoch 97/100\n",
      "52500/52500 [==============================] - 1s 29us/step - loss: 0.2788 - acc: 0.9194 - val_loss: 0.2866 - val_acc: 0.9190\n",
      "Epoch 98/100\n",
      "52500/52500 [==============================] - 2s 29us/step - loss: 0.2779 - acc: 0.9193 - val_loss: 0.2857 - val_acc: 0.9182\n",
      "Epoch 99/100\n",
      "52500/52500 [==============================] - 1s 28us/step - loss: 0.2770 - acc: 0.9194 - val_loss: 0.2849 - val_acc: 0.9193\n",
      "Epoch 100/100\n",
      "52500/52500 [==============================] - 2s 29us/step - loss: 0.2761 - acc: 0.9199 - val_loss: 0.2838 - val_acc: 0.9190\n"
     ]
    }
   ],
   "source": [
    "# collect the history during fit\n",
    "H = model.fit(trainX, trainY, validation_data=(testX, testY), epochs=100, batch_size=128)"
   ]
  },
  {
   "cell_type": "markdown",
   "metadata": {},
   "source": [
    "## Evaluating the model"
   ]
  },
  {
   "cell_type": "code",
   "execution_count": 65,
   "metadata": {},
   "outputs": [],
   "source": [
    "pred = model.predict(testX, batch_size=128)"
   ]
  },
  {
   "cell_type": "code",
   "execution_count": 66,
   "metadata": {},
   "outputs": [],
   "source": [
    "from sklearn.metrics import classification_report"
   ]
  },
  {
   "cell_type": "code",
   "execution_count": 67,
   "metadata": {},
   "outputs": [],
   "source": [
    "?classification_report"
   ]
  },
  {
   "cell_type": "code",
   "execution_count": 63,
   "metadata": {},
   "outputs": [
    {
     "data": {
      "text/plain": [
       "array([0., 1., 2., 3., 4., 5., 6., 7., 8., 9.])"
      ]
     },
     "execution_count": 63,
     "metadata": {},
     "output_type": "execute_result"
    }
   ],
   "source": [
    "lb.classes_"
   ]
  },
  {
   "cell_type": "code",
   "execution_count": 73,
   "metadata": {},
   "outputs": [
    {
     "data": {
      "text/plain": [
       "array([[0, 0, 0, 1, 0, 0, 0, 0, 0, 0],\n",
       "       [0, 0, 1, 0, 0, 0, 0, 0, 0, 0],\n",
       "       [0, 0, 0, 0, 0, 0, 0, 0, 1, 0]])"
      ]
     },
     "execution_count": 73,
     "metadata": {},
     "output_type": "execute_result"
    }
   ],
   "source": [
    "testY[0:3]"
   ]
  },
  {
   "cell_type": "code",
   "execution_count": 70,
   "metadata": {},
   "outputs": [
    {
     "data": {
      "text/plain": [
       "array([3, 2, 8, ..., 2, 0, 6])"
      ]
     },
     "execution_count": 70,
     "metadata": {},
     "output_type": "execute_result"
    }
   ],
   "source": [
    "# axis 0 is columnwise\n",
    "# axis 1 is rowwise\n",
    "# argmax() returns the index of the max element\n",
    "testY.argmax(axis=1)"
   ]
  },
  {
   "cell_type": "code",
   "execution_count": 74,
   "metadata": {},
   "outputs": [
    {
     "name": "stdout",
     "output_type": "stream",
     "text": [
      "              precision    recall  f1-score   support\n",
      "\n",
      "         0.0       0.95      0.97      0.96      1730\n",
      "         1.0       0.94      0.97      0.96      1973\n",
      "         2.0       0.92      0.90      0.91      1720\n",
      "         3.0       0.90      0.90      0.90      1848\n",
      "         4.0       0.92      0.93      0.93      1692\n",
      "         5.0       0.88      0.86      0.87      1577\n",
      "         6.0       0.94      0.96      0.95      1715\n",
      "         7.0       0.94      0.92      0.93      1824\n",
      "         8.0       0.90      0.86      0.88      1712\n",
      "         9.0       0.89      0.90      0.89      1709\n",
      "\n",
      "   micro avg       0.92      0.92      0.92     17500\n",
      "   macro avg       0.92      0.92      0.92     17500\n",
      "weighted avg       0.92      0.92      0.92     17500\n",
      "\n"
     ]
    }
   ],
   "source": [
    "# do column wise comparision between actuals vs preditions\n",
    "\n",
    "print(classification_report(testY.argmax(axis=1), pred.argmax(axis=1), target_names=[str(x) for x in lb.classes_]))"
   ]
  },
  {
   "cell_type": "code",
   "execution_count": 77,
   "metadata": {},
   "outputs": [],
   "source": [
    "from sklearn.metrics import accuracy_score, confusion_matrix"
   ]
  },
  {
   "cell_type": "code",
   "execution_count": 76,
   "metadata": {},
   "outputs": [
    {
     "name": "stdout",
     "output_type": "stream",
     "text": [
      "0.9190285714285714\n"
     ]
    }
   ],
   "source": [
    "print(accuracy_score(testY.argmax(axis=1), pred.argmax(axis=1)))"
   ]
  },
  {
   "cell_type": "code",
   "execution_count": 81,
   "metadata": {},
   "outputs": [],
   "source": [
    "?confusion_matrix"
   ]
  },
  {
   "cell_type": "code",
   "execution_count": 82,
   "metadata": {},
   "outputs": [],
   "source": [
    "target_names=[str(x) for x in lb.classes_]"
   ]
  },
  {
   "cell_type": "code",
   "execution_count": 83,
   "metadata": {},
   "outputs": [
    {
     "data": {
      "text/plain": [
       "['0.0', '1.0', '2.0', '3.0', '4.0', '5.0', '6.0', '7.0', '8.0', '9.0']"
      ]
     },
     "execution_count": 83,
     "metadata": {},
     "output_type": "execute_result"
    }
   ],
   "source": [
    "target_names"
   ]
  },
  {
   "cell_type": "code",
   "execution_count": 88,
   "metadata": {},
   "outputs": [
    {
     "name": "stdout",
     "output_type": "stream",
     "text": [
      "[[1672    0    4    1    4   16   13    4   15    1]\n",
      " [   0 1916    8    8    1   10    1    5   19    5]\n",
      " [   8   16 1552   21   30    5   26   19   32   11]\n",
      " [   5    9   43 1661    1   60    4   26   27   12]\n",
      " [   4    3    9    2 1581    3   16    3    7   64]\n",
      " [  17    8   11   65   20 1360   30    6   43   17]\n",
      " [  10    6    5    1   12   31 1638    2   10    0]\n",
      " [   9   15   33    8   15    5    1 1687    1   50]\n",
      " [  13   49   19   47    9   50   11    4 1477   33]\n",
      " [  16    9    3   24   50   11    1   43   13 1539]]\n"
     ]
    }
   ],
   "source": [
    "print(confusion_matrix(testY.argmax(axis=1), pred.argmax(axis=1)))"
   ]
  },
  {
   "cell_type": "markdown",
   "metadata": {},
   "source": [
    "## Plot the accuracy"
   ]
  },
  {
   "cell_type": "code",
   "execution_count": 89,
   "metadata": {},
   "outputs": [],
   "source": [
    "import matplotlib.pyplot as plt"
   ]
  },
  {
   "cell_type": "code",
   "execution_count": 91,
   "metadata": {},
   "outputs": [
    {
     "data": {
      "image/png": "[encoded data removed]",
      "text/plain": [
       "<Figure size 432x288 with 1 Axes>"
      ]
     },
     "metadata": {},
     "output_type": "display_data"
    }
   ],
   "source": [
    "# plot the training loss and accuracy\n",
    "plt.style.use(\"ggplot\")\n",
    "plt.figure()\n",
    "plt.plot(np.arange(0, 100), H.history[\"loss\"], label=\"train_loss\")\n",
    "plt.plot(np.arange(0, 100), H.history[\"val_loss\"], label=\"val_loss\")\n",
    "plt.plot(np.arange(0, 100), H.history[\"acc\"], label=\"train_acc\")\n",
    "plt.plot(np.arange(0, 100), H.history[\"val_acc\"], label=\"val_acc\")\n",
    "plt.title(\"Training Loss and Accuracy\")\n",
    "plt.xlabel(\"Epoch #\")\n",
    "plt.ylabel(\"Loss/Accuracy\")\n",
    "plt.legend()\n",
    "plt.savefig('mnist_accuracy.png')"
   ]
  },
  {
   "cell_type": "code",
   "execution_count": null,
   "metadata": {},
   "outputs": [],
   "source": []
  }
 ],
 "metadata": {
  "kernelspec": {
   "display_name": "Python 3",
   "language": "python",
   "name": "python3"
  },
  "language_info": {
   "codemirror_mode": {
    "name": "ipython",
    "version": 3
   },
   "file_extension": ".py",
   "mimetype": "text/x-python",
   "name": "python",
   "nbconvert_exporter": "python",
   "pygments_lexer": "ipython3",
   "version": "3.6.4"
  }
 },
 "nbformat": 4,
 "nbformat_minor": 2
}
