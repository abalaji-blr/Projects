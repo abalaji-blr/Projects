{
 "cells": [
  {
   "cell_type": "markdown",
   "metadata": {},
   "source": [
    "# Classify MNIST Digits using LeNet"
   ]
  },
  {
   "cell_type": "markdown",
   "metadata": {},
   "source": [
    "**Objective**: Classify MNIST digits using LeNet"
   ]
  },
  {
   "cell_type": "markdown",
   "metadata": {},
   "source": [
    "## About MNIST\n",
    "    * MNIST dataset is available from SciKit datasets library\n",
    "    * 70K samples\n",
    "    * Each sample is of 28x28, ie., 784 pixels"
   ]
  },
  {
   "cell_type": "markdown",
   "metadata": {},
   "source": [
    "## About LeNet\n",
    " * Latest Convolutional Neural Network designed for Handwritten and OCR applications.\n",
    " * [For Demo, Architecture, Publications, Visit Yann Lecun website ](http://yann.lecun.com/exdb/lenet/)\n",
    " * 2 sets of Conv -> Rely -> Pool layers\n",
    " * INPUT => CONV => RELU => POOL => CONV => RELU => POOL => FC => RELU => FC (output)"
   ]
  },
  {
   "cell_type": "markdown",
   "metadata": {},
   "source": [
    "## Define LeNet"
   ]
  },
  {
   "cell_type": "code",
   "execution_count": 1,
   "metadata": {},
   "outputs": [
    {
     "name": "stderr",
     "output_type": "stream",
     "text": [
      "Using Theano backend.\n"
     ]
    }
   ],
   "source": [
    "from keras.models import Sequential\n",
    "from keras.layers.core import Dense, Flatten, Activation\n",
    "from keras.layers.convolutional import Conv2D, MaxPooling2D"
   ]
  },
  {
   "cell_type": "code",
   "execution_count": 2,
   "metadata": {},
   "outputs": [],
   "source": [
    "# definition of LeNet\n",
    "def le_net(width, height, depth, num_classes):\n",
    "    #\n",
    "    model = Sequential()\n",
    "    inputShape = (height, width, depth)\n",
    "    \n",
    "    # first set of Conv -> Relu -> Pool layers\n",
    "    filters = 20\n",
    "    kernel_size = (3,3)\n",
    "    pad = 'same'\n",
    "    \n",
    "    model.add(Conv2D(filters, kernel_size, padding=pad, input_shape= inputShape))\n",
    "    model.add(Activation('relu'))\n",
    "    model.add(MaxPooling2D(pool_size=(2,2), strides=(2,2)))\n",
    "    \n",
    "    # second set of Conv -> Relu -> Pool layers\n",
    "    model.add(Conv2D(50, kernel_size, padding=pad))\n",
    "    model.add(Activation('relu'))\n",
    "    model.add(MaxPooling2D(pool_size=(2,2), strides=(2,2)))\n",
    "    \n",
    "    # before connecting to fully connected network, we have to flatten it.\n",
    "    model.add(Flatten())\n",
    "    # only set of FC -> Relu layer\n",
    "    model.add(Dense(500))\n",
    "    model.add(Activation('relu'))\n",
    "    \n",
    "    # output layer\n",
    "    model.add(Dense(num_classes))\n",
    "    model.add(Activation('softmax'))\n",
    "    \n",
    "    # return the le net architecure\n",
    "    return model"
   ]
  },
  {
   "cell_type": "markdown",
   "metadata": {},
   "source": [
    "## Read MNIST dataset"
   ]
  },
  {
   "cell_type": "code",
   "execution_count": 3,
   "metadata": {},
   "outputs": [],
   "source": [
    "from sklearn import datasets\n",
    "import numpy as np"
   ]
  },
  {
   "cell_type": "code",
   "execution_count": 4,
   "metadata": {},
   "outputs": [
    {
     "name": "stdout",
     "output_type": "stream",
     "text": [
      "Numpy:  1.14.2\n"
     ]
    }
   ],
   "source": [
    "print('Numpy: ', np.__version__)"
   ]
  },
  {
   "cell_type": "code",
   "execution_count": 5,
   "metadata": {},
   "outputs": [
    {
     "name": "stderr",
     "output_type": "stream",
     "text": [
      "/usr/local/lib/python3.6/site-packages/sklearn/utils/deprecation.py:77: DeprecationWarning: Function fetch_mldata is deprecated; fetch_mldata was deprecated in version 0.20 and will be removed in version 0.22\n",
      "  warnings.warn(msg, category=DeprecationWarning)\n",
      "/usr/local/lib/python3.6/site-packages/sklearn/utils/deprecation.py:77: DeprecationWarning: Function mldata_filename is deprecated; mldata_filename was deprecated in version 0.20 and will be removed in version 0.22\n",
      "  warnings.warn(msg, category=DeprecationWarning)\n"
     ]
    }
   ],
   "source": [
    "mnist = datasets.fetch_mldata('MNIST Original')"
   ]
  },
  {
   "cell_type": "code",
   "execution_count": 6,
   "metadata": {},
   "outputs": [
    {
     "data": {
      "text/plain": [
       "sklearn.utils.Bunch"
      ]
     },
     "execution_count": 6,
     "metadata": {},
     "output_type": "execute_result"
    }
   ],
   "source": [
    "type(mnist)"
   ]
  },
  {
   "cell_type": "code",
   "execution_count": 7,
   "metadata": {},
   "outputs": [
    {
     "data": {
      "text/plain": [
       "['label', 'data']"
      ]
     },
     "execution_count": 7,
     "metadata": {},
     "output_type": "execute_result"
    }
   ],
   "source": [
    "mnist.COL_NAMES"
   ]
  },
  {
   "cell_type": "code",
   "execution_count": 8,
   "metadata": {},
   "outputs": [
    {
     "data": {
      "text/plain": [
       "70000"
      ]
     },
     "execution_count": 8,
     "metadata": {},
     "output_type": "execute_result"
    }
   ],
   "source": [
    "len(mnist.target)"
   ]
  },
  {
   "cell_type": "code",
   "execution_count": 9,
   "metadata": {},
   "outputs": [
    {
     "data": {
      "text/plain": [
       "(70000, 784)"
      ]
     },
     "execution_count": 9,
     "metadata": {},
     "output_type": "execute_result"
    }
   ],
   "source": [
    "mnist.data.shape"
   ]
  },
  {
   "cell_type": "code",
   "execution_count": 10,
   "metadata": {},
   "outputs": [],
   "source": [
    "data = mnist.data"
   ]
  },
  {
   "cell_type": "code",
   "execution_count": 11,
   "metadata": {},
   "outputs": [
    {
     "data": {
      "text/plain": [
       "(70000, 784)"
      ]
     },
     "execution_count": 11,
     "metadata": {},
     "output_type": "execute_result"
    }
   ],
   "source": [
    "data.shape"
   ]
  },
  {
   "cell_type": "code",
   "execution_count": 12,
   "metadata": {},
   "outputs": [],
   "source": [
    "?data.reshape"
   ]
  },
  {
   "cell_type": "code",
   "execution_count": 13,
   "metadata": {},
   "outputs": [],
   "source": [
    "data = data.reshape(data.shape[0], 28, 28, 1)"
   ]
  },
  {
   "cell_type": "code",
   "execution_count": 14,
   "metadata": {},
   "outputs": [
    {
     "data": {
      "text/plain": [
       "(70000, 28, 28, 1)"
      ]
     },
     "execution_count": 14,
     "metadata": {},
     "output_type": "execute_result"
    }
   ],
   "source": [
    "data.shape"
   ]
  },
  {
   "cell_type": "code",
   "execution_count": 15,
   "metadata": {},
   "outputs": [],
   "source": [
    "#print(data[0])"
   ]
  },
  {
   "cell_type": "markdown",
   "metadata": {},
   "source": [
    "## Build Model"
   ]
  },
  {
   "cell_type": "markdown",
   "metadata": {},
   "source": [
    "### Split train / test data"
   ]
  },
  {
   "cell_type": "code",
   "execution_count": 16,
   "metadata": {},
   "outputs": [],
   "source": [
    "from sklearn.model_selection import train_test_split"
   ]
  },
  {
   "cell_type": "code",
   "execution_count": 17,
   "metadata": {},
   "outputs": [],
   "source": [
    "# scale the data in the range [0, 1] and split data 75:25 \n",
    "\n",
    "(trainX, testX, trainY, testY) = train_test_split(data / 255.0, \n",
    "                                                  mnist.target.astype('int'),\n",
    "                                                  test_size=0.25,\n",
    "                                                  random_state=123)\n"
   ]
  },
  {
   "cell_type": "code",
   "execution_count": 18,
   "metadata": {},
   "outputs": [],
   "source": [
    "## convert the labels into vectors\n",
    "from sklearn.preprocessing import LabelBinarizer"
   ]
  },
  {
   "cell_type": "code",
   "execution_count": 19,
   "metadata": {},
   "outputs": [],
   "source": [
    "le = LabelBinarizer()\n",
    "trainY = le.fit_transform(trainY)\n",
    "testY  = le.transform(testY)"
   ]
  },
  {
   "cell_type": "code",
   "execution_count": 20,
   "metadata": {},
   "outputs": [
    {
     "name": "stdout",
     "output_type": "stream",
     "text": [
      "[[0 0 0 0 1 0 0 0 0 0]\n",
      " [0 0 0 0 1 0 0 0 0 0]]\n",
      "[[0 0 1 0 0 0 0 0 0 0]\n",
      " [0 0 0 0 0 0 0 0 1 0]]\n"
     ]
    }
   ],
   "source": [
    "print(trainY[1:3])\n",
    "print(testY[1:3])"
   ]
  },
  {
   "cell_type": "markdown",
   "metadata": {},
   "source": [
    "## Compile the model"
   ]
  },
  {
   "cell_type": "code",
   "execution_count": 21,
   "metadata": {},
   "outputs": [],
   "source": [
    "from keras.optimizers import SGD"
   ]
  },
  {
   "cell_type": "code",
   "execution_count": 22,
   "metadata": {},
   "outputs": [],
   "source": [
    "sgd = SGD(lr=0.01)\n",
    "\n",
    "model = le_net(28, 28, 1, num_classes=10)"
   ]
  },
  {
   "cell_type": "code",
   "execution_count": 23,
   "metadata": {},
   "outputs": [
    {
     "name": "stdout",
     "output_type": "stream",
     "text": [
      "_________________________________________________________________\n",
      "Layer (type)                 Output Shape              Param #   \n",
      "=================================================================\n",
      "conv2d_1 (Conv2D)            (None, 28, 28, 20)        200       \n",
      "_________________________________________________________________\n",
      "activation_1 (Activation)    (None, 28, 28, 20)        0         \n",
      "_________________________________________________________________\n",
      "max_pooling2d_1 (MaxPooling2 (None, 14, 14, 20)        0         \n",
      "_________________________________________________________________\n",
      "conv2d_2 (Conv2D)            (None, 14, 14, 50)        9050      \n",
      "_________________________________________________________________\n",
      "activation_2 (Activation)    (None, 14, 14, 50)        0         \n",
      "_________________________________________________________________\n",
      "max_pooling2d_2 (MaxPooling2 (None, 7, 7, 50)          0         \n",
      "_________________________________________________________________\n",
      "flatten_1 (Flatten)          (None, 2450)              0         \n",
      "_________________________________________________________________\n",
      "dense_1 (Dense)              (None, 500)               1225500   \n",
      "_________________________________________________________________\n",
      "activation_3 (Activation)    (None, 500)               0         \n",
      "_________________________________________________________________\n",
      "dense_2 (Dense)              (None, 10)                5010      \n",
      "_________________________________________________________________\n",
      "activation_4 (Activation)    (None, 10)                0         \n",
      "=================================================================\n",
      "Total params: 1,239,760\n",
      "Trainable params: 1,239,760\n",
      "Non-trainable params: 0\n",
      "_________________________________________________________________\n"
     ]
    }
   ],
   "source": [
    "model.summary()"
   ]
  },
  {
   "cell_type": "code",
   "execution_count": 24,
   "metadata": {},
   "outputs": [],
   "source": [
    "model.compile(loss='categorical_crossentropy', optimizer=sgd, metrics=['accuracy'])"
   ]
  },
  {
   "cell_type": "markdown",
   "metadata": {},
   "source": [
    "## Train the network"
   ]
  },
  {
   "cell_type": "code",
   "execution_count": 25,
   "metadata": {},
   "outputs": [
    {
     "name": "stdout",
     "output_type": "stream",
     "text": [
      "Train on 52500 samples, validate on 17500 samples\n",
      "Epoch 1/20\n",
      "52500/52500 [==============================] - 58s 1ms/step - loss: 1.0804 - acc: 0.7345 - val_loss: 0.4834 - val_acc: 0.8451\n",
      "Epoch 2/20\n",
      "52500/52500 [==============================] - 58s 1ms/step - loss: 0.3107 - acc: 0.9058 - val_loss: 0.5533 - val_acc: 0.8243\n",
      "Epoch 3/20\n",
      "52500/52500 [==============================] - 99s 2ms/step - loss: 0.2310 - acc: 0.9305 - val_loss: 0.2896 - val_acc: 0.9113\n",
      "Epoch 4/20\n",
      "52500/52500 [==============================] - 60s 1ms/step - loss: 0.1853 - acc: 0.9444 - val_loss: 0.2224 - val_acc: 0.9299\n",
      "Epoch 5/20\n",
      "52500/52500 [==============================] - 61s 1ms/step - loss: 0.1522 - acc: 0.9540 - val_loss: 0.1434 - val_acc: 0.9570\n",
      "Epoch 6/20\n",
      "52500/52500 [==============================] - 61s 1ms/step - loss: 0.1318 - acc: 0.9602 - val_loss: 0.1602 - val_acc: 0.9462\n",
      "Epoch 7/20\n",
      "52500/52500 [==============================] - 61s 1ms/step - loss: 0.1127 - acc: 0.9665 - val_loss: 0.1601 - val_acc: 0.9499\n",
      "Epoch 8/20\n",
      "52500/52500 [==============================] - 59s 1ms/step - loss: 0.1016 - acc: 0.9698 - val_loss: 0.1031 - val_acc: 0.9694\n",
      "Epoch 9/20\n",
      "52500/52500 [==============================] - 59s 1ms/step - loss: 0.0919 - acc: 0.9714 - val_loss: 0.4182 - val_acc: 0.8703\n",
      "Epoch 10/20\n",
      "52500/52500 [==============================] - 58s 1ms/step - loss: 0.0851 - acc: 0.9735 - val_loss: 0.0936 - val_acc: 0.9713\n",
      "Epoch 11/20\n",
      "52500/52500 [==============================] - 58s 1ms/step - loss: 0.0772 - acc: 0.9769 - val_loss: 0.2361 - val_acc: 0.9265\n",
      "Epoch 12/20\n",
      "52500/52500 [==============================] - 58s 1ms/step - loss: 0.0724 - acc: 0.9778 - val_loss: 0.1626 - val_acc: 0.9459\n",
      "Epoch 13/20\n",
      "52500/52500 [==============================] - 235s 4ms/step - loss: 0.0674 - acc: 0.9792 - val_loss: 0.0879 - val_acc: 0.9718\n",
      "Epoch 14/20\n",
      "52500/52500 [==============================] - 58s 1ms/step - loss: 0.0627 - acc: 0.9805 - val_loss: 0.1705 - val_acc: 0.9479\n",
      "Epoch 15/20\n",
      "52500/52500 [==============================] - 58s 1ms/step - loss: 0.0599 - acc: 0.9816 - val_loss: 0.0741 - val_acc: 0.9774\n",
      "Epoch 16/20\n",
      "52500/52500 [==============================] - 566s 11ms/step - loss: 0.0565 - acc: 0.9820 - val_loss: 0.0761 - val_acc: 0.9768\n",
      "Epoch 17/20\n",
      "52500/52500 [==============================] - 60s 1ms/step - loss: 0.0537 - acc: 0.9836 - val_loss: 0.0854 - val_acc: 0.9730\n",
      "Epoch 18/20\n",
      "52500/52500 [==============================] - 62s 1ms/step - loss: 0.0506 - acc: 0.9844 - val_loss: 0.0651 - val_acc: 0.9805\n",
      "Epoch 19/20\n",
      "52500/52500 [==============================] - 59s 1ms/step - loss: 0.0489 - acc: 0.9848 - val_loss: 0.0811 - val_acc: 0.9743\n",
      "Epoch 20/20\n",
      "52500/52500 [==============================] - 60s 1ms/step - loss: 0.0465 - acc: 0.9857 - val_loss: 0.0629 - val_acc: 0.9806\n"
     ]
    }
   ],
   "source": [
    "# train the network\n",
    "H = model.fit(trainX, trainY, validation_data=(testX, testY),  epochs=20, batch_size=128, verbose=1)"
   ]
  },
  {
   "cell_type": "markdown",
   "metadata": {},
   "source": [
    "## Evaluate the model"
   ]
  },
  {
   "cell_type": "code",
   "execution_count": 27,
   "metadata": {},
   "outputs": [],
   "source": [
    "pred = model.predict(testX, batch_size=128)"
   ]
  },
  {
   "cell_type": "code",
   "execution_count": 28,
   "metadata": {},
   "outputs": [
    {
     "name": "stdout",
     "output_type": "stream",
     "text": [
      "              precision    recall  f1-score   support\n",
      "\n",
      "           0       0.98      0.99      0.99      1730\n",
      "           1       0.99      0.99      0.99      1973\n",
      "           2       0.98      0.99      0.98      1720\n",
      "           3       0.98      0.97      0.98      1848\n",
      "           4       0.98      0.99      0.98      1692\n",
      "           5       0.99      0.96      0.98      1577\n",
      "           6       0.97      0.99      0.98      1715\n",
      "           7       0.98      0.98      0.98      1824\n",
      "           8       0.97      0.96      0.97      1712\n",
      "           9       0.97      0.97      0.97      1709\n",
      "\n",
      "   micro avg       0.98      0.98      0.98     17500\n",
      "   macro avg       0.98      0.98      0.98     17500\n",
      "weighted avg       0.98      0.98      0.98     17500\n",
      "\n"
     ]
    }
   ],
   "source": [
    "from sklearn.metrics import classification_report\n",
    "\n",
    "print(classification_report(testY.argmax(axis=1), pred.argmax(axis=1), target_names=[str(x) for x in le.classes_]))"
   ]
  },
  {
   "cell_type": "code",
   "execution_count": 29,
   "metadata": {},
   "outputs": [
    {
     "name": "stdout",
     "output_type": "stream",
     "text": [
      "0.9805714285714285\n"
     ]
    }
   ],
   "source": [
    "from sklearn.metrics import accuracy_score, confusion_matrix\n",
    "\n",
    "print(accuracy_score(testY.argmax(axis=1), pred.argmax(axis=1)))"
   ]
  },
  {
   "cell_type": "markdown",
   "metadata": {},
   "source": [
    "## Plot the accuracy"
   ]
  },
  {
   "cell_type": "code",
   "execution_count": 32,
   "metadata": {},
   "outputs": [
    {
     "data": {
      "image/png": "[encoded data removed]",
      "text/plain": [
       "<Figure size 432x288 with 1 Axes>"
      ]
     },
     "metadata": {},
     "output_type": "display_data"
    }
   ],
   "source": [
    "import matplotlib.pyplot as plt\n",
    "\n",
    "# plot the training loss and accuracy\n",
    "plt.style.use(\"ggplot\")\n",
    "plt.figure()\n",
    "plt.plot(np.arange(0, 20), H.history[\"loss\"], label=\"train_loss\")\n",
    "plt.plot(np.arange(0, 20), H.history[\"val_loss\"], label=\"val_loss\")\n",
    "plt.plot(np.arange(0, 20), H.history[\"acc\"], label=\"train_acc\")\n",
    "plt.plot(np.arange(0, 20), H.history[\"val_acc\"], label=\"val_acc\")\n",
    "plt.title(\"Training Loss and Accuracy\")\n",
    "plt.xlabel(\"Epoch #\")\n",
    "plt.ylabel(\"Loss/Accuracy\")\n",
    "plt.legend()\n",
    "plt.savefig('mnist_LeNet_accuracy.png')\n",
    "plt.show()"
   ]
  },
  {
   "cell_type": "code",
   "execution_count": 33,
   "metadata": {},
   "outputs": [],
   "source": [
    "# save the model\n",
    "model.save('mnist_LeNet.hdf5')"
   ]
  },
  {
   "cell_type": "code",
   "execution_count": null,
   "metadata": {},
   "outputs": [],
   "source": []
  }
 ],
 "metadata": {
  "kernelspec": {
   "display_name": "Python 3",
   "language": "python",
   "name": "python3"
  },
  "language_info": {
   "codemirror_mode": {
    "name": "ipython",
    "version": 3
   },
   "file_extension": ".py",
   "mimetype": "text/x-python",
   "name": "python",
   "nbconvert_exporter": "python",
   "pygments_lexer": "ipython3",
   "version": "3.6.4"
  }
 },
 "nbformat": 4,
 "nbformat_minor": 2
}
