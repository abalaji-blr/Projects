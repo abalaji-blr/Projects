{
  "nbformat": 4,
  "nbformat_minor": 0,
  "metadata": {
    "colab": {
      "name": "Assignment_3A_DNN.ipynb",
      "version": "0.3.2",
      "provenance": [],
      "collapsed_sections": [],
      "toc_visible": true
    },
    "kernelspec": {
      "name": "python3",
      "display_name": "Python 3"
    },
    "accelerator": "GPU"
  },
  "cells": [
    {
      "metadata": {
        "id": "aNyZv-Ec52ot",
        "colab_type": "text"
      },
      "cell_type": "markdown",
      "source": [
        "# **Import Libraries and modules**"
      ]
    },
    {
      "metadata": {
        "id": "3m3w1Cw49Zkt",
        "colab_type": "code",
        "outputId": "59cc5024-a69f-490c-b083-04c3cd2de06f",
        "colab": {
          "base_uri": "https://localhost:8080/",
          "height": 34
        }
      },
      "cell_type": "code",
      "source": [
        "# https://keras.io/\n",
        "!pip install -q keras\n",
        "import keras"
      ],
      "execution_count": 0,
      "outputs": [
        {
          "output_type": "stream",
          "text": [
            "Using TensorFlow backend.\n"
          ],
          "name": "stderr"
        }
      ]
    },
    {
      "metadata": {
        "id": "Eso6UHE080D4",
        "colab_type": "code",
        "colab": {}
      },
      "cell_type": "code",
      "source": [
        "import numpy as np\n",
        "\n",
        "from keras.models import Sequential\n",
        "from keras.layers import Dense, Dropout, Activation, Flatten, Add\n",
        "from keras.layers import Convolution2D, MaxPooling2D\n",
        "from keras.utils import np_utils\n",
        "\n",
        "from keras.datasets import mnist"
      ],
      "execution_count": 0,
      "outputs": []
    },
    {
      "metadata": {
        "id": "zByEi95J86RD",
        "colab_type": "text"
      },
      "cell_type": "markdown",
      "source": [
        "### Load pre-shuffled MNIST data into train and test sets"
      ]
    },
    {
      "metadata": {
        "id": "7eRM0QWN83PV",
        "colab_type": "code",
        "colab": {}
      },
      "cell_type": "code",
      "source": [
        "(X_train, y_train), (X_test, y_test) = mnist.load_data()"
      ],
      "execution_count": 0,
      "outputs": []
    },
    {
      "metadata": {
        "id": "4a4Be72j8-ZC",
        "colab_type": "code",
        "outputId": "9d3db07b-402b-4eb7-c72e-fb664a5b9d79",
        "colab": {
          "base_uri": "https://localhost:8080/",
          "height": 316
        }
      },
      "cell_type": "code",
      "source": [
        "print (X_train.shape)\n",
        "print(X_test.shape)\n",
        "from matplotlib import pyplot as plt\n",
        "%matplotlib inline\n",
        "plt.imshow(X_train[0])"
      ],
      "execution_count": 0,
      "outputs": [
        {
          "output_type": "stream",
          "text": [
            "(60000, 28, 28)\n",
            "(10000, 28, 28)\n"
          ],
          "name": "stdout"
        },
        {
          "output_type": "execute_result",
          "data": {
            "text/plain": [
              "<matplotlib.image.AxesImage at 0x7fc390de1828>"
            ]
          },
          "metadata": {
            "tags": []
          },
          "execution_count": 4
        },
        {
          "output_type": "display_data",
          "data": {
            "image/png": "[encoded data removed]",
            "text/plain": [
              "<Figure size 432x288 with 1 Axes>"
            ]
          },
          "metadata": {
            "tags": []
          }
        }
      ]
    },
    {
      "metadata": {
        "id": "dkmprriw9AnZ",
        "colab_type": "code",
        "colab": {}
      },
      "cell_type": "code",
      "source": [
        "X_train = X_train.reshape(X_train.shape[0], 28, 28,1)\n",
        "X_test = X_test.reshape(X_test.shape[0], 28, 28,1)"
      ],
      "execution_count": 0,
      "outputs": []
    },
    {
      "metadata": {
        "id": "X2m4YS4E9CRh",
        "colab_type": "code",
        "colab": {}
      },
      "cell_type": "code",
      "source": [
        "X_train = X_train.astype('float32')\n",
        "X_test = X_test.astype('float32')\n",
        "X_train /= 255\n",
        "X_test /= 255"
      ],
      "execution_count": 0,
      "outputs": []
    },
    {
      "metadata": {
        "id": "0Mn0vAYD9DvB",
        "colab_type": "code",
        "outputId": "e8af7f05-9913-4024-ab65-afc6d1bd7eed",
        "colab": {
          "base_uri": "https://localhost:8080/",
          "height": 34
        }
      },
      "cell_type": "code",
      "source": [
        "y_train[:10]"
      ],
      "execution_count": 0,
      "outputs": [
        {
          "output_type": "execute_result",
          "data": {
            "text/plain": [
              "array([5, 0, 4, 1, 9, 2, 1, 3, 1, 4], dtype=uint8)"
            ]
          },
          "metadata": {
            "tags": []
          },
          "execution_count": 7
        }
      ]
    },
    {
      "metadata": {
        "id": "ZG8JiXR39FHC",
        "colab_type": "code",
        "colab": {}
      },
      "cell_type": "code",
      "source": [
        "# Convert 1-dimensional class arrays to 10-dimensional class matrices\n",
        "Y_train = np_utils.to_categorical(y_train, 10)\n",
        "Y_test = np_utils.to_categorical(y_test, 10)"
      ],
      "execution_count": 0,
      "outputs": []
    },
    {
      "metadata": {
        "id": "fYlFRvKS9HMB",
        "colab_type": "code",
        "outputId": "9d7501ca-4d7d-4286-b1ea-bb192f400dff",
        "colab": {
          "base_uri": "https://localhost:8080/",
          "height": 187
        }
      },
      "cell_type": "code",
      "source": [
        "Y_train[:10]\n"
      ],
      "execution_count": 0,
      "outputs": [
        {
          "output_type": "execute_result",
          "data": {
            "text/plain": [
              "array([[0., 0., 0., 0., 0., 1., 0., 0., 0., 0.],\n",
              "       [1., 0., 0., 0., 0., 0., 0., 0., 0., 0.],\n",
              "       [0., 0., 0., 0., 1., 0., 0., 0., 0., 0.],\n",
              "       [0., 1., 0., 0., 0., 0., 0., 0., 0., 0.],\n",
              "       [0., 0., 0., 0., 0., 0., 0., 0., 0., 1.],\n",
              "       [0., 0., 1., 0., 0., 0., 0., 0., 0., 0.],\n",
              "       [0., 1., 0., 0., 0., 0., 0., 0., 0., 0.],\n",
              "       [0., 0., 0., 1., 0., 0., 0., 0., 0., 0.],\n",
              "       [0., 1., 0., 0., 0., 0., 0., 0., 0., 0.],\n",
              "       [0., 0., 0., 0., 1., 0., 0., 0., 0., 0.]], dtype=float32)"
            ]
          },
          "metadata": {
            "tags": []
          },
          "execution_count": 9
        }
      ]
    },
    {
      "metadata": {
        "id": "vDIUAkPuvsl8",
        "colab_type": "code",
        "colab": {}
      },
      "cell_type": "code",
      "source": [
        "from keras.layers import Activation"
      ],
      "execution_count": 0,
      "outputs": []
    },
    {
      "metadata": {
        "id": "rbDV_G2Ivwkr",
        "colab_type": "code",
        "colab": {}
      },
      "cell_type": "code",
      "source": [
        "\n",
        "def my_model():\n",
        "  model = Sequential()\n",
        "  model.add(Convolution2D(32, 3, 3, activation='relu', input_shape=(28,28,1))) # output 26x26x32\n",
        "  model.add(Convolution2D(32, 1, 1, activation='relu')) # output 26x26x32\n",
        "  model.add(Convolution2D(32, 3, 3, activation='relu')) # output 24x24x32\n",
        "  #model.add(Convolution2D(64, 3, 3, activation='relu')) #output 24x24x64\n",
        "  \n",
        "  model.add(MaxPooling2D((2,2)))  # output 12x12x32\n",
        "  \n",
        "  #model.add(Convolution2D(10, 1, activation='relu'))\n",
        "  \n",
        "  model.add(Convolution2D(10, 12))\n",
        "  model.add(Flatten())\n",
        "  model.add(Activation('softmax'))\n",
        "  \n",
        "  return model\n",
        "\n",
        "def old_model():\n",
        "  model = Sequential()\n",
        "  model.add(Convolution2D(32, 3, 3, activation='relu', input_shape=(28,28,1)))\n",
        "  model.add(Convolution2D(10, 1, activation='relu'))\n",
        "  model.add(Convolution2D(10, 26))\n",
        "  model.add(Flatten())\n",
        "  model.add(Activation('softmax'))\n",
        "  return model"
      ],
      "execution_count": 0,
      "outputs": []
    },
    {
      "metadata": {
        "id": "MKqqp21Q1xe1",
        "colab_type": "code",
        "colab": {}
      },
      "cell_type": "code",
      "source": [
        "'''\n",
        "Layer (type)                 Output Shape              Param #   \n",
        "=================================================================\n",
        "conv2d_76 (Conv2D)           (None, 24, 24, 32)        832       \n",
        "_________________________________________________________________\n",
        "conv2d_77 (Conv2D)           (None, 24, 24, 32)        1056      \n",
        "_________________________________________________________________\n",
        "max_pooling2d_27 (MaxPooling (None, 12, 12, 32)        0         \n",
        "_________________________________________________________________\n",
        "conv2d_78 (Conv2D)           (None, 10, 10, 32)        9248      \n",
        "_________________________________________________________________\n",
        "conv2d_79 (Conv2D)           (None, 10, 10, 16)        528       \n",
        "_________________________________________________________________\n",
        "max_pooling2d_28 (MaxPooling (None, 5, 5, 16)          0         \n",
        "_________________________________________________________________\n",
        "flatten_13 (Flatten)         (None, 400)               0         \n",
        "_________________________________________________________________\n",
        "dense_4 (Dense)              (None, 10)                4010      \n",
        "_________________________________________________________________\n",
        "activation_13 (Activation)   (None, 10)                0         \n",
        "=================================================================\n",
        "Total params: 15,674\n",
        "Trainable params: 15,674\n",
        "Non-trainable params: 0\n",
        "\n",
        "Accuracy: 0.9895\n",
        "'''\n",
        "                  \n",
        "            \n",
        "def my_model2():\n",
        "  model = Sequential()\n",
        "  model.add(Convolution2D(32, 5, 5, activation='relu', input_shape=(28,28,1))) # output 24x24x32\n",
        "  model.add(Convolution2D(32, 1, 1, activation='relu')) # output: 24x24x32\n",
        "  model.add(MaxPooling2D((2,2))) # out 12x12x32\n",
        "  \n",
        "  model.add(Convolution2D(32, 3,3, activation='relu')) #out: 10x10x32\n",
        "  model.add(Convolution2D(16,1,1, activation='relu'))\n",
        "  model.add(MaxPooling2D(2)) # out : 5x5x2\n",
        "  model.add(Flatten())\n",
        "  model.add(Dense(10))\n",
        "  model.add(Activation('softmax'))\n",
        "  \n",
        "  \n",
        "  return model"
      ],
      "execution_count": 0,
      "outputs": []
    },
    {
      "metadata": {
        "id": "mV6YlGsMkHVl",
        "colab_type": "code",
        "colab": {}
      },
      "cell_type": "code",
      "source": [
        "'''\n",
        "Layer (type)                 Output Shape              Param #   \n",
        "=================================================================\n",
        "conv2d_107 (Conv2D)          (None, 24, 24, 64)        1664      \n",
        "_________________________________________________________________\n",
        "conv2d_108 (Conv2D)          (None, 24, 24, 32)        2080      \n",
        "_________________________________________________________________\n",
        "max_pooling2d_32 (MaxPooling (None, 12, 12, 32)        0         \n",
        "_________________________________________________________________\n",
        "conv2d_109 (Conv2D)          (None, 10, 10, 16)        4624      \n",
        "_________________________________________________________________\n",
        "conv2d_110 (Conv2D)          (None, 10, 10, 16)        272       \n",
        "_________________________________________________________________\n",
        "max_pooling2d_33 (MaxPooling (None, 5, 5, 16)          0         \n",
        "_________________________________________________________________\n",
        "conv2d_111 (Conv2D)          (None, 3, 3, 32)          4640      \n",
        "_________________________________________________________________\n",
        "conv2d_112 (Conv2D)          (None, 1, 1, 16)          4624      \n",
        "_________________________________________________________________\n",
        "conv2d_113 (Conv2D)          (None, 1, 1, 10)          170       \n",
        "_________________________________________________________________\n",
        "flatten_16 (Flatten)         (None, 10)                0         \n",
        "_________________________________________________________________\n",
        "activation_16 (Activation)   (None, 10)                0         \n",
        "=================================================================\n",
        "Total params: 18,074\n",
        "Trainable params: 18,074\n",
        "Non-trainable params: 0\n",
        "________________________________________\n",
        "'''\n",
        "def my_model2_ext():\n",
        "  model = Sequential()\n",
        "  model.add(Convolution2D(64, 5, 5, activation='relu', input_shape=(28,28,1))) # output 24x24x32\n",
        "  model.add(Convolution2D(32, 1, 1, activation='relu')) # output: 24x24x32\n",
        "  model.add(MaxPooling2D((2,2))) # out 12x12x32\n",
        "  \n",
        "  model.add(Convolution2D(16, 3,3, activation='relu')) #out: 10x10x32\n",
        "  model.add(Convolution2D(16,1,1, activation='relu'))\n",
        "  model.add(MaxPooling2D(2)) # out : 5x5x2\n",
        "  \n",
        "  model.add(Convolution2D(32,3,3,activation='relu'))\n",
        "  model.add(Convolution2D(16,3,3,activation='relu'))\n",
        "  model.add(Convolution2D(10,1,1,activation='relu'))\n",
        "  \n",
        "  model.add(Flatten())\n",
        "  model.add(Activation('softmax'))\n",
        "  return model"
      ],
      "execution_count": 0,
      "outputs": []
    },
    {
      "metadata": {
        "id": "0SrGr6EjLISt",
        "colab_type": "code",
        "colab": {}
      },
      "cell_type": "code",
      "source": [
        "# Replace Dense -> Conv\n",
        "'''\n",
        "\n",
        "Layer (type)                 Output Shape              Param #   \n",
        "=================================================================\n",
        "conv2d_29 (Conv2D)           (None, 24, 24, 32)        832       \n",
        "_________________________________________________________________\n",
        "max_pooling2d_11 (MaxPooling (None, 12, 12, 32)        0         \n",
        "_________________________________________________________________\n",
        "conv2d_30 (Conv2D)           (None, 10, 10, 16)        4624      \n",
        "_________________________________________________________________\n",
        "max_pooling2d_12 (MaxPooling (None, 5, 5, 16)          0         \n",
        "_________________________________________________________________\n",
        "conv2d_31 (Conv2D)           (None, 1, 1, 16)          6416      \n",
        "_________________________________________________________________\n",
        "conv2d_32 (Conv2D)           (None, 1, 1, 10)          170       \n",
        "_________________________________________________________________\n",
        "flatten_3 (Flatten)          (None, 10)                0         \n",
        "_________________________________________________________________\n",
        "activation_6 (Activation)    (None, 10)                0         \n",
        "=================================================================\n",
        "Total params: 12,042\n",
        "Trainable params: 12,042\n",
        "Non-trainable params: 0\n",
        "______________________________\n",
        "\n",
        "Accuracy: 0.9853\n",
        "'''\n",
        "\n",
        "def my_model3():\n",
        "  \n",
        "  model = Sequential()\n",
        "  model.add(Convolution2D(32, 5, 5, activation='relu', input_shape=(28,28,1))) # output 24x24x32\n",
        "  #model.add(Convolution2D(32, 1, 1, activation='relu')) # output: 24x24x32\n",
        "  model.add(MaxPooling2D((2,2))) # out 12x12x32\n",
        "  \n",
        "  model.add(Convolution2D(16, 3,3, activation='relu')) #out: 10x10x32\n",
        "  #model.add(Convolution2D(16,1,1, activation='relu'))\n",
        "  model.add(MaxPooling2D(2)) # out : 5x5x2\n",
        "  \n",
        "  model.add(Convolution2D(24,5,5,activation='relu'))\n",
        "  \n",
        "  model.add(Convolution2D(16,1,1,activation='relu'))\n",
        "  model.add(Convolution2D(10,1,1,activation='relu'))\n",
        "  \n",
        "  model.add(Flatten())\n",
        "  model.add(Activation('softmax'))\n",
        "  return model\n"
      ],
      "execution_count": 0,
      "outputs": []
    },
    {
      "metadata": {
        "id": "qBpT87N-aKdF",
        "colab_type": "code",
        "colab": {}
      },
      "cell_type": "code",
      "source": [
        "def my_model4():\n",
        "  model = Sequential()\n",
        "  model.add(Convolution2D(16, 5, 5, activation='relu', input_shape=(28,28,1))) # output 24x24x32\n",
        "  model.add(Convolution2D(32, 1, 1, activation='relu')) # output: 24x24x32\n",
        "  model.add(MaxPooling2D((2,2))) # out 12x12x32\n",
        "  \n",
        "  model.add(Convolution2D(16, 3,3, activation='relu')) #out: 10x10x32\n",
        "  model.add(Convolution2D(32,1,1, activation='relu'))\n",
        "  model.add(MaxPooling2D(2)) # out : 5x5x2\n",
        "  \n",
        "  model.add(Convolution2D(32, 3,3, activation='relu'))\n",
        "  model.add(Convolution2D(32, 1, 1, activation='relu'))\n",
        "  #model.add(Flatten())\n",
        "  #model.add(Dense(10))\n",
        "  model.add(Convolution2D(10,3,3, activation='relu'))\n",
        "  model.add(Flatten())\n",
        "  model.add(Activation('softmax'))\n",
        "  \n",
        "  \n",
        "  return model"
      ],
      "execution_count": 0,
      "outputs": []
    },
    {
      "metadata": {
        "id": "79C6RRt2g1wJ",
        "colab_type": "code",
        "colab": {}
      },
      "cell_type": "code",
      "source": [
        "'''\n",
        "Layer (type)                 Output Shape              Param #   \n",
        "=================================================================\n",
        "conv2d_56 (Conv2D)           (None, 26, 26, 8)         80        \n",
        "_________________________________________________________________\n",
        "conv2d_57 (Conv2D)           (None, 24, 24, 16)        1168      \n",
        "_________________________________________________________________\n",
        "conv2d_58 (Conv2D)           (None, 22, 22, 24)        3480      \n",
        "_________________________________________________________________\n",
        "conv2d_59 (Conv2D)           (None, 20, 20, 32)        6944      \n",
        "_________________________________________________________________\n",
        "max_pooling2d_14 (MaxPooling (None, 10, 10, 32)        0         \n",
        "_________________________________________________________________\n",
        "conv2d_60 (Conv2D)           (None, 10, 10, 10)        330       \n",
        "_________________________________________________________________\n",
        "max_pooling2d_15 (MaxPooling (None, 5, 5, 10)          0         \n",
        "_________________________________________________________________\n",
        "conv2d_61 (Conv2D)           (None, 1, 1, 16)          4016      \n",
        "_________________________________________________________________\n",
        "conv2d_62 (Conv2D)           (None, 1, 1, 10)          170       \n",
        "_________________________________________________________________\n",
        "flatten_9 (Flatten)          (None, 10)                0         \n",
        "_________________________________________________________________\n",
        "activation_9 (Activation)    (None, 10)                0         \n",
        "=================================================================\n",
        "Total params: 16,188\n",
        "Trainable params: 16,188\n",
        "Non-trainable params: 0\n",
        "_________________________________________________________________\n",
        "\n",
        "Accuracy: 0.9849\n",
        "'''\n",
        "# conv -> conv -> conv -> conv -> max pool -> conv 1x1 -> softmax\n",
        "\n",
        "def my_model5():\n",
        "  model = Sequential()\n",
        "  model.add(Convolution2D(8, 3, 3, activation='relu', input_shape=(28,28,1)))\n",
        "  model.add(Convolution2D(16, 3, 3, activation='relu'))\n",
        "  model.add(Convolution2D(24, 3, 3, activation='relu'))\n",
        "  model.add(Convolution2D(32, 3, 3, activation='relu'))\n",
        "  model.add(MaxPooling2D(2))\n",
        "  model.add(Convolution2D(10, 1, 1, activation='relu'))\n",
        "  model.add(MaxPooling2D((2)))\n",
        "  model.add(Convolution2D(16, 5, 5, activation='relu'))\n",
        "  #model.add(Convolution2D(10, 3, 3, activation='relu'))\n",
        "  model.add(Convolution2D(10, 1, 1, activation='relu'))\n",
        "  model.add(Flatten())\n",
        "  model.add(Activation('softmax'))\n",
        "  \n",
        "  return model"
      ],
      "execution_count": 0,
      "outputs": []
    },
    {
      "metadata": {
        "id": "fsCAvVTqjpri",
        "colab_type": "code",
        "colab": {}
      },
      "cell_type": "code",
      "source": [
        "def my_model6():\n",
        "  model = Sequential()\n",
        "  model.add(Convolution2D(16, 3, 3, activation='relu', input_shape=(28,28,1)))\n",
        "  model.add(Convolution2D(32, 3, 3, activation='relu'))\n",
        "  #model.add(Convolution2D(24, 3, 3, activation='relu'))  #out 22\n",
        "  \n",
        "  model.add(MaxPooling2D((2)))\n",
        "  model.add(Convolution2D(16, 3, 3, activation='relu')) # 9x9\n",
        "  model.add(Convolution2D(32, 3, 3, activation='relu')) # 7x7\n",
        "  #model.add(Convolution2D(24, 3, 3, activation='relu')) # 5x5\n",
        "  \n",
        "  model.add(MaxPooling2D(2))                            #  9x9\n",
        "  model.add(Convolution2D(16, 3, 3, activation='relu'))  #  7x7\n",
        "  #model.add(Convolution2D(16, 3, 3, activation='relu')) # 5x5\n",
        "  #model.add(MaxPooling2D((2)))\n",
        "  model.add(Convolution2D(10, 3, 3, activation='relu'))\n",
        "   \n",
        " #model.add(Convolution2D(10, 1, 1, activation='relu'))\n",
        "  model.add(Flatten())\n",
        "  model.add(Activation('softmax'))\n",
        "  \n",
        "  return model"
      ],
      "execution_count": 0,
      "outputs": []
    },
    {
      "metadata": {
        "id": "tDCJ_BkJdFL6",
        "colab_type": "code",
        "colab": {}
      },
      "cell_type": "code",
      "source": [
        "from keras.layers import SeparableConv2D, SeparableConvolution2D\n",
        "from keras.layers import BatchNormalization"
      ],
      "execution_count": 0,
      "outputs": []
    },
    {
      "metadata": {
        "id": "sdIo8JLpENKp",
        "colab_type": "code",
        "colab": {}
      },
      "cell_type": "code",
      "source": [
        "## Use Depthwise Separable Convolution\n",
        "\n",
        "def my_model_use_sepConv():\n",
        "  model = Sequential()\n",
        "  \n",
        "  model.add(SeparableConvolution2D(40, (3,3), activation='relu', input_shape=(28,28,1))) # output 24x24\n",
        "  model.add(BatchNormalization())\n",
        "  model.add(SeparableConvolution2D(80, (3,3), activation='relu'))  # 24\n",
        "  model.add(BatchNormalization())\n",
        "  #model.add(Convolution2D(32, 1, 1, activation='relu')) # output: 24x24x32\n",
        "  model.add(MaxPooling2D((2,2))) # out 12x12x32\n",
        "  \n",
        "  model.add(SeparableConvolution2D(64, (3,3), activation='relu')) #out: 10x10x32\n",
        "  model.add(BatchNormalization())\n",
        "  #model.add(Convolution2D(16, 1,1, activation='relu')) \n",
        "  #model.add(Convolution2D(10, 3,3, activation='relu'))  #out 6\n",
        "  model.add(MaxPooling2D(2)) # out : 5x5\n",
        "  \n",
        "  model.add(SeparableConvolution2D(80,(3,3),activation='relu')) # 3x3\n",
        "  model.add(BatchNormalization())\n",
        "  model.add(SeparableConvolution2D(10,(3,3),activation='relu'))\n",
        "  #model.add(BatchNormalization())\n",
        "  \n",
        "  #model.add(Convolution2D(10,1,1,activation='relu'))\n",
        "  model.add(Flatten())\n",
        "  model.add(Activation('softmax'))\n",
        "  return model"
      ],
      "execution_count": 0,
      "outputs": []
    },
    {
      "metadata": {
        "id": "IGLshVOMXXSZ",
        "colab_type": "code",
        "colab": {}
      },
      "cell_type": "code",
      "source": [
        "## Use Depthwise Separable Convolution\n",
        "\n",
        "'''\n",
        "Layer (type)                 Output Shape              Param #   \n",
        "=================================================================\n",
        "separable_conv2d_76 (Separab (None, 26, 26, 32)        73        \n",
        "_________________________________________________________________\n",
        "batch_normalization_54 (Batc (None, 26, 26, 32)        128       \n",
        "_________________________________________________________________\n",
        "separable_conv2d_77 (Separab (None, 24, 24, 64)        2400      \n",
        "_________________________________________________________________\n",
        "batch_normalization_55 (Batc (None, 24, 24, 64)        256       \n",
        "_________________________________________________________________\n",
        "separable_conv2d_78 (Separab (None, 24, 24, 64)        4224      \n",
        "_________________________________________________________________\n",
        "max_pooling2d_31 (MaxPooling (None, 12, 12, 64)        0         \n",
        "_________________________________________________________________\n",
        "separable_conv2d_79 (Separab (None, 10, 10, 64)        4736      \n",
        "_________________________________________________________________\n",
        "batch_normalization_56 (Batc (None, 10, 10, 64)        256       \n",
        "_________________________________________________________________\n",
        "separable_conv2d_80 (Separab (None, 10, 10, 16)        1104      \n",
        "_________________________________________________________________\n",
        "max_pooling2d_32 (MaxPooling (None, 5, 5, 16)          0         \n",
        "_________________________________________________________________\n",
        "separable_conv2d_81 (Separab (None, 3, 3, 64)          1232      \n",
        "_________________________________________________________________\n",
        "batch_normalization_57 (Batc (None, 3, 3, 64)          256       \n",
        "_________________________________________________________________\n",
        "separable_conv2d_82 (Separab (None, 1, 1, 10)          1226      \n",
        "_________________________________________________________________\n",
        "flatten_16 (Flatten)         (None, 10)                0         \n",
        "_________________________________________________________________\n",
        "activation_16 (Activation)   (None, 10)                0         \n",
        "=================================================================\n",
        "Total params: 15,891\n",
        "Trainable params: 15,443\n",
        "Non-trainable params: 448\n",
        "_________________________________\n",
        "Accuracy: 0.9898\n",
        "'''\n",
        "def my_model_use_sepConv2():\n",
        "  model = Sequential()\n",
        "  \n",
        "  model.add(SeparableConvolution2D(32, (3,3), activation='relu', input_shape=(28,28,1))) # output 24x24\n",
        "  model.add(BatchNormalization())\n",
        "  model.add(SeparableConvolution2D(64, (3,3), activation='relu'))  # 24\n",
        "  model.add(BatchNormalization())\n",
        "  model.add(SeparableConvolution2D(64, (1,1), activation='relu')) # output: 24x24x32\n",
        "  \n",
        "  model.add(MaxPooling2D((2,2))) # out 12x12x32\n",
        "  \n",
        "  model.add(SeparableConvolution2D(64, (3,3), activation='relu')) #out: 10x10x32\n",
        "  model.add(BatchNormalization())\n",
        "  model.add(SeparableConvolution2D(16, (1,1), activation='relu')) \n",
        "  #model.add(Convolution2D(10, 3,3, activation='relu'))  #out 6\n",
        "  model.add(MaxPooling2D(2)) # out : 5x5\n",
        "  \n",
        "  model.add(SeparableConvolution2D(64,(3,3),activation='relu')) # 3x3\n",
        "  model.add(BatchNormalization())\n",
        "  model.add(SeparableConvolution2D(10,(3,3),activation='relu'))\n",
        "  #model.add(BatchNormalization())\n",
        "  \n",
        "  #model.add(Convolution2D(10,1,1,activation='relu'))\n",
        "  model.add(Flatten())\n",
        "  model.add(Activation('softmax'))\n",
        "  return model"
      ],
      "execution_count": 0,
      "outputs": []
    },
    {
      "metadata": {
        "id": "osKqT73Q9JJB",
        "colab_type": "code",
        "colab": {}
      },
      "cell_type": "code",
      "source": [
        "from keras.layers import Activation\n",
        "#model = my_model2()\n",
        "\n",
        "#model = my_model2_ext()  #0.9873, 15K params, 0.9898 18074 params\n",
        "\n",
        "#model = my_model2_ext2()\n",
        "\n",
        "#model = my_model3()\n",
        "\n",
        "#model = my_model4()\n",
        "\n",
        "#model = my_model5()  #0.9849\n",
        "#model = my_model6()  # 0.904\n",
        "\n",
        "# Use Depthwise Separable Conv\n",
        "model = my_model_use_sepConv() #0.9901, 17.5K params\n",
        "\n",
        "#model = my_model_use_sepConv2()"
      ],
      "execution_count": 0,
      "outputs": []
    },
    {
      "metadata": {
        "id": "TzdAYg1k9K7Z",
        "colab_type": "code",
        "outputId": "816ee74d-fe3c-4dda-9f07-a38b7ff16ecf",
        "colab": {
          "base_uri": "https://localhost:8080/",
          "height": 578
        }
      },
      "cell_type": "code",
      "source": [
        "model.summary()"
      ],
      "execution_count": 0,
      "outputs": [
        {
          "output_type": "stream",
          "text": [
            "_________________________________________________________________\n",
            "Layer (type)                 Output Shape              Param #   \n",
            "=================================================================\n",
            "separable_conv2d_83 (Separab (None, 26, 26, 40)        89        \n",
            "_________________________________________________________________\n",
            "batch_normalization_58 (Batc (None, 26, 26, 40)        160       \n",
            "_________________________________________________________________\n",
            "separable_conv2d_84 (Separab (None, 24, 24, 80)        3640      \n",
            "_________________________________________________________________\n",
            "batch_normalization_59 (Batc (None, 24, 24, 80)        320       \n",
            "_________________________________________________________________\n",
            "max_pooling2d_33 (MaxPooling (None, 12, 12, 80)        0         \n",
            "_________________________________________________________________\n",
            "separable_conv2d_85 (Separab (None, 10, 10, 64)        5904      \n",
            "_________________________________________________________________\n",
            "batch_normalization_60 (Batc (None, 10, 10, 64)        256       \n",
            "_________________________________________________________________\n",
            "max_pooling2d_34 (MaxPooling (None, 5, 5, 64)          0         \n",
            "_________________________________________________________________\n",
            "separable_conv2d_86 (Separab (None, 3, 3, 80)          5776      \n",
            "_________________________________________________________________\n",
            "batch_normalization_61 (Batc (None, 3, 3, 80)          320       \n",
            "_________________________________________________________________\n",
            "separable_conv2d_87 (Separab (None, 1, 1, 10)          1530      \n",
            "_________________________________________________________________\n",
            "flatten_17 (Flatten)         (None, 10)                0         \n",
            "_________________________________________________________________\n",
            "activation_17 (Activation)   (None, 10)                0         \n",
            "=================================================================\n",
            "Total params: 17,995\n",
            "Trainable params: 17,467\n",
            "Non-trainable params: 528\n",
            "_________________________________________________________________\n"
          ],
          "name": "stdout"
        }
      ]
    },
    {
      "metadata": {
        "id": "Q-40u-73etU0",
        "colab_type": "code",
        "colab": {}
      },
      "cell_type": "code",
      "source": [
        "from keras.optimizers import adam"
      ],
      "execution_count": 0,
      "outputs": []
    },
    {
      "metadata": {
        "id": "5Vst21pXezzZ",
        "colab_type": "code",
        "colab": {}
      },
      "cell_type": "code",
      "source": [
        "opt=adam()\n",
        "#opt= adam(lr=0.0005)"
      ],
      "execution_count": 0,
      "outputs": []
    },
    {
      "metadata": {
        "id": "Zp6SuGrL9M3h",
        "colab_type": "code",
        "colab": {}
      },
      "cell_type": "code",
      "source": [
        "\n",
        "model.compile(loss='categorical_crossentropy',\n",
        "             optimizer=opt,\n",
        "             metrics=['accuracy'])"
      ],
      "execution_count": 0,
      "outputs": []
    },
    {
      "metadata": {
        "id": "4xWoKhPY9Of5",
        "colab_type": "code",
        "outputId": "f173d4a9-d2b0-462a-eab4-135d03ccac55",
        "colab": {
          "base_uri": "https://localhost:8080/",
          "height": 374
        }
      },
      "cell_type": "code",
      "source": [
        "model.fit(X_train, Y_train, batch_size=32, epochs=10, verbose=1)"
      ],
      "execution_count": 0,
      "outputs": [
        {
          "output_type": "stream",
          "text": [
            "Epoch 1/10\n",
            "60000/60000 [==============================] - 41s 686us/step - loss: 0.0936 - acc: 0.9719\n",
            "Epoch 2/10\n",
            "60000/60000 [==============================] - 37s 614us/step - loss: 0.0384 - acc: 0.9880\n",
            "Epoch 3/10\n",
            "60000/60000 [==============================] - 37s 609us/step - loss: 0.0291 - acc: 0.9906\n",
            "Epoch 4/10\n",
            "60000/60000 [==============================] - 37s 612us/step - loss: 0.0241 - acc: 0.9924\n",
            "Epoch 5/10\n",
            "60000/60000 [==============================] - 37s 617us/step - loss: 0.0209 - acc: 0.9935\n",
            "Epoch 6/10\n",
            "60000/60000 [==============================] - 37s 624us/step - loss: 0.0182 - acc: 0.9939\n",
            "Epoch 7/10\n",
            "60000/60000 [==============================] - 38s 627us/step - loss: 0.0165 - acc: 0.9946\n",
            "Epoch 8/10\n",
            "60000/60000 [==============================] - 37s 617us/step - loss: 0.0150 - acc: 0.9952\n",
            "Epoch 9/10\n",
            "60000/60000 [==============================] - 37s 625us/step - loss: 0.0130 - acc: 0.9957\n",
            "Epoch 10/10\n",
            "60000/60000 [==============================] - 38s 625us/step - loss: 0.0111 - acc: 0.9963\n"
          ],
          "name": "stdout"
        },
        {
          "output_type": "execute_result",
          "data": {
            "text/plain": [
              "<keras.callbacks.History at 0x7fc36c24e2e8>"
            ]
          },
          "metadata": {
            "tags": []
          },
          "execution_count": 136
        }
      ]
    },
    {
      "metadata": {
        "id": "AtsH-lLk-eLb",
        "colab_type": "code",
        "colab": {}
      },
      "cell_type": "code",
      "source": [
        "score = model.evaluate(X_test, Y_test, verbose=0)"
      ],
      "execution_count": 0,
      "outputs": []
    },
    {
      "metadata": {
        "id": "mkX8JMv79q9r",
        "colab_type": "code",
        "outputId": "bae963be-dff0-48b9-eebf-7a0b6bd79130",
        "colab": {
          "base_uri": "https://localhost:8080/",
          "height": 34
        }
      },
      "cell_type": "code",
      "source": [
        "print(score)"
      ],
      "execution_count": 0,
      "outputs": [
        {
          "output_type": "stream",
          "text": [
            "[0.034350919584484385, 0.9901]\n"
          ],
          "name": "stdout"
        }
      ]
    },
    {
      "metadata": {
        "id": "OCWoJkwE9suh",
        "colab_type": "code",
        "colab": {}
      },
      "cell_type": "code",
      "source": [
        "y_pred = model.predict(X_test)"
      ],
      "execution_count": 0,
      "outputs": []
    },
    {
      "metadata": {
        "id": "Ym7iCFBm9uBs",
        "colab_type": "code",
        "outputId": "fa5402ed-be04-4f28-8601-b2f1f01a3f4c",
        "colab": {
          "base_uri": "https://localhost:8080/",
          "height": 493
        }
      },
      "cell_type": "code",
      "source": [
        "print(y_pred[:9])\n",
        "print(y_test[:9])"
      ],
      "execution_count": 0,
      "outputs": [
        {
          "output_type": "stream",
          "text": [
            "[[3.86349841e-09 2.78612999e-09 1.24484678e-09 1.21608466e-08\n",
            "  5.33140698e-10 5.33140698e-10 5.33140698e-10 1.00000000e+00\n",
            "  5.89803206e-10 4.29378977e-09]\n",
            " [3.16156488e-08 2.88213169e-08 9.99999642e-01 2.88213169e-08\n",
            "  2.88213169e-08 2.88213169e-08 2.88213169e-08 2.88213169e-08\n",
            "  2.88213169e-08 3.53467087e-08]\n",
            " [1.78533469e-07 9.99996781e-01 1.50335680e-07 1.50335680e-07\n",
            "  1.50335680e-07 1.96407626e-07 3.05039606e-07 1.68747090e-06\n",
            "  1.64927940e-07 1.50335680e-07]\n",
            " [9.99999285e-01 1.07639536e-10 4.00946210e-09 1.07639536e-10\n",
            "  1.07639536e-10 1.07639536e-10 6.65784171e-07 1.07639536e-10\n",
            "  1.07639536e-10 1.34675882e-10]\n",
            " [7.62901686e-11 7.62901686e-11 7.62901686e-11 7.62901686e-11\n",
            "  9.99999404e-01 7.62901686e-11 7.62901686e-11 7.62901686e-11\n",
            "  7.62901686e-11 5.93362586e-07]\n",
            " [1.59244760e-08 9.99999523e-01 7.79247511e-09 7.79247511e-09\n",
            "  1.15024150e-08 7.79247511e-09 7.79247511e-09 5.08128096e-07\n",
            "  1.80807618e-08 7.79247511e-09]\n",
            " [4.79024487e-10 4.79024487e-10 4.79024487e-10 4.79024487e-10\n",
            "  9.99985814e-01 4.79024487e-10 4.79024487e-10 5.13782072e-10\n",
            "  4.42007781e-08 1.41244882e-05]\n",
            " [2.44769260e-10 2.44769260e-10 2.44769260e-10 2.44769260e-10\n",
            "  4.99987334e-04 2.44769260e-10 2.44769260e-10 2.44769260e-10\n",
            "  2.96725478e-10 9.99500036e-01]\n",
            " [1.21191624e-06 1.21191624e-06 1.21191624e-06 1.21191624e-06\n",
            "  1.21191624e-06 9.70483303e-01 1.84052289e-02 1.21191624e-06\n",
            "  1.11030275e-02 1.21191624e-06]]\n",
            "[7 2 1 0 4 1 4 9 5]\n"
          ],
          "name": "stdout"
        }
      ]
    },
    {
      "metadata": {
        "id": "CT--y98_dr2T",
        "colab_type": "code",
        "colab": {}
      },
      "cell_type": "code",
      "source": [
        "layer_dict = dict([(layer.name, layer) for layer in model.layers])"
      ],
      "execution_count": 0,
      "outputs": []
    },
    {
      "metadata": {
        "id": "2GY4Upv4dsUR",
        "colab_type": "code",
        "outputId": "f5922e06-3c4e-44fa-a3c8-308fda231bf2",
        "colab": {
          "base_uri": "https://localhost:8080/",
          "height": 317
        }
      },
      "cell_type": "code",
      "source": [
        "import numpy as np\n",
        "from matplotlib import pyplot as plt\n",
        "from keras import backend as K\n",
        "%matplotlib inline\n",
        "# util function to convert a tensor into a valid image\n",
        "def deprocess_image(x):\n",
        "    # normalize tensor: center on 0., ensure std is 0.1\n",
        "    x -= x.mean()\n",
        "    x /= (x.std() + 1e-5)\n",
        "    x *= 0.1\n",
        "\n",
        "    # clip to [0, 1]\n",
        "    x += 0.5\n",
        "    x = np.clip(x, 0, 1)\n",
        "\n",
        "    # convert to RGB array\n",
        "    x *= 255\n",
        "    #x = x.transpose((1, 2, 0))\n",
        "    x = np.clip(x, 0, 255).astype('uint8')\n",
        "    return x\n",
        "\n",
        "def vis_img_in_filter(img = np.array(X_train[2]).reshape((1, 28, 28, 1)).astype(np.float64), \n",
        "                      layer_name = 'conv2d_14'):\n",
        "    layer_output = layer_dict[layer_name].output\n",
        "    img_ascs = list()\n",
        "    for filter_index in range(layer_output.shape[3]):\n",
        "        # build a loss function that maximizes the activation\n",
        "        # of the nth filter of the layer considered\n",
        "        loss = K.mean(layer_output[:, :, :, filter_index])\n",
        "\n",
        "        # compute the gradient of the input picture wrt this loss\n",
        "        grads = K.gradients(loss, model.input)[0]\n",
        "\n",
        "        # normalization trick: we normalize the gradient\n",
        "        grads /= (K.sqrt(K.mean(K.square(grads))) + 1e-5)\n",
        "\n",
        "        # this function returns the loss and grads given the input picture\n",
        "        iterate = K.function([model.input], [loss, grads])\n",
        "\n",
        "        # step size for gradient ascent\n",
        "        step = 5.\n",
        "\n",
        "        img_asc = np.array(img)\n",
        "        # run gradient ascent for 20 steps\n",
        "        for i in range(20):\n",
        "            loss_value, grads_value = iterate([img_asc])\n",
        "            img_asc += grads_value * step\n",
        "\n",
        "        img_asc = img_asc[0]\n",
        "        img_ascs.append(deprocess_image(img_asc).reshape((28, 28)))\n",
        "        \n",
        "    if layer_output.shape[3] >= 35:\n",
        "        plot_x, plot_y = 6, 6\n",
        "    elif layer_output.shape[3] >= 23:\n",
        "        plot_x, plot_y = 4, 6\n",
        "    elif layer_output.shape[3] >= 11:\n",
        "        plot_x, plot_y = 2, 6\n",
        "    else:\n",
        "        plot_x, plot_y = 1, 2\n",
        "    fig, ax = plt.subplots(plot_x, plot_y, figsize = (12, 12))\n",
        "    ax[0, 0].imshow(img.reshape((28, 28)), cmap = 'gray')\n",
        "    ax[0, 0].set_title('Input image')\n",
        "    fig.suptitle('Input image and %s filters' % (layer_name,))\n",
        "    fig.tight_layout(pad = 0.3, rect = [0, 0, 0.9, 0.9])\n",
        "    for (x, y) in [(i, j) for i in range(plot_x) for j in range(plot_y)]:\n",
        "        if x == 0 and y == 0:\n",
        "            continue\n",
        "        ax[x, y].imshow(img_ascs[x * plot_y + y - 1], cmap = 'gray')\n",
        "        ax[x, y].set_title('filter %d' % (x * plot_y + y - 1))\n",
        "\n",
        "vis_img_in_filter()"
      ],
      "execution_count": 0,
      "outputs": [
        {
          "output_type": "error",
          "ename": "KeyError",
          "evalue": "ignored",
          "traceback": [
            "\u001b[0;31m---------------------------------------------------------------------------\u001b[0m",
            "\u001b[0;31mKeyError\u001b[0m                                  Traceback (most recent call last)",
            "\u001b[0;32m<ipython-input-31-19229f66b51a>\u001b[0m in \u001b[0;36m<module>\u001b[0;34m()\u001b[0m\n\u001b[1;32m     69\u001b[0m         \u001b[0max\u001b[0m\u001b[0;34m[\u001b[0m\u001b[0mx\u001b[0m\u001b[0;34m,\u001b[0m \u001b[0my\u001b[0m\u001b[0;34m]\u001b[0m\u001b[0;34m.\u001b[0m\u001b[0mset_title\u001b[0m\u001b[0;34m(\u001b[0m\u001b[0;34m'filter %d'\u001b[0m \u001b[0;34m%\u001b[0m \u001b[0;34m(\u001b[0m\u001b[0mx\u001b[0m \u001b[0;34m*\u001b[0m \u001b[0mplot_y\u001b[0m \u001b[0;34m+\u001b[0m \u001b[0my\u001b[0m \u001b[0;34m-\u001b[0m \u001b[0;36m1\u001b[0m\u001b[0;34m)\u001b[0m\u001b[0;34m)\u001b[0m\u001b[0;34m\u001b[0m\u001b[0;34m\u001b[0m\u001b[0m\n\u001b[1;32m     70\u001b[0m \u001b[0;34m\u001b[0m\u001b[0m\n\u001b[0;32m---> 71\u001b[0;31m \u001b[0mvis_img_in_filter\u001b[0m\u001b[0;34m(\u001b[0m\u001b[0;34m)\u001b[0m\u001b[0;34m\u001b[0m\u001b[0;34m\u001b[0m\u001b[0m\n\u001b[0m",
            "\u001b[0;32m<ipython-input-31-19229f66b51a>\u001b[0m in \u001b[0;36mvis_img_in_filter\u001b[0;34m(img, layer_name)\u001b[0m\n\u001b[1;32m     22\u001b[0m def vis_img_in_filter(img = np.array(X_train[2]).reshape((1, 28, 28, 1)).astype(np.float64), \n\u001b[1;32m     23\u001b[0m                       layer_name = 'conv2d_14'):\n\u001b[0;32m---> 24\u001b[0;31m     \u001b[0mlayer_output\u001b[0m \u001b[0;34m=\u001b[0m \u001b[0mlayer_dict\u001b[0m\u001b[0;34m[\u001b[0m\u001b[0mlayer_name\u001b[0m\u001b[0;34m]\u001b[0m\u001b[0;34m.\u001b[0m\u001b[0moutput\u001b[0m\u001b[0;34m\u001b[0m\u001b[0;34m\u001b[0m\u001b[0m\n\u001b[0m\u001b[1;32m     25\u001b[0m     \u001b[0mimg_ascs\u001b[0m \u001b[0;34m=\u001b[0m \u001b[0mlist\u001b[0m\u001b[0;34m(\u001b[0m\u001b[0;34m)\u001b[0m\u001b[0;34m\u001b[0m\u001b[0;34m\u001b[0m\u001b[0m\n\u001b[1;32m     26\u001b[0m     \u001b[0;32mfor\u001b[0m \u001b[0mfilter_index\u001b[0m \u001b[0;32min\u001b[0m \u001b[0mrange\u001b[0m\u001b[0;34m(\u001b[0m\u001b[0mlayer_output\u001b[0m\u001b[0;34m.\u001b[0m\u001b[0mshape\u001b[0m\u001b[0;34m[\u001b[0m\u001b[0;36m3\u001b[0m\u001b[0;34m]\u001b[0m\u001b[0;34m)\u001b[0m\u001b[0;34m:\u001b[0m\u001b[0;34m\u001b[0m\u001b[0;34m\u001b[0m\u001b[0m\n",
            "\u001b[0;31mKeyError\u001b[0m: 'conv2d_14'"
          ]
        }
      ]
    },
    {
      "metadata": {
        "id": "9tvptcn8dxvp",
        "colab_type": "code",
        "colab": {}
      },
      "cell_type": "code",
      "source": [
        ""
      ],
      "execution_count": 0,
      "outputs": []
    }
  ]
}