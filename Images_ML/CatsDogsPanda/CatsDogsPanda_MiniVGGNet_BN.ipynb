{
 "cells": [
  {
   "cell_type": "markdown",
   "metadata": {},
   "source": [
    "## CatsDogsPanda Image Classification using MiniVGGNet with Batch Normalization"
   ]
  },
  {
   "cell_type": "markdown",
   "metadata": {},
   "source": [
    "**Objective:** Classify the CatsDogsPanda images using MiniVGGNet\n",
    "  * Use BatchNormalization while defining the miniVGGNet\n",
    "  * Use SGD optimization parameters : decay, momentum and nestrov"
   ]
  },
  {
   "cell_type": "markdown",
   "metadata": {},
   "source": [
    "## About MiniVGGNet\n",
    "\n",
    "* The 3x3 kernels/filter are being used through out the architecture.\n",
    "* The VGG16 & VGG19 architecture use the filters to increasing depth 16 and 19 layers respectively.\n",
    "* Stacks multiple Conv and Relu layers before the pool layers."
   ]
  },
  {
   "cell_type": "markdown",
   "metadata": {},
   "source": [
    "## Define MiniVGGNet"
   ]
  },
  {
   "cell_type": "code",
   "execution_count": 1,
   "metadata": {},
   "outputs": [
    {
     "name": "stderr",
     "output_type": "stream",
     "text": [
      "Using Theano backend.\n"
     ]
    }
   ],
   "source": [
    "from keras.models import Sequential\n",
    "from keras.layers.convolutional import Conv2D, MaxPooling2D\n",
    "from keras.layers.core import Activation, Flatten, Dense, Dropout\n",
    "from keras.layers.normalization import BatchNormalization"
   ]
  },
  {
   "cell_type": "code",
   "execution_count": 2,
   "metadata": {},
   "outputs": [],
   "source": [
    "#?Conv2D\n",
    "#?MaxPooling2D\n",
    "?BatchNormalization"
   ]
  },
  {
   "cell_type": "code",
   "execution_count": 3,
   "metadata": {},
   "outputs": [],
   "source": [
    "#define miniVGGNet\n",
    "\n",
    "# input size: 3x3 filters, num of filters 32\n",
    "# then : 3x3 filters, num of filters 64\n",
    "#\n",
    "# 2 sets of Conv -> Relu -> Conv -> Relu -> Pool \n",
    "# perfrom Batch Normalization after the activation function\n",
    "# followed by, FC -> Relu -> FC -> Softmax\n",
    "def miniVGGNet(width, height, depth, num_classes):\n",
    "    \n",
    "    model = Sequential()\n",
    "    \n",
    "    inputShape = (height, width, depth)\n",
    "    pad = 'same'\n",
    "    \n",
    "    # first set\n",
    "    model.add(Conv2D(32, (3,3), input_shape=inputShape, padding=pad))\n",
    "    model.add(Activation('relu'))\n",
    "    # channels last, so axis=-1, which is by default\n",
    "    model.add(BatchNormalization())\n",
    "    model.add(Conv2D(32, (3,3), padding=pad))\n",
    "    model.add(Activation('relu'))\n",
    "    model.add(BatchNormalization())\n",
    "    model.add(MaxPooling2D(pool_size=(2,2)))\n",
    "    #model.add(Dropout(0.25))\n",
    "    \n",
    "    # second set\n",
    "    model.add(Conv2D(64, (3,3), padding=pad))\n",
    "    model.add(Activation('relu'))\n",
    "    model.add(BatchNormalization())\n",
    "    \n",
    "    model.add(Conv2D(64, (3,3), padding=pad))\n",
    "    model.add(Activation('relu'))\n",
    "    model.add(BatchNormalization())\n",
    "    model.add(MaxPooling2D(pool_size=(2,2)))\n",
    "    #model.add(Dropout(0.25))\n",
    "    \n",
    "    #FC\n",
    "    model.add(Flatten())\n",
    "    model.add(Dense(512))\n",
    "    model.add(Activation('relu'))\n",
    "    model.add(BatchNormalization())\n",
    "    \n",
    "    #FC + softmax\n",
    "    model.add(Dense(num_classes))\n",
    "    model.add(Activation('softmax'))\n",
    "    \n",
    "    model.summary()\n",
    "    return model"
   ]
  },
  {
   "cell_type": "markdown",
   "metadata": {},
   "source": [
    "## Read all Images"
   ]
  },
  {
   "cell_type": "code",
   "execution_count": 4,
   "metadata": {},
   "outputs": [],
   "source": [
    "import numpy as np\n",
    "import cv2\n",
    "import matplotlib.pyplot as plt\n",
    "import pathlib\n",
    "import glob\n",
    "import random\n",
    "import os"
   ]
  },
  {
   "cell_type": "code",
   "execution_count": 5,
   "metadata": {},
   "outputs": [
    {
     "name": "stdout",
     "output_type": "stream",
     "text": [
      "numpy:  1.14.2\n",
      "opencv:  3.4.4\n"
     ]
    }
   ],
   "source": [
    "print('numpy: ', np.__version__)\n",
    "print('opencv: ', cv2.__version__)"
   ]
  },
  {
   "cell_type": "code",
   "execution_count": 6,
   "metadata": {},
   "outputs": [
    {
     "name": "stdout",
     "output_type": "stream",
     "text": [
      "3000\n"
     ]
    }
   ],
   "source": [
    "ImageDir = '../datasets/animals'\n",
    "\n",
    "# recursively go over the datset folder and get the file names.\n",
    "ImageList = list(pathlib.Path(ImageDir).rglob('*.jpg'))\n",
    "print(len(ImageList))"
   ]
  },
  {
   "cell_type": "code",
   "execution_count": 7,
   "metadata": {},
   "outputs": [],
   "source": [
    "## load all the images\n",
    "## resize them to one size\n",
    "def preprocess_image(img, width, height, interpolation=cv2.INTER_AREA):\n",
    "    return( cv2.resize(img, (width, height), interpolation))"
   ]
  },
  {
   "cell_type": "code",
   "execution_count": 8,
   "metadata": {},
   "outputs": [],
   "source": [
    "# load all images.\n",
    "def load_all_images(imageList, verbose=-1):\n",
    "    data = []\n",
    "    labels = []\n",
    "\n",
    "    # go over each image - read them and extract class label from the path\n",
    "    for (i, imagepath) in enumerate(imageList):\n",
    "        filename = imagepath.as_posix()\n",
    "        img = cv2.imread(filename)\n",
    "        label = filename.split(os.path.sep)[-2]\n",
    "        img = preprocess_image(img, 32, 32)\n",
    "\n",
    "        data.append(img)\n",
    "        labels.append(label)\n",
    "\n",
    "        if ( verbose > 0 and i > 0 and (i+1) % verbose == 0):\n",
    "            print('Info: Processed {} / {}'.format(i+1, len(imageList)))\n",
    "\n",
    "\n",
    "    return(np.array(data), np.array(labels))"
   ]
  },
  {
   "cell_type": "code",
   "execution_count": 9,
   "metadata": {},
   "outputs": [
    {
     "name": "stdout",
     "output_type": "stream",
     "text": [
      "Load All Images...\n",
      "Info: Processed 250 / 3000\n",
      "Info: Processed 500 / 3000\n",
      "Info: Processed 750 / 3000\n",
      "Info: Processed 1000 / 3000\n",
      "Info: Processed 1250 / 3000\n",
      "Info: Processed 1500 / 3000\n",
      "Info: Processed 1750 / 3000\n",
      "Info: Processed 2000 / 3000\n",
      "Info: Processed 2250 / 3000\n",
      "Info: Processed 2500 / 3000\n",
      "Info: Processed 2750 / 3000\n",
      "Info: Processed 3000 / 3000\n"
     ]
    }
   ],
   "source": [
    "##\n",
    "print('Load All Images...')\n",
    "(data, labels) = load_all_images(ImageList, verbose=250)"
   ]
  },
  {
   "cell_type": "code",
   "execution_count": 10,
   "metadata": {},
   "outputs": [
    {
     "name": "stdout",
     "output_type": "stream",
     "text": [
      "(3000, 32, 32, 3)\n"
     ]
    }
   ],
   "source": [
    "print(data.shape)"
   ]
  },
  {
   "cell_type": "markdown",
   "metadata": {},
   "source": [
    "### Normalize the data input"
   ]
  },
  {
   "cell_type": "code",
   "execution_count": 11,
   "metadata": {},
   "outputs": [],
   "source": [
    "data = data.astype(\"float\") / 255.0"
   ]
  },
  {
   "cell_type": "markdown",
   "metadata": {},
   "source": [
    "### Split the train and test dataset"
   ]
  },
  {
   "cell_type": "code",
   "execution_count": 12,
   "metadata": {},
   "outputs": [],
   "source": [
    "from sklearn.model_selection import train_test_split"
   ]
  },
  {
   "cell_type": "code",
   "execution_count": 13,
   "metadata": {},
   "outputs": [],
   "source": [
    "(trainX, testX, trainY, testY) = train_test_split(data, labels, test_size=0.25, random_state=123)"
   ]
  },
  {
   "cell_type": "code",
   "execution_count": 14,
   "metadata": {},
   "outputs": [],
   "source": [
    "## convert the labels to vector\n",
    "from sklearn.preprocessing import LabelBinarizer\n",
    "\n",
    "trainY = LabelBinarizer().fit_transform(trainY)\n",
    "testY  = LabelBinarizer().fit_transform(testY)"
   ]
  },
  {
   "cell_type": "code",
   "execution_count": 15,
   "metadata": {},
   "outputs": [
    {
     "name": "stdout",
     "output_type": "stream",
     "text": [
      "[[1 0 0]\n",
      " [0 1 0]\n",
      " [1 0 0]]\n",
      "[[0 1 0]\n",
      " [0 1 0]\n",
      " [1 0 0]]\n"
     ]
    }
   ],
   "source": [
    "print(trainY[0:3])\n",
    "print(testY[0:3])"
   ]
  },
  {
   "cell_type": "markdown",
   "metadata": {},
   "source": [
    "## Build the Model"
   ]
  },
  {
   "cell_type": "code",
   "execution_count": 16,
   "metadata": {},
   "outputs": [],
   "source": [
    "from keras.optimizers import SGD"
   ]
  },
  {
   "cell_type": "code",
   "execution_count": 17,
   "metadata": {},
   "outputs": [],
   "source": [
    "?SGD"
   ]
  },
  {
   "cell_type": "code",
   "execution_count": 18,
   "metadata": {},
   "outputs": [
    {
     "name": "stdout",
     "output_type": "stream",
     "text": [
      "_________________________________________________________________\n",
      "Layer (type)                 Output Shape              Param #   \n",
      "=================================================================\n",
      "conv2d_1 (Conv2D)            (None, 32, 32, 32)        896       \n",
      "_________________________________________________________________\n",
      "activation_1 (Activation)    (None, 32, 32, 32)        0         \n",
      "_________________________________________________________________\n",
      "batch_normalization_1 (Batch (None, 32, 32, 32)        128       \n",
      "_________________________________________________________________\n",
      "conv2d_2 (Conv2D)            (None, 32, 32, 32)        9248      \n",
      "_________________________________________________________________\n",
      "activation_2 (Activation)    (None, 32, 32, 32)        0         \n",
      "_________________________________________________________________\n",
      "batch_normalization_2 (Batch (None, 32, 32, 32)        128       \n",
      "_________________________________________________________________\n",
      "max_pooling2d_1 (MaxPooling2 (None, 16, 16, 32)        0         \n",
      "_________________________________________________________________\n",
      "conv2d_3 (Conv2D)            (None, 16, 16, 64)        18496     \n",
      "_________________________________________________________________\n",
      "activation_3 (Activation)    (None, 16, 16, 64)        0         \n",
      "_________________________________________________________________\n",
      "batch_normalization_3 (Batch (None, 16, 16, 64)        256       \n",
      "_________________________________________________________________\n",
      "conv2d_4 (Conv2D)            (None, 16, 16, 64)        36928     \n",
      "_________________________________________________________________\n",
      "activation_4 (Activation)    (None, 16, 16, 64)        0         \n",
      "_________________________________________________________________\n",
      "batch_normalization_4 (Batch (None, 16, 16, 64)        256       \n",
      "_________________________________________________________________\n",
      "max_pooling2d_2 (MaxPooling2 (None, 8, 8, 64)          0         \n",
      "_________________________________________________________________\n",
      "flatten_1 (Flatten)          (None, 4096)              0         \n",
      "_________________________________________________________________\n",
      "dense_1 (Dense)              (None, 512)               2097664   \n",
      "_________________________________________________________________\n",
      "activation_5 (Activation)    (None, 512)               0         \n",
      "_________________________________________________________________\n",
      "batch_normalization_5 (Batch (None, 512)               2048      \n",
      "_________________________________________________________________\n",
      "dense_2 (Dense)              (None, 3)                 1539      \n",
      "_________________________________________________________________\n",
      "activation_6 (Activation)    (None, 3)                 0         \n",
      "=================================================================\n",
      "Total params: 2,167,587\n",
      "Trainable params: 2,166,179\n",
      "Non-trainable params: 1,408\n",
      "_________________________________________________________________\n"
     ]
    }
   ],
   "source": [
    "num_epochs = 25\n",
    "sgd = SGD(lr=0.005, decay=0.005 / num_epochs, momentum=0.9, nesterov=True)\n",
    "model = miniVGGNet(width=32, height=32, depth=3, num_classes=3)"
   ]
  },
  {
   "cell_type": "code",
   "execution_count": 19,
   "metadata": {},
   "outputs": [],
   "source": [
    "model.compile(loss=\"categorical_crossentropy\", optimizer=sgd, metrics=[\"accuracy\"])"
   ]
  },
  {
   "cell_type": "markdown",
   "metadata": {},
   "source": [
    "## Train and Evaluate"
   ]
  },
  {
   "cell_type": "code",
   "execution_count": 20,
   "metadata": {},
   "outputs": [],
   "source": [
    "?model.fit"
   ]
  },
  {
   "cell_type": "code",
   "execution_count": 21,
   "metadata": {},
   "outputs": [
    {
     "name": "stdout",
     "output_type": "stream",
     "text": [
      "Train the network...\n",
      "Train on 2250 samples, validate on 750 samples\n",
      "Epoch 1/25\n",
      "2250/2250 [==============================] - 35s 15ms/step - loss: 1.0468 - acc: 0.5973 - val_loss: 1.4725 - val_acc: 0.3720\n",
      "Epoch 2/25\n",
      "2250/2250 [==============================] - 34s 15ms/step - loss: 0.6407 - acc: 0.7058 - val_loss: 1.4509 - val_acc: 0.3707\n",
      "Epoch 3/25\n",
      "2250/2250 [==============================] - 34s 15ms/step - loss: 0.4854 - acc: 0.7858 - val_loss: 1.3642 - val_acc: 0.3973\n",
      "Epoch 4/25\n",
      "2250/2250 [==============================] - 34s 15ms/step - loss: 0.3709 - acc: 0.8378 - val_loss: 1.2833 - val_acc: 0.4653\n",
      "Epoch 5/25\n",
      "2250/2250 [==============================] - 34s 15ms/step - loss: 0.3026 - acc: 0.8791 - val_loss: 0.9356 - val_acc: 0.6293\n",
      "Epoch 6/25\n",
      "2250/2250 [==============================] - 34s 15ms/step - loss: 0.1732 - acc: 0.9404 - val_loss: 0.9504 - val_acc: 0.6627\n",
      "Epoch 7/25\n",
      "2250/2250 [==============================] - 34s 15ms/step - loss: 0.1252 - acc: 0.9582 - val_loss: 1.0216 - val_acc: 0.6667\n",
      "Epoch 8/25\n",
      "2250/2250 [==============================] - 34s 15ms/step - loss: 0.1056 - acc: 0.9644 - val_loss: 0.8938 - val_acc: 0.6907\n",
      "Epoch 9/25\n",
      "2250/2250 [==============================] - 34s 15ms/step - loss: 0.0937 - acc: 0.9716 - val_loss: 0.9332 - val_acc: 0.6933\n",
      "Epoch 10/25\n",
      "2250/2250 [==============================] - 34s 15ms/step - loss: 0.1154 - acc: 0.9591 - val_loss: 1.0982 - val_acc: 0.6627\n",
      "Epoch 11/25\n",
      "2250/2250 [==============================] - 34s 15ms/step - loss: 0.0602 - acc: 0.9853 - val_loss: 0.9369 - val_acc: 0.7213\n",
      "Epoch 12/25\n",
      "2250/2250 [==============================] - 34s 15ms/step - loss: 0.0745 - acc: 0.9733 - val_loss: 1.0198 - val_acc: 0.7067\n",
      "Epoch 13/25\n",
      "2250/2250 [==============================] - 34s 15ms/step - loss: 0.0503 - acc: 0.9907 - val_loss: 1.0227 - val_acc: 0.7040\n",
      "Epoch 14/25\n",
      "2250/2250 [==============================] - 34s 15ms/step - loss: 0.0373 - acc: 0.9884 - val_loss: 1.0112 - val_acc: 0.7080\n",
      "Epoch 15/25\n",
      "2250/2250 [==============================] - 34s 15ms/step - loss: 0.0155 - acc: 0.9982 - val_loss: 1.0536 - val_acc: 0.7080\n",
      "Epoch 16/25\n",
      "2250/2250 [==============================] - 34s 15ms/step - loss: 0.0094 - acc: 0.9987 - val_loss: 0.9952 - val_acc: 0.7280\n",
      "Epoch 17/25\n",
      "2250/2250 [==============================] - 34s 15ms/step - loss: 0.0115 - acc: 0.9982 - val_loss: 1.0839 - val_acc: 0.7173\n",
      "Epoch 18/25\n",
      "2250/2250 [==============================] - 34s 15ms/step - loss: 0.0085 - acc: 0.9982 - val_loss: 1.0811 - val_acc: 0.7173\n",
      "Epoch 19/25\n",
      "2250/2250 [==============================] - 34s 15ms/step - loss: 0.0139 - acc: 0.9978 - val_loss: 1.1837 - val_acc: 0.7080\n",
      "Epoch 20/25\n",
      "2250/2250 [==============================] - 34s 15ms/step - loss: 0.0046 - acc: 1.0000 - val_loss: 1.1064 - val_acc: 0.7133\n",
      "Epoch 21/25\n",
      "2250/2250 [==============================] - 34s 15ms/step - loss: 0.0044 - acc: 1.0000 - val_loss: 1.1045 - val_acc: 0.7173\n",
      "Epoch 22/25\n",
      "2250/2250 [==============================] - 34s 15ms/step - loss: 0.0056 - acc: 0.9987 - val_loss: 1.1330 - val_acc: 0.7213\n",
      "Epoch 23/25\n",
      "2250/2250 [==============================] - 34s 15ms/step - loss: 0.0038 - acc: 1.0000 - val_loss: 1.1402 - val_acc: 0.7160\n",
      "Epoch 24/25\n",
      "2250/2250 [==============================] - 34s 15ms/step - loss: 0.0033 - acc: 1.0000 - val_loss: 1.1447 - val_acc: 0.7187\n",
      "Epoch 25/25\n",
      "2250/2250 [==============================] - 34s 15ms/step - loss: 0.0037 - acc: 0.9996 - val_loss: 1.1837 - val_acc: 0.7187\n"
     ]
    }
   ],
   "source": [
    "# train the network\n",
    "print(\"Train the network...\")\n",
    "H = model.fit(trainX, trainY, validation_data=(testX, testY), batch_size=32, epochs=num_epochs, verbose=1)"
   ]
  },
  {
   "cell_type": "code",
   "execution_count": 22,
   "metadata": {},
   "outputs": [],
   "source": [
    "#H.history"
   ]
  },
  {
   "cell_type": "code",
   "execution_count": 23,
   "metadata": {},
   "outputs": [],
   "source": [
    "from sklearn.metrics import confusion_matrix, classification_report #metric"
   ]
  },
  {
   "cell_type": "code",
   "execution_count": 24,
   "metadata": {},
   "outputs": [
    {
     "name": "stdout",
     "output_type": "stream",
     "text": [
      "              precision    recall  f1-score   support\n",
      "\n",
      "         cat       0.63      0.71      0.67       252\n",
      "         dog       0.64      0.57      0.60       240\n",
      "       panda       0.89      0.86      0.88       258\n",
      "\n",
      "   micro avg       0.72      0.72      0.72       750\n",
      "   macro avg       0.72      0.72      0.72       750\n",
      "weighted avg       0.72      0.72      0.72       750\n",
      "\n"
     ]
    }
   ],
   "source": [
    "pred = model.predict(testX, batch_size=32)\n",
    "print(classification_report(testY.argmax(axis=1), pred.argmax(axis=1), target_names=[\"cat\", \"dog\", \"panda\"]))"
   ]
  },
  {
   "cell_type": "code",
   "execution_count": 25,
   "metadata": {},
   "outputs": [
    {
     "name": "stdout",
     "output_type": "stream",
     "text": [
      "[[179  63  10]\n",
      " [ 85 137  18]\n",
      " [ 21  14 223]]\n"
     ]
    }
   ],
   "source": [
    "from sklearn.metrics import confusion_matrix\n",
    "print(confusion_matrix(testY.argmax(axis=1), pred.argmax(axis=1)))"
   ]
  },
  {
   "cell_type": "code",
   "execution_count": 26,
   "metadata": {},
   "outputs": [
    {
     "name": "stdout",
     "output_type": "stream",
     "text": [
      "0.7186666666666667\n"
     ]
    }
   ],
   "source": [
    "from sklearn.metrics import accuracy_score\n",
    "print(accuracy_score(testY.argmax(axis=1), pred.argmax(axis=1)))"
   ]
  },
  {
   "cell_type": "markdown",
   "metadata": {},
   "source": [
    "## Plot Loss and Accuracy"
   ]
  },
  {
   "cell_type": "code",
   "execution_count": 27,
   "metadata": {},
   "outputs": [],
   "source": [
    "import matplotlib.pyplot as plt"
   ]
  },
  {
   "cell_type": "code",
   "execution_count": 28,
   "metadata": {},
   "outputs": [
    {
     "data": {
      "image/png": "[encoded data removed]",
      "text/plain": [
       "<Figure size 432x288 with 1 Axes>"
      ]
     },
     "metadata": {},
     "output_type": "display_data"
    }
   ],
   "source": [
    "# plot the training loss and accuracy\n",
    "plt.style.use(\"ggplot\")\n",
    "plt.figure()\n",
    "plt.plot(np.arange(0, num_epochs), H.history[\"loss\"], label=\"train_loss\")\n",
    "plt.plot(np.arange(0, num_epochs), H.history[\"val_loss\"], label=\"val_loss\")\n",
    "plt.plot(np.arange(0, num_epochs), H.history[\"acc\"], label=\"train_acc\")\n",
    "plt.plot(np.arange(0, num_epochs), H.history[\"val_acc\"], label=\"val_acc\")\n",
    "plt.title(\"Training Loss and Accuracy\")\n",
    "plt.xlabel(\"Epoch #\")\n",
    "plt.ylabel(\"Loss/Accuracy\")\n",
    "plt.legend()\n",
    "plt.show()"
   ]
  },
  {
   "cell_type": "markdown",
   "metadata": {},
   "source": [
    "## Save the model"
   ]
  },
  {
   "cell_type": "code",
   "execution_count": 30,
   "metadata": {},
   "outputs": [],
   "source": [
    "# mini VGG net with batch normalization\n",
    "model.save('CatsDogsPanda_miniVGGNet_bn_weights.hdf5')"
   ]
  },
  {
   "cell_type": "code",
   "execution_count": null,
   "metadata": {},
   "outputs": [],
   "source": []
  }
 ],
 "metadata": {
  "kernelspec": {
   "display_name": "Python 3",
   "language": "python",
   "name": "python3"
  },
  "language_info": {
   "codemirror_mode": {
    "name": "ipython",
    "version": 3
   },
   "file_extension": ".py",
   "mimetype": "text/x-python",
   "name": "python",
   "nbconvert_exporter": "python",
   "pygments_lexer": "ipython3",
   "version": "3.6.4"
  }
 },
 "nbformat": 4,
 "nbformat_minor": 2
}
