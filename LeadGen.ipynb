{
 "cells": [
  {
   "cell_type": "markdown",
   "metadata": {},
   "source": [
    " ## Lead Generation"
   ]
  },
  {
   "cell_type": "markdown",
   "metadata": {},
   "source": [
    "## Objective :  \n",
    "\n",
    "   * Determine which countries have highest conversion rates.\n",
    "\n",
    "   * The sales funnel has different stages:\n",
    "       * Awareness ->  Leads  -> Prospects  -> Sales\n",
    "       \n",
    "   * Conversion is defines as a person who became a Lead."
   ]
  },
  {
   "cell_type": "code",
   "execution_count": 4,
   "metadata": {
    "collapsed": false
   },
   "outputs": [
    {
     "name": "stdout",
     "output_type": "stream",
     "text": [
      "Print function is ready to serve\n",
      "1.12.1\n",
      "0.20.3\n"
     ]
    }
   ],
   "source": [
    "from __future__ import print_function\n",
    "print('Print function is ready to serve')\n",
    "\n",
    "\n",
    "#get numpy, pandas and matplot\n",
    "import numpy as np\n",
    "print(np.__version__)\n",
    "\n",
    "import pandas as pd\n",
    "print(pd.__version__)\n",
    "\n",
    "import matplotlib.pyplot as plt\n",
    "\n",
    "#make plots inline\n",
    "\n",
    "%matplotlib inline\n",
    "\n",
    "# plot for easier visualization\n",
    "import seaborn as sns"
   ]
  },
  {
   "cell_type": "markdown",
   "metadata": {},
   "source": [
    "## Read Dataset"
   ]
  },
  {
   "cell_type": "code",
   "execution_count": 5,
   "metadata": {
    "collapsed": false
   },
   "outputs": [],
   "source": [
    "## Read the data set\n",
    "df = pd.read_csv('./lead_gen.csv')"
   ]
  },
  {
   "cell_type": "code",
   "execution_count": 6,
   "metadata": {
    "collapsed": false
   },
   "outputs": [
    {
     "data": {
      "text/plain": [
       "(287742, 6)"
      ]
     },
     "execution_count": 6,
     "metadata": {},
     "output_type": "execute_result"
    }
   ],
   "source": [
    "## let's look at the data set\n",
    "df.shape"
   ]
  },
  {
   "cell_type": "code",
   "execution_count": 7,
   "metadata": {
    "collapsed": false
   },
   "outputs": [
    {
     "data": {
      "text/plain": [
       "source          object\n",
       "returning        int64\n",
       "mobile           int64\n",
       "country         object\n",
       "pages_viewed     int64\n",
       "lead             int64\n",
       "dtype: object"
      ]
     },
     "execution_count": 7,
     "metadata": {},
     "output_type": "execute_result"
    }
   ],
   "source": [
    "df.dtypes"
   ]
  },
  {
   "cell_type": "code",
   "execution_count": 8,
   "metadata": {
    "collapsed": false
   },
   "outputs": [
    {
     "data": {
      "text/html": [
       "<div>\n",
       "<style>\n",
       "    .dataframe thead tr:only-child th {\n",
       "        text-align: right;\n",
       "    }\n",
       "\n",
       "    .dataframe thead th {\n",
       "        text-align: left;\n",
       "    }\n",
       "\n",
       "    .dataframe tbody tr th {\n",
       "        vertical-align: top;\n",
       "    }\n",
       "</style>\n",
       "<table border=\"1\" class=\"dataframe\">\n",
       "  <thead>\n",
       "    <tr style=\"text-align: right;\">\n",
       "      <th></th>\n",
       "      <th>source</th>\n",
       "      <th>returning</th>\n",
       "      <th>mobile</th>\n",
       "      <th>country</th>\n",
       "      <th>pages_viewed</th>\n",
       "      <th>lead</th>\n",
       "    </tr>\n",
       "  </thead>\n",
       "  <tbody>\n",
       "    <tr>\n",
       "      <th>0</th>\n",
       "      <td>Taboola</td>\n",
       "      <td>1</td>\n",
       "      <td>1</td>\n",
       "      <td>US</td>\n",
       "      <td>2</td>\n",
       "      <td>0</td>\n",
       "    </tr>\n",
       "    <tr>\n",
       "      <th>1</th>\n",
       "      <td>Taboola</td>\n",
       "      <td>0</td>\n",
       "      <td>1</td>\n",
       "      <td>US</td>\n",
       "      <td>6</td>\n",
       "      <td>0</td>\n",
       "    </tr>\n",
       "    <tr>\n",
       "      <th>2</th>\n",
       "      <td>Facebook</td>\n",
       "      <td>0</td>\n",
       "      <td>0</td>\n",
       "      <td>US</td>\n",
       "      <td>2</td>\n",
       "      <td>0</td>\n",
       "    </tr>\n",
       "    <tr>\n",
       "      <th>3</th>\n",
       "      <td>Taboola</td>\n",
       "      <td>0</td>\n",
       "      <td>0</td>\n",
       "      <td>US</td>\n",
       "      <td>5</td>\n",
       "      <td>0</td>\n",
       "    </tr>\n",
       "    <tr>\n",
       "      <th>4</th>\n",
       "      <td>Taboola</td>\n",
       "      <td>0</td>\n",
       "      <td>0</td>\n",
       "      <td>Canada</td>\n",
       "      <td>5</td>\n",
       "      <td>0</td>\n",
       "    </tr>\n",
       "  </tbody>\n",
       "</table>\n",
       "</div>"
      ],
      "text/plain": [
       "     source  returning  mobile country  pages_viewed  lead\n",
       "0   Taboola          1       1      US             2     0\n",
       "1   Taboola          0       1      US             6     0\n",
       "2  Facebook          0       0      US             2     0\n",
       "3   Taboola          0       0      US             5     0\n",
       "4   Taboola          0       0  Canada             5     0"
      ]
     },
     "execution_count": 8,
     "metadata": {},
     "output_type": "execute_result"
    }
   ],
   "source": [
    "df.head(5)"
   ]
  },
  {
   "cell_type": "markdown",
   "metadata": {},
   "source": [
    "### Check for missing values"
   ]
  },
  {
   "cell_type": "code",
   "execution_count": 9,
   "metadata": {
    "collapsed": false
   },
   "outputs": [
    {
     "data": {
      "text/plain": [
       "source          0\n",
       "returning       0\n",
       "mobile          0\n",
       "country         0\n",
       "pages_viewed    0\n",
       "lead            0\n",
       "dtype: int64"
      ]
     },
     "execution_count": 9,
     "metadata": {},
     "output_type": "execute_result"
    }
   ],
   "source": [
    "df.isnull().sum()"
   ]
  },
  {
   "cell_type": "code",
   "execution_count": 10,
   "metadata": {
    "collapsed": false
   },
   "outputs": [
    {
     "data": {
      "text/plain": [
       "0.03213990310764504"
      ]
     },
     "execution_count": 10,
     "metadata": {},
     "output_type": "execute_result"
    }
   ],
   "source": [
    "## conversion rate\n",
    "df.lead.mean()"
   ]
  },
  {
   "cell_type": "markdown",
   "metadata": {},
   "source": [
    "## Distributions of numeric fields and categorical fields."
   ]
  },
  {
   "cell_type": "markdown",
   "metadata": {},
   "source": [
    "### Distribution of numeric field"
   ]
  },
  {
   "cell_type": "code",
   "execution_count": 11,
   "metadata": {
    "collapsed": false
   },
   "outputs": [
    {
     "data": {
      "text/html": [
       "<div>\n",
       "<style>\n",
       "    .dataframe thead tr:only-child th {\n",
       "        text-align: right;\n",
       "    }\n",
       "\n",
       "    .dataframe thead th {\n",
       "        text-align: left;\n",
       "    }\n",
       "\n",
       "    .dataframe tbody tr th {\n",
       "        vertical-align: top;\n",
       "    }\n",
       "</style>\n",
       "<table border=\"1\" class=\"dataframe\">\n",
       "  <thead>\n",
       "    <tr style=\"text-align: right;\">\n",
       "      <th></th>\n",
       "      <th>returning</th>\n",
       "      <th>mobile</th>\n",
       "      <th>pages_viewed</th>\n",
       "      <th>lead</th>\n",
       "    </tr>\n",
       "  </thead>\n",
       "  <tbody>\n",
       "    <tr>\n",
       "      <th>count</th>\n",
       "      <td>287742.000000</td>\n",
       "      <td>287742.000000</td>\n",
       "      <td>287742.000000</td>\n",
       "      <td>287742.000000</td>\n",
       "    </tr>\n",
       "    <tr>\n",
       "      <th>mean</th>\n",
       "      <td>0.173607</td>\n",
       "      <td>0.685851</td>\n",
       "      <td>4.917666</td>\n",
       "      <td>0.032140</td>\n",
       "    </tr>\n",
       "    <tr>\n",
       "      <th>std</th>\n",
       "      <td>0.378772</td>\n",
       "      <td>0.464177</td>\n",
       "      <td>3.382546</td>\n",
       "      <td>0.176372</td>\n",
       "    </tr>\n",
       "    <tr>\n",
       "      <th>min</th>\n",
       "      <td>0.000000</td>\n",
       "      <td>0.000000</td>\n",
       "      <td>1.000000</td>\n",
       "      <td>0.000000</td>\n",
       "    </tr>\n",
       "    <tr>\n",
       "      <th>25%</th>\n",
       "      <td>0.000000</td>\n",
       "      <td>0.000000</td>\n",
       "      <td>2.000000</td>\n",
       "      <td>0.000000</td>\n",
       "    </tr>\n",
       "    <tr>\n",
       "      <th>50%</th>\n",
       "      <td>0.000000</td>\n",
       "      <td>1.000000</td>\n",
       "      <td>4.000000</td>\n",
       "      <td>0.000000</td>\n",
       "    </tr>\n",
       "    <tr>\n",
       "      <th>75%</th>\n",
       "      <td>0.000000</td>\n",
       "      <td>1.000000</td>\n",
       "      <td>7.000000</td>\n",
       "      <td>0.000000</td>\n",
       "    </tr>\n",
       "    <tr>\n",
       "      <th>max</th>\n",
       "      <td>1.000000</td>\n",
       "      <td>1.000000</td>\n",
       "      <td>30.000000</td>\n",
       "      <td>1.000000</td>\n",
       "    </tr>\n",
       "  </tbody>\n",
       "</table>\n",
       "</div>"
      ],
      "text/plain": [
       "           returning         mobile   pages_viewed           lead\n",
       "count  287742.000000  287742.000000  287742.000000  287742.000000\n",
       "mean        0.173607       0.685851       4.917666       0.032140\n",
       "std         0.378772       0.464177       3.382546       0.176372\n",
       "min         0.000000       0.000000       1.000000       0.000000\n",
       "25%         0.000000       0.000000       2.000000       0.000000\n",
       "50%         0.000000       1.000000       4.000000       0.000000\n",
       "75%         0.000000       1.000000       7.000000       0.000000\n",
       "max         1.000000       1.000000      30.000000       1.000000"
      ]
     },
     "execution_count": 11,
     "metadata": {},
     "output_type": "execute_result"
    }
   ],
   "source": [
    "df.describe()"
   ]
  },
  {
   "cell_type": "markdown",
   "metadata": {},
   "source": [
    "## Plot numeric fields"
   ]
  },
  {
   "cell_type": "code",
   "execution_count": 12,
   "metadata": {
    "collapsed": false
   },
   "outputs": [
    {
     "data": {
      "image/png": "[encoded data removed]",
      "text/plain": [
       "<matplotlib.figure.Figure at 0x106427290>"
      ]
     },
     "metadata": {},
     "output_type": "display_data"
    }
   ],
   "source": [
    "# plot the numberic fields\n",
    "df.hist(figsize=(10,10), xrot=45)\n",
    "\n",
    "plt.show()"
   ]
  },
  {
   "cell_type": "markdown",
   "metadata": {},
   "source": [
    "## Plot Categorical fields"
   ]
  },
  {
   "cell_type": "code",
   "execution_count": 13,
   "metadata": {
    "collapsed": false
   },
   "outputs": [
    {
     "data": {
      "text/html": [
       "<div>\n",
       "<style>\n",
       "    .dataframe thead tr:only-child th {\n",
       "        text-align: right;\n",
       "    }\n",
       "\n",
       "    .dataframe thead th {\n",
       "        text-align: left;\n",
       "    }\n",
       "\n",
       "    .dataframe tbody tr th {\n",
       "        vertical-align: top;\n",
       "    }\n",
       "</style>\n",
       "<table border=\"1\" class=\"dataframe\">\n",
       "  <thead>\n",
       "    <tr style=\"text-align: right;\">\n",
       "      <th></th>\n",
       "      <th>source</th>\n",
       "      <th>country</th>\n",
       "    </tr>\n",
       "  </thead>\n",
       "  <tbody>\n",
       "    <tr>\n",
       "      <th>count</th>\n",
       "      <td>287742</td>\n",
       "      <td>287742</td>\n",
       "    </tr>\n",
       "    <tr>\n",
       "      <th>unique</th>\n",
       "      <td>4</td>\n",
       "      <td>3</td>\n",
       "    </tr>\n",
       "    <tr>\n",
       "      <th>top</th>\n",
       "      <td>Facebook</td>\n",
       "      <td>US</td>\n",
       "    </tr>\n",
       "    <tr>\n",
       "      <th>freq</th>\n",
       "      <td>162139</td>\n",
       "      <td>141182</td>\n",
       "    </tr>\n",
       "  </tbody>\n",
       "</table>\n",
       "</div>"
      ],
      "text/plain": [
       "          source country\n",
       "count     287742  287742\n",
       "unique         4       3\n",
       "top     Facebook      US\n",
       "freq      162139  141182"
      ]
     },
     "execution_count": 13,
     "metadata": {},
     "output_type": "execute_result"
    }
   ],
   "source": [
    "df.describe(include=['object'])"
   ]
  },
  {
   "cell_type": "code",
   "execution_count": 14,
   "metadata": {
    "collapsed": false
   },
   "outputs": [
    {
     "data": {
      "text/plain": [
       "source           True\n",
       "returning       False\n",
       "mobile          False\n",
       "country          True\n",
       "pages_viewed    False\n",
       "lead            False\n",
       "dtype: bool"
      ]
     },
     "execution_count": 14,
     "metadata": {},
     "output_type": "execute_result"
    }
   ],
   "source": [
    "df.dtypes == 'object'"
   ]
  },
  {
   "cell_type": "code",
   "execution_count": 15,
   "metadata": {
    "collapsed": false
   },
   "outputs": [
    {
     "data": {
      "text/plain": [
       "Index([u'source', u'country'], dtype='object')"
      ]
     },
     "execution_count": 15,
     "metadata": {},
     "output_type": "execute_result"
    }
   ],
   "source": [
    "df.dtypes[df.dtypes=='object'].index"
   ]
  },
  {
   "cell_type": "code",
   "execution_count": 16,
   "metadata": {
    "collapsed": false
   },
   "outputs": [
    {
     "name": "stdout",
     "output_type": "stream",
     "text": [
      "source\n"
     ]
    },
    {
     "data": {
      "image/png": "[encoded data removed]",
      "text/plain": [
       "<matplotlib.figure.Figure at 0x11191ca10>"
      ]
     },
     "metadata": {},
     "output_type": "display_data"
    },
    {
     "name": "stdout",
     "output_type": "stream",
     "text": [
      "country\n"
     ]
    },
    {
     "data": {
      "image/png": "[encoded data removed]",
      "text/plain": [
       "<matplotlib.figure.Figure at 0x1127d4b10>"
      ]
     },
     "metadata": {},
     "output_type": "display_data"
    }
   ],
   "source": [
    "# bar plot each of the categorical fields \n",
    "# use seaborn count plot\n",
    "for feature in df.dtypes[df.dtypes == 'object'].index:\n",
    "    print(feature)\n",
    "    sns.countplot(y=feature, data=df)\n",
    "    plt.show()\n",
    "    \n",
    "    "
   ]
  },
  {
   "cell_type": "markdown",
   "metadata": {},
   "source": [
    "### Summary of learnings so far"
   ]
  },
  {
   "cell_type": "markdown",
   "metadata": {},
   "source": [
    "   * Nearly 209K obeservations with 6 features\n",
    "   * Numeric features : 4 Categorical features : 2\n",
    "   * The target variable 'lead' is a numeric type.\n",
    "   * No missing data\n",
    "   * The overall conversion data is 3.2%\n",
    "   * Most of visitors live at US\n",
    "   * Most of visitors came from Facebook ads."
   ]
  },
  {
   "cell_type": "markdown",
   "metadata": {
    "collapsed": true
   },
   "source": [
    "## Conversion Rate Analysis\n",
    "\n",
    "Let's understand the different variables and their impact on the conversion."
   ]
  },
  {
   "cell_type": "markdown",
   "metadata": {},
   "source": [
    "### source vs lead"
   ]
  },
  {
   "cell_type": "code",
   "execution_count": 17,
   "metadata": {
    "collapsed": true
   },
   "outputs": [],
   "source": [
    "?plt.subplots()\n",
    "?sns.countplot()"
   ]
  },
  {
   "cell_type": "code",
   "execution_count": 18,
   "metadata": {
    "collapsed": false
   },
   "outputs": [
    {
     "data": {
      "image/png": "[encoded data removed]",
      "text/plain": [
       "<matplotlib.figure.Figure at 0x112801fd0>"
      ]
     },
     "metadata": {},
     "output_type": "display_data"
    }
   ],
   "source": [
    "# show the distribution and plot conversion rate\n",
    "fig, (ax1, ax2) = plt.subplots(ncols=2, figsize=(14,6))\n",
    "\n",
    "#display the distribution on left\n",
    "sns.countplot(x='source', data=df, ax=ax1)\n",
    "\n",
    "# plot the converion rate at the right\n",
    "sns.barplot(x='source', y='lead', data=df, ax=ax2)\n",
    "plt.title('Conversion rate by source')\n",
    "plt.show()"
   ]
  },
  {
   "cell_type": "markdown",
   "metadata": {},
   "source": [
    "### The source 'Taboola' has low conversion rate."
   ]
  },
  {
   "cell_type": "markdown",
   "metadata": {},
   "source": [
    "## Let's look at other variables."
   ]
  },
  {
   "cell_type": "code",
   "execution_count": 19,
   "metadata": {
    "collapsed": false
   },
   "outputs": [],
   "source": [
    "def conversion_rate_by(segment_by):\n",
    "    # show the distribution and plot conversion rate\n",
    "    fig, (ax1, ax2) = plt.subplots(ncols=2, figsize=(14,6))\n",
    "\n",
    "    #display the distribution on left\n",
    "    sns.countplot(x=segment_by, data=df, ax=ax1)\n",
    "\n",
    "    # plot the converion rate at the right\n",
    "    sns.barplot(x=segment_by, y='lead', data=df, ax=ax2)\n",
    "    plt.title('Conversion rate by {}' .format(segment_by))\n",
    "    plt.show()"
   ]
  },
  {
   "cell_type": "code",
   "execution_count": 20,
   "metadata": {
    "collapsed": false
   },
   "outputs": [
    {
     "data": {
      "image/png": "[encoded data removed]",
      "text/plain": [
       "<matplotlib.figure.Figure at 0x1118c5850>"
      ]
     },
     "metadata": {},
     "output_type": "display_data"
    }
   ],
   "source": [
    "# country vs lead\n",
    "conversion_rate_by('country')"
   ]
  },
  {
   "cell_type": "markdown",
   "metadata": {},
   "source": [
    "### Inference: Canada has low conversion rate."
   ]
  },
  {
   "cell_type": "code",
   "execution_count": 21,
   "metadata": {
    "collapsed": false
   },
   "outputs": [
    {
     "data": {
      "image/png": "[encoded data removed]",
      "text/plain": [
       "<matplotlib.figure.Figure at 0x111bc3690>"
      ]
     },
     "metadata": {},
     "output_type": "display_data"
    }
   ],
   "source": [
    "# mobile vs lead\n",
    "conversion_rate_by('mobile')"
   ]
  },
  {
   "cell_type": "markdown",
   "metadata": {},
   "source": [
    "### Inference: mobile has low conversion rate."
   ]
  },
  {
   "cell_type": "code",
   "execution_count": 22,
   "metadata": {
    "collapsed": false
   },
   "outputs": [
    {
     "data": {
      "image/png": "[encoded data removed]",
      "text/plain": [
       "<matplotlib.figure.Figure at 0x11175fd90>"
      ]
     },
     "metadata": {},
     "output_type": "display_data"
    }
   ],
   "source": [
    "# pages_viewed vs lead\n",
    "\n",
    "conversion_rate_by('pages_viewed')"
   ]
  },
  {
   "cell_type": "markdown",
   "metadata": {},
   "source": [
    "### Inference: Conversion is successful when more pages are viewed."
   ]
  },
  {
   "cell_type": "code",
   "execution_count": 23,
   "metadata": {
    "collapsed": false
   },
   "outputs": [
    {
     "data": {
      "image/png": "[encoded data removed]",
      "text/plain": [
       "<matplotlib.figure.Figure at 0x111bcdb90>"
      ]
     },
     "metadata": {},
     "output_type": "display_data"
    }
   ],
   "source": [
    "# returning vs lead\n",
    "conversion_rate_by('returning')"
   ]
  },
  {
   "cell_type": "markdown",
   "metadata": {},
   "source": [
    "### Inference: The returning and new visitors have almost same conversion rate."
   ]
  },
  {
   "cell_type": "markdown",
   "metadata": {},
   "source": [
    "## Correlation info"
   ]
  },
  {
   "cell_type": "code",
   "execution_count": 24,
   "metadata": {
    "collapsed": false
   },
   "outputs": [
    {
     "data": {
      "text/html": [
       "<div>\n",
       "<style>\n",
       "    .dataframe thead tr:only-child th {\n",
       "        text-align: right;\n",
       "    }\n",
       "\n",
       "    .dataframe thead th {\n",
       "        text-align: left;\n",
       "    }\n",
       "\n",
       "    .dataframe tbody tr th {\n",
       "        vertical-align: top;\n",
       "    }\n",
       "</style>\n",
       "<table border=\"1\" class=\"dataframe\">\n",
       "  <thead>\n",
       "    <tr style=\"text-align: right;\">\n",
       "      <th></th>\n",
       "      <th>returning</th>\n",
       "      <th>mobile</th>\n",
       "      <th>pages_viewed</th>\n",
       "      <th>lead</th>\n",
       "    </tr>\n",
       "  </thead>\n",
       "  <tbody>\n",
       "    <tr>\n",
       "      <th>returning</th>\n",
       "      <td>1.000000</td>\n",
       "      <td>-0.001620</td>\n",
       "      <td>0.002143</td>\n",
       "      <td>0.004551</td>\n",
       "    </tr>\n",
       "    <tr>\n",
       "      <th>mobile</th>\n",
       "      <td>-0.001620</td>\n",
       "      <td>1.000000</td>\n",
       "      <td>-0.082047</td>\n",
       "      <td>-0.152557</td>\n",
       "    </tr>\n",
       "    <tr>\n",
       "      <th>pages_viewed</th>\n",
       "      <td>0.002143</td>\n",
       "      <td>-0.082047</td>\n",
       "      <td>1.000000</td>\n",
       "      <td>0.520297</td>\n",
       "    </tr>\n",
       "    <tr>\n",
       "      <th>lead</th>\n",
       "      <td>0.004551</td>\n",
       "      <td>-0.152557</td>\n",
       "      <td>0.520297</td>\n",
       "      <td>1.000000</td>\n",
       "    </tr>\n",
       "  </tbody>\n",
       "</table>\n",
       "</div>"
      ],
      "text/plain": [
       "              returning    mobile  pages_viewed      lead\n",
       "returning      1.000000 -0.001620      0.002143  0.004551\n",
       "mobile        -0.001620  1.000000     -0.082047 -0.152557\n",
       "pages_viewed   0.002143 -0.082047      1.000000  0.520297\n",
       "lead           0.004551 -0.152557      0.520297  1.000000"
      ]
     },
     "execution_count": 24,
     "metadata": {},
     "output_type": "execute_result"
    }
   ],
   "source": [
    "df.corr()"
   ]
  },
  {
   "cell_type": "code",
   "execution_count": 25,
   "metadata": {
    "collapsed": false
   },
   "outputs": [
    {
     "data": {
      "image/png": "[encoded data removed]",
      "text/plain": [
       "<matplotlib.figure.Figure at 0x112801e50>"
      ]
     },
     "metadata": {},
     "output_type": "display_data"
    }
   ],
   "source": [
    "sns.heatmap(df.corr())\n",
    "plt.show()"
   ]
  },
  {
   "cell_type": "markdown",
   "metadata": {},
   "source": [
    "## Note:\n",
    "The categorical variables are not in play while finding out the correlation info. They needed to be converted into some kind of enumeration aka one-hot encoding aka generating dummy variables."
   ]
  },
  {
   "cell_type": "markdown",
   "metadata": {},
   "source": [
    "## Build Machine Learning Model"
   ]
  },
  {
   "cell_type": "markdown",
   "metadata": {
    "collapsed": true
   },
   "source": [
    "* Split the train and test data\n",
    "* Fit the training data\n",
    "* Predict for the test data\n",
    "* Collect the accuracy metrics"
   ]
  },
  {
   "cell_type": "code",
   "execution_count": 26,
   "metadata": {
    "collapsed": true
   },
   "outputs": [],
   "source": [
    "# for splitting train and test data\n",
    "from sklearn.model_selection import train_test_split\n",
    "\n",
    "# for classifier\n",
    "from sklearn.linear_model import LogisticRegression\n",
    "from sklearn.ensemble import GradientBoostingClassifier, partial_dependence\n",
    "\n",
    "from sklearn.metrics import roc_auc_score"
   ]
  },
  {
   "cell_type": "code",
   "execution_count": 28,
   "metadata": {
    "collapsed": false
   },
   "outputs": [],
   "source": [
    "#?pd.get_dummies()"
   ]
  },
  {
   "cell_type": "code",
   "execution_count": 29,
   "metadata": {
    "collapsed": true
   },
   "outputs": [],
   "source": [
    "# Create analytical base table : handle the categorical variables with one hot encoding.\n",
    "\n",
    "abt = pd.get_dummies(df)"
   ]
  },
  {
   "cell_type": "code",
   "execution_count": 31,
   "metadata": {
    "collapsed": false,
    "scrolled": true
   },
   "outputs": [
    {
     "data": {
      "text/html": [
       "<div>\n",
       "<style>\n",
       "    .dataframe thead tr:only-child th {\n",
       "        text-align: right;\n",
       "    }\n",
       "\n",
       "    .dataframe thead th {\n",
       "        text-align: left;\n",
       "    }\n",
       "\n",
       "    .dataframe tbody tr th {\n",
       "        vertical-align: top;\n",
       "    }\n",
       "</style>\n",
       "<table border=\"1\" class=\"dataframe\">\n",
       "  <thead>\n",
       "    <tr style=\"text-align: right;\">\n",
       "      <th></th>\n",
       "      <th>returning</th>\n",
       "      <th>mobile</th>\n",
       "      <th>pages_viewed</th>\n",
       "      <th>lead</th>\n",
       "      <th>source_Adwords</th>\n",
       "      <th>source_Facebook</th>\n",
       "      <th>source_Influencer</th>\n",
       "      <th>source_Taboola</th>\n",
       "      <th>country_Canada</th>\n",
       "      <th>country_UK</th>\n",
       "      <th>country_US</th>\n",
       "    </tr>\n",
       "  </thead>\n",
       "  <tbody>\n",
       "    <tr>\n",
       "      <th>0</th>\n",
       "      <td>1</td>\n",
       "      <td>1</td>\n",
       "      <td>2</td>\n",
       "      <td>0</td>\n",
       "      <td>0</td>\n",
       "      <td>0</td>\n",
       "      <td>0</td>\n",
       "      <td>1</td>\n",
       "      <td>0</td>\n",
       "      <td>0</td>\n",
       "      <td>1</td>\n",
       "    </tr>\n",
       "    <tr>\n",
       "      <th>1</th>\n",
       "      <td>0</td>\n",
       "      <td>1</td>\n",
       "      <td>6</td>\n",
       "      <td>0</td>\n",
       "      <td>0</td>\n",
       "      <td>0</td>\n",
       "      <td>0</td>\n",
       "      <td>1</td>\n",
       "      <td>0</td>\n",
       "      <td>0</td>\n",
       "      <td>1</td>\n",
       "    </tr>\n",
       "    <tr>\n",
       "      <th>2</th>\n",
       "      <td>0</td>\n",
       "      <td>0</td>\n",
       "      <td>2</td>\n",
       "      <td>0</td>\n",
       "      <td>0</td>\n",
       "      <td>1</td>\n",
       "      <td>0</td>\n",
       "      <td>0</td>\n",
       "      <td>0</td>\n",
       "      <td>0</td>\n",
       "      <td>1</td>\n",
       "    </tr>\n",
       "    <tr>\n",
       "      <th>3</th>\n",
       "      <td>0</td>\n",
       "      <td>0</td>\n",
       "      <td>5</td>\n",
       "      <td>0</td>\n",
       "      <td>0</td>\n",
       "      <td>0</td>\n",
       "      <td>0</td>\n",
       "      <td>1</td>\n",
       "      <td>0</td>\n",
       "      <td>0</td>\n",
       "      <td>1</td>\n",
       "    </tr>\n",
       "    <tr>\n",
       "      <th>4</th>\n",
       "      <td>0</td>\n",
       "      <td>0</td>\n",
       "      <td>5</td>\n",
       "      <td>0</td>\n",
       "      <td>0</td>\n",
       "      <td>0</td>\n",
       "      <td>0</td>\n",
       "      <td>1</td>\n",
       "      <td>1</td>\n",
       "      <td>0</td>\n",
       "      <td>0</td>\n",
       "    </tr>\n",
       "  </tbody>\n",
       "</table>\n",
       "</div>"
      ],
      "text/plain": [
       "   returning  mobile  pages_viewed  lead  source_Adwords  source_Facebook  \\\n",
       "0          1       1             2     0               0                0   \n",
       "1          0       1             6     0               0                0   \n",
       "2          0       0             2     0               0                1   \n",
       "3          0       0             5     0               0                0   \n",
       "4          0       0             5     0               0                0   \n",
       "\n",
       "   source_Influencer  source_Taboola  country_Canada  country_UK  country_US  \n",
       "0                  0               1               0           0           1  \n",
       "1                  0               1               0           0           1  \n",
       "2                  0               0               0           0           1  \n",
       "3                  0               1               0           0           1  \n",
       "4                  0               1               1           0           0  "
      ]
     },
     "execution_count": 31,
     "metadata": {},
     "output_type": "execute_result"
    }
   ],
   "source": [
    "abt.head()"
   ]
  },
  {
   "cell_type": "code",
   "execution_count": 32,
   "metadata": {
    "collapsed": true
   },
   "outputs": [],
   "source": [
    "# separate the target variable from features\n",
    "y = abt.lead\n",
    "X = abt.drop('lead', axis=1)"
   ]
  },
  {
   "cell_type": "code",
   "execution_count": 33,
   "metadata": {
    "collapsed": true
   },
   "outputs": [],
   "source": [
    "## Split training and test sets\n",
    "X_train, X_test, y_train, y_test = train_test_split(X, y,\n",
    "                                                    test_size=0.2,\n",
    "                                                    random_state=123)"
   ]
  },
  {
   "cell_type": "code",
   "execution_count": 34,
   "metadata": {
    "collapsed": false
   },
   "outputs": [
    {
     "data": {
      "text/html": [
       "<div>\n",
       "<style>\n",
       "    .dataframe thead tr:only-child th {\n",
       "        text-align: right;\n",
       "    }\n",
       "\n",
       "    .dataframe thead th {\n",
       "        text-align: left;\n",
       "    }\n",
       "\n",
       "    .dataframe tbody tr th {\n",
       "        vertical-align: top;\n",
       "    }\n",
       "</style>\n",
       "<table border=\"1\" class=\"dataframe\">\n",
       "  <thead>\n",
       "    <tr style=\"text-align: right;\">\n",
       "      <th></th>\n",
       "      <th>returning</th>\n",
       "      <th>mobile</th>\n",
       "      <th>pages_viewed</th>\n",
       "      <th>source_Adwords</th>\n",
       "      <th>source_Facebook</th>\n",
       "      <th>source_Influencer</th>\n",
       "      <th>source_Taboola</th>\n",
       "      <th>country_Canada</th>\n",
       "      <th>country_UK</th>\n",
       "      <th>country_US</th>\n",
       "    </tr>\n",
       "  </thead>\n",
       "  <tbody>\n",
       "    <tr>\n",
       "      <th>166076</th>\n",
       "      <td>1</td>\n",
       "      <td>1</td>\n",
       "      <td>4</td>\n",
       "      <td>0</td>\n",
       "      <td>1</td>\n",
       "      <td>0</td>\n",
       "      <td>0</td>\n",
       "      <td>0</td>\n",
       "      <td>0</td>\n",
       "      <td>1</td>\n",
       "    </tr>\n",
       "    <tr>\n",
       "      <th>145917</th>\n",
       "      <td>1</td>\n",
       "      <td>0</td>\n",
       "      <td>4</td>\n",
       "      <td>0</td>\n",
       "      <td>1</td>\n",
       "      <td>0</td>\n",
       "      <td>0</td>\n",
       "      <td>1</td>\n",
       "      <td>0</td>\n",
       "      <td>0</td>\n",
       "    </tr>\n",
       "    <tr>\n",
       "      <th>111739</th>\n",
       "      <td>1</td>\n",
       "      <td>1</td>\n",
       "      <td>6</td>\n",
       "      <td>0</td>\n",
       "      <td>1</td>\n",
       "      <td>0</td>\n",
       "      <td>0</td>\n",
       "      <td>0</td>\n",
       "      <td>0</td>\n",
       "      <td>1</td>\n",
       "    </tr>\n",
       "    <tr>\n",
       "      <th>68166</th>\n",
       "      <td>0</td>\n",
       "      <td>1</td>\n",
       "      <td>3</td>\n",
       "      <td>0</td>\n",
       "      <td>1</td>\n",
       "      <td>0</td>\n",
       "      <td>0</td>\n",
       "      <td>0</td>\n",
       "      <td>0</td>\n",
       "      <td>1</td>\n",
       "    </tr>\n",
       "    <tr>\n",
       "      <th>88104</th>\n",
       "      <td>0</td>\n",
       "      <td>1</td>\n",
       "      <td>1</td>\n",
       "      <td>0</td>\n",
       "      <td>1</td>\n",
       "      <td>0</td>\n",
       "      <td>0</td>\n",
       "      <td>0</td>\n",
       "      <td>0</td>\n",
       "      <td>1</td>\n",
       "    </tr>\n",
       "  </tbody>\n",
       "</table>\n",
       "</div>"
      ],
      "text/plain": [
       "        returning  mobile  pages_viewed  source_Adwords  source_Facebook  \\\n",
       "166076          1       1             4               0                1   \n",
       "145917          1       0             4               0                1   \n",
       "111739          1       1             6               0                1   \n",
       "68166           0       1             3               0                1   \n",
       "88104           0       1             1               0                1   \n",
       "\n",
       "        source_Influencer  source_Taboola  country_Canada  country_UK  \\\n",
       "166076                  0               0               0           0   \n",
       "145917                  0               0               1           0   \n",
       "111739                  0               0               0           0   \n",
       "68166                   0               0               0           0   \n",
       "88104                   0               0               0           0   \n",
       "\n",
       "        country_US  \n",
       "166076           1  \n",
       "145917           0  \n",
       "111739           1  \n",
       "68166            1  \n",
       "88104            1  "
      ]
     },
     "execution_count": 34,
     "metadata": {},
     "output_type": "execute_result"
    }
   ],
   "source": [
    "X_train.head()"
   ]
  },
  {
   "cell_type": "code",
   "execution_count": 35,
   "metadata": {
    "collapsed": false
   },
   "outputs": [
    {
     "data": {
      "text/plain": [
       "GradientBoostingClassifier(criterion='friedman_mse', init=None,\n",
       "              learning_rate=0.1, loss='deviance', max_depth=3,\n",
       "              max_features=None, max_leaf_nodes=None,\n",
       "              min_impurity_decrease=0.0, min_impurity_split=None,\n",
       "              min_samples_leaf=1, min_samples_split=2,\n",
       "              min_weight_fraction_leaf=0.0, n_estimators=100,\n",
       "              presort='auto', random_state=None, subsample=1.0, verbose=0,\n",
       "              warm_start=False)"
      ]
     },
     "execution_count": 35,
     "metadata": {},
     "output_type": "execute_result"
    }
   ],
   "source": [
    "# Initialize boosted tree\n",
    "gbm = GradientBoostingClassifier()\n",
    "\n",
    "# Fit boosted tree\n",
    "gbm.fit(X_train, y_train)"
   ]
  },
  {
   "cell_type": "code",
   "execution_count": 36,
   "metadata": {
    "collapsed": true
   },
   "outputs": [],
   "source": [
    "# Get class probability predictions on test set\n",
    "pred = gbm.predict_proba(X_test)"
   ]
  },
  {
   "cell_type": "code",
   "execution_count": 37,
   "metadata": {
    "collapsed": false
   },
   "outputs": [
    {
     "data": {
      "text/plain": [
       "array([[  9.99814495e-01,   1.85504725e-04],\n",
       "       [  9.95079866e-01,   4.92013444e-03],\n",
       "       [  9.99626703e-01,   3.73296937e-04],\n",
       "       ..., \n",
       "       [  9.99566478e-01,   4.33522054e-04],\n",
       "       [  9.99814495e-01,   1.85504725e-04],\n",
       "       [  9.98511442e-01,   1.48855825e-03]])"
      ]
     },
     "execution_count": 37,
     "metadata": {},
     "output_type": "execute_result"
    }
   ],
   "source": [
    "pred"
   ]
  },
  {
   "cell_type": "code",
   "execution_count": 38,
   "metadata": {
    "collapsed": true
   },
   "outputs": [],
   "source": [
    "# Only keep the positive class\n",
    "pred = [p[1] for p in pred]"
   ]
  },
  {
   "cell_type": "code",
   "execution_count": 39,
   "metadata": {
    "collapsed": false
   },
   "outputs": [
    {
     "data": {
      "text/plain": [
       "[0.00018550472480233999,\n",
       " 0.0049201344401450953,\n",
       " 0.00037329693745061677,\n",
       " 0.00039920024119006721,\n",
       " 0.42715620346221767,\n",
       " 0.082388609946638089,\n",
       " 0.012895266100211893,\n",
       " 0.00042598943515633674,\n",
       " 0.42715620346221767,\n",
       " 0.0087434865908607561,\n",
       " 0.0012722586871023128,\n",
       " 0.00056069841241351327,\n",
       " 0.0001692751528525118,\n",
       " 0.082388609946638089,\n",
       " 0.00069996558916875554,\n",
       " 0.00049171626936198932,\n",
       " 0.00075092178761483749,\n",
       " 0.00054121806688831877,\n",
       " 0.0019980453380097018,\n",
       " 0.0003643104854008724,\n",
       " 0.025430390520754697,\n",
       " 0.0003643104854008724,\n",
       " 0.0033037367766196868,\n",
       " 0.0004422380954882265,\n",
       " 0.00045482071004940234,\n",
       " 0.0010192425589008766,\n",
       " 0.00035958039384627506,\n",
       " 0.00054121806688831877,\n",
       " 0.0004422380954882265,\n",
       " 0.073640646606685761,\n",
       " 0.00018550472480233999,\n",
       " 0.0005069128049425733,\n",
       " 0.0020672088091206946,\n",
       " 0.0005069128049425733,\n",
       " 0.042036508589115264,\n",
       " 0.075655434511786149,\n",
       " 0.00043193058925678439,\n",
       " 0.0019980453380097018,\n",
       " 0.0019980453380097018,\n",
       " 0.42715620346221767,\n",
       " 0.00017573359425443642,\n",
       " 0.78898731334072347,\n",
       " 0.0095833788393181532,\n",
       " 0.0095833788393181532,\n",
       " 0.00024671637968535896,\n",
       " 0.00035958039384627506,\n",
       " 0.0012050547312219733,\n",
       " 0.00092614803011321575,\n",
       " 0.0001692751528525118,\n",
       " 0.00047333082082242121,\n",
       " 0.00037820739467880725,\n",
       " 0.0038575854435560931,\n",
       " 0.00017573359425443642,\n",
       " 0.0003643104854008724,\n",
       " 0.0004422380954882265,\n",
       " 0.00290154825999921,\n",
       " 0.00042598943515633674,\n",
       " 0.0011916714550258315,\n",
       " 0.00018550472480233999,\n",
       " 0.0004422380954882265,\n",
       " 0.00042598943515633674,\n",
       " 0.015395353743251431,\n",
       " 0.00093897236813092521,\n",
       " 0.00043352205367225462,\n",
       " 0.00045005790387620161,\n",
       " 0.00075092178761483749,\n",
       " 0.0003643104854008724,\n",
       " 0.0095833788393181532,\n",
       " 0.00045482071004940234,\n",
       " 0.0003643104854008724,\n",
       " 0.38087746741334005,\n",
       " 0.0001692751528525118,\n",
       " 0.047217827390381016,\n",
       " 0.033760263201396364,\n",
       " 0.0009653906428059775,\n",
       " 0.042036508589115264,\n",
       " 0.00045482071004940234,\n",
       " 0.00019258226208570598,\n",
       " 0.015395353743251431,\n",
       " 0.018284451187434093,\n",
       " 0.013080083337169207,\n",
       " 0.0003643104854008724,\n",
       " 0.00018550472480233999,\n",
       " 0.053600339443054257,\n",
       " 0.0013605393031744257,\n",
       " 0.061280824694743302,\n",
       " 0.00043352205367225462,\n",
       " 0.00092614803011321575,\n",
       " 0.0003643104854008724,\n",
       " 0.0010192425589008766,\n",
       " 0.0017975746056591536,\n",
       " 0.0003643104854008724,\n",
       " 0.0038792180927705272,\n",
       " 0.0010192425589008766,\n",
       " 0.00043352205367225462,\n",
       " 0.0087434865908607561,\n",
       " 0.0005618594616853725,\n",
       " 0.0003643104854008724,\n",
       " 0.53889224608512887,\n",
       " 0.21686570635141775,\n",
       " 0.0001692751528525118,\n",
       " 0.00017573359425443642,\n",
       " 0.0040949443885405093,\n",
       " 0.00092614803011321575,\n",
       " 0.0010245019161107514,\n",
       " 0.0003643104854008724,\n",
       " 0.034071402773035081,\n",
       " 0.00043352205367225462,\n",
       " 0.0025497075866009874,\n",
       " 0.0087434865908607561,\n",
       " 0.00045005790387620161,\n",
       " 0.00043193058925678439,\n",
       " 0.0003643104854008724,\n",
       " 0.033760263201396364,\n",
       " 0.0013379564049738819,\n",
       " 0.0001692751528525118,\n",
       " 0.053600339443054257,\n",
       " 0.047181510314627688,\n",
       " 0.0025277062940407516,\n",
       " 0.00049171626936198932,\n",
       " 0.013080083337169207,\n",
       " 0.0013379564049738819,\n",
       " 0.0003643104854008724,\n",
       " 0.0001692751528525118,\n",
       " 0.0001692751528525118,\n",
       " 0.0003643104854008724,\n",
       " 0.00047216857205894576,\n",
       " 0.00045482071004940234,\n",
       " 0.0020154457480554516,\n",
       " 0.011508350584020527,\n",
       " 0.0027922745221154047,\n",
       " 0.00042598943515633674,\n",
       " 0.0038575854435560931,\n",
       " 0.00043352205367225462,\n",
       " 0.001128719511852723,\n",
       " 0.00045482071004940234,\n",
       " 0.0011916714550258315,\n",
       " 0.00043193058925678439,\n",
       " 0.00092614803011321575,\n",
       " 0.0010192425589008766,\n",
       " 0.00045951806692029782,\n",
       " 0.0003643104854008724,\n",
       " 0.0038575854435560931,\n",
       " 0.082388609946638089,\n",
       " 0.0005069128049425733,\n",
       " 0.00019258226208570598,\n",
       " 0.053798074739714083,\n",
       " 0.10757696506358976,\n",
       " 0.00019258226208570598,\n",
       " 0.00037820739467880725,\n",
       " 0.0019980453380097018,\n",
       " 0.00018550472480233999,\n",
       " 0.0004422380954882265,\n",
       " 0.0012532129790108239,\n",
       " 0.00042598943515633674,\n",
       " 0.00037820739467880725,\n",
       " 0.0038575854435560931,\n",
       " 0.00024671637968535896,\n",
       " 0.0005618594616853725,\n",
       " 0.015264204322788051,\n",
       " 0.0001692751528525118,\n",
       " 0.0038575854435560931,\n",
       " 0.0003643104854008724,\n",
       " 0.00025612871888501662,\n",
       " 0.033760263201396364,\n",
       " 0.00017573359425443642,\n",
       " 0.0001692751528525118,\n",
       " 0.00092614803011321575,\n",
       " 0.00037329693745061677,\n",
       " 0.0020154457480554516,\n",
       " 0.0095833788393181532,\n",
       " 0.0003643104854008724,\n",
       " 0.11580775231329335,\n",
       " 0.0003643104854008724,\n",
       " 0.00045005790387620161,\n",
       " 0.0011916714550258315,\n",
       " 0.0011125251010906663,\n",
       " 0.0003643104854008724,\n",
       " 0.00045482071004940234,\n",
       " 0.00093897236813092521,\n",
       " 0.0076344837194099709,\n",
       " 0.0010192425589008766,\n",
       " 0.00018550472480233999,\n",
       " 0.0089795207792356547,\n",
       " 0.0003643104854008724,\n",
       " 0.0005069128049425733,\n",
       " 0.0003643104854008724,\n",
       " 0.001128719511852723,\n",
       " 0.00092614803011321575,\n",
       " 0.00044263478905358941,\n",
       " 0.0019980453380097018,\n",
       " 0.0077005915232876291,\n",
       " 0.0003643104854008724,\n",
       " 0.0003643104854008724,\n",
       " 0.033760263201396364,\n",
       " 0.0038575854435560931,\n",
       " 0.00024671637968535896,\n",
       " 0.0009653906428059775,\n",
       " 0.00044870866280223988,\n",
       " 0.025430390520754697,\n",
       " 0.00018550472480233999,\n",
       " 0.042036508589115264,\n",
       " 0.0018174071164417315,\n",
       " 0.00042598943515633674,\n",
       " 0.0010192425589008766,\n",
       " 0.0019980453380097018,\n",
       " 0.00093897236813092521,\n",
       " 0.00044263478905358941,\n",
       " 0.0019980453380097018,\n",
       " 0.00075092178761483749,\n",
       " 0.00043193058925678439,\n",
       " 0.27028662642831069,\n",
       " 0.0012532129790108239,\n",
       " 0.0003643104854008724,\n",
       " 0.0025277062940407516,\n",
       " 0.0011916714550258315,\n",
       " 0.00042598943515633674,\n",
       " 0.0010192425589008766,\n",
       " 0.0013605393031744257,\n",
       " 0.00045951806692029782,\n",
       " 0.0011916714550258315,\n",
       " 0.00043352205367225462,\n",
       " 0.00042598943515633674,\n",
       " 0.00092614803011321575,\n",
       " 0.0001692751528525118,\n",
       " 0.00042598943515633674,\n",
       " 0.00042598943515633674,\n",
       " 0.00042598943515633674,\n",
       " 0.0003643104854008724,\n",
       " 0.00045005790387620161,\n",
       " 0.42715620346221767,\n",
       " 0.0003643104854008724,\n",
       " 0.012895266100211893,\n",
       " 0.00035958039384627506,\n",
       " 0.0028165721283855273,\n",
       " 0.00068060565965504622,\n",
       " 0.00024671637968535896,\n",
       " 0.00037820739467880725,\n",
       " 0.21169683764891245,\n",
       " 0.00047333082082242121,\n",
       " 0.0025277062940407516,\n",
       " 0.00042598943515633674,\n",
       " 0.00042598943515633674,\n",
       " 0.00043352205367225462,\n",
       " 0.0009653906428059775,\n",
       " 0.0077005915232876291,\n",
       " 0.00042598943515633674,\n",
       " 0.00045951806692029782,\n",
       " 0.00035958039384627506,\n",
       " 0.0037471374032627164,\n",
       " 0.0012050547312219733,\n",
       " 0.00018550472480233999,\n",
       " 0.0010192425589008766,\n",
       " 0.015264204322788051,\n",
       " 0.0010192425589008766,\n",
       " 0.00042598943515633674,\n",
       " 0.0010192425589008766,\n",
       " 0.0076344837194099709,\n",
       " 0.0025277062940407516,\n",
       " 0.00018550472480233999,\n",
       " 0.00018550472480233999,\n",
       " 0.0011125251010906663,\n",
       " 0.00047333082082242121,\n",
       " 0.00025612871888501662,\n",
       " 0.00075092178761483749,\n",
       " 0.0076344837194099709,\n",
       " 0.074291070441965215,\n",
       " 0.042036508589115264,\n",
       " 0.0019980453380097018,\n",
       " 0.00045005790387620161,\n",
       " 0.0038792180927705272,\n",
       " 0.0003643104854008724,\n",
       " 0.00037820739467880725,\n",
       " 0.082388609946638089,\n",
       " 0.67723457287792843,\n",
       " 0.0038575854435560931,\n",
       " 0.001128719511852723,\n",
       " 0.00042598943515633674,\n",
       " 0.0038575854435560931,\n",
       " 0.00042598943515633674,\n",
       " 0.16046878460969063,\n",
       " 0.00045482071004940234,\n",
       " 0.0012722586871023128,\n",
       " 0.0003643104854008724,\n",
       " 0.00045482071004940234,\n",
       " 0.00042598943515633674,\n",
       " 0.0014885582539785626,\n",
       " 0.015264204322788051,\n",
       " 0.014513817685845571,\n",
       " 0.11580775231329335,\n",
       " 0.0003643104854008724,\n",
       " 0.0012722586871023128,\n",
       " 0.0010192425589008766,\n",
       " 0.00037820739467880725,\n",
       " 0.00019258226208570598,\n",
       " 0.001506619689061856,\n",
       " 0.0019980453380097018,\n",
       " 0.0025277062940407516,\n",
       " 0.0010192425589008766,\n",
       " 0.00018550472480233999,\n",
       " 0.00054121806688831877,\n",
       " 0.0095833788393181532,\n",
       " 0.00035958039384627506,\n",
       " 0.013080083337169207,\n",
       " 0.0027922745221154047,\n",
       " 0.0020154457480554516,\n",
       " 0.0001692751528525118,\n",
       " 0.00018550472480233999,\n",
       " 0.0003643104854008724,\n",
       " 0.0005069128049425733,\n",
       " 0.00092614803011321575,\n",
       " 0.0038575854435560931,\n",
       " 0.00045482071004940234,\n",
       " 0.00044263478905358941,\n",
       " 0.015264204322788051,\n",
       " 0.63513949386530977,\n",
       " 0.012785137790929343,\n",
       " 0.0019980453380097018,\n",
       " 0.0010192425589008766,\n",
       " 0.00042598943515633674,\n",
       " 0.0013605393031744257,\n",
       " 0.015395353743251431,\n",
       " 0.00047333082082242121,\n",
       " 0.0003643104854008724,\n",
       " 0.00037820739467880725,\n",
       " 0.00042598943515633674,\n",
       " 0.0003643104854008724,\n",
       " 0.0010192425589008766,\n",
       " 0.00052624652792057072,\n",
       " 0.00043193058925678439,\n",
       " 0.00096145606013226881,\n",
       " 0.00092614803011321575,\n",
       " 0.00037820739467880725,\n",
       " 0.0027922745221154047,\n",
       " 0.40642741046083736,\n",
       " 0.0003643104854008724,\n",
       " 0.0027922745221154047,\n",
       " 0.0001692751528525118,\n",
       " 0.00043352205367225462,\n",
       " 0.0037471374032627164,\n",
       " 0.00042598943515633674,\n",
       " 0.00043193058925678439,\n",
       " 0.0001692751528525118,\n",
       " 0.00092614803011321575,\n",
       " 0.00045005790387620161,\n",
       " 0.015489311118577494,\n",
       " 0.00024671637968535896,\n",
       " 0.00019258226208570598,\n",
       " 0.0004422380954882265,\n",
       " 0.00018550472480233999,\n",
       " 0.00092614803011321575,\n",
       " 0.0027922745221154047,\n",
       " 0.013080083337169207,\n",
       " 0.0019980453380097018,\n",
       " 0.0076344837194099709,\n",
       " 0.00044263478905358941,\n",
       " 0.061280824694743302,\n",
       " 0.015264204322788051,\n",
       " 0.00045482071004940234,\n",
       " 0.0003643104854008724,\n",
       " 0.0010192425589008766,\n",
       " 0.0011916714550258315,\n",
       " 0.00092614803011321575,\n",
       " 0.0037797124707685155,\n",
       " 0.0031549349652558985,\n",
       " 0.0003643104854008724,\n",
       " 0.0003643104854008724,\n",
       " 0.015395353743251431,\n",
       " 0.94225166946094263,\n",
       " 0.00056069841241351327,\n",
       " 0.001015258218439781,\n",
       " 0.0004422380954882265,\n",
       " 0.00096145606013226881,\n",
       " 0.0095833788393181532,\n",
       " 0.013080083337169207,\n",
       " 0.0027922745221154047,\n",
       " 0.0009653906428059775,\n",
       " 0.00092614803011321575,\n",
       " 0.00092614803011321575,\n",
       " 0.0012722586871023128,\n",
       " 0.0038575854435560931,\n",
       " 0.00017573359425443642,\n",
       " 0.21169683764891245,\n",
       " 0.013080083337169207,\n",
       " 0.00037820739467880725,\n",
       " 0.00044870866280223988,\n",
       " 0.0003643104854008724,\n",
       " 0.16046878460969063,\n",
       " 0.00092614803011321575,\n",
       " 0.00047216857205894576,\n",
       " 0.0003643104854008724,\n",
       " 0.0095833788393181532,\n",
       " 0.0036691760550208821,\n",
       " 0.0001692751528525118,\n",
       " 0.00018550472480233999,\n",
       " 0.00043352205367225462,\n",
       " 0.00042598943515633674,\n",
       " 0.0010192425589008766,\n",
       " 0.0003643104854008724,\n",
       " 0.00047216857205894576,\n",
       " 0.015395353743251431,\n",
       " 0.073640646606685761,\n",
       " 0.00045482071004940234,\n",
       " 0.0001692751528525118,\n",
       " 0.00045482071004940234,\n",
       " 0.0076344837194099709,\n",
       " 0.00042598943515633674,\n",
       " 0.0005069128049425733,\n",
       " 0.00047333082082242121,\n",
       " 0.00044263478905358941,\n",
       " 0.0012050547312219733,\n",
       " 0.0003643104854008724,\n",
       " 0.0010718888886253062,\n",
       " 0.00056069841241351327,\n",
       " 0.00037820739467880725,\n",
       " 0.0005618594616853725,\n",
       " 0.00042598943515633674,\n",
       " 0.0004422380954882265,\n",
       " 0.0018497318864810328,\n",
       " 0.0001692751528525118,\n",
       " 0.0027922745221154047,\n",
       " 0.0005069128049425733,\n",
       " 0.88706994228593505,\n",
       " 0.0003643104854008724,\n",
       " 0.0003643104854008724,\n",
       " 0.0003643104854008724,\n",
       " 0.0012722586871023128,\n",
       " 0.00043352205367225462,\n",
       " 0.0013379564049738819,\n",
       " 0.0077005915232876291,\n",
       " 0.0017975746056591536,\n",
       " 0.00044263478905358941,\n",
       " 0.0027922745221154047,\n",
       " 0.0038575854435560931,\n",
       " 0.00092614803011321575,\n",
       " 0.0003643104854008724,\n",
       " 0.0005618594616853725,\n",
       " 0.0027922745221154047,\n",
       " 0.00019258226208570598,\n",
       " 0.00024671637968535896,\n",
       " 0.0003643104854008724,\n",
       " 0.0076344837194099709,\n",
       " 0.0003643104854008724,\n",
       " 0.015395353743251431,\n",
       " 0.0001692751528525118,\n",
       " 0.0012050547312219733,\n",
       " 0.0040949443885405093,\n",
       " 0.0013605393031744257,\n",
       " 0.0011125251010906663,\n",
       " 0.0018497318864810328,\n",
       " 0.0027922745221154047,\n",
       " 0.001128719511852723,\n",
       " 0.78347071071907237,\n",
       " 0.0025277062940407516,\n",
       " 0.042036508589115264,\n",
       " 0.001015258218439781,\n",
       " 0.0019980453380097018,\n",
       " 0.0003643104854008724,\n",
       " 0.0003643104854008724,\n",
       " 0.0012722586871023128,\n",
       " 0.0003643104854008724,\n",
       " 0.00047216857205894576,\n",
       " 0.00042598943515633674,\n",
       " 0.00043193058925678439,\n",
       " 0.00043352205367225462,\n",
       " 0.0076344837194099709,\n",
       " 0.0031252106837818274,\n",
       " 0.00047216857205894576,\n",
       " 0.00054121806688831877,\n",
       " 0.00042598943515633674,\n",
       " 0.0003643104854008724,\n",
       " 0.00093897236813092521,\n",
       " 0.00047333082082242121,\n",
       " 0.0010192425589008766,\n",
       " 0.34206071988532527,\n",
       " 0.00045482071004940234,\n",
       " 0.0012722586871023128,\n",
       " 0.00045482071004940234,\n",
       " 0.0019980453380097018,\n",
       " 0.0019980453380097018,\n",
       " 0.0040949443885405093,\n",
       " 0.0020154457480554516,\n",
       " 0.00018550472480233999,\n",
       " 0.00043193058925678439,\n",
       " 0.00042598943515633674,\n",
       " 0.00054121806688831877,\n",
       " 0.00043352205367225462,\n",
       " 0.0095833788393181532,\n",
       " 0.00037820739467880725,\n",
       " 0.0010192425589008766,\n",
       " 0.00018550472480233999,\n",
       " 0.00042598943515633674,\n",
       " 0.0005618594616853725,\n",
       " 0.00054121806688831877,\n",
       " 0.00037820739467880725,\n",
       " 0.24328273888807325,\n",
       " 0.011937431768078238,\n",
       " 0.00047216857205894576,\n",
       " 0.001015258218439781,\n",
       " 0.0019980453380097018,\n",
       " 0.042036508589115264,\n",
       " 0.0012722586871023128,\n",
       " 0.0019980453380097018,\n",
       " 0.00042598943515633674,\n",
       " 0.015264204322788051,\n",
       " 0.00052624652792057072,\n",
       " 0.0010192425589008766,\n",
       " 0.042036508589115264,\n",
       " 0.0010192425589008766,\n",
       " 0.0095833788393181532,\n",
       " 0.0003643104854008724,\n",
       " 0.0003643104854008724,\n",
       " 0.00018550472480233999,\n",
       " 0.34206071988532527,\n",
       " 0.0038575854435560931,\n",
       " 0.0018866289236775964,\n",
       " 0.0003643104854008724,\n",
       " 0.00092614803011321575,\n",
       " 0.00075092178761483749,\n",
       " 0.0010192425589008766,\n",
       " 0.0003643104854008724,\n",
       " 0.64526827921133023,\n",
       " 0.0003643104854008724,\n",
       " 0.0031252106837818274,\n",
       " 0.0003643104854008724,\n",
       " 0.0089795207792356547,\n",
       " 0.00045482071004940234,\n",
       " 0.00047216857205894576,\n",
       " 0.011937431768078238,\n",
       " 0.00044870866280223988,\n",
       " 0.00092614803011321575,\n",
       " 0.0031252106837818274,\n",
       " 0.053600339443054257,\n",
       " 0.0095833788393181532,\n",
       " 0.0017975746056591536,\n",
       " 0.0001692751528525118,\n",
       " 0.033760263201396364,\n",
       " 0.0001692751528525118,\n",
       " 0.0038575854435560931,\n",
       " 0.00047333082082242121,\n",
       " 0.034071402773035081,\n",
       " 0.00018550472480233999,\n",
       " 0.0027922745221154047,\n",
       " 0.0003643104854008724,\n",
       " 0.0038575854435560931,\n",
       " 0.0027922745221154047,\n",
       " 0.0010192425589008766,\n",
       " 0.0014885582539785626,\n",
       " 0.0013379564049738819,\n",
       " 0.0003643104854008724,\n",
       " 0.00045482071004940234,\n",
       " 0.0003643104854008724,\n",
       " 0.00017573359425443642,\n",
       " 0.0003643104854008724,\n",
       " 0.0040949443885405093,\n",
       " 0.061280824694743302,\n",
       " 0.0003643104854008724,\n",
       " 0.00025612871888501662,\n",
       " 0.0005618594616853725,\n",
       " 0.00052624652792057072,\n",
       " 0.0015317630718511518,\n",
       " 0.00043193058925678439,\n",
       " 0.0012722586871023128,\n",
       " 0.0027922745221154047,\n",
       " 0.00045482071004940234,\n",
       " 0.00045482071004940234,\n",
       " 0.0076344837194099709,\n",
       " 0.00045482071004940234,\n",
       " 0.00044263478905358941,\n",
       " 0.0076344837194099709,\n",
       " 0.00044263478905358941,\n",
       " 0.00075092178761483749,\n",
       " 0.0040949443885405093,\n",
       " 0.0014885582539785626,\n",
       " 0.00092614803011321575,\n",
       " 0.61814544731926946,\n",
       " 0.00024671637968535896,\n",
       " 0.00092614803011321575,\n",
       " 0.00054121806688831877,\n",
       " 0.0012532129790108239,\n",
       " 0.00047333082082242121,\n",
       " 0.00044263478905358941,\n",
       " 0.0001692751528525118,\n",
       " 0.00018550472480233999,\n",
       " 0.0095833788393181532,\n",
       " 0.0015317630718511518,\n",
       " 0.0005069128049425733,\n",
       " 0.00092614803011321575,\n",
       " 0.00043352205367225462,\n",
       " 0.00045005790387620161,\n",
       " 0.0003643104854008724,\n",
       " 0.012785137790929343,\n",
       " 0.0020154457480554516,\n",
       " 0.0038575854435560931,\n",
       " 0.0010192425589008766,\n",
       " 0.00042598943515633674,\n",
       " 0.00018550472480233999,\n",
       " 0.0010192425589008766,\n",
       " 0.0027922745221154047,\n",
       " 0.00045482071004940234,\n",
       " 0.0012094167814418117,\n",
       " 0.0003643104854008724,\n",
       " 0.0003643104854008724,\n",
       " 0.0003643104854008724,\n",
       " 0.0027922745221154047,\n",
       " 0.00037820739467880725,\n",
       " 0.051638703783988715,\n",
       " 0.00052624652792057072,\n",
       " 0.00037820739467880725,\n",
       " 0.0010718888886253062,\n",
       " 0.0037471374032627164,\n",
       " 0.0025277062940407516,\n",
       " 0.00024671637968535896,\n",
       " 0.0038575854435560931,\n",
       " 0.0018866289236775964,\n",
       " 0.033760263201396364,\n",
       " 0.0001692751528525118,\n",
       " 0.0003643104854008724,\n",
       " 0.015264204322788051,\n",
       " 0.0012722586871023128,\n",
       " 0.0028165721283855273,\n",
       " 0.0019980453380097018,\n",
       " 0.014513817685845571,\n",
       " 0.00049171626936198932,\n",
       " 0.00047216857205894576,\n",
       " 0.0001692751528525118,\n",
       " 0.00018550472480233999,\n",
       " 0.00092614803011321575,\n",
       " 0.0004422380954882265,\n",
       " 0.00018550472480233999,\n",
       " 0.0010192425589008766,\n",
       " 0.0009653906428059775,\n",
       " 0.001015258218439781,\n",
       " 0.00092614803011321575,\n",
       " 0.0095833788393181532,\n",
       " 0.011937431768078238,\n",
       " 0.0027922745221154047,\n",
       " 0.0005069128049425733,\n",
       " 0.00043352205367225462,\n",
       " 0.013080083337169207,\n",
       " 0.0010718888886253062,\n",
       " 0.00042598943515633674,\n",
       " 0.14366726251297435,\n",
       " 0.00018550472480233999,\n",
       " 0.00047333082082242121,\n",
       " 0.24328273888807325,\n",
       " 0.00044870866280223988,\n",
       " 0.0011125251010906663,\n",
       " 0.00092614803011321575,\n",
       " 0.0012722586871023128,\n",
       " 0.0003643104854008724,\n",
       " 0.00043193058925678439,\n",
       " 0.0004422380954882265,\n",
       " 0.0003643104854008724,\n",
       " 0.0003643104854008724,\n",
       " 0.00042598943515633674,\n",
       " 0.00043352205367225462,\n",
       " 0.0003643104854008724,\n",
       " 0.00047333082082242121,\n",
       " 0.0001692751528525118,\n",
       " 0.0003643104854008724,\n",
       " 0.00037820739467880725,\n",
       " 0.0004422380954882265,\n",
       " 0.00024671637968535896,\n",
       " 0.033760263201396364,\n",
       " 0.00018550472480233999,\n",
       " 0.24328273888807325,\n",
       " 0.00054121806688831877,\n",
       " 0.0018174071164417315,\n",
       " 0.21169683764891245,\n",
       " 0.010707858666966694,\n",
       " 0.00035958039384627506,\n",
       " 0.95614446704247336,\n",
       " 0.0010192425589008766,\n",
       " 0.013080083337169207,\n",
       " 0.00042598943515633674,\n",
       " 0.0003643104854008724,\n",
       " 0.0001692751528525118,\n",
       " 0.0014885582539785626,\n",
       " 0.0025277062940407516,\n",
       " 0.00092614803011321575,\n",
       " 0.0095833788393181532,\n",
       " 0.0028165721283855273,\n",
       " 0.00042598943515633674,\n",
       " 0.0003643104854008724,\n",
       " 0.00093897236813092521,\n",
       " 0.00045482071004940234,\n",
       " 0.00045005790387620161,\n",
       " 0.00045482071004940234,\n",
       " 0.001015258218439781,\n",
       " 0.21686570635141775,\n",
       " 0.082388609946638089,\n",
       " 0.015264204322788051,\n",
       " 0.00077955478757834359,\n",
       " 0.00042598943515633674,\n",
       " 0.033760263201396364,\n",
       " 0.00044263478905358941,\n",
       " 0.00043193058925678439,\n",
       " 0.0003643104854008724,\n",
       " 0.00045482071004940234,\n",
       " 0.0011125251010906663,\n",
       " 0.0003643104854008724,\n",
       " 0.0012886781565278204,\n",
       " 0.00075092178761483749,\n",
       " 0.00025612871888501662,\n",
       " 0.0009653906428059775,\n",
       " 0.061280824694743302,\n",
       " 0.0001692751528525118,\n",
       " 0.0036691760550208821,\n",
       " 0.0036691760550208821,\n",
       " 0.0012532129790108239,\n",
       " 0.0001692751528525118,\n",
       " 0.0003643104854008724,\n",
       " 0.00042598943515633674,\n",
       " 0.00047333082082242121,\n",
       " 0.0005069128049425733,\n",
       " 0.0005069128049425733,\n",
       " 0.00024671637968535896,\n",
       " 0.00047333082082242121,\n",
       " 0.00018550472480233999,\n",
       " 0.00019258226208570598,\n",
       " 0.001015258218439781,\n",
       " 0.0014386044972367357,\n",
       " 0.00045482071004940234,\n",
       " 0.012895266100211893,\n",
       " 0.0011916714550258315,\n",
       " 0.00042598943515633674,\n",
       " 0.00042598943515633674,\n",
       " 0.00043193058925678439,\n",
       " 0.0076344837194099709,\n",
       " 0.78347071071907237,\n",
       " 0.0027922745221154047,\n",
       " 0.00018550472480233999,\n",
       " 0.00092614803011321575,\n",
       " 0.00045482071004940234,\n",
       " 0.0019980453380097018,\n",
       " 0.0019980453380097018,\n",
       " 0.012785137790929343,\n",
       " 0.00045482071004940234,\n",
       " 0.00018550472480233999,\n",
       " 0.00049171626936198932,\n",
       " 0.0038575854435560931,\n",
       " 0.0036691760550208821,\n",
       " 0.00018550472480233999,\n",
       " 0.00047216857205894576,\n",
       " 0.053600339443054257,\n",
       " 0.0012532129790108239,\n",
       " 0.00044263478905358941,\n",
       " 0.94225166946094263,\n",
       " 0.00092614803011321575,\n",
       " 0.00047216857205894576,\n",
       " 0.0011916714550258315,\n",
       " 0.00049171626936198932,\n",
       " 0.00043352205367225462,\n",
       " 0.0040949443885405093,\n",
       " 0.00018550472480233999,\n",
       " 0.0009653906428059775,\n",
       " 0.16046878460969063,\n",
       " 0.0010192425589008766,\n",
       " 0.0077005915232876291,\n",
       " 0.0019980453380097018,\n",
       " 0.00092614803011321575,\n",
       " 0.015264204322788051,\n",
       " 0.00043352205367225462,\n",
       " 0.00042598943515633674,\n",
       " 0.0031252106837818274,\n",
       " 0.00047333082082242121,\n",
       " 0.0010192425589008766,\n",
       " 0.00045482071004940234,\n",
       " 0.0089795207792356547,\n",
       " 0.0017975746056591536,\n",
       " 0.0038575854435560931,\n",
       " 0.0019980453380097018,\n",
       " 0.0027922745221154047,\n",
       " 0.0009653906428059775,\n",
       " 0.00045951806692029782,\n",
       " 0.0011916714550258315,\n",
       " 0.00042598943515633674,\n",
       " 0.00018550472480233999,\n",
       " 0.00042598943515633674,\n",
       " 0.00017573359425443642,\n",
       " 0.00018550472480233999,\n",
       " 0.63293610511295129,\n",
       " 0.0011916714550258315,\n",
       " 0.0003643104854008724,\n",
       " 0.0003643104854008724,\n",
       " 0.0010718888886253062,\n",
       " 0.00035958039384627506,\n",
       " 0.0009653906428059775,\n",
       " 0.0001692751528525118,\n",
       " 0.010375117588595219,\n",
       " 0.0019980453380097018,\n",
       " 0.00058208233105526213,\n",
       " 0.00024671637968535896,\n",
       " 0.00092614803011321575,\n",
       " 0.00018550472480233999,\n",
       " 0.0003643104854008724,\n",
       " 0.0016981347009762807,\n",
       " 0.00043352205367225462,\n",
       " 0.0029520638542101831,\n",
       " 0.0003643104854008724,\n",
       " 0.0004422380954882265,\n",
       " 0.00042598943515633674,\n",
       " 0.20310228406198863,\n",
       " 0.0001692751528525118,\n",
       " 0.0011916714550258315,\n",
       " 0.0011125251010906663,\n",
       " 0.0025277062940407516,\n",
       " 0.0010192425589008766,\n",
       " 0.0076344837194099709,\n",
       " 0.00043352205367225462,\n",
       " 0.0027922745221154047,\n",
       " 0.0014885582539785626,\n",
       " 0.21686570635141775,\n",
       " 0.033760263201396364,\n",
       " 0.16046878460969063,\n",
       " 0.00092614803011321575,\n",
       " 0.0095833788393181532,\n",
       " 0.00037820739467880725,\n",
       " 0.00075092178761483749,\n",
       " 0.00042598943515633674,\n",
       " 0.0013379564049738819,\n",
       " 0.053600339443054257,\n",
       " 0.0003643104854008724,\n",
       " 0.0010718888886253062,\n",
       " 0.00024671637968535896,\n",
       " 0.0019980453380097018,\n",
       " 0.00092614803011321575,\n",
       " 0.00096145606013226881,\n",
       " 0.0003643104854008724,\n",
       " 0.015489311118577494,\n",
       " 0.0014934199720738448,\n",
       " 0.00092614803011321575,\n",
       " 0.053474004133315926,\n",
       " 0.0095833788393181532,\n",
       " 0.0003643104854008724,\n",
       " 0.0019980453380097018,\n",
       " 0.00037820739467880725,\n",
       " 0.0010192425589008766,\n",
       " 0.00096145606013226881,\n",
       " 0.015264204322788051,\n",
       " 0.00092614803011321575,\n",
       " 0.0033037367766196868,\n",
       " 0.00092614803011321575,\n",
       " 0.0017975746056591536,\n",
       " 0.10757696506358976,\n",
       " 0.00068060565965504622,\n",
       " 0.0018866289236775964,\n",
       " 0.00042598943515633674,\n",
       " 0.00045951806692029782,\n",
       " 0.00037820739467880725,\n",
       " 0.0003643104854008724,\n",
       " 0.0003643104854008724,\n",
       " 0.00045482071004940234,\n",
       " 0.00018550472480233999,\n",
       " 0.015264204322788051,\n",
       " 0.0036691760550208821,\n",
       " 0.0012722586871023128,\n",
       " 0.0038575854435560931,\n",
       " 0.00045482071004940234,\n",
       " 0.0097703886168535471,\n",
       " 0.015264204322788051,\n",
       " 0.0003643104854008724,\n",
       " 0.0025277062940407516,\n",
       " 0.0020154457480554516,\n",
       " 0.0018174071164417315,\n",
       " 0.015264204322788051,\n",
       " 0.00037820739467880725,\n",
       " 0.033760263201396364,\n",
       " 0.00092614803011321575,\n",
       " 0.00043193058925678439,\n",
       " 0.00018550472480233999,\n",
       " 0.00017573359425443642,\n",
       " 0.00092614803011321575,\n",
       " 0.0010718888886253062,\n",
       " 0.16046878460969063,\n",
       " 0.0010245019161107514,\n",
       " 0.00018550472480233999,\n",
       " 0.00042598943515633674,\n",
       " 0.0003643104854008724,\n",
       " 0.00017573359425443642,\n",
       " 0.00044263478905358941,\n",
       " 0.0011125251010906663,\n",
       " 0.42715620346221767,\n",
       " 0.00042598943515633674,\n",
       " 0.00042598943515633674,\n",
       " 0.0003643104854008724,\n",
       " 0.00075092178761483749,\n",
       " 0.00017573359425443642,\n",
       " 0.27028662642831069,\n",
       " 0.0011916714550258315,\n",
       " 0.00092614803011321575,\n",
       " 0.0014885582539785626,\n",
       " 0.0010192425589008766,\n",
       " 0.0010192425589008766,\n",
       " 0.0025277062940407516,\n",
       " 0.001015258218439781,\n",
       " 0.0010192425589008766,\n",
       " 0.00047216857205894576,\n",
       " 0.0010718888886253062,\n",
       " 0.0076344837194099709,\n",
       " 0.00043352205367225462,\n",
       " 0.0036543176024059132,\n",
       " 0.0076344837194099709,\n",
       " 0.00045482071004940234,\n",
       " 0.00075092178761483749,\n",
       " 0.11580775231329335,\n",
       " 0.00042598943515633674,\n",
       " 0.0020154457480554516,\n",
       " 0.014954171852082731,\n",
       " 0.0076344837194099709,\n",
       " 0.00092614803011321575,\n",
       " 0.0005618594616853725,\n",
       " 0.0001692751528525118,\n",
       " 0.0003643104854008724,\n",
       " 0.00024671637968535896,\n",
       " 0.0012050547312219733,\n",
       " 0.0095833788393181532,\n",
       " 0.0028165721283855273,\n",
       " 0.0012722586871023128,\n",
       " 0.0003643104854008724,\n",
       " 0.00042598943515633674,\n",
       " 0.0019980453380097018,\n",
       " 0.0011916714550258315,\n",
       " 0.0011916714550258315,\n",
       " 0.00043352205367225462,\n",
       " 0.95048103130500472,\n",
       " 0.00043193058925678439,\n",
       " 0.0027922745221154047,\n",
       " 0.00045482071004940234,\n",
       " 0.0005069128049425733,\n",
       " 0.0003643104854008724,\n",
       " 0.00018550472480233999,\n",
       " 0.0001692751528525118,\n",
       " 0.00092614803011321575,\n",
       " 0.0027922745221154047,\n",
       " 0.27028662642831069,\n",
       " 0.00092614803011321575,\n",
       " 0.082388609946638089,\n",
       " 0.0038575854435560931,\n",
       " 0.0003643104854008724,\n",
       " 0.00047333082082242121,\n",
       " 0.0018497318864810328,\n",
       " 0.00037329693745061677,\n",
       " 0.00043352205367225462,\n",
       " 0.0025497075866009874,\n",
       " 0.00042598943515633674,\n",
       " 0.0095833788393181532,\n",
       " 0.21169683764891245,\n",
       " 0.0027922745221154047,\n",
       " 0.0019980453380097018,\n",
       " 0.05395668282756199,\n",
       " 0.0003643104854008724,\n",
       " 0.00044870866280223988,\n",
       " 0.0025277062940407516,\n",
       " 0.00043352205367225462,\n",
       " 0.00045005790387620161,\n",
       " 0.0076344837194099709,\n",
       " 0.061280824694743302,\n",
       " 0.0011916714550258315,\n",
       " 0.00049171626936198932,\n",
       " 0.00017573359425443642,\n",
       " 0.0013379564049738819,\n",
       " 0.00046678338177620301,\n",
       " 0.033760263201396364,\n",
       " 0.00017573359425443642,\n",
       " 0.013080083337169207,\n",
       " 0.16046878460969063,\n",
       " 0.0012050547312219733,\n",
       " 0.15101729488998819,\n",
       " 0.00047333082082242121,\n",
       " 0.0010718888886253062,\n",
       " 0.0038575854435560931,\n",
       " 0.0012722586871023128,\n",
       " 0.00096888599988645039,\n",
       " 0.00042598943515633674,\n",
       " 0.0010192425589008766,\n",
       " 0.0005069128049425733,\n",
       " 0.0003643104854008724,\n",
       " 0.0019980453380097018,\n",
       " 0.0019980453380097018,\n",
       " 0.0020154457480554516,\n",
       " 0.55126647423736341,\n",
       " 0.010707858666966694,\n",
       " 0.0027922745221154047,\n",
       " 0.00043193058925678439,\n",
       " 0.00045482071004940234,\n",
       " 0.0001692751528525118,\n",
       " 0.0077005915232876291,\n",
       " 0.038462862314540866,\n",
       " 0.013080083337169207,\n",
       " 0.0011916714550258315,\n",
       " 0.27028662642831069,\n",
       " 0.00092614803011321575,\n",
       " 0.0001692751528525118,\n",
       " 0.0019980453380097018,\n",
       " 0.00045482071004940234,\n",
       " 0.0003643104854008724,\n",
       " 0.0014386044972367357,\n",
       " 0.00065560467056011639,\n",
       " ...]"
      ]
     },
     "execution_count": 39,
     "metadata": {},
     "output_type": "execute_result"
    }
   ],
   "source": [
    "pred"
   ]
  },
  {
   "cell_type": "code",
   "execution_count": 40,
   "metadata": {
    "collapsed": false
   },
   "outputs": [
    {
     "data": {
      "text/plain": [
       "0.98165117482894115"
      ]
     },
     "execution_count": 40,
     "metadata": {},
     "output_type": "execute_result"
    }
   ],
   "source": [
    "# Display AUROC\n",
    "roc_auc_score(y_test, pred)"
   ]
  },
  {
   "cell_type": "code",
   "execution_count": 41,
   "metadata": {
    "collapsed": false
   },
   "outputs": [
    {
     "data": {
      "image/png": "[encoded data removed]",
      "text/plain": [
       "<matplotlib.figure.Figure at 0x111649850>"
      ]
     },
     "metadata": {},
     "output_type": "display_data"
    }
   ],
   "source": [
    "# Plot feature importances\n",
    "plt.title('Normalized Feature Importances')\n",
    "sns.barplot(y=X.columns, x=gbm.feature_importances_)\n",
    "plt.show()"
   ]
  },
  {
   "cell_type": "code",
   "execution_count": 42,
   "metadata": {
    "collapsed": false
   },
   "outputs": [
    {
     "data": {
      "image/png": "[encoded data removed]",
      "text/plain": [
       "<matplotlib.figure.Figure at 0x10643b4d0>"
      ]
     },
     "metadata": {},
     "output_type": "display_data"
    }
   ],
   "source": [
    "# Partial dependence pltos\n",
    "partial_dependence.plot_partial_dependence(gbm, \n",
    "                                           X=X_train, \n",
    "                                           features=range(len(X.columns)), \n",
    "                                           feature_names=X.columns,\n",
    "                                           figsize=(10,18))\n",
    "plt.show()"
   ]
  },
  {
   "cell_type": "markdown",
   "metadata": {},
   "source": [
    "## Actionable insights\n",
    "\n",
    "* Pages a visitor views is correlated with conversion rate.\n",
    "* Mobile visitors have low conversion rate. That needs to be improved.\n",
    "* The campaign - Taboola is not working. Need to relook at it"
   ]
  },
  {
   "cell_type": "code",
   "execution_count": null,
   "metadata": {
    "collapsed": true
   },
   "outputs": [],
   "source": []
  }
 ],
 "metadata": {
  "kernelspec": {
   "display_name": "Python 2",
   "language": "python",
   "name": "python2"
  },
  "language_info": {
   "codemirror_mode": {
    "name": "ipython",
    "version": 2
   },
   "file_extension": ".py",
   "mimetype": "text/x-python",
   "name": "python",
   "nbconvert_exporter": "python",
   "pygments_lexer": "ipython2",
   "version": "2.7.13"
  }
 },
 "nbformat": 4,
 "nbformat_minor": 2
}
