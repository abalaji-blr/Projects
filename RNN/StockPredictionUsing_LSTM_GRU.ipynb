{
  "nbformat": 4,
  "nbformat_minor": 0,
  "metadata": {
    "colab": {
      "name": "StockPredictionUsing_LSTM_GRU.ipynb",
      "version": "0.3.2",
      "provenance": []
    },
    "kernelspec": {
      "name": "python3",
      "display_name": "Python 3"
    },
    "accelerator": "GPU"
  },
  "cells": [
    {
      "cell_type": "markdown",
      "metadata": {
        "id": "ujfdGScUKTQ-",
        "colab_type": "text"
      },
      "source": [
        "# Predict Stock Price Trend Using LSTM\n"
      ]
    },
    {
      "cell_type": "markdown",
      "metadata": {
        "id": "4-EBQAtyMGRd",
        "colab_type": "text"
      },
      "source": [
        "## Copy Dataset"
      ]
    },
    {
      "cell_type": "code",
      "metadata": {
        "id": "k8LPUEOwJtjm",
        "colab_type": "code",
        "colab": {
          "base_uri": "https://localhost:8080/",
          "height": 34
        },
        "outputId": "d3d1d1b1-d146-4d52-d030-76bb715368f4"
      },
      "source": [
        "# get the train and test data from drive\n",
        "from google.colab import drive\n",
        "drive.mount('/content/gdrive', force_remount=True)"
      ],
      "execution_count": 2,
      "outputs": [
        {
          "output_type": "stream",
          "text": [
            "Mounted at /content/gdrive\n"
          ],
          "name": "stdout"
        }
      ]
    },
    {
      "cell_type": "code",
      "metadata": {
        "id": "yTDwoPwyKnLT",
        "colab_type": "code",
        "colab": {}
      },
      "source": [
        "!cp '/content/gdrive/My Drive/App/RNN/Google_Stock_Price_Train.csv' /content\n",
        "!cp '/content/gdrive/My Drive/App/RNN/Google_Stock_Price_Test.csv' /content"
      ],
      "execution_count": 0,
      "outputs": []
    },
    {
      "cell_type": "markdown",
      "metadata": {
        "id": "1u6RCOA7MIhe",
        "colab_type": "text"
      },
      "source": [
        "## Import Packages"
      ]
    },
    {
      "cell_type": "code",
      "metadata": {
        "id": "m8sy0-gcLApr",
        "colab_type": "code",
        "colab": {}
      },
      "source": [
        "import numpy as np\n",
        "import pandas as pd\n",
        "import matplotlib.pyplot as plt\n",
        "\n",
        "%matplotlib inline"
      ],
      "execution_count": 0,
      "outputs": []
    },
    {
      "cell_type": "code",
      "metadata": {
        "id": "kXp-NIfbMftr",
        "colab_type": "code",
        "colab": {
          "base_uri": "https://localhost:8080/",
          "height": 51
        },
        "outputId": "81b34e9b-f528-4114-ae59-cf0ed5699534"
      },
      "source": [
        "print('numpy:', np.__version__)\n",
        "print('pandas:', pd.__version__)"
      ],
      "execution_count": 5,
      "outputs": [
        {
          "output_type": "stream",
          "text": [
            "numpy: 1.16.3\n",
            "pandas: 0.24.2\n"
          ],
          "name": "stdout"
        }
      ]
    },
    {
      "cell_type": "code",
      "metadata": {
        "id": "WI_KEz1oMlWi",
        "colab_type": "code",
        "colab": {}
      },
      "source": [
        ""
      ],
      "execution_count": 0,
      "outputs": []
    },
    {
      "cell_type": "markdown",
      "metadata": {
        "id": "eFB_9BXXM0yb",
        "colab_type": "text"
      },
      "source": [
        "## Read Dataset"
      ]
    },
    {
      "cell_type": "code",
      "metadata": {
        "id": "Gro2FxWAM2HL",
        "colab_type": "code",
        "colab": {}
      },
      "source": [
        "train_df = pd.read_csv('./Google_Stock_Price_Train.csv', index_col='Date', parse_dates=['Date'])"
      ],
      "execution_count": 0,
      "outputs": []
    },
    {
      "cell_type": "code",
      "metadata": {
        "id": "6eJv8XRacT8W",
        "colab_type": "code",
        "colab": {
          "base_uri": "https://localhost:8080/",
          "height": 235
        },
        "outputId": "7fb137b5-07e3-4d13-d8f5-1cbb77d83cac"
      },
      "source": [
        "train_df.head()"
      ],
      "execution_count": 7,
      "outputs": [
        {
          "output_type": "execute_result",
          "data": {
            "text/html": [
              "<div>\n",
              "<style scoped>\n",
              "    .dataframe tbody tr th:only-of-type {\n",
              "        vertical-align: middle;\n",
              "    }\n",
              "\n",
              "    .dataframe tbody tr th {\n",
              "        vertical-align: top;\n",
              "    }\n",
              "\n",
              "    .dataframe thead th {\n",
              "        text-align: right;\n",
              "    }\n",
              "</style>\n",
              "<table border=\"1\" class=\"dataframe\">\n",
              "  <thead>\n",
              "    <tr style=\"text-align: right;\">\n",
              "      <th></th>\n",
              "      <th>Open</th>\n",
              "      <th>High</th>\n",
              "      <th>Low</th>\n",
              "      <th>Close</th>\n",
              "      <th>Volume</th>\n",
              "    </tr>\n",
              "    <tr>\n",
              "      <th>Date</th>\n",
              "      <th></th>\n",
              "      <th></th>\n",
              "      <th></th>\n",
              "      <th></th>\n",
              "      <th></th>\n",
              "    </tr>\n",
              "  </thead>\n",
              "  <tbody>\n",
              "    <tr>\n",
              "      <th>2012-01-03</th>\n",
              "      <td>325.25</td>\n",
              "      <td>332.83</td>\n",
              "      <td>324.97</td>\n",
              "      <td>663.59</td>\n",
              "      <td>7,380,500</td>\n",
              "    </tr>\n",
              "    <tr>\n",
              "      <th>2012-01-04</th>\n",
              "      <td>331.27</td>\n",
              "      <td>333.87</td>\n",
              "      <td>329.08</td>\n",
              "      <td>666.45</td>\n",
              "      <td>5,749,400</td>\n",
              "    </tr>\n",
              "    <tr>\n",
              "      <th>2012-01-05</th>\n",
              "      <td>329.83</td>\n",
              "      <td>330.75</td>\n",
              "      <td>326.89</td>\n",
              "      <td>657.21</td>\n",
              "      <td>6,590,300</td>\n",
              "    </tr>\n",
              "    <tr>\n",
              "      <th>2012-01-06</th>\n",
              "      <td>328.34</td>\n",
              "      <td>328.77</td>\n",
              "      <td>323.68</td>\n",
              "      <td>648.24</td>\n",
              "      <td>5,405,900</td>\n",
              "    </tr>\n",
              "    <tr>\n",
              "      <th>2012-01-09</th>\n",
              "      <td>322.04</td>\n",
              "      <td>322.29</td>\n",
              "      <td>309.46</td>\n",
              "      <td>620.76</td>\n",
              "      <td>11,688,800</td>\n",
              "    </tr>\n",
              "  </tbody>\n",
              "</table>\n",
              "</div>"
            ],
            "text/plain": [
              "              Open    High     Low   Close      Volume\n",
              "Date                                                  \n",
              "2012-01-03  325.25  332.83  324.97  663.59   7,380,500\n",
              "2012-01-04  331.27  333.87  329.08  666.45   5,749,400\n",
              "2012-01-05  329.83  330.75  326.89  657.21   6,590,300\n",
              "2012-01-06  328.34  328.77  323.68  648.24   5,405,900\n",
              "2012-01-09  322.04  322.29  309.46  620.76  11,688,800"
            ]
          },
          "metadata": {
            "tags": []
          },
          "execution_count": 7
        }
      ]
    },
    {
      "cell_type": "code",
      "metadata": {
        "id": "HgxDmSZZcWDO",
        "colab_type": "code",
        "colab": {
          "base_uri": "https://localhost:8080/",
          "height": 34
        },
        "outputId": "c7896bf9-b4be-4373-c0d4-5a956c62a3e7"
      },
      "source": [
        "train_df.shape"
      ],
      "execution_count": 8,
      "outputs": [
        {
          "output_type": "execute_result",
          "data": {
            "text/plain": [
              "(1258, 5)"
            ]
          },
          "metadata": {
            "tags": []
          },
          "execution_count": 8
        }
      ]
    },
    {
      "cell_type": "code",
      "metadata": {
        "id": "pnzIgjnWcc3G",
        "colab_type": "code",
        "colab": {
          "base_uri": "https://localhost:8080/",
          "height": 235
        },
        "outputId": "c2675ae7-14f1-472c-835a-9bdb93fe9cc0"
      },
      "source": [
        "train_df.tail()"
      ],
      "execution_count": 9,
      "outputs": [
        {
          "output_type": "execute_result",
          "data": {
            "text/html": [
              "<div>\n",
              "<style scoped>\n",
              "    .dataframe tbody tr th:only-of-type {\n",
              "        vertical-align: middle;\n",
              "    }\n",
              "\n",
              "    .dataframe tbody tr th {\n",
              "        vertical-align: top;\n",
              "    }\n",
              "\n",
              "    .dataframe thead th {\n",
              "        text-align: right;\n",
              "    }\n",
              "</style>\n",
              "<table border=\"1\" class=\"dataframe\">\n",
              "  <thead>\n",
              "    <tr style=\"text-align: right;\">\n",
              "      <th></th>\n",
              "      <th>Open</th>\n",
              "      <th>High</th>\n",
              "      <th>Low</th>\n",
              "      <th>Close</th>\n",
              "      <th>Volume</th>\n",
              "    </tr>\n",
              "    <tr>\n",
              "      <th>Date</th>\n",
              "      <th></th>\n",
              "      <th></th>\n",
              "      <th></th>\n",
              "      <th></th>\n",
              "      <th></th>\n",
              "    </tr>\n",
              "  </thead>\n",
              "  <tbody>\n",
              "    <tr>\n",
              "      <th>2016-12-23</th>\n",
              "      <td>790.90</td>\n",
              "      <td>792.74</td>\n",
              "      <td>787.28</td>\n",
              "      <td>789.91</td>\n",
              "      <td>623,400</td>\n",
              "    </tr>\n",
              "    <tr>\n",
              "      <th>2016-12-27</th>\n",
              "      <td>790.68</td>\n",
              "      <td>797.86</td>\n",
              "      <td>787.66</td>\n",
              "      <td>791.55</td>\n",
              "      <td>789,100</td>\n",
              "    </tr>\n",
              "    <tr>\n",
              "      <th>2016-12-28</th>\n",
              "      <td>793.70</td>\n",
              "      <td>794.23</td>\n",
              "      <td>783.20</td>\n",
              "      <td>785.05</td>\n",
              "      <td>1,153,800</td>\n",
              "    </tr>\n",
              "    <tr>\n",
              "      <th>2016-12-29</th>\n",
              "      <td>783.33</td>\n",
              "      <td>785.93</td>\n",
              "      <td>778.92</td>\n",
              "      <td>782.79</td>\n",
              "      <td>744,300</td>\n",
              "    </tr>\n",
              "    <tr>\n",
              "      <th>2016-12-30</th>\n",
              "      <td>782.75</td>\n",
              "      <td>782.78</td>\n",
              "      <td>770.41</td>\n",
              "      <td>771.82</td>\n",
              "      <td>1,770,000</td>\n",
              "    </tr>\n",
              "  </tbody>\n",
              "</table>\n",
              "</div>"
            ],
            "text/plain": [
              "              Open    High     Low   Close     Volume\n",
              "Date                                                 \n",
              "2016-12-23  790.90  792.74  787.28  789.91    623,400\n",
              "2016-12-27  790.68  797.86  787.66  791.55    789,100\n",
              "2016-12-28  793.70  794.23  783.20  785.05  1,153,800\n",
              "2016-12-29  783.33  785.93  778.92  782.79    744,300\n",
              "2016-12-30  782.75  782.78  770.41  771.82  1,770,000"
            ]
          },
          "metadata": {
            "tags": []
          },
          "execution_count": 9
        }
      ]
    },
    {
      "cell_type": "markdown",
      "metadata": {
        "id": "Ufas7J_dgyn7",
        "colab_type": "text"
      },
      "source": [
        "## EDA"
      ]
    },
    {
      "cell_type": "code",
      "metadata": {
        "id": "sxEXR5feg06T",
        "colab_type": "code",
        "colab": {
          "base_uri": "https://localhost:8080/",
          "height": 293
        },
        "outputId": "4fbecd27-e3c9-4e12-9ef1-4af1a3fccab1"
      },
      "source": [
        "train_df['Open'][:'2016'].plot(figsize=(16,4),legend=True)\n",
        "plt.title('Google Stock Price')\n",
        "plt.show()"
      ],
      "execution_count": 10,
      "outputs": [
        {
          "output_type": "display_data",
          "data": {
            "image/png": "[encoded data removed]",
            "text/plain": [
              "<Figure size 1152x288 with 1 Axes>"
            ]
          },
          "metadata": {
            "tags": []
          }
        }
      ]
    },
    {
      "cell_type": "markdown",
      "metadata": {
        "id": "Aygtif0reCAc",
        "colab_type": "text"
      },
      "source": [
        "## Data Processing"
      ]
    },
    {
      "cell_type": "markdown",
      "metadata": {
        "id": "4pO9kQaueER6",
        "colab_type": "text"
      },
      "source": [
        "### Get the Open price info"
      ]
    },
    {
      "cell_type": "code",
      "metadata": {
        "id": "v2PZCMy0ch_X",
        "colab_type": "code",
        "colab": {}
      },
      "source": [
        "# let's get the Open prices as numpy array.\n",
        "Open_price_arr = train_df.iloc[:,0:1].values"
      ],
      "execution_count": 0,
      "outputs": []
    },
    {
      "cell_type": "code",
      "metadata": {
        "id": "tvityjkFc26w",
        "colab_type": "code",
        "colab": {
          "base_uri": "https://localhost:8080/",
          "height": 102
        },
        "outputId": "fa091c41-24c8-4aaf-b86a-851ba37fc99d"
      },
      "source": [
        "Open_price_arr[0:5]\n"
      ],
      "execution_count": 12,
      "outputs": [
        {
          "output_type": "execute_result",
          "data": {
            "text/plain": [
              "array([[325.25],\n",
              "       [331.27],\n",
              "       [329.83],\n",
              "       [328.34],\n",
              "       [322.04]])"
            ]
          },
          "metadata": {
            "tags": []
          },
          "execution_count": 12
        }
      ]
    },
    {
      "cell_type": "markdown",
      "metadata": {
        "id": "O7Vf-d17eH2n",
        "colab_type": "text"
      },
      "source": [
        "### Scale the data in the range [0,1]"
      ]
    },
    {
      "cell_type": "code",
      "metadata": {
        "id": "3bmfOzVYdU_J",
        "colab_type": "code",
        "colab": {}
      },
      "source": [
        "from sklearn.preprocessing import MinMaxScaler"
      ],
      "execution_count": 0,
      "outputs": []
    },
    {
      "cell_type": "code",
      "metadata": {
        "id": "Xu9kMi3sf3tr",
        "colab_type": "code",
        "colab": {}
      },
      "source": [
        "sc = MinMaxScaler(feature_range=(0,1))"
      ],
      "execution_count": 0,
      "outputs": []
    },
    {
      "cell_type": "code",
      "metadata": {
        "id": "GVAkp4gTf_QG",
        "colab_type": "code",
        "colab": {}
      },
      "source": [
        "Open_prices_arr_scaled = sc.fit_transform(Open_price_arr)"
      ],
      "execution_count": 0,
      "outputs": []
    },
    {
      "cell_type": "code",
      "metadata": {
        "id": "J0_-D16fgUPN",
        "colab_type": "code",
        "colab": {
          "base_uri": "https://localhost:8080/",
          "height": 102
        },
        "outputId": "f2b6218e-f882-47c9-834e-81be1e545dfa"
      },
      "source": [
        "Open_prices_arr_scaled[0:5]"
      ],
      "execution_count": 16,
      "outputs": [
        {
          "output_type": "execute_result",
          "data": {
            "text/plain": [
              "array([[0.08581368],\n",
              "       [0.09701243],\n",
              "       [0.09433366],\n",
              "       [0.09156187],\n",
              "       [0.07984225]])"
            ]
          },
          "metadata": {
            "tags": []
          },
          "execution_count": 16
        }
      ]
    },
    {
      "cell_type": "markdown",
      "metadata": {
        "id": "7WrLD2ypvfj5",
        "colab_type": "text"
      },
      "source": [
        "### Create Dataset with Timestep\n",
        "\n",
        "The idea is LSTM can remember the state (aka dependencies). So create the dataset in such a way that, the current trend of the stock price depends on the earlier stock prices. So, let's create the timestep of size 60, ie., the current output depends on the previous sixty days prices."
      ]
    },
    {
      "cell_type": "code",
      "metadata": {
        "id": "pRHN1vgnvi_w",
        "colab_type": "code",
        "colab": {
          "base_uri": "https://localhost:8080/",
          "height": 34
        },
        "outputId": "ba3a72e7-5e97-427f-b344-965bf94f7421"
      },
      "source": [
        "len(Open_prices_arr_scaled)"
      ],
      "execution_count": 17,
      "outputs": [
        {
          "output_type": "execute_result",
          "data": {
            "text/plain": [
              "1258"
            ]
          },
          "metadata": {
            "tags": []
          },
          "execution_count": 17
        }
      ]
    },
    {
      "cell_type": "code",
      "metadata": {
        "id": "spy-NRIcwJia",
        "colab_type": "code",
        "colab": {}
      },
      "source": [
        "X_train = []\n",
        "Y_train = []\n",
        "\n",
        "for i in range(60, len(Open_prices_arr_scaled)):\n",
        "  X_train.append(Open_prices_arr_scaled[i-60:i, 0])\n",
        "  Y_train.append(Open_prices_arr_scaled[i,0])"
      ],
      "execution_count": 0,
      "outputs": []
    },
    {
      "cell_type": "code",
      "metadata": {
        "id": "FYeDnEX-xXxi",
        "colab_type": "code",
        "colab": {}
      },
      "source": [
        "X_train, Y_train = np.array(X_train), np.array(Y_train)"
      ],
      "execution_count": 0,
      "outputs": []
    },
    {
      "cell_type": "code",
      "metadata": {
        "id": "qeaAgGYaxkX_",
        "colab_type": "code",
        "colab": {
          "base_uri": "https://localhost:8080/",
          "height": 221
        },
        "outputId": "29e6e478-548a-4085-c8cf-7b4887ab7235"
      },
      "source": [
        "print(len(X_train[0]))\n",
        "print(X_train[0])\n",
        "print(Y_train[0])"
      ],
      "execution_count": 20,
      "outputs": [
        {
          "output_type": "stream",
          "text": [
            "60\n",
            "[0.08581368 0.09701243 0.09433366 0.09156187 0.07984225 0.0643277\n",
            " 0.0585423  0.06568569 0.06109085 0.06639259 0.0614257  0.07474514\n",
            " 0.02797827 0.02379269 0.02409033 0.0159238  0.01078949 0.00967334\n",
            " 0.01642607 0.02100231 0.02280676 0.02273235 0.02810849 0.03212665\n",
            " 0.0433812  0.04475779 0.04790163 0.0440695  0.04648783 0.04745517\n",
            " 0.04873875 0.03936305 0.04137213 0.04034898 0.04784582 0.04325099\n",
            " 0.04356723 0.04286033 0.04602277 0.05398467 0.05738894 0.05714711\n",
            " 0.05569611 0.04421832 0.04514845 0.04605997 0.04412531 0.03675869\n",
            " 0.04486941 0.05065481 0.05214302 0.05612397 0.05818885 0.06540665\n",
            " 0.06882953 0.07243843 0.07993526 0.07846566 0.08034452 0.08497656]\n",
            "0.08627874097775134\n"
          ],
          "name": "stdout"
        }
      ]
    },
    {
      "cell_type": "code",
      "metadata": {
        "id": "W1sUsSwoxm1I",
        "colab_type": "code",
        "colab": {
          "base_uri": "https://localhost:8080/",
          "height": 34
        },
        "outputId": "64a3ae6c-5205-492d-cb09-47abdc0f57a0"
      },
      "source": [
        "X_train.shape"
      ],
      "execution_count": 21,
      "outputs": [
        {
          "output_type": "execute_result",
          "data": {
            "text/plain": [
              "(1198, 60)"
            ]
          },
          "metadata": {
            "tags": []
          },
          "execution_count": 21
        }
      ]
    },
    {
      "cell_type": "markdown",
      "metadata": {
        "id": "3kHQBhrxyjRM",
        "colab_type": "text"
      },
      "source": [
        "### Reshape "
      ]
    },
    {
      "cell_type": "code",
      "metadata": {
        "id": "go0OepZtyEJH",
        "colab_type": "code",
        "colab": {}
      },
      "source": [
        "## reshape for efficient modelling\n",
        "\n",
        "X_train = np.reshape(X_train, (X_train.shape[0], X_train.shape[1], 1) )"
      ],
      "execution_count": 0,
      "outputs": []
    },
    {
      "cell_type": "code",
      "metadata": {
        "id": "nihu84Rmyqxr",
        "colab_type": "code",
        "colab": {
          "base_uri": "https://localhost:8080/",
          "height": 34
        },
        "outputId": "0402efb9-1558-4de0-c4d1-30805bf537ad"
      },
      "source": [
        "X_train.shape"
      ],
      "execution_count": 23,
      "outputs": [
        {
          "output_type": "execute_result",
          "data": {
            "text/plain": [
              "(1198, 60, 1)"
            ]
          },
          "metadata": {
            "tags": []
          },
          "execution_count": 23
        }
      ]
    },
    {
      "cell_type": "markdown",
      "metadata": {
        "id": "CVhnQz-tQme6",
        "colab_type": "text"
      },
      "source": [
        "## Get Test Dataset"
      ]
    },
    {
      "cell_type": "code",
      "metadata": {
        "id": "vfW9304AErmc",
        "colab_type": "code",
        "colab": {}
      },
      "source": [
        "test_df = pd.read_csv('./Google_Stock_Price_Test.csv', index_col='Date', parse_dates=['Date'])"
      ],
      "execution_count": 0,
      "outputs": []
    },
    {
      "cell_type": "code",
      "metadata": {
        "id": "1uZZ3oW9FBPn",
        "colab_type": "code",
        "colab": {
          "base_uri": "https://localhost:8080/",
          "height": 34
        },
        "outputId": "2a4af6aa-9d42-4da6-dea4-763bb09870c4"
      },
      "source": [
        "test_df.shape"
      ],
      "execution_count": 25,
      "outputs": [
        {
          "output_type": "execute_result",
          "data": {
            "text/plain": [
              "(20, 5)"
            ]
          },
          "metadata": {
            "tags": []
          },
          "execution_count": 25
        }
      ]
    },
    {
      "cell_type": "code",
      "metadata": {
        "id": "PAKsRMYEFD94",
        "colab_type": "code",
        "colab": {
          "base_uri": "https://localhost:8080/",
          "height": 235
        },
        "outputId": "37ef1873-720a-47fb-86ed-50760f1a2e73"
      },
      "source": [
        "test_df.head()"
      ],
      "execution_count": 26,
      "outputs": [
        {
          "output_type": "execute_result",
          "data": {
            "text/html": [
              "<div>\n",
              "<style scoped>\n",
              "    .dataframe tbody tr th:only-of-type {\n",
              "        vertical-align: middle;\n",
              "    }\n",
              "\n",
              "    .dataframe tbody tr th {\n",
              "        vertical-align: top;\n",
              "    }\n",
              "\n",
              "    .dataframe thead th {\n",
              "        text-align: right;\n",
              "    }\n",
              "</style>\n",
              "<table border=\"1\" class=\"dataframe\">\n",
              "  <thead>\n",
              "    <tr style=\"text-align: right;\">\n",
              "      <th></th>\n",
              "      <th>Open</th>\n",
              "      <th>High</th>\n",
              "      <th>Low</th>\n",
              "      <th>Close</th>\n",
              "      <th>Volume</th>\n",
              "    </tr>\n",
              "    <tr>\n",
              "      <th>Date</th>\n",
              "      <th></th>\n",
              "      <th></th>\n",
              "      <th></th>\n",
              "      <th></th>\n",
              "      <th></th>\n",
              "    </tr>\n",
              "  </thead>\n",
              "  <tbody>\n",
              "    <tr>\n",
              "      <th>2017-01-03</th>\n",
              "      <td>778.81</td>\n",
              "      <td>789.63</td>\n",
              "      <td>775.80</td>\n",
              "      <td>786.14</td>\n",
              "      <td>1,657,300</td>\n",
              "    </tr>\n",
              "    <tr>\n",
              "      <th>2017-01-04</th>\n",
              "      <td>788.36</td>\n",
              "      <td>791.34</td>\n",
              "      <td>783.16</td>\n",
              "      <td>786.90</td>\n",
              "      <td>1,073,000</td>\n",
              "    </tr>\n",
              "    <tr>\n",
              "      <th>2017-01-05</th>\n",
              "      <td>786.08</td>\n",
              "      <td>794.48</td>\n",
              "      <td>785.02</td>\n",
              "      <td>794.02</td>\n",
              "      <td>1,335,200</td>\n",
              "    </tr>\n",
              "    <tr>\n",
              "      <th>2017-01-06</th>\n",
              "      <td>795.26</td>\n",
              "      <td>807.90</td>\n",
              "      <td>792.20</td>\n",
              "      <td>806.15</td>\n",
              "      <td>1,640,200</td>\n",
              "    </tr>\n",
              "    <tr>\n",
              "      <th>2017-01-09</th>\n",
              "      <td>806.40</td>\n",
              "      <td>809.97</td>\n",
              "      <td>802.83</td>\n",
              "      <td>806.65</td>\n",
              "      <td>1,272,400</td>\n",
              "    </tr>\n",
              "  </tbody>\n",
              "</table>\n",
              "</div>"
            ],
            "text/plain": [
              "              Open    High     Low   Close     Volume\n",
              "Date                                                 \n",
              "2017-01-03  778.81  789.63  775.80  786.14  1,657,300\n",
              "2017-01-04  788.36  791.34  783.16  786.90  1,073,000\n",
              "2017-01-05  786.08  794.48  785.02  794.02  1,335,200\n",
              "2017-01-06  795.26  807.90  792.20  806.15  1,640,200\n",
              "2017-01-09  806.40  809.97  802.83  806.65  1,272,400"
            ]
          },
          "metadata": {
            "tags": []
          },
          "execution_count": 26
        }
      ]
    },
    {
      "cell_type": "code",
      "metadata": {
        "id": "iJpQt2TVFOsb",
        "colab_type": "code",
        "colab": {}
      },
      "source": [
        "test_open_price_arr = test_df.iloc[:, 0:1].values"
      ],
      "execution_count": 0,
      "outputs": []
    },
    {
      "cell_type": "code",
      "metadata": {
        "id": "yQGHXV9RFeHZ",
        "colab_type": "code",
        "colab": {
          "base_uri": "https://localhost:8080/",
          "height": 102
        },
        "outputId": "d32b5cb8-9d40-4ae6-d86a-b79dda243a3f"
      },
      "source": [
        "test_open_price_arr[0:5]"
      ],
      "execution_count": 28,
      "outputs": [
        {
          "output_type": "execute_result",
          "data": {
            "text/plain": [
              "array([[778.81],\n",
              "       [788.36],\n",
              "       [786.08],\n",
              "       [795.26],\n",
              "       [806.4 ]])"
            ]
          },
          "metadata": {
            "tags": []
          },
          "execution_count": 28
        }
      ]
    },
    {
      "cell_type": "markdown",
      "metadata": {
        "id": "l6OfAei9FvRJ",
        "colab_type": "text"
      },
      "source": [
        "### Build test dataset.\n",
        "\n",
        "Note that for test dataset as well, we need 60 timesteps for prediction.\n",
        "So, let's concatenate the train and test data and build the test dataset with timesteps."
      ]
    },
    {
      "cell_type": "code",
      "metadata": {
        "id": "vv7PK6qzGkzs",
        "colab_type": "code",
        "colab": {
          "base_uri": "https://localhost:8080/",
          "height": 136
        },
        "outputId": "8cbb7af9-1fa8-4cef-c146-99c570b1c79a"
      },
      "source": [
        "train_df['Open'].head()"
      ],
      "execution_count": 29,
      "outputs": [
        {
          "output_type": "execute_result",
          "data": {
            "text/plain": [
              "Date\n",
              "2012-01-03    325.25\n",
              "2012-01-04    331.27\n",
              "2012-01-05    329.83\n",
              "2012-01-06    328.34\n",
              "2012-01-09    322.04\n",
              "Name: Open, dtype: float64"
            ]
          },
          "metadata": {
            "tags": []
          },
          "execution_count": 29
        }
      ]
    },
    {
      "cell_type": "code",
      "metadata": {
        "id": "AFSNzEI28jqG",
        "colab_type": "code",
        "colab": {}
      },
      "source": [
        "real_stock_price = test_df['Open'].values"
      ],
      "execution_count": 0,
      "outputs": []
    },
    {
      "cell_type": "code",
      "metadata": {
        "id": "Pr9syW7n8pTp",
        "colab_type": "code",
        "colab": {
          "base_uri": "https://localhost:8080/",
          "height": 68
        },
        "outputId": "6d8c2108-bc8e-47d7-c71e-f7c0dc7e82ba"
      },
      "source": [
        "real_stock_price"
      ],
      "execution_count": 32,
      "outputs": [
        {
          "output_type": "execute_result",
          "data": {
            "text/plain": [
              "array([778.81, 788.36, 786.08, 795.26, 806.4 , 807.86, 805.  , 807.14,\n",
              "       807.48, 807.08, 805.81, 805.12, 806.91, 807.25, 822.3 , 829.62,\n",
              "       837.81, 834.71, 814.66, 796.86])"
            ]
          },
          "metadata": {
            "tags": []
          },
          "execution_count": 32
        }
      ]
    },
    {
      "cell_type": "code",
      "metadata": {
        "id": "iUz-nIGTFjcR",
        "colab_type": "code",
        "colab": {}
      },
      "source": [
        "Open_price_total = pd.concat((train_df['Open'], test_df['Open']), axis =0)\n"
      ],
      "execution_count": 0,
      "outputs": []
    },
    {
      "cell_type": "code",
      "metadata": {
        "id": "Wti5jQ4SG0LE",
        "colab_type": "code",
        "colab": {
          "base_uri": "https://localhost:8080/",
          "height": 34
        },
        "outputId": "795a3916-cbb2-4d1b-a993-2dfb71464a02"
      },
      "source": [
        "len(Open_price_total)"
      ],
      "execution_count": 34,
      "outputs": [
        {
          "output_type": "execute_result",
          "data": {
            "text/plain": [
              "1278"
            ]
          },
          "metadata": {
            "tags": []
          },
          "execution_count": 34
        }
      ]
    },
    {
      "cell_type": "code",
      "metadata": {
        "id": "-aX45BAYitHH",
        "colab_type": "code",
        "colab": {}
      },
      "source": [
        "# the timestep is 60, ie., 3 months data.\n",
        "# so for prediction, we need 3 months history Open price as well.\n",
        "#\n",
        "# get the test data along with past 60 days Open price info\n",
        "#\n",
        "test_inputs = Open_price_total[len(Open_price_total) - len(test_df) - 60:].values"
      ],
      "execution_count": 0,
      "outputs": []
    },
    {
      "cell_type": "code",
      "metadata": {
        "id": "by-yDr0gkoUc",
        "colab_type": "code",
        "colab": {
          "base_uri": "https://localhost:8080/",
          "height": 34
        },
        "outputId": "e19250fc-c079-4213-84a5-f9bad1fdc05a"
      },
      "source": [
        "test_inputs.shape"
      ],
      "execution_count": 37,
      "outputs": [
        {
          "output_type": "execute_result",
          "data": {
            "text/plain": [
              "(80,)"
            ]
          },
          "metadata": {
            "tags": []
          },
          "execution_count": 37
        }
      ]
    },
    {
      "cell_type": "code",
      "metadata": {
        "id": "cJ6OjRmyjbxJ",
        "colab_type": "code",
        "colab": {}
      },
      "source": [
        "\n",
        "test_inputs = test_inputs.reshape(-1, 1)"
      ],
      "execution_count": 0,
      "outputs": []
    },
    {
      "cell_type": "code",
      "metadata": {
        "id": "EYFjj0QJkz0a",
        "colab_type": "code",
        "colab": {
          "base_uri": "https://localhost:8080/",
          "height": 34
        },
        "outputId": "20e27e01-949a-4f80-cb12-4534906583de"
      },
      "source": [
        "test_inputs.shape"
      ],
      "execution_count": 39,
      "outputs": [
        {
          "output_type": "execute_result",
          "data": {
            "text/plain": [
              "(80, 1)"
            ]
          },
          "metadata": {
            "tags": []
          },
          "execution_count": 39
        }
      ]
    },
    {
      "cell_type": "code",
      "metadata": {
        "id": "Q7hQMfCnk3gM",
        "colab_type": "code",
        "colab": {}
      },
      "source": [
        "#test_inputs"
      ],
      "execution_count": 0,
      "outputs": []
    },
    {
      "cell_type": "code",
      "metadata": {
        "id": "mbcHOUoEjjtp",
        "colab_type": "code",
        "colab": {}
      },
      "source": [
        "# scale the test data\n",
        "test_inputs = sc.transform(test_inputs)"
      ],
      "execution_count": 0,
      "outputs": []
    },
    {
      "cell_type": "code",
      "metadata": {
        "id": "snmFqGw_jw7M",
        "colab_type": "code",
        "colab": {}
      },
      "source": [
        "# build the dataset with 60 timestep for each test data value for prediction\n",
        "X_test = []\n",
        "\n",
        "for i in range(60, len(test_inputs)):\n",
        "  X_test.append(test_inputs[i-60:i, 0])\n",
        "  \n",
        "X_test = np.array(X_test)"
      ],
      "execution_count": 0,
      "outputs": []
    },
    {
      "cell_type": "code",
      "metadata": {
        "id": "y792juJ_mCqi",
        "colab_type": "code",
        "colab": {
          "base_uri": "https://localhost:8080/",
          "height": 34
        },
        "outputId": "5d9d1d47-5cac-4c2f-a7ca-74db80b70453"
      },
      "source": [
        "X_test.shape"
      ],
      "execution_count": 42,
      "outputs": [
        {
          "output_type": "execute_result",
          "data": {
            "text/plain": [
              "(20, 60)"
            ]
          },
          "metadata": {
            "tags": []
          },
          "execution_count": 42
        }
      ]
    },
    {
      "cell_type": "code",
      "metadata": {
        "id": "fttwmJfAmFjU",
        "colab_type": "code",
        "colab": {
          "base_uri": "https://localhost:8080/",
          "height": 221
        },
        "outputId": "da72e0b9-d8ec-462d-d70f-22c5bd038fcd"
      },
      "source": [
        "X_test[1]"
      ],
      "execution_count": 43,
      "outputs": [
        {
          "output_type": "execute_result",
          "data": {
            "text/plain": [
              "array([0.93113327, 0.92750577, 0.94415507, 0.93876032, 0.93403527,\n",
              "       0.93483518, 0.9313937 , 0.94636878, 0.96569685, 0.97510976,\n",
              "       0.95966962, 0.97808617, 1.        , 0.98076494, 0.97083116,\n",
              "       0.98450406, 0.96054394, 0.9371419 , 0.92841729, 0.90804747,\n",
              "       0.8771858 , 0.92153434, 0.93809063, 0.93165414, 0.95254483,\n",
              "       0.88812412, 0.88637547, 0.87032145, 0.88563137, 0.90743359,\n",
              "       0.91571173, 0.89941588, 0.91805566, 0.9089404 , 0.9024853 ,\n",
              "       0.89456061, 0.91600938, 0.9132934 , 0.88979835, 0.86589404,\n",
              "       0.89030062, 0.90335962, 0.89642086, 0.91777662, 0.93176576,\n",
              "       0.94114145, 0.95762334, 0.96413424, 0.96402262, 0.96971501,\n",
              "       0.95077759, 0.96294367, 0.96123223, 0.95475854, 0.95204256,\n",
              "       0.95163331, 0.95725128, 0.93796041, 0.93688146, 0.92955205])"
            ]
          },
          "metadata": {
            "tags": []
          },
          "execution_count": 43
        }
      ]
    },
    {
      "cell_type": "code",
      "metadata": {
        "id": "lh6mUoEimMtO",
        "colab_type": "code",
        "colab": {}
      },
      "source": [
        "# reshape in 3 dim.\n",
        "X_test = np.reshape(X_test, (X_test.shape[0], X_test.shape[1], 1))"
      ],
      "execution_count": 0,
      "outputs": []
    },
    {
      "cell_type": "code",
      "metadata": {
        "id": "FUL00ZhumeDz",
        "colab_type": "code",
        "colab": {
          "base_uri": "https://localhost:8080/",
          "height": 34
        },
        "outputId": "e4f31be8-9d42-4f3e-ee43-6ffa5b336628"
      },
      "source": [
        "X_test.shape"
      ],
      "execution_count": 45,
      "outputs": [
        {
          "output_type": "execute_result",
          "data": {
            "text/plain": [
              "(20, 60, 1)"
            ]
          },
          "metadata": {
            "tags": []
          },
          "execution_count": 45
        }
      ]
    },
    {
      "cell_type": "code",
      "metadata": {
        "id": "OaeqpHC3mgSX",
        "colab_type": "code",
        "colab": {}
      },
      "source": [
        "#X_test[1]"
      ],
      "execution_count": 0,
      "outputs": []
    },
    {
      "cell_type": "markdown",
      "metadata": {
        "id": "d1KY904tzFlx",
        "colab_type": "text"
      },
      "source": [
        "## Build Model Using LSTM"
      ]
    },
    {
      "cell_type": "code",
      "metadata": {
        "id": "5D7ynlP7zDWL",
        "colab_type": "code",
        "colab": {
          "base_uri": "https://localhost:8080/",
          "height": 34
        },
        "outputId": "be1fd593-6167-484a-db19-77c3679db202"
      },
      "source": [
        "from keras.models import Sequential\n",
        "from keras.layers import Dense, LSTM, Dropout"
      ],
      "execution_count": 46,
      "outputs": [
        {
          "output_type": "stream",
          "text": [
            "Using TensorFlow backend.\n"
          ],
          "name": "stderr"
        }
      ]
    },
    {
      "cell_type": "code",
      "metadata": {
        "id": "EiQhyDeOzXSZ",
        "colab_type": "code",
        "colab": {}
      },
      "source": [
        "# build sequential model\n",
        "\n",
        "regressor = Sequential()"
      ],
      "execution_count": 0,
      "outputs": []
    },
    {
      "cell_type": "code",
      "metadata": {
        "id": "hTCUdXus2zfd",
        "colab_type": "code",
        "colab": {
          "base_uri": "https://localhost:8080/",
          "height": 139
        },
        "outputId": "fcd9016c-0235-4e37-8c17-64833efc8973"
      },
      "source": [
        "# add LSTM and dropout for regularization\n",
        "#?LSTM()\n",
        "## return_sequences => return the last output in the output sequences\n",
        "regressor.add(LSTM(units=50, return_sequences=True, input_shape=(X_train.shape[1], 1)))\n",
        "regressor.add(Dropout(rate=0.2)) # drop 20 percent of inputs "
      ],
      "execution_count": 48,
      "outputs": [
        {
          "output_type": "stream",
          "text": [
            "WARNING:tensorflow:From /usr/local/lib/python3.6/dist-packages/tensorflow/python/framework/op_def_library.py:263: colocate_with (from tensorflow.python.framework.ops) is deprecated and will be removed in a future version.\n",
            "Instructions for updating:\n",
            "Colocations handled automatically by placer.\n",
            "WARNING:tensorflow:From /usr/local/lib/python3.6/dist-packages/keras/backend/tensorflow_backend.py:3445: calling dropout (from tensorflow.python.ops.nn_ops) with keep_prob is deprecated and will be removed in a future version.\n",
            "Instructions for updating:\n",
            "Please use `rate` instead of `keep_prob`. Rate should be set to `rate = 1 - keep_prob`.\n"
          ],
          "name": "stdout"
        }
      ]
    },
    {
      "cell_type": "code",
      "metadata": {
        "id": "mzB75ktr27NY",
        "colab_type": "code",
        "colab": {}
      },
      "source": [
        "# Add a second LSTM layer and some Dropout regularisation\n",
        "regressor.add(LSTM(units = 50, return_sequences = True))\n",
        "regressor.add(Dropout(0.2))\n",
        "\n",
        "# Add a third LSTM layer and some Dropout regularisation\n",
        "regressor.add(LSTM(units = 50, return_sequences = True))\n",
        "regressor.add(Dropout(0.2))\n",
        "\n",
        "# Add a fourth LSTM layer and some Dropout regularisation\n",
        "regressor.add(LSTM(units = 50))\n",
        "regressor.add(Dropout(0.2))\n",
        "\n",
        "# Add the output layer\n",
        "regressor.add(Dense(units = 1))\n"
      ],
      "execution_count": 0,
      "outputs": []
    },
    {
      "cell_type": "code",
      "metadata": {
        "id": "5FlSPQCv354l",
        "colab_type": "code",
        "colab": {}
      },
      "source": [
        "# Compiling the RNN\n",
        "regressor.compile(optimizer = 'adam', loss = 'mean_squared_error')"
      ],
      "execution_count": 0,
      "outputs": []
    },
    {
      "cell_type": "code",
      "metadata": {
        "id": "juJPC_Ni45t7",
        "colab_type": "code",
        "colab": {
          "base_uri": "https://localhost:8080/",
          "height": 3505
        },
        "outputId": "a0cbe4fa-024d-4fec-dfc7-06a95329242d"
      },
      "source": [
        "# Fitting the RNN to the Training set\n",
        "regressor.fit(X_train, Y_train, epochs = 100, batch_size = 32)\n"
      ],
      "execution_count": 51,
      "outputs": [
        {
          "output_type": "stream",
          "text": [
            "WARNING:tensorflow:From /usr/local/lib/python3.6/dist-packages/tensorflow/python/ops/math_ops.py:3066: to_int32 (from tensorflow.python.ops.math_ops) is deprecated and will be removed in a future version.\n",
            "Instructions for updating:\n",
            "Use tf.cast instead.\n",
            "Epoch 1/100\n",
            "1198/1198 [==============================] - 16s 13ms/step - loss: 0.0554\n",
            "Epoch 2/100\n",
            "1198/1198 [==============================] - 12s 10ms/step - loss: 0.0065\n",
            "Epoch 3/100\n",
            "1198/1198 [==============================] - 12s 10ms/step - loss: 0.0053\n",
            "Epoch 4/100\n",
            "1198/1198 [==============================] - 13s 11ms/step - loss: 0.0048\n",
            "Epoch 5/100\n",
            "1198/1198 [==============================] - 12s 10ms/step - loss: 0.0054\n",
            "Epoch 6/100\n",
            "1198/1198 [==============================] - 12s 10ms/step - loss: 0.0047\n",
            "Epoch 7/100\n",
            "1198/1198 [==============================] - 12s 10ms/step - loss: 0.0049\n",
            "Epoch 8/100\n",
            "1198/1198 [==============================] - 12s 10ms/step - loss: 0.0049\n",
            "Epoch 9/100\n",
            "1198/1198 [==============================] - 12s 10ms/step - loss: 0.0044\n",
            "Epoch 10/100\n",
            "1198/1198 [==============================] - 12s 10ms/step - loss: 0.0047\n",
            "Epoch 11/100\n",
            "1198/1198 [==============================] - 14s 12ms/step - loss: 0.0038\n",
            "Epoch 12/100\n",
            "1198/1198 [==============================] - 13s 11ms/step - loss: 0.0039\n",
            "Epoch 13/100\n",
            "1198/1198 [==============================] - 12s 10ms/step - loss: 0.0045\n",
            "Epoch 14/100\n",
            "1198/1198 [==============================] - 12s 10ms/step - loss: 0.0043\n",
            "Epoch 15/100\n",
            "1198/1198 [==============================] - 12s 10ms/step - loss: 0.0037\n",
            "Epoch 16/100\n",
            "1198/1198 [==============================] - 12s 10ms/step - loss: 0.0034\n",
            "Epoch 17/100\n",
            "1198/1198 [==============================] - 13s 11ms/step - loss: 0.0037\n",
            "Epoch 18/100\n",
            "1198/1198 [==============================] - 13s 11ms/step - loss: 0.0037\n",
            "Epoch 19/100\n",
            "1198/1198 [==============================] - 12s 10ms/step - loss: 0.0036\n",
            "Epoch 20/100\n",
            "1198/1198 [==============================] - 12s 10ms/step - loss: 0.0030\n",
            "Epoch 21/100\n",
            "1198/1198 [==============================] - 12s 10ms/step - loss: 0.0040\n",
            "Epoch 22/100\n",
            "1198/1198 [==============================] - 12s 10ms/step - loss: 0.0035\n",
            "Epoch 23/100\n",
            "1198/1198 [==============================] - 12s 10ms/step - loss: 0.0035\n",
            "Epoch 24/100\n",
            "1198/1198 [==============================] - 13s 11ms/step - loss: 0.0037\n",
            "Epoch 25/100\n",
            "1198/1198 [==============================] - 12s 10ms/step - loss: 0.0039\n",
            "Epoch 26/100\n",
            "1198/1198 [==============================] - 12s 10ms/step - loss: 0.0034\n",
            "Epoch 27/100\n",
            "1198/1198 [==============================] - 12s 10ms/step - loss: 0.0030\n",
            "Epoch 28/100\n",
            "1198/1198 [==============================] - 12s 10ms/step - loss: 0.0032\n",
            "Epoch 29/100\n",
            "1198/1198 [==============================] - 12s 10ms/step - loss: 0.0032\n",
            "Epoch 30/100\n",
            "1198/1198 [==============================] - 13s 11ms/step - loss: 0.0034\n",
            "Epoch 31/100\n",
            "1198/1198 [==============================] - 12s 10ms/step - loss: 0.0029\n",
            "Epoch 32/100\n",
            "1198/1198 [==============================] - 12s 10ms/step - loss: 0.0030\n",
            "Epoch 33/100\n",
            "1198/1198 [==============================] - 12s 10ms/step - loss: 0.0029\n",
            "Epoch 34/100\n",
            "1198/1198 [==============================] - 12s 10ms/step - loss: 0.0027\n",
            "Epoch 35/100\n",
            "1198/1198 [==============================] - 12s 10ms/step - loss: 0.0026\n",
            "Epoch 36/100\n",
            "1198/1198 [==============================] - 13s 10ms/step - loss: 0.0027\n",
            "Epoch 37/100\n",
            "1198/1198 [==============================] - 13s 11ms/step - loss: 0.0027\n",
            "Epoch 38/100\n",
            "1198/1198 [==============================] - 12s 10ms/step - loss: 0.0028\n",
            "Epoch 39/100\n",
            "1198/1198 [==============================] - 12s 10ms/step - loss: 0.0025\n",
            "Epoch 40/100\n",
            "1198/1198 [==============================] - 12s 10ms/step - loss: 0.0027\n",
            "Epoch 41/100\n",
            "1198/1198 [==============================] - 12s 10ms/step - loss: 0.0025\n",
            "Epoch 42/100\n",
            "1198/1198 [==============================] - 12s 10ms/step - loss: 0.0025\n",
            "Epoch 43/100\n",
            "1198/1198 [==============================] - 13s 11ms/step - loss: 0.0026\n",
            "Epoch 44/100\n",
            "1198/1198 [==============================] - 12s 10ms/step - loss: 0.0029\n",
            "Epoch 45/100\n",
            "1198/1198 [==============================] - 12s 10ms/step - loss: 0.0027\n",
            "Epoch 46/100\n",
            "1198/1198 [==============================] - 12s 10ms/step - loss: 0.0025\n",
            "Epoch 47/100\n",
            "1198/1198 [==============================] - 12s 10ms/step - loss: 0.0024\n",
            "Epoch 48/100\n",
            "1198/1198 [==============================] - 12s 10ms/step - loss: 0.0022\n",
            "Epoch 49/100\n",
            "1198/1198 [==============================] - 12s 10ms/step - loss: 0.0027\n",
            "Epoch 50/100\n",
            "1198/1198 [==============================] - 13s 11ms/step - loss: 0.0024\n",
            "Epoch 51/100\n",
            "1198/1198 [==============================] - 12s 10ms/step - loss: 0.0023\n",
            "Epoch 52/100\n",
            "1198/1198 [==============================] - 12s 10ms/step - loss: 0.0024\n",
            "Epoch 53/100\n",
            "1198/1198 [==============================] - 12s 10ms/step - loss: 0.0023\n",
            "Epoch 54/100\n",
            "1198/1198 [==============================] - 12s 10ms/step - loss: 0.0022\n",
            "Epoch 55/100\n",
            "1198/1198 [==============================] - 12s 10ms/step - loss: 0.0024\n",
            "Epoch 56/100\n",
            "1198/1198 [==============================] - 13s 11ms/step - loss: 0.0023\n",
            "Epoch 57/100\n",
            "1198/1198 [==============================] - 13s 10ms/step - loss: 0.0021\n",
            "Epoch 58/100\n",
            "1198/1198 [==============================] - 12s 10ms/step - loss: 0.0022\n",
            "Epoch 59/100\n",
            "1198/1198 [==============================] - 12s 10ms/step - loss: 0.0024\n",
            "Epoch 60/100\n",
            "1198/1198 [==============================] - 12s 10ms/step - loss: 0.0022\n",
            "Epoch 61/100\n",
            "1198/1198 [==============================] - 12s 10ms/step - loss: 0.0019\n",
            "Epoch 62/100\n",
            "1198/1198 [==============================] - 14s 12ms/step - loss: 0.0020\n",
            "Epoch 63/100\n",
            "1198/1198 [==============================] - 13s 11ms/step - loss: 0.0021\n",
            "Epoch 64/100\n",
            "1198/1198 [==============================] - 12s 10ms/step - loss: 0.0020\n",
            "Epoch 65/100\n",
            "1198/1198 [==============================] - 12s 10ms/step - loss: 0.0019\n",
            "Epoch 66/100\n",
            "1198/1198 [==============================] - 12s 10ms/step - loss: 0.0019\n",
            "Epoch 67/100\n",
            "1198/1198 [==============================] - 12s 10ms/step - loss: 0.0020\n",
            "Epoch 68/100\n",
            "1198/1198 [==============================] - 13s 11ms/step - loss: 0.0020\n",
            "Epoch 69/100\n",
            "1198/1198 [==============================] - 13s 11ms/step - loss: 0.0020\n",
            "Epoch 70/100\n",
            "1198/1198 [==============================] - 12s 10ms/step - loss: 0.0018\n",
            "Epoch 71/100\n",
            "1198/1198 [==============================] - 12s 10ms/step - loss: 0.0019\n",
            "Epoch 72/100\n",
            "1198/1198 [==============================] - 12s 10ms/step - loss: 0.0018\n",
            "Epoch 73/100\n",
            "1198/1198 [==============================] - 12s 10ms/step - loss: 0.0016\n",
            "Epoch 74/100\n",
            "1198/1198 [==============================] - 12s 10ms/step - loss: 0.0018\n",
            "Epoch 75/100\n",
            "1198/1198 [==============================] - 12s 10ms/step - loss: 0.0019\n",
            "Epoch 76/100\n",
            "1198/1198 [==============================] - 13s 11ms/step - loss: 0.0017\n",
            "Epoch 77/100\n",
            "1198/1198 [==============================] - 12s 10ms/step - loss: 0.0018\n",
            "Epoch 78/100\n",
            "1198/1198 [==============================] - 12s 10ms/step - loss: 0.0016\n",
            "Epoch 79/100\n",
            "1198/1198 [==============================] - 12s 10ms/step - loss: 0.0017\n",
            "Epoch 80/100\n",
            "1198/1198 [==============================] - 12s 10ms/step - loss: 0.0016\n",
            "Epoch 81/100\n",
            "1198/1198 [==============================] - 12s 10ms/step - loss: 0.0020\n",
            "Epoch 82/100\n",
            "1198/1198 [==============================] - 12s 10ms/step - loss: 0.0016\n",
            "Epoch 83/100\n",
            "1198/1198 [==============================] - 13s 11ms/step - loss: 0.0020\n",
            "Epoch 84/100\n",
            "1198/1198 [==============================] - 12s 10ms/step - loss: 0.0016\n",
            "Epoch 85/100\n",
            "1198/1198 [==============================] - 12s 10ms/step - loss: 0.0016\n",
            "Epoch 86/100\n",
            "1198/1198 [==============================] - 12s 10ms/step - loss: 0.0018\n",
            "Epoch 87/100\n",
            "1198/1198 [==============================] - 13s 11ms/step - loss: 0.0016\n",
            "Epoch 88/100\n",
            "1198/1198 [==============================] - 12s 10ms/step - loss: 0.0016\n",
            "Epoch 89/100\n",
            "1198/1198 [==============================] - 13s 11ms/step - loss: 0.0015\n",
            "Epoch 90/100\n",
            "1198/1198 [==============================] - 12s 10ms/step - loss: 0.0015\n",
            "Epoch 91/100\n",
            "1198/1198 [==============================] - 12s 10ms/step - loss: 0.0016\n",
            "Epoch 92/100\n",
            "1198/1198 [==============================] - 12s 10ms/step - loss: 0.0016\n",
            "Epoch 93/100\n",
            "1198/1198 [==============================] - 13s 11ms/step - loss: 0.0015\n",
            "Epoch 94/100\n",
            "1198/1198 [==============================] - 12s 10ms/step - loss: 0.0016\n",
            "Epoch 95/100\n",
            "1198/1198 [==============================] - 12s 10ms/step - loss: 0.0015\n",
            "Epoch 96/100\n",
            "1198/1198 [==============================] - 13s 11ms/step - loss: 0.0015\n",
            "Epoch 97/100\n",
            "1198/1198 [==============================] - 12s 10ms/step - loss: 0.0016\n",
            "Epoch 98/100\n",
            "1198/1198 [==============================] - 12s 10ms/step - loss: 0.0014\n",
            "Epoch 99/100\n",
            "1198/1198 [==============================] - 12s 10ms/step - loss: 0.0016\n",
            "Epoch 100/100\n",
            "1198/1198 [==============================] - 12s 10ms/step - loss: 0.0016\n"
          ],
          "name": "stdout"
        },
        {
          "output_type": "execute_result",
          "data": {
            "text/plain": [
              "<keras.callbacks.History at 0x7fedfb3bad68>"
            ]
          },
          "metadata": {
            "tags": []
          },
          "execution_count": 51
        }
      ]
    },
    {
      "cell_type": "markdown",
      "metadata": {
        "id": "BJlziC_gElzp",
        "colab_type": "text"
      },
      "source": [
        "### Make Predictions and Visualize Results"
      ]
    },
    {
      "cell_type": "markdown",
      "metadata": {
        "id": "SxzwQRs6mplG",
        "colab_type": "text"
      },
      "source": [
        "### Predict"
      ]
    },
    {
      "cell_type": "code",
      "metadata": {
        "id": "ijosD717mr4_",
        "colab_type": "code",
        "colab": {}
      },
      "source": [
        "pred = regressor.predict(X_test)"
      ],
      "execution_count": 0,
      "outputs": []
    },
    {
      "cell_type": "code",
      "metadata": {
        "id": "y61kc3sDm2KL",
        "colab_type": "code",
        "colab": {}
      },
      "source": [
        "pred =sc.inverse_transform(pred)"
      ],
      "execution_count": 0,
      "outputs": []
    },
    {
      "cell_type": "code",
      "metadata": {
        "id": "Si5qxJfWnpSV",
        "colab_type": "code",
        "colab": {
          "base_uri": "https://localhost:8080/",
          "height": 34
        },
        "outputId": "04fd4802-622d-4219-b93b-5e09058db834"
      },
      "source": [
        "pred[0]"
      ],
      "execution_count": 54,
      "outputs": [
        {
          "output_type": "execute_result",
          "data": {
            "text/plain": [
              "array([765.01465], dtype=float32)"
            ]
          },
          "metadata": {
            "tags": []
          },
          "execution_count": 54
        }
      ]
    },
    {
      "cell_type": "code",
      "metadata": {
        "id": "HMSR574Mnx77",
        "colab_type": "code",
        "colab": {}
      },
      "source": [
        ""
      ],
      "execution_count": 0,
      "outputs": []
    },
    {
      "cell_type": "code",
      "metadata": {
        "id": "xb7rGY9ynwhR",
        "colab_type": "code",
        "colab": {
          "base_uri": "https://localhost:8080/",
          "height": 34
        },
        "outputId": "08fb9075-752c-439b-cc76-8d7dba3c5d16"
      },
      "source": [
        "pred.shape"
      ],
      "execution_count": 55,
      "outputs": [
        {
          "output_type": "execute_result",
          "data": {
            "text/plain": [
              "(20, 1)"
            ]
          },
          "metadata": {
            "tags": []
          },
          "execution_count": 55
        }
      ]
    },
    {
      "cell_type": "code",
      "metadata": {
        "id": "PQhHxlJ587Bv",
        "colab_type": "code",
        "colab": {
          "base_uri": "https://localhost:8080/",
          "height": 34
        },
        "outputId": "20d7d12d-8dcb-4e99-c35a-6c7a8c99ff6a"
      },
      "source": [
        "pred[0]"
      ],
      "execution_count": 56,
      "outputs": [
        {
          "output_type": "execute_result",
          "data": {
            "text/plain": [
              "array([765.01465], dtype=float32)"
            ]
          },
          "metadata": {
            "tags": []
          },
          "execution_count": 56
        }
      ]
    },
    {
      "cell_type": "code",
      "metadata": {
        "id": "VB2bV2pKnzyZ",
        "colab_type": "code",
        "colab": {
          "base_uri": "https://localhost:8080/",
          "height": 34
        },
        "outputId": "bb49b45a-cbf3-44e9-bc93-2136526bfa75"
      },
      "source": [
        "test_df['Open'].shape"
      ],
      "execution_count": 57,
      "outputs": [
        {
          "output_type": "execute_result",
          "data": {
            "text/plain": [
              "(20,)"
            ]
          },
          "metadata": {
            "tags": []
          },
          "execution_count": 57
        }
      ]
    },
    {
      "cell_type": "markdown",
      "metadata": {
        "id": "p9oOCvwwm-e9",
        "colab_type": "text"
      },
      "source": [
        "### Visualize the results\n"
      ]
    },
    {
      "cell_type": "code",
      "metadata": {
        "id": "Q8WwhtACnBR_",
        "colab_type": "code",
        "colab": {
          "base_uri": "https://localhost:8080/",
          "height": 295
        },
        "outputId": "db0e4e87-b79f-447d-bce3-a1e3ffb9f5bc"
      },
      "source": [
        "plt.plot(real_stock_price, color = 'red', label = 'Real Google Stock Price')\n",
        "plt.plot(pred, color = 'blue', label = 'Predicted Google Stock Price')\n",
        "plt.title('Google Stock Price Prediction')\n",
        "plt.xlabel('Time')\n",
        "plt.ylabel('Google Stock Price')\n",
        "plt.legend()\n",
        "plt.show()"
      ],
      "execution_count": 58,
      "outputs": [
        {
          "output_type": "display_data",
          "data": {
            "image/png": "[encoded data removed]",
            "text/plain": [
              "<Figure size 432x288 with 1 Axes>"
            ]
          },
          "metadata": {
            "tags": []
          }
        }
      ]
    },
    {
      "cell_type": "markdown",
      "metadata": {
        "id": "BpAxOfEn-CbP",
        "colab_type": "text"
      },
      "source": [
        "### Evaluate Model"
      ]
    },
    {
      "cell_type": "code",
      "metadata": {
        "id": "HhirVUSJ-FGW",
        "colab_type": "code",
        "colab": {
          "base_uri": "https://localhost:8080/",
          "height": 34
        },
        "outputId": "1100eb85-4eef-4382-a26e-4f5e84ad73b1"
      },
      "source": [
        "# Evaluating our model\n",
        "import math\n",
        "from sklearn.metrics import mean_squared_error\n",
        "rmse = math.sqrt(mean_squared_error(real_stock_price, pred))\n",
        "print(\"The root mean squared error is {}.\".format(rmse))"
      ],
      "execution_count": 59,
      "outputs": [
        {
          "output_type": "stream",
          "text": [
            "The root mean squared error is 30.538622335768956.\n"
          ],
          "name": "stdout"
        }
      ]
    },
    {
      "cell_type": "markdown",
      "metadata": {
        "id": "ZPrh-zmvSXzX",
        "colab_type": "text"
      },
      "source": [
        "## Build Model Using GRU"
      ]
    },
    {
      "cell_type": "markdown",
      "metadata": {
        "id": "ZPfpUtxUXUvn",
        "colab_type": "text"
      },
      "source": [
        "**Gated Recurrent Unit**\n",
        "\n",
        "* GRU does not have a memory unit like LSTM\n",
        "* Only two gates (reset and update) when compared with 3 in the case of LSTM.\n",
        "* Fewer parameters and hence less training time.\n",
        "* For large data, LSTM has better expressiveness."
      ]
    },
    {
      "cell_type": "code",
      "metadata": {
        "id": "QmiCmCjbYNyB",
        "colab_type": "code",
        "colab": {}
      },
      "source": [
        "from keras.layers import GRU"
      ],
      "execution_count": 0,
      "outputs": []
    },
    {
      "cell_type": "code",
      "metadata": {
        "id": "ZypwIZ2xYK4G",
        "colab_type": "code",
        "colab": {}
      },
      "source": [
        "?GRU"
      ],
      "execution_count": 0,
      "outputs": []
    },
    {
      "cell_type": "code",
      "metadata": {
        "id": "xWYGJrGkSZj1",
        "colab_type": "code",
        "colab": {}
      },
      "source": [
        "## Build model using GRU\n",
        "\n",
        "regressorGRU = Sequential()"
      ],
      "execution_count": 0,
      "outputs": []
    },
    {
      "cell_type": "code",
      "metadata": {
        "id": "Ou76Af5vYYFT",
        "colab_type": "code",
        "colab": {}
      },
      "source": [
        "## return_sequences => return the last output in the output sequences\n",
        "regressorGRU.add(GRU(units=50, return_sequences=True, input_shape=(X_train.shape[1], 1)))\n",
        "regressorGRU.add(Dropout(rate=0.2)) # drop 20 percent of inputs \n",
        "\n",
        "# Add a second LSTM layer and some Dropout regularisation\n",
        "regressorGRU.add(GRU(units = 50, return_sequences = True))\n",
        "regressorGRU.add(Dropout(0.2))\n",
        "\n",
        "# Add a third LSTM layer and some Dropout regularisation\n",
        "regressorGRU.add(GRU(units = 50, return_sequences = True))\n",
        "regressorGRU.add(Dropout(0.2))\n",
        "\n",
        "# Add a fourth LSTM layer and some Dropout regularisation\n",
        "regressorGRU.add(GRU(units = 50))\n",
        "regressorGRU.add(Dropout(0.2))\n",
        "\n",
        "# Add the output layer\n",
        "regressorGRU.add(Dense(units = 1))"
      ],
      "execution_count": 0,
      "outputs": []
    },
    {
      "cell_type": "code",
      "metadata": {
        "colab_type": "code",
        "id": "LxyY878sZRuy",
        "colab": {}
      },
      "source": [
        "# Compiling the RNN\n",
        "regressorGRU.compile(optimizer = 'adam', loss = 'mean_squared_error')"
      ],
      "execution_count": 0,
      "outputs": []
    },
    {
      "cell_type": "code",
      "metadata": {
        "colab_type": "code",
        "outputId": "d00b5d5d-5078-4791-ebaa-56b4cf49bea3",
        "id": "evmzKskDZRu0",
        "colab": {
          "base_uri": "https://localhost:8080/",
          "height": 3434
        }
      },
      "source": [
        "# Fitting the RNN to the Training set\n",
        "regressorGRU.fit(X_train, Y_train, epochs = 100, batch_size = 32)\n"
      ],
      "execution_count": 70,
      "outputs": [
        {
          "output_type": "stream",
          "text": [
            "Epoch 1/100\n",
            "1198/1198 [==============================] - 12s 10ms/step - loss: 0.0420\n",
            "Epoch 2/100\n",
            "1198/1198 [==============================] - 10s 8ms/step - loss: 0.0071\n",
            "Epoch 3/100\n",
            "1198/1198 [==============================] - 10s 8ms/step - loss: 0.0055\n",
            "Epoch 4/100\n",
            "1198/1198 [==============================] - 11s 9ms/step - loss: 0.0051\n",
            "Epoch 5/100\n",
            "1198/1198 [==============================] - 10s 9ms/step - loss: 0.0042\n",
            "Epoch 6/100\n",
            "1198/1198 [==============================] - 11s 9ms/step - loss: 0.0041\n",
            "Epoch 7/100\n",
            "1198/1198 [==============================] - 11s 9ms/step - loss: 0.0040\n",
            "Epoch 8/100\n",
            "1198/1198 [==============================] - 10s 8ms/step - loss: 0.0039\n",
            "Epoch 9/100\n",
            "1198/1198 [==============================] - 10s 8ms/step - loss: 0.0037\n",
            "Epoch 10/100\n",
            "1198/1198 [==============================] - 10s 8ms/step - loss: 0.0040\n",
            "Epoch 11/100\n",
            "1198/1198 [==============================] - 10s 9ms/step - loss: 0.0040\n",
            "Epoch 12/100\n",
            "1198/1198 [==============================] - 11s 9ms/step - loss: 0.0039\n",
            "Epoch 13/100\n",
            "1198/1198 [==============================] - 10s 8ms/step - loss: 0.0037\n",
            "Epoch 14/100\n",
            "1198/1198 [==============================] - 10s 8ms/step - loss: 0.0030\n",
            "Epoch 15/100\n",
            "1198/1198 [==============================] - 10s 8ms/step - loss: 0.0031\n",
            "Epoch 16/100\n",
            "1198/1198 [==============================] - 10s 8ms/step - loss: 0.0037\n",
            "Epoch 17/100\n",
            "1198/1198 [==============================] - 10s 8ms/step - loss: 0.0029\n",
            "Epoch 18/100\n",
            "1198/1198 [==============================] - 10s 8ms/step - loss: 0.0032\n",
            "Epoch 19/100\n",
            "1198/1198 [==============================] - 10s 9ms/step - loss: 0.0030\n",
            "Epoch 20/100\n",
            "1198/1198 [==============================] - 11s 9ms/step - loss: 0.0029\n",
            "Epoch 21/100\n",
            "1198/1198 [==============================] - 10s 8ms/step - loss: 0.0030\n",
            "Epoch 22/100\n",
            "1198/1198 [==============================] - 10s 8ms/step - loss: 0.0029\n",
            "Epoch 23/100\n",
            "1198/1198 [==============================] - 10s 8ms/step - loss: 0.0031\n",
            "Epoch 24/100\n",
            "1198/1198 [==============================] - 10s 8ms/step - loss: 0.0029\n",
            "Epoch 25/100\n",
            "1198/1198 [==============================] - 10s 8ms/step - loss: 0.0028\n",
            "Epoch 26/100\n",
            "1198/1198 [==============================] - 10s 8ms/step - loss: 0.0025\n",
            "Epoch 27/100\n",
            "1198/1198 [==============================] - 10s 9ms/step - loss: 0.0025\n",
            "Epoch 28/100\n",
            "1198/1198 [==============================] - 11s 9ms/step - loss: 0.0027\n",
            "Epoch 29/100\n",
            "1198/1198 [==============================] - 10s 8ms/step - loss: 0.0027\n",
            "Epoch 30/100\n",
            "1198/1198 [==============================] - 10s 8ms/step - loss: 0.0022\n",
            "Epoch 31/100\n",
            "1198/1198 [==============================] - 10s 8ms/step - loss: 0.0023\n",
            "Epoch 32/100\n",
            "1198/1198 [==============================] - 10s 8ms/step - loss: 0.0022\n",
            "Epoch 33/100\n",
            "1198/1198 [==============================] - 10s 8ms/step - loss: 0.0024\n",
            "Epoch 34/100\n",
            "1198/1198 [==============================] - 10s 8ms/step - loss: 0.0025\n",
            "Epoch 35/100\n",
            "1198/1198 [==============================] - 11s 9ms/step - loss: 0.0026\n",
            "Epoch 36/100\n",
            "1198/1198 [==============================] - 11s 10ms/step - loss: 0.0022\n",
            "Epoch 37/100\n",
            "1198/1198 [==============================] - 11s 9ms/step - loss: 0.0022\n",
            "Epoch 38/100\n",
            "1198/1198 [==============================] - 10s 8ms/step - loss: 0.0023\n",
            "Epoch 39/100\n",
            "1198/1198 [==============================] - 10s 8ms/step - loss: 0.0023\n",
            "Epoch 40/100\n",
            "1198/1198 [==============================] - 10s 8ms/step - loss: 0.0023\n",
            "Epoch 41/100\n",
            "1198/1198 [==============================] - 11s 9ms/step - loss: 0.0021\n",
            "Epoch 42/100\n",
            "1198/1198 [==============================] - 10s 8ms/step - loss: 0.0020\n",
            "Epoch 43/100\n",
            "1198/1198 [==============================] - 11s 9ms/step - loss: 0.0021\n",
            "Epoch 44/100\n",
            "1198/1198 [==============================] - 10s 9ms/step - loss: 0.0019\n",
            "Epoch 45/100\n",
            "1198/1198 [==============================] - 10s 8ms/step - loss: 0.0019\n",
            "Epoch 46/100\n",
            "1198/1198 [==============================] - 10s 8ms/step - loss: 0.0021\n",
            "Epoch 47/100\n",
            "1198/1198 [==============================] - 10s 8ms/step - loss: 0.0020\n",
            "Epoch 48/100\n",
            "1198/1198 [==============================] - 10s 8ms/step - loss: 0.0020\n",
            "Epoch 49/100\n",
            "1198/1198 [==============================] - 10s 8ms/step - loss: 0.0022\n",
            "Epoch 50/100\n",
            "1198/1198 [==============================] - 10s 8ms/step - loss: 0.0020\n",
            "Epoch 51/100\n",
            "1198/1198 [==============================] - 11s 9ms/step - loss: 0.0021\n",
            "Epoch 52/100\n",
            "1198/1198 [==============================] - 10s 8ms/step - loss: 0.0018\n",
            "Epoch 53/100\n",
            "1198/1198 [==============================] - 10s 8ms/step - loss: 0.0019\n",
            "Epoch 54/100\n",
            "1198/1198 [==============================] - 10s 8ms/step - loss: 0.0019\n",
            "Epoch 55/100\n",
            "1198/1198 [==============================] - 10s 8ms/step - loss: 0.0020\n",
            "Epoch 56/100\n",
            "1198/1198 [==============================] - 10s 8ms/step - loss: 0.0019\n",
            "Epoch 57/100\n",
            "1198/1198 [==============================] - 10s 8ms/step - loss: 0.0017\n",
            "Epoch 58/100\n",
            "1198/1198 [==============================] - 10s 8ms/step - loss: 0.0018\n",
            "Epoch 59/100\n",
            "1198/1198 [==============================] - 11s 9ms/step - loss: 0.0018\n",
            "Epoch 60/100\n",
            "1198/1198 [==============================] - 10s 8ms/step - loss: 0.0019\n",
            "Epoch 61/100\n",
            "1198/1198 [==============================] - 10s 8ms/step - loss: 0.0015\n",
            "Epoch 62/100\n",
            "1198/1198 [==============================] - 10s 8ms/step - loss: 0.0018\n",
            "Epoch 63/100\n",
            "1198/1198 [==============================] - 10s 8ms/step - loss: 0.0015\n",
            "Epoch 64/100\n",
            "1198/1198 [==============================] - 10s 8ms/step - loss: 0.0015\n",
            "Epoch 65/100\n",
            "1198/1198 [==============================] - 10s 8ms/step - loss: 0.0015\n",
            "Epoch 66/100\n",
            "1198/1198 [==============================] - 10s 9ms/step - loss: 0.0019\n",
            "Epoch 67/100\n",
            "1198/1198 [==============================] - 12s 10ms/step - loss: 0.0015\n",
            "Epoch 68/100\n",
            "1198/1198 [==============================] - 10s 8ms/step - loss: 0.0019\n",
            "Epoch 69/100\n",
            "1198/1198 [==============================] - 10s 8ms/step - loss: 0.0019\n",
            "Epoch 70/100\n",
            "1198/1198 [==============================] - 10s 8ms/step - loss: 0.0016\n",
            "Epoch 71/100\n",
            "1198/1198 [==============================] - 11s 9ms/step - loss: 0.0014\n",
            "Epoch 72/100\n",
            "1198/1198 [==============================] - 10s 8ms/step - loss: 0.0014\n",
            "Epoch 73/100\n",
            "1198/1198 [==============================] - 10s 8ms/step - loss: 0.0014\n",
            "Epoch 74/100\n",
            "1198/1198 [==============================] - 10s 9ms/step - loss: 0.0015\n",
            "Epoch 75/100\n",
            "1198/1198 [==============================] - 11s 9ms/step - loss: 0.0016\n",
            "Epoch 76/100\n",
            "1198/1198 [==============================] - 10s 8ms/step - loss: 0.0015\n",
            "Epoch 77/100\n",
            "1198/1198 [==============================] - 10s 8ms/step - loss: 0.0015\n",
            "Epoch 78/100\n",
            "1198/1198 [==============================] - 10s 8ms/step - loss: 0.0014\n",
            "Epoch 79/100\n",
            "1198/1198 [==============================] - 10s 8ms/step - loss: 0.0016\n",
            "Epoch 80/100\n",
            "1198/1198 [==============================] - 10s 8ms/step - loss: 0.0015\n",
            "Epoch 81/100\n",
            "1198/1198 [==============================] - 10s 8ms/step - loss: 0.0014\n",
            "Epoch 82/100\n",
            "1198/1198 [==============================] - 11s 9ms/step - loss: 0.0014\n",
            "Epoch 83/100\n",
            "1198/1198 [==============================] - 11s 9ms/step - loss: 0.0016\n",
            "Epoch 84/100\n",
            "1198/1198 [==============================] - 10s 8ms/step - loss: 0.0016\n",
            "Epoch 85/100\n",
            "1198/1198 [==============================] - 10s 8ms/step - loss: 0.0018\n",
            "Epoch 86/100\n",
            "1198/1198 [==============================] - 10s 8ms/step - loss: 0.0016\n",
            "Epoch 87/100\n",
            "1198/1198 [==============================] - 10s 8ms/step - loss: 0.0016\n",
            "Epoch 88/100\n",
            "1198/1198 [==============================] - 10s 8ms/step - loss: 0.0013\n",
            "Epoch 89/100\n",
            "1198/1198 [==============================] - 10s 8ms/step - loss: 0.0013\n",
            "Epoch 90/100\n",
            "1198/1198 [==============================] - 11s 9ms/step - loss: 0.0014\n",
            "Epoch 91/100\n",
            "1198/1198 [==============================] - 11s 9ms/step - loss: 0.0014\n",
            "Epoch 92/100\n",
            "1198/1198 [==============================] - 10s 8ms/step - loss: 0.0014\n",
            "Epoch 93/100\n",
            "1198/1198 [==============================] - 10s 8ms/step - loss: 0.0014\n",
            "Epoch 94/100\n",
            "1198/1198 [==============================] - 10s 8ms/step - loss: 0.0012\n",
            "Epoch 95/100\n",
            "1198/1198 [==============================] - 10s 8ms/step - loss: 0.0013\n",
            "Epoch 96/100\n",
            "1198/1198 [==============================] - 10s 8ms/step - loss: 0.0014\n",
            "Epoch 97/100\n",
            "1198/1198 [==============================] - 11s 9ms/step - loss: 0.0013\n",
            "Epoch 98/100\n",
            "1198/1198 [==============================] - 11s 9ms/step - loss: 0.0014\n",
            "Epoch 99/100\n",
            "1198/1198 [==============================] - 10s 8ms/step - loss: 0.0015\n",
            "Epoch 100/100\n",
            "1198/1198 [==============================] - 10s 8ms/step - loss: 0.0012\n"
          ],
          "name": "stdout"
        },
        {
          "output_type": "execute_result",
          "data": {
            "text/plain": [
              "<keras.callbacks.History at 0x7fedea0ab6d8>"
            ]
          },
          "metadata": {
            "tags": []
          },
          "execution_count": 70
        }
      ]
    },
    {
      "cell_type": "markdown",
      "metadata": {
        "id": "G4zKBJ5GaWDt",
        "colab_type": "text"
      },
      "source": [
        "### Predict"
      ]
    },
    {
      "cell_type": "code",
      "metadata": {
        "colab_type": "code",
        "id": "alLgGJaCaYXg",
        "colab": {}
      },
      "source": [
        "GRU_pred = regressorGRU.predict(X_test)\n",
        "GRU_pred = sc.inverse_transform(GRU_pred)"
      ],
      "execution_count": 0,
      "outputs": []
    },
    {
      "cell_type": "markdown",
      "metadata": {
        "id": "M_m6_8HKafWp",
        "colab_type": "text"
      },
      "source": [
        "### Visualize"
      ]
    },
    {
      "cell_type": "code",
      "metadata": {
        "id": "N9r5Hwx3apdr",
        "colab_type": "code",
        "colab": {
          "base_uri": "https://localhost:8080/",
          "height": 295
        },
        "outputId": "bdf19b1a-f66d-489d-db57-8ecf67eef813"
      },
      "source": [
        "plt.plot(real_stock_price, color = 'red', label = 'Real Google Stock Price')\n",
        "plt.plot(GRU_pred, color = 'blue', label = 'Predicted Google Stock Price')\n",
        "plt.title('Google Stock Price Prediction')\n",
        "plt.xlabel('Time')\n",
        "plt.ylabel('Google Stock Price')\n",
        "plt.legend()\n",
        "plt.show()"
      ],
      "execution_count": 74,
      "outputs": [
        {
          "output_type": "display_data",
          "data": {
            "image/png": "[encoded data removed]",
            "text/plain": [
              "<Figure size 432x288 with 1 Axes>"
            ]
          },
          "metadata": {
            "tags": []
          }
        }
      ]
    },
    {
      "cell_type": "markdown",
      "metadata": {
        "id": "0ksAfPXCaiVy",
        "colab_type": "text"
      },
      "source": [
        "### Evaluate Model"
      ]
    },
    {
      "cell_type": "code",
      "metadata": {
        "colab_type": "code",
        "id": "5v-fmUUgaYXi",
        "colab": {
          "base_uri": "https://localhost:8080/",
          "height": 34
        },
        "outputId": "8f098a19-aac6-49d0-c8b8-4103187b09ee"
      },
      "source": [
        "# Evaluating our model\n",
        "import math\n",
        "from sklearn.metrics import mean_squared_error\n",
        "rmse = math.sqrt(mean_squared_error(real_stock_price, GRU_pred))\n",
        "print(\"The root mean squared error is {}.\".format(rmse))"
      ],
      "execution_count": 75,
      "outputs": [
        {
          "output_type": "stream",
          "text": [
            "The root mean squared error is 17.858374315838958.\n"
          ],
          "name": "stdout"
        }
      ]
    },
    {
      "cell_type": "markdown",
      "metadata": {
        "id": "SM2WJ_dtSfWP",
        "colab_type": "text"
      },
      "source": [
        "## Build Model Using Bi-directional LSTM"
      ]
    },
    {
      "cell_type": "code",
      "metadata": {
        "id": "ohQaF4_XhzkY",
        "colab_type": "code",
        "colab": {}
      },
      "source": [
        "from keras.layers import Bidirectional"
      ],
      "execution_count": 0,
      "outputs": []
    },
    {
      "cell_type": "code",
      "metadata": {
        "id": "zx_MT40zSiUO",
        "colab_type": "code",
        "colab": {}
      },
      "source": [
        "regressorBi = Sequential()"
      ],
      "execution_count": 0,
      "outputs": []
    },
    {
      "cell_type": "code",
      "metadata": {
        "id": "jUFj5iwJiIUj",
        "colab_type": "code",
        "colab": {}
      },
      "source": [
        "?Bidirectional"
      ],
      "execution_count": 0,
      "outputs": []
    },
    {
      "cell_type": "code",
      "metadata": {
        "id": "vIsOcRfnh45w",
        "colab_type": "code",
        "colab": {}
      },
      "source": [
        "## return_sequences => return the last output in the output sequences\n",
        "regressorBi.add(Bidirectional(LSTM(units=50, return_sequences=True), input_shape=(X_train.shape[1], 1), merge_mode='concat'))\n",
        "regressorBi.add(Dropout(rate=0.2)) # drop 20 percent of inputs \n",
        "\n",
        "# Add a second Bi/LSTM layer and some Dropout regularisation\n",
        "regressorBi.add(Bidirectional(LSTM(units = 50, return_sequences = True), merge_mode='concat'))\n",
        "regressorBi.add(Dropout(0.2))\n",
        "\n",
        "# Add a third Bi/LSTM layer and some Dropout regularisation\n",
        "regressorBi.add(Bidirectional(LSTM(units = 50, return_sequences = True), merge_mode='concat'))\n",
        "regressorBi.add(Dropout(0.2))\n",
        "\n",
        "# Add a fourth LSTM layer and some Dropout regularisation\n",
        "regressorBi.add(Bidirectional(LSTM(units = 50), merge_mode='concat'))\n",
        "regressorBi.add(Dropout(0.2))\n",
        "\n",
        "# Add the output layer\n",
        "regressorBi.add(Dense(units = 1))"
      ],
      "execution_count": 0,
      "outputs": []
    },
    {
      "cell_type": "code",
      "metadata": {
        "id": "I-W-zY4hkfkV",
        "colab_type": "code",
        "colab": {}
      },
      "source": [
        "# Compiling the RNN\n",
        "regressorBi.compile(optimizer = 'adam', loss = 'mean_squared_error')"
      ],
      "execution_count": 0,
      "outputs": []
    },
    {
      "cell_type": "code",
      "metadata": {
        "id": "RX-9pjPykoZ2",
        "colab_type": "code",
        "colab": {
          "base_uri": "https://localhost:8080/",
          "height": 3434
        },
        "outputId": "fa198ed7-465a-4b08-e694-3b5b87cb48cf"
      },
      "source": [
        "# Fitting the RNN to the Training set\n",
        "regressorBi.fit(X_train, Y_train, epochs = 100, batch_size = 32)"
      ],
      "execution_count": 88,
      "outputs": [
        {
          "output_type": "stream",
          "text": [
            "Epoch 1/100\n",
            "1198/1198 [==============================] - 30s 25ms/step - loss: 0.0322\n",
            "Epoch 2/100\n",
            "1198/1198 [==============================] - 26s 22ms/step - loss: 0.0051\n",
            "Epoch 3/100\n",
            "1198/1198 [==============================] - 25s 21ms/step - loss: 0.0042\n",
            "Epoch 4/100\n",
            "1198/1198 [==============================] - 25s 20ms/step - loss: 0.0036\n",
            "Epoch 5/100\n",
            "1198/1198 [==============================] - 25s 21ms/step - loss: 0.0036\n",
            "Epoch 6/100\n",
            "1198/1198 [==============================] - 25s 21ms/step - loss: 0.0035\n",
            "Epoch 7/100\n",
            "1198/1198 [==============================] - 24s 20ms/step - loss: 0.0036\n",
            "Epoch 8/100\n",
            "1198/1198 [==============================] - 26s 22ms/step - loss: 0.0030\n",
            "Epoch 9/100\n",
            "1198/1198 [==============================] - 25s 21ms/step - loss: 0.0032\n",
            "Epoch 10/100\n",
            "1198/1198 [==============================] - 24s 20ms/step - loss: 0.0030\n",
            "Epoch 11/100\n",
            "1198/1198 [==============================] - 24s 20ms/step - loss: 0.0032\n",
            "Epoch 12/100\n",
            "1198/1198 [==============================] - 26s 21ms/step - loss: 0.0026\n",
            "Epoch 13/100\n",
            "1198/1198 [==============================] - 24s 20ms/step - loss: 0.0025\n",
            "Epoch 14/100\n",
            "1198/1198 [==============================] - 24s 20ms/step - loss: 0.0024\n",
            "Epoch 15/100\n",
            "1198/1198 [==============================] - 26s 21ms/step - loss: 0.0024\n",
            "Epoch 16/100\n",
            "1198/1198 [==============================] - 24s 20ms/step - loss: 0.0022\n",
            "Epoch 17/100\n",
            "1198/1198 [==============================] - 24s 20ms/step - loss: 0.0024\n",
            "Epoch 18/100\n",
            "1198/1198 [==============================] - 26s 21ms/step - loss: 0.0022\n",
            "Epoch 19/100\n",
            "1198/1198 [==============================] - 24s 20ms/step - loss: 0.0023\n",
            "Epoch 20/100\n",
            "1198/1198 [==============================] - 25s 21ms/step - loss: 0.0021\n",
            "Epoch 21/100\n",
            "1198/1198 [==============================] - 27s 22ms/step - loss: 0.0024\n",
            "Epoch 22/100\n",
            "1198/1198 [==============================] - 25s 21ms/step - loss: 0.0027\n",
            "Epoch 23/100\n",
            "1198/1198 [==============================] - 24s 20ms/step - loss: 0.0019\n",
            "Epoch 24/100\n",
            "1198/1198 [==============================] - 24s 20ms/step - loss: 0.0024\n",
            "Epoch 25/100\n",
            "1198/1198 [==============================] - 26s 21ms/step - loss: 0.0025\n",
            "Epoch 26/100\n",
            "1198/1198 [==============================] - 24s 20ms/step - loss: 0.0020\n",
            "Epoch 27/100\n",
            "1198/1198 [==============================] - 24s 20ms/step - loss: 0.0021\n",
            "Epoch 28/100\n",
            "1198/1198 [==============================] - 26s 21ms/step - loss: 0.0022\n",
            "Epoch 29/100\n",
            "1198/1198 [==============================] - 24s 20ms/step - loss: 0.0023\n",
            "Epoch 30/100\n",
            "1198/1198 [==============================] - 24s 20ms/step - loss: 0.0017\n",
            "Epoch 31/100\n",
            "1198/1198 [==============================] - 26s 21ms/step - loss: 0.0021\n",
            "Epoch 32/100\n",
            "1198/1198 [==============================] - 25s 20ms/step - loss: 0.0019\n",
            "Epoch 33/100\n",
            "1198/1198 [==============================] - 27s 22ms/step - loss: 0.0019\n",
            "Epoch 34/100\n",
            "1198/1198 [==============================] - 25s 21ms/step - loss: 0.0022\n",
            "Epoch 35/100\n",
            "1198/1198 [==============================] - 25s 21ms/step - loss: 0.0017\n",
            "Epoch 36/100\n",
            "1198/1198 [==============================] - 24s 20ms/step - loss: 0.0017\n",
            "Epoch 37/100\n",
            "1198/1198 [==============================] - 25s 21ms/step - loss: 0.0018\n",
            "Epoch 38/100\n",
            "1198/1198 [==============================] - 26s 21ms/step - loss: 0.0017\n",
            "Epoch 39/100\n",
            "1198/1198 [==============================] - 24s 20ms/step - loss: 0.0017\n",
            "Epoch 40/100\n",
            "1198/1198 [==============================] - 24s 20ms/step - loss: 0.0018\n",
            "Epoch 41/100\n",
            "1198/1198 [==============================] - 26s 21ms/step - loss: 0.0016\n",
            "Epoch 42/100\n",
            "1198/1198 [==============================] - 24s 20ms/step - loss: 0.0018\n",
            "Epoch 43/100\n",
            "1198/1198 [==============================] - 24s 20ms/step - loss: 0.0019\n",
            "Epoch 44/100\n",
            "1198/1198 [==============================] - 26s 21ms/step - loss: 0.0016\n",
            "Epoch 45/100\n",
            "1198/1198 [==============================] - 26s 22ms/step - loss: 0.0017\n",
            "Epoch 46/100\n",
            "1198/1198 [==============================] - 25s 21ms/step - loss: 0.0015\n",
            "Epoch 47/100\n",
            "1198/1198 [==============================] - 26s 21ms/step - loss: 0.0014\n",
            "Epoch 48/100\n",
            "1198/1198 [==============================] - 25s 20ms/step - loss: 0.0016\n",
            "Epoch 49/100\n",
            "1198/1198 [==============================] - 24s 20ms/step - loss: 0.0015\n",
            "Epoch 50/100\n",
            "1198/1198 [==============================] - 25s 21ms/step - loss: 0.0015\n",
            "Epoch 51/100\n",
            "1198/1198 [==============================] - 25s 21ms/step - loss: 0.0016\n",
            "Epoch 52/100\n",
            "1198/1198 [==============================] - 24s 20ms/step - loss: 0.0016\n",
            "Epoch 53/100\n",
            "1198/1198 [==============================] - 25s 20ms/step - loss: 0.0015\n",
            "Epoch 54/100\n",
            "1198/1198 [==============================] - 26s 21ms/step - loss: 0.0014\n",
            "Epoch 55/100\n",
            "1198/1198 [==============================] - 24s 20ms/step - loss: 0.0016\n",
            "Epoch 56/100\n",
            "1198/1198 [==============================] - 24s 20ms/step - loss: 0.0016\n",
            "Epoch 57/100\n",
            "1198/1198 [==============================] - 26s 22ms/step - loss: 0.0017\n",
            "Epoch 58/100\n",
            "1198/1198 [==============================] - 26s 22ms/step - loss: 0.0015\n",
            "Epoch 59/100\n",
            "1198/1198 [==============================] - 24s 20ms/step - loss: 0.0014\n",
            "Epoch 60/100\n",
            "1198/1198 [==============================] - 26s 22ms/step - loss: 0.0014\n",
            "Epoch 61/100\n",
            "1198/1198 [==============================] - 24s 20ms/step - loss: 0.0015\n",
            "Epoch 62/100\n",
            "1198/1198 [==============================] - 25s 20ms/step - loss: 0.0016\n",
            "Epoch 63/100\n",
            "1198/1198 [==============================] - 26s 21ms/step - loss: 0.0015\n",
            "Epoch 64/100\n",
            "1198/1198 [==============================] - 24s 20ms/step - loss: 0.0015\n",
            "Epoch 65/100\n",
            "1198/1198 [==============================] - 24s 20ms/step - loss: 0.0014\n",
            "Epoch 66/100\n",
            "1198/1198 [==============================] - 25s 21ms/step - loss: 0.0014\n",
            "Epoch 67/100\n",
            "1198/1198 [==============================] - 25s 21ms/step - loss: 0.0015\n",
            "Epoch 68/100\n",
            "1198/1198 [==============================] - 25s 20ms/step - loss: 0.0013\n",
            "Epoch 69/100\n",
            "1198/1198 [==============================] - 25s 21ms/step - loss: 0.0013\n",
            "Epoch 70/100\n",
            "1198/1198 [==============================] - 27s 23ms/step - loss: 0.0013\n",
            "Epoch 71/100\n",
            "1198/1198 [==============================] - 24s 20ms/step - loss: 0.0013\n",
            "Epoch 72/100\n",
            "1198/1198 [==============================] - 25s 20ms/step - loss: 0.0013\n",
            "Epoch 73/100\n",
            "1198/1198 [==============================] - 26s 21ms/step - loss: 0.0013\n",
            "Epoch 74/100\n",
            "1198/1198 [==============================] - 25s 20ms/step - loss: 0.0014\n",
            "Epoch 75/100\n",
            "1198/1198 [==============================] - 24s 20ms/step - loss: 0.0013\n",
            "Epoch 76/100\n",
            "1198/1198 [==============================] - 26s 21ms/step - loss: 0.0013\n",
            "Epoch 77/100\n",
            "1198/1198 [==============================] - 24s 20ms/step - loss: 0.0014\n",
            "Epoch 78/100\n",
            "1198/1198 [==============================] - 24s 20ms/step - loss: 0.0012\n",
            "Epoch 79/100\n",
            "1198/1198 [==============================] - 25s 21ms/step - loss: 0.0013\n",
            "Epoch 80/100\n",
            "1198/1198 [==============================] - 25s 21ms/step - loss: 0.0012\n",
            "Epoch 81/100\n",
            "1198/1198 [==============================] - 25s 21ms/step - loss: 0.0013\n",
            "Epoch 82/100\n",
            "1198/1198 [==============================] - 25s 21ms/step - loss: 0.0012\n",
            "Epoch 83/100\n",
            "1198/1198 [==============================] - 26s 22ms/step - loss: 0.0013\n",
            "Epoch 84/100\n",
            "1198/1198 [==============================] - 24s 20ms/step - loss: 0.0012\n",
            "Epoch 85/100\n",
            "1198/1198 [==============================] - 25s 20ms/step - loss: 0.0014\n",
            "Epoch 86/100\n",
            "1198/1198 [==============================] - 26s 21ms/step - loss: 0.0012\n",
            "Epoch 87/100\n",
            "1198/1198 [==============================] - 24s 20ms/step - loss: 0.0014\n",
            "Epoch 88/100\n",
            "1198/1198 [==============================] - 24s 20ms/step - loss: 0.0013\n",
            "Epoch 89/100\n",
            "1198/1198 [==============================] - 26s 22ms/step - loss: 0.0013\n",
            "Epoch 90/100\n",
            "1198/1198 [==============================] - 24s 20ms/step - loss: 0.0012\n",
            "Epoch 91/100\n",
            "1198/1198 [==============================] - 25s 20ms/step - loss: 0.0015\n",
            "Epoch 92/100\n",
            "1198/1198 [==============================] - 26s 22ms/step - loss: 0.0012\n",
            "Epoch 93/100\n",
            "1198/1198 [==============================] - 24s 20ms/step - loss: 0.0011\n",
            "Epoch 94/100\n",
            "1198/1198 [==============================] - 25s 21ms/step - loss: 0.0011\n",
            "Epoch 95/100\n",
            "1198/1198 [==============================] - 26s 22ms/step - loss: 0.0012\n",
            "Epoch 96/100\n",
            "1198/1198 [==============================] - 25s 21ms/step - loss: 0.0012\n",
            "Epoch 97/100\n",
            "1198/1198 [==============================] - 24s 20ms/step - loss: 0.0015\n",
            "Epoch 98/100\n",
            "1198/1198 [==============================] - 24s 20ms/step - loss: 0.0012\n",
            "Epoch 99/100\n",
            "1198/1198 [==============================] - 26s 21ms/step - loss: 0.0011\n",
            "Epoch 100/100\n",
            "1198/1198 [==============================] - 25s 20ms/step - loss: 0.0011\n"
          ],
          "name": "stdout"
        },
        {
          "output_type": "execute_result",
          "data": {
            "text/plain": [
              "<keras.callbacks.History at 0x7fedc10f19e8>"
            ]
          },
          "metadata": {
            "tags": []
          },
          "execution_count": 88
        }
      ]
    },
    {
      "cell_type": "markdown",
      "metadata": {
        "id": "gxzBkoktky1w",
        "colab_type": "text"
      },
      "source": [
        "### Predict"
      ]
    },
    {
      "cell_type": "code",
      "metadata": {
        "id": "qxgTPWrBkwb6",
        "colab_type": "code",
        "colab": {}
      },
      "source": [
        "Bi_pred = regressorBi.predict(X_test)\n",
        "Bi_pred = sc.inverse_transform(Bi_pred)"
      ],
      "execution_count": 0,
      "outputs": []
    },
    {
      "cell_type": "markdown",
      "metadata": {
        "id": "Lu5sJQgxk1f6",
        "colab_type": "text"
      },
      "source": [
        "### Visualize"
      ]
    },
    {
      "cell_type": "code",
      "metadata": {
        "id": "74CpqCbUlA24",
        "colab_type": "code",
        "colab": {
          "base_uri": "https://localhost:8080/",
          "height": 295
        },
        "outputId": "a96d1a86-784b-4935-cfe9-5035c662f7d7"
      },
      "source": [
        "plt.plot(real_stock_price, color = 'red', label = 'Real Google Stock Price')\n",
        "plt.plot(Bi_pred, color = 'blue', label = 'Predicted Google Stock Price')\n",
        "plt.title('Google Stock Price Prediction')\n",
        "plt.xlabel('Time')\n",
        "plt.ylabel('Google Stock Price')\n",
        "plt.legend()\n",
        "plt.show()"
      ],
      "execution_count": 93,
      "outputs": [
        {
          "output_type": "display_data",
          "data": {
            "image/png": "[encoded data removed]",
            "text/plain": [
              "<Figure size 432x288 with 1 Axes>"
            ]
          },
          "metadata": {
            "tags": []
          }
        }
      ]
    },
    {
      "cell_type": "markdown",
      "metadata": {
        "id": "NA-D3rLyk3gK",
        "colab_type": "text"
      },
      "source": [
        "### Evaluate Model"
      ]
    },
    {
      "cell_type": "code",
      "metadata": {
        "id": "2SY426j8lIdQ",
        "colab_type": "code",
        "colab": {
          "base_uri": "https://localhost:8080/",
          "height": 34
        },
        "outputId": "e959b465-904b-4f25-b36d-573cd8101d33"
      },
      "source": [
        "# Evaluating our model\n",
        "import math\n",
        "from sklearn.metrics import mean_squared_error\n",
        "rmse = math.sqrt(mean_squared_error(real_stock_price, Bi_pred))\n",
        "print(\"The root mean squared error is {}.\".format(rmse))"
      ],
      "execution_count": 94,
      "outputs": [
        {
          "output_type": "stream",
          "text": [
            "The root mean squared error is 14.981391885670813.\n"
          ],
          "name": "stdout"
        }
      ]
    }
  ]
}